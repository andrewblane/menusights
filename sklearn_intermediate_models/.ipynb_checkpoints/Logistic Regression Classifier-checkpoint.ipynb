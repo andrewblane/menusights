{
 "cells": [
  {
   "cell_type": "code",
   "execution_count": 1,
   "metadata": {
    "collapsed": true
   },
   "outputs": [],
   "source": [
    "import psycopg2\n",
    "from sqlalchemy import create_engine, Column, Integer, String, Float, ForeignKey\n",
    "from sqlalchemy.ext.declarative import declarative_base\n",
    "from sqlalchemy.orm import relationship, sessionmaker\n",
    "import re\n",
    "from __future__ import print_function"
   ]
  },
  {
   "cell_type": "code",
   "execution_count": 2,
   "metadata": {
    "collapsed": false
   },
   "outputs": [],
   "source": [
    "import numpy as np\n",
    "import pandas as pd\n",
    "import nltk\n",
    "import re\n",
    "import os\n",
    "import codecs\n",
    "from sklearn import feature_extraction\n",
    "import mpld3\n",
    "import pandas as pd\n",
    "from nltk.stem.snowball import SnowballStemmer\n",
    "import tensorflow as tf"
   ]
  },
  {
   "cell_type": "code",
   "execution_count": 3,
   "metadata": {
    "collapsed": false
   },
   "outputs": [
    {
     "name": "stdout",
     "output_type": "stream",
     "text": [
      "postgres://andylane@localhost/restaurants\n"
     ]
    },
    {
     "name": "stderr",
     "output_type": "stream",
     "text": [
      "/home/andylane/anaconda2/envs/insight/lib/python2.7/site-packages/sqlalchemy/dialects/__init__.py:34: SADeprecationWarning: The SQLAlchemy PostgreSQL dialect has been renamed from 'postgres' to 'postgresql'. The new URL format is postgresql[+driver]://<user>:<pass>@<host>/<dbname>\n",
      "  module = __import__('sqlalchemy.dialects.%s' % (dialect, )).dialects\n"
     ]
    }
   ],
   "source": [
    "dbname = 'restaurants'\n",
    "username = 'andylane'\n",
    "engine = create_engine('postgres://%s@localhost/%s'%(username,dbname))\n",
    "print(engine.url)\n",
    "con = None\n",
    "con = psycopg2.connect(database = \"restaurants\", user = \"andylane\")\n",
    "Session = sessionmaker(bind=engine)\n",
    "session = Session()"
   ]
  },
  {
   "cell_type": "code",
   "execution_count": 4,
   "metadata": {
    "collapsed": false
   },
   "outputs": [],
   "source": [
    "from menusights_aux import *"
   ]
  },
  {
   "cell_type": "code",
   "execution_count": 5,
   "metadata": {
    "collapsed": false
   },
   "outputs": [],
   "source": [
    "recipes = pd.read_sql(\"recipes\", engine)"
   ]
  },
  {
   "cell_type": "markdown",
   "metadata": {},
   "source": [
    "## Get recipe names into a vector"
   ]
  },
  {
   "cell_type": "code",
   "execution_count": 6,
   "metadata": {
    "collapsed": true
   },
   "outputs": [],
   "source": [
    "stopwords = nltk.corpus.stopwords.words('english')\n",
    "stemmer = SnowballStemmer(\"english\")"
   ]
  },
  {
   "cell_type": "code",
   "execution_count": 7,
   "metadata": {
    "collapsed": true
   },
   "outputs": [],
   "source": [
    "def tokenize_and_stem(title):\n",
    "    stemmer = SnowballStemmer(\"english\")\n",
    "    stemmed_titles = []\n",
    "    new_title=[]\n",
    "    for word in nltk.word_tokenize(title):\n",
    "        new_title.append(stemmer.stem(word))\n",
    "    stemmed_titles.extend(new_title)\n",
    "    return \" \".join([i for i in stemmed_titles])"
   ]
  },
  {
   "cell_type": "code",
   "execution_count": 8,
   "metadata": {
    "collapsed": true
   },
   "outputs": [],
   "source": [
    "from sklearn.feature_extraction.text import CountVectorizer"
   ]
  },
  {
   "cell_type": "code",
   "execution_count": 9,
   "metadata": {
    "collapsed": false
   },
   "outputs": [],
   "source": [
    "tokenized_names = [tokenize_and_stem(i) for i in (recipes[\"name\"])]"
   ]
  },
  {
   "cell_type": "code",
   "execution_count": 10,
   "metadata": {
    "collapsed": false
   },
   "outputs": [],
   "source": [
    "vectorizer = CountVectorizer(ngram_range=(1,3), min_df=0.0003)"
   ]
  },
  {
   "cell_type": "code",
   "execution_count": 11,
   "metadata": {
    "collapsed": false
   },
   "outputs": [
    {
     "ename": "NameError",
     "evalue": "name 'pickle' is not defined",
     "output_type": "error",
     "traceback": [
      "\u001b[1;31m---------------------------------------------------------------------------\u001b[0m",
      "\u001b[1;31mNameError\u001b[0m                                 Traceback (most recent call last)",
      "\u001b[1;32m<ipython-input-11-2b1770ca4f57>\u001b[0m in \u001b[0;36m<module>\u001b[1;34m()\u001b[0m\n\u001b[1;32m----> 1\u001b[1;33m \u001b[0mpickle\u001b[0m\u001b[1;33m.\u001b[0m\u001b[0mdump\u001b[0m\u001b[1;33m(\u001b[0m\u001b[0mvectorizer\u001b[0m\u001b[1;33m,\u001b[0m \u001b[0mopen\u001b[0m\u001b[1;33m(\u001b[0m\u001b[1;34m\"vect.pkl\"\u001b[0m\u001b[1;33m,\u001b[0m \u001b[1;34m\"wb\"\u001b[0m\u001b[1;33m)\u001b[0m\u001b[1;33m)\u001b[0m\u001b[1;33m\u001b[0m\u001b[0m\n\u001b[0m",
      "\u001b[1;31mNameError\u001b[0m: name 'pickle' is not defined"
     ]
    }
   ],
   "source": [
    "pickle.dump(vectorizer, open(\"vect.pkl\", \"wb\"))"
   ]
  },
  {
   "cell_type": "code",
   "execution_count": 12,
   "metadata": {
    "collapsed": false
   },
   "outputs": [],
   "source": [
    "a = vectorizer.fit_transform(tokenized_names)"
   ]
  },
  {
   "cell_type": "code",
   "execution_count": 13,
   "metadata": {
    "collapsed": false
   },
   "outputs": [],
   "source": [
    "from sklearn.feature_selection import f_regression, mutual_info_regression"
   ]
  },
  {
   "cell_type": "code",
   "execution_count": 14,
   "metadata": {
    "collapsed": false
   },
   "outputs": [],
   "source": [
    "def chol_to_percentile(vector, operate_on):\n",
    "    v = [i for i in vector if i != 0]\n",
    "    pctvector = []\n",
    "    pct75 = np.percentile(v, 75)\n",
    "    pct50 = np.percentile(v, 50)\n",
    "    pct20 = np.percentile(v, 20)\n",
    "    print(pct75)\n",
    "    print(pct50)\n",
    "    print(pct20)\n",
    "    for index, i in enumerate(operate_on):\n",
    "        if i > pct75:\n",
    "            pctvector.append(\"vhigh\")\n",
    "        elif i > pct50:\n",
    "            pctvector.append(\"high\")\n",
    "        elif i > pct20:\n",
    "            pctvector.append(\"med\")\n",
    "        else:\n",
    "            pctvector.append(\"low\")\n",
    "    return pctvector"
   ]
  },
  {
   "cell_type": "code",
   "execution_count": 17,
   "metadata": {
    "collapsed": false,
    "scrolled": true
   },
   "outputs": [
    {
     "name": "stdout",
     "output_type": "stream",
     "text": [
      "124.0\n",
      "81.0\n",
      "47.0\n"
     ]
    }
   ],
   "source": [
    "cholcat = chol_to_percentile(recipes[\"cholesterol\"], recipes[\"cholesterol\"])"
   ]
  },
  {
   "cell_type": "code",
   "execution_count": 18,
   "metadata": {
    "collapsed": true
   },
   "outputs": [],
   "source": [
    "# produces an array with mutual information (weights?) between individual words/n-grams in recipe names and cholesterol information\n",
    "mi = mutual_info_regression(a, recipes[\"cholesterol\"])\n",
    "mi /= np.max(mi)"
   ]
  },
  {
   "cell_type": "code",
   "execution_count": 19,
   "metadata": {
    "collapsed": false
   },
   "outputs": [],
   "source": [
    "# len(np.array(tokenized_names)[informative_words])"
   ]
  },
  {
   "cell_type": "code",
   "execution_count": 20,
   "metadata": {
    "collapsed": false
   },
   "outputs": [
    {
     "name": "stderr",
     "output_type": "stream",
     "text": [
      "/home/andylane/anaconda2/envs/insight/lib/python2.7/site-packages/IPython/core/formatters.py:92: DeprecationWarning: DisplayFormatter._ipython_display_formatter_default is deprecated: use @default decorator instead.\n",
      "  def _ipython_display_formatter_default(self):\n",
      "/home/andylane/anaconda2/envs/insight/lib/python2.7/site-packages/IPython/core/formatters.py:98: DeprecationWarning: DisplayFormatter._formatters_default is deprecated: use @default decorator instead.\n",
      "  def _formatters_default(self):\n",
      "/home/andylane/anaconda2/envs/insight/lib/python2.7/site-packages/IPython/core/formatters.py:677: DeprecationWarning: PlainTextFormatter._deferred_printers_default is deprecated: use @default decorator instead.\n",
      "  def _deferred_printers_default(self):\n",
      "/home/andylane/anaconda2/envs/insight/lib/python2.7/site-packages/IPython/core/formatters.py:669: DeprecationWarning: PlainTextFormatter._singleton_printers_default is deprecated: use @default decorator instead.\n",
      "  def _singleton_printers_default(self):\n",
      "/home/andylane/anaconda2/envs/insight/lib/python2.7/site-packages/IPython/core/formatters.py:672: DeprecationWarning: PlainTextFormatter._type_printers_default is deprecated: use @default decorator instead.\n",
      "  def _type_printers_default(self):\n",
      "/home/andylane/anaconda2/envs/insight/lib/python2.7/site-packages/IPython/core/formatters.py:669: DeprecationWarning: PlainTextFormatter._singleton_printers_default is deprecated: use @default decorator instead.\n",
      "  def _singleton_printers_default(self):\n",
      "/home/andylane/anaconda2/envs/insight/lib/python2.7/site-packages/IPython/core/formatters.py:672: DeprecationWarning: PlainTextFormatter._type_printers_default is deprecated: use @default decorator instead.\n",
      "  def _type_printers_default(self):\n",
      "/home/andylane/anaconda2/envs/insight/lib/python2.7/site-packages/IPython/core/formatters.py:677: DeprecationWarning: PlainTextFormatter._deferred_printers_default is deprecated: use @default decorator instead.\n",
      "  def _deferred_printers_default(self):\n"
     ]
    },
    {
     "data": {
      "text/plain": [
       "(3453,)"
      ]
     },
     "execution_count": 20,
     "metadata": {},
     "output_type": "execute_result"
    }
   ],
   "source": [
    "mi.shape"
   ]
  },
  {
   "cell_type": "code",
   "execution_count": 21,
   "metadata": {
    "collapsed": false
   },
   "outputs": [],
   "source": [
    "# Returns indices of columns with MI value greater than e.g. 0.01. Can be used for re\n",
    "informative_words = np.array([(index) for index, i in enumerate(mi) if i>0.000001])\n",
    "# return word vector array with uninformative words removeds\n",
    "culled_array = a.toarray()[:,informative_words]"
   ]
  },
  {
   "cell_type": "code",
   "execution_count": 22,
   "metadata": {
    "collapsed": false
   },
   "outputs": [],
   "source": [
    "import cPickle as pkl"
   ]
  },
  {
   "cell_type": "code",
   "execution_count": 61,
   "metadata": {
    "collapsed": false,
    "scrolled": true
   },
   "outputs": [],
   "source": [
    "ground_truth_x =[]\n",
    "ground_truth_y =[]\n",
    "for item in pkl.load(open(\"groundtruth.pkl\", \"rb\")):\n",
    "    ground_truth_x.append(item[\"item_name\"])\n",
    "    ground_truth_y.append(item[\"nf_cholesterol\"])"
   ]
  },
  {
   "cell_type": "code",
   "execution_count": 62,
   "metadata": {
    "collapsed": true
   },
   "outputs": [],
   "source": [
    "for item in pkl.load(open(\"groundtruth2.pkl\", \"rb\")):\n",
    "        ground_truth_x.append(item[\"item_name\"])\n",
    "        ground_truth_y.append(item[\"nf_cholesterol\"])"
   ]
  },
  {
   "cell_type": "code",
   "execution_count": 63,
   "metadata": {
    "collapsed": true
   },
   "outputs": [],
   "source": [
    "for item in pkl.load(open(\"groundtruth3.pkl\", \"rb\")):\n",
    "        ground_truth_x.append(item[\"item_name\"])\n",
    "        ground_truth_y.append(item[\"nf_cholesterol\"])\n"
   ]
  },
  {
   "cell_type": "code",
   "execution_count": 64,
   "metadata": {
    "collapsed": true
   },
   "outputs": [],
   "source": [
    "from collections import Counter"
   ]
  },
  {
   "cell_type": "code",
   "execution_count": 103,
   "metadata": {
    "collapsed": false
   },
   "outputs": [],
   "source": [
    "import numpy as np\n",
    "def balanced_sample_maker(X, y, sample_size, random_seed=None):\n",
    "    \"\"\" return a balanced data set by sampling all classes with sample_size \n",
    "        current version is developed on assumption that the positive\n",
    "        class is the minority.\n",
    "\n",
    "    Parameters:\n",
    "    ===========\n",
    "    X: {numpy.ndarrray}\n",
    "    y: {numpy.ndarray}\n",
    "    \"\"\"\n",
    "#     uniq_levels = np.unique(y)\n",
    "#     uniq_counts = {level: sum(y == level) for level in uniq_levels}\n",
    "    uniq_levels = list(Counter(y).keys())\n",
    "    uniq_counts = list(Counter(y).values())\n",
    "\n",
    "    if not random_seed is None:\n",
    "        np.random.seed(random_seed)\n",
    "\n",
    "    # find observation index of each class levels\n",
    "    groupby_levels = {}\n",
    "    for ii, level in enumerate(uniq_levels):\n",
    "        obs_idx = [idx for idx, val in enumerate(y) if val == level]\n",
    "        groupby_levels[level] = obs_idx\n",
    "    # oversampling on observations of each label\n",
    "    balanced_copy_idx = []\n",
    "    for gb_level, gb_idx in groupby_levels.iteritems():\n",
    "        over_sample_idx = np.random.choice(gb_idx, size=sample_size, replace=True).tolist()\n",
    "        balanced_copy_idx+=over_sample_idx\n",
    "    np.random.shuffle(balanced_copy_idx)\n",
    "    print(balanced_copy_idx)\n",
    "    return (X[balanced_copy_idx, :], y[balanced_copy_idx], balanced_copy_idx)"
   ]
  },
  {
   "cell_type": "code",
   "execution_count": 107,
   "metadata": {
    "collapsed": false
   },
   "outputs": [
    {
     "name": "stdout",
     "output_type": "stream",
     "text": [
      "[492, 52, 288, 518, 308, 31, 439, 258, 239, 210, 86, 65, 49, 28, 149, 254, 181, 191, 401, 468, 77, 488, 414, 115, 247, 384, 444, 158, 546, 128, 401, 585, 464, 234, 1, 137, 430, 234, 294, 14, 42, 15, 179, 432, 439, 270, 67, 293, 234, 179, 275, 458, 408, 67, 42, 33, 173, 36, 522, 275, 85, 167, 78, 302, 191, 186, 46, 83, 150, 436, 33, 85, 38, 146, 148, 64, 439, 141, 436, 436, 386, 156, 146, 328, 524, 78, 217, 483, 89, 541, 128, 408, 120, 401, 383, 29, 101, 197, 436, 436]\n"
     ]
    }
   ],
   "source": [
    "ab = balanced_sample_maker(np.array(ground_truth_x), np.array(y), 25, random_seed=None)"
   ]
  },
  {
   "cell_type": "code",
   "execution_count": 109,
   "metadata": {
    "collapsed": false,
    "scrolled": true
   },
   "outputs": [
    {
     "data": {
      "text/plain": [
       "(array([u'Chicken Benedict', u'Outback Flat Iron', u'Peanut Butter',\n",
       "        u'Specialty Meat', u'Cubs Spaghetti', u'Teriyaki Steak Medallions',\n",
       "        u'Lunch Combo Bacon Avocado Chicken Sandwich', u'Pasta',\n",
       "        u'Cookies, Cream Wafers Strawberry', u'Orange Juice',\n",
       "        u'New Zealand Lamb', u'Pork Porterhouse',\n",
       "        u'Crispy Chicken Sandwich', u'Broccoli & Cheese',\n",
       "        u'Chocolate Mini Milkshake', u'Pasta', u'Teriyaki Steak Medallions',\n",
       "        u'Crab & Avocado Stack', u'Triple Dipper Crispy Cheddar Bites',\n",
       "        u'Waffle Benedict', u'Teriyaki Steak Medallions', u'Eggs Benedict',\n",
       "        u'California Grilled Chicken Flatbread', u'Firecracker Salmon',\n",
       "        u'Pasta Sauce, Garlic Marinara', u'Iced Tea, Sweetened',\n",
       "        u'Ultimate Fresh Margarita',\n",
       "        u'Cookies, Kids Outback Animals Chocolate', u'Eggs',\n",
       "        u'Broccoli & Cheese', u'Triple Dipper Crispy Cheddar Bites',\n",
       "        u'Chicken Noodle Soup, Cup', u'Pasta', u'Chicken Scampi',\n",
       "        u'Outback Sirloin, 6 Oz', u'Great Barrier Trio',\n",
       "        u'Lunch Combo Chipotle Chicken Bowl with Rice', u'Chicken Scampi',\n",
       "        u'Blueberry, Bar', u'Firecracker Salmon', u'Great Barrier Trio',\n",
       "        u'Pork Porterhouse', u'Broccoli & Cheese',\n",
       "        u'Triple Dipper Big Mouth Bites',\n",
       "        u'Lunch Combo Bacon Avocado Chicken Sandwich', u'Bagel Benedict',\n",
       "        u'Double Burger', u'Fiber Supplement', u'Chicken Scampi',\n",
       "        u'Broccoli & Cheese', u'Organic Fusilli', u'Pasta',\n",
       "        u'Lunch Combo Top Shelf Ranchero Chicken Tacos', u'Double Burger',\n",
       "        u'Great Barrier Trio', u'Aussie Chicken Tacos',\n",
       "        u\"The Bloomin' Burger\", u'New Zealand Lamb', u'Iced Tea',\n",
       "        u'Organic Fusilli', u'Crab & Avocado Stack', u'Ribeye Melt',\n",
       "        u'French Onion Soup', u'Blackbeary Cobbler',\n",
       "        u'Crab & Avocado Stack', u'Steakhouse Mac & Cheese',\n",
       "        u\"Victoria's Filet Mignon, 6 Oz\", u'Wings',\n",
       "        u'Outback Sirloin, 9 Oz', u'Kids Crispy Chicken Crispers',\n",
       "        u'Aussie Chicken Tacos', u'Crab & Avocado Stack',\n",
       "        u'Aussie Steak Tacos', u\"Victoria's Filet Mignon, 6 Oz\",\n",
       "        u'Crispy Chicken Sandwich', u'Firecracker Salmon',\n",
       "        u'Lunch Combo Bacon Avocado Chicken Sandwich',\n",
       "        u'Crab & Avocado Stack', u'Kids Crispy Chicken Crispers',\n",
       "        u'Kids Crispy Chicken Crispers', u'Vanilla Flavot Shot',\n",
       "        u'Outback Pizza, Medium', u\"Victoria's Filet Mignon, 6 Oz\",\n",
       "        u'Dinner Salad', u'French Fries', u'French Onion Soup',\n",
       "        u'Chicken Marsala', u'Harvest Benedict', u'Great Barrier Trio',\n",
       "        u\"Bob's Big Bear Burger with Potato Salad\", u'Broccoli & Cheese',\n",
       "        u'Lunch Combo Top Shelf Ranchero Chicken Tacos', u'Double Burger',\n",
       "        u'Triple Dipper Crispy Cheddar Bites', u'Breakfast Hash Browns',\n",
       "        u'Wings', u'Outback Sirloin, 6 Oz', u'Cream Wafers, Lemon Flavour',\n",
       "        u'Kids Crispy Chicken Crispers', u'Kids Crispy Chicken Crispers'], \n",
       "       dtype='<U57'),\n",
       " array(['vhigh', 'vhigh', 'low', 'low', 'low', 'high', 'high', 'med', 'low',\n",
       "        'low', 'vhigh', 'vhigh', 'high', 'med', 'high', 'low', 'high',\n",
       "        'med', 'high', 'vhigh', 'high', 'vhigh', 'vhigh', 'med', 'low',\n",
       "        'low', 'low', 'low', 'vhigh', 'med', 'high', 'med', 'low', 'high',\n",
       "        'high', 'high', 'high', 'high', 'low', 'med', 'high', 'vhigh',\n",
       "        'med', 'high', 'high', 'vhigh', 'vhigh', 'low', 'high', 'med',\n",
       "        'low', 'low', 'high', 'vhigh', 'high', 'vhigh', 'vhigh', 'vhigh',\n",
       "        'low', 'low', 'med', 'vhigh', 'med', 'low', 'med', 'vhigh', 'med',\n",
       "        'vhigh', 'vhigh', 'med', 'vhigh', 'med', 'vhigh', 'med', 'high',\n",
       "        'med', 'high', 'med', 'med', 'med', 'low', 'low', 'med', 'low',\n",
       "        'low', 'med', 'vhigh', 'vhigh', 'high', 'low', 'med', 'high',\n",
       "        'vhigh', 'high', 'low', 'vhigh', 'high', 'low', 'med', 'med'], \n",
       "       dtype='|S5'),\n",
       " [492,\n",
       "  52,\n",
       "  288,\n",
       "  518,\n",
       "  308,\n",
       "  31,\n",
       "  439,\n",
       "  258,\n",
       "  239,\n",
       "  210,\n",
       "  86,\n",
       "  65,\n",
       "  49,\n",
       "  28,\n",
       "  149,\n",
       "  254,\n",
       "  181,\n",
       "  191,\n",
       "  401,\n",
       "  468,\n",
       "  77,\n",
       "  488,\n",
       "  414,\n",
       "  115,\n",
       "  247,\n",
       "  384,\n",
       "  444,\n",
       "  158,\n",
       "  546,\n",
       "  128,\n",
       "  401,\n",
       "  585,\n",
       "  464,\n",
       "  234,\n",
       "  1,\n",
       "  137,\n",
       "  430,\n",
       "  234,\n",
       "  294,\n",
       "  14,\n",
       "  42,\n",
       "  15,\n",
       "  179,\n",
       "  432,\n",
       "  439,\n",
       "  270,\n",
       "  67,\n",
       "  293,\n",
       "  234,\n",
       "  179,\n",
       "  275,\n",
       "  458,\n",
       "  408,\n",
       "  67,\n",
       "  42,\n",
       "  33,\n",
       "  173,\n",
       "  36,\n",
       "  522,\n",
       "  275,\n",
       "  85,\n",
       "  167,\n",
       "  78,\n",
       "  302,\n",
       "  191,\n",
       "  186,\n",
       "  46,\n",
       "  83,\n",
       "  150,\n",
       "  436,\n",
       "  33,\n",
       "  85,\n",
       "  38,\n",
       "  146,\n",
       "  148,\n",
       "  64,\n",
       "  439,\n",
       "  141,\n",
       "  436,\n",
       "  436,\n",
       "  386,\n",
       "  156,\n",
       "  146,\n",
       "  328,\n",
       "  524,\n",
       "  78,\n",
       "  217,\n",
       "  483,\n",
       "  89,\n",
       "  541,\n",
       "  128,\n",
       "  408,\n",
       "  120,\n",
       "  401,\n",
       "  383,\n",
       "  29,\n",
       "  101,\n",
       "  197,\n",
       "  436,\n",
       "  436])"
      ]
     },
     "execution_count": 109,
     "metadata": {},
     "output_type": "execute_result"
    }
   ],
   "source": [
    "ab"
   ]
  },
  {
   "cell_type": "code",
   "execution_count": null,
   "metadata": {
    "collapsed": true
   },
   "outputs": [],
   "source": [
    "t"
   ]
  },
  {
   "cell_type": "code",
   "execution_count": 240,
   "metadata": {
    "collapsed": true
   },
   "outputs": [],
   "source": [
    "tokenized_names_ground_truth = [tokenize_and_stem(i) for i in (ab[0])]\n",
    "# Puts words from new ground truth set into matrix from training set\n",
    "ground_truth_vectorized = vectorizer.transform(tokenized_names_ground_truth)\n",
    "ground_truth_vectorized_culled_array = ground_truth_vectorized.toarray()[:,informative_words]"
   ]
  },
  {
   "cell_type": "code",
   "execution_count": 241,
   "metadata": {
    "collapsed": true
   },
   "outputs": [],
   "source": [
    "for index, i in enumerate(ab[1]):\n",
    "    if i == None:\n",
    "        ground_truth_y[index] = 0"
   ]
  },
  {
   "cell_type": "code",
   "execution_count": 242,
   "metadata": {
    "collapsed": false
   },
   "outputs": [],
   "source": [
    "mask = [index for (index, item) in enumerate(ground_truth_y) if item !=0]"
   ]
  },
  {
   "cell_type": "code",
   "execution_count": 243,
   "metadata": {
    "collapsed": false
   },
   "outputs": [],
   "source": [
    "masked_ground_truth = []\n",
    "for i,j in enumerate(ground_truth_y):\n",
    "    if i in mask:\n",
    "        masked_ground_truth.append(j)\n",
    "        \n",
    "masked_ground_truth_vectnames = []\n",
    "for i,j in enumerate(ground_truth_vectorized_culled_array):\n",
    "    if i in mask:\n",
    "        masked_ground_truth_vectnames.append(j)\n"
   ]
  },
  {
   "cell_type": "markdown",
   "metadata": {},
   "source": [
    "### A bunch of models"
   ]
  },
  {
   "cell_type": "code",
   "execution_count": 244,
   "metadata": {
    "collapsed": false
   },
   "outputs": [
    {
     "name": "stdout",
     "output_type": "stream",
     "text": [
      "Automatically created module for IPython interactive environment\n"
     ]
    }
   ],
   "source": [
    "print(__doc__)\n",
    "\n",
    "import numpy as np\n",
    "import matplotlib.pyplot as plt\n",
    "\n",
    "from sklearn.linear_model import LogisticRegression\n",
    "from sklearn.naive_bayes import GaussianNB\n",
    "from sklearn.ensemble import RandomForestClassifier\n",
    "\n",
    "X_train = a.toarray()[:-200]\n",
    "#y_train = recipes[\"cholesterol\"]\n",
    "y_train = cholcat[:-200]\n",
    "X=X_train\n",
    "y=y_train\n",
    "\n",
    "clf1 = LogisticRegression(random_state=123, penalty=\"l2\", C=10, solver=\"lbfgs\")\n",
    "clf2 = RandomForestClassifier(random_state=123)\n",
    "clf3 = GaussianNB()\n",
    "\n",
    "probas = [c.fit(X, y) for c in (clf1, clf2, clf3)]\n",
    "\n",
    "# # get class probabilities for the first sample in the dataset\n",
    "# class1_1 = [pr[0, 0] for pr in probas]\n",
    "# class2_1 = [pr[0, 1] for pr in probas]"
   ]
  },
  {
   "cell_type": "code",
   "execution_count": 245,
   "metadata": {
    "collapsed": false
   },
   "outputs": [],
   "source": [
    "X_test = culled_array[-200:]\n",
    "y_test = cholcat[-200:]"
   ]
  },
  {
   "cell_type": "code",
   "execution_count": 246,
   "metadata": {
    "collapsed": false
   },
   "outputs": [
    {
     "data": {
      "text/plain": [
       "(3941, 3453)"
      ]
     },
     "execution_count": 246,
     "metadata": {},
     "output_type": "execute_result"
    }
   ],
   "source": [
    "a.toarray().shape"
   ]
  },
  {
   "cell_type": "code",
   "execution_count": 249,
   "metadata": {
    "collapsed": false
   },
   "outputs": [
    {
     "data": {
      "text/plain": [
       "<1x3453 sparse matrix of type '<type 'numpy.int64'>'\n",
       "\twith 1 stored elements in Compressed Sparse Row format>"
      ]
     },
     "execution_count": 249,
     "metadata": {},
     "output_type": "execute_result"
    }
   ],
   "source": [
    "ground_truth_vectorized[0]"
   ]
  },
  {
   "cell_type": "code",
   "execution_count": 255,
   "metadata": {
    "collapsed": true
   },
   "outputs": [
    {
     "data": {
      "text/plain": [
       "['high',\n",
       " 'vhigh',\n",
       " 'med',\n",
       " 'high',\n",
       " 'med',\n",
       " 'med',\n",
       " 'high',\n",
       " 'low',\n",
       " 'low',\n",
       " 'high',\n",
       " 'high',\n",
       " 'high',\n",
       " 'high',\n",
       " 'low',\n",
       " 'low',\n",
       " 'low',\n",
       " 'med',\n",
       " 'med',\n",
       " 'high',\n",
       " 'med',\n",
       " 'vhigh',\n",
       " 'med',\n",
       " 'med',\n",
       " 'low',\n",
       " 'vhigh',\n",
       " 'low',\n",
       " 'low',\n",
       " 'vhigh',\n",
       " 'low',\n",
       " 'high',\n",
       " 'low',\n",
       " 'low',\n",
       " 'vhigh',\n",
       " 'low',\n",
       " 'high',\n",
       " 'vhigh',\n",
       " 'low',\n",
       " 'med',\n",
       " 'low',\n",
       " 'high',\n",
       " 'low',\n",
       " 'med',\n",
       " 'high',\n",
       " 'med',\n",
       " 'vhigh',\n",
       " 'low',\n",
       " 'low',\n",
       " 'med',\n",
       " 'med',\n",
       " 'low',\n",
       " 'high',\n",
       " 'med',\n",
       " 'high',\n",
       " 'vhigh',\n",
       " 'med',\n",
       " 'low',\n",
       " 'low',\n",
       " 'med',\n",
       " 'med',\n",
       " 'vhigh',\n",
       " 'low',\n",
       " 'med',\n",
       " 'high',\n",
       " 'med',\n",
       " 'med',\n",
       " 'vhigh',\n",
       " 'high',\n",
       " 'med',\n",
       " 'high',\n",
       " 'med',\n",
       " 'med',\n",
       " 'med',\n",
       " 'med',\n",
       " 'vhigh',\n",
       " 'low',\n",
       " 'vhigh',\n",
       " 'low',\n",
       " 'vhigh',\n",
       " 'low',\n",
       " 'low',\n",
       " 'high',\n",
       " 'low',\n",
       " 'med',\n",
       " 'med',\n",
       " 'high',\n",
       " 'vhigh',\n",
       " 'low',\n",
       " 'high',\n",
       " 'med',\n",
       " 'med']"
      ]
     },
     "execution_count": 255,
     "metadata": {},
     "output_type": "execute_result"
    }
   ],
   "source": [
    "[clf1.predict(i)[0] for index, i in enumerate(ground_truth_vectorized) if i.nnz>0]"
   ]
  },
  {
   "cell_type": "code",
   "execution_count": 260,
   "metadata": {
    "collapsed": false,
    "scrolled": true
   },
   "outputs": [],
   "source": [
    "goodindices = list(ab[1][j] for j in [index for index, i in enumerate(ground_truth_vectorized) if i.nnz>0])"
   ]
  },
  {
   "cell_type": "code",
   "execution_count": 144,
   "metadata": {
    "collapsed": false,
    "scrolled": true
   },
   "outputs": [
    {
     "data": {
      "text/plain": [
       "<matplotlib.axes._subplots.AxesSubplot at 0x7f87fc8c3110>"
      ]
     },
     "execution_count": 144,
     "metadata": {},
     "output_type": "execute_result"
    },
    {
     "data": {
      "image/png": "[encoded data removed]",
      "text/plain": [
       "<matplotlib.figure.Figure at 0x7f87fc7221d0>"
      ]
     },
     "metadata": {},
     "output_type": "display_data"
    }
   ],
   "source": [
    "%matplotlib inline\n",
    "from sklearn.metrics import confusion_matrix\n",
    "import seaborn as sns\n",
    "cm = confusion_matrix(ab[1], \\\n",
    "                      clf1.predict(ground_truth_vectorized), labels=np.array([\"low\", \"med\", \"high\", \"vhigh\"]))\n",
    "0\n",
    "plt.figure(figsize = (10,7))\n",
    "sns.heatmap(cm, annot=True, xticklabels=[\"low\", \"med\", \"high\", \"vhigh\"], yticklabels=[\"low\", \"med\", \"high\", \"vhigh\"])"
   ]
  },
  {
   "cell_type": "code",
   "execution_count": 261,
   "metadata": {
    "collapsed": false,
    "scrolled": true
   },
   "outputs": [
    {
     "data": {
      "text/plain": [
       "<matplotlib.axes._subplots.AxesSubplot at 0x7f87fc483690>"
      ]
     },
     "execution_count": 261,
     "metadata": {},
     "output_type": "execute_result"
    },
    {
     "data": {
      "image/png": "[encoded data removed]",
      "text/plain": [
       "<matplotlib.figure.Figure at 0x7f880e4f5990>"
      ]
     },
     "metadata": {},
     "output_type": "display_data"
    }
   ],
   "source": [
    "#Just with nnz >0:\n",
    "%matplotlib inline\n",
    "from sklearn.metrics import confusion_matrix\n",
    "import seaborn as sns\n",
    "cm = confusion_matrix(goodindices, \\\n",
    "                      [clf1.predict(i)[0] for i in ground_truth_vectorized if i.nnz>0], labels=np.array([\"low\", \"med\", \"high\", \"vhigh\"]))\n",
    "0\n",
    "plt.figure(figsize = (10,7))\n",
    "sns.heatmap(cm, annot=True, xticklabels=[\"low\", \"med\", \"high\", \"vhigh\"], yticklabels=[\"low\", \"med\", \"high\", \"vhigh\"])"
   ]
  },
  {
   "cell_type": "code",
   "execution_count": 145,
   "metadata": {
    "collapsed": false
   },
   "outputs": [
    {
     "data": {
      "text/plain": [
       "array([[14,  3,  4,  4],\n",
       "       [ 9, 13,  0,  3],\n",
       "       [ 7,  6,  9,  3],\n",
       "       [ 7,  7,  7,  4]])"
      ]
     },
     "execution_count": 145,
     "metadata": {},
     "output_type": "execute_result"
    }
   ],
   "source": [
    "cm"
   ]
  },
  {
   "cell_type": "code",
   "execution_count": 136,
   "metadata": {
    "collapsed": false
   },
   "outputs": [],
   "source": [
    "cm2 = np.array(cm[:,1])"
   ]
  },
  {
   "cell_type": "code",
   "execution_count": null,
   "metadata": {
    "collapsed": true
   },
   "outputs": [],
   "source": [
    "cm.p"
   ]
  },
  {
   "cell_type": "code",
   "execution_count": 137,
   "metadata": {
    "collapsed": false
   },
   "outputs": [
    {
     "data": {
      "text/plain": [
       "array([ 3, 13,  6,  7])"
      ]
     },
     "execution_count": 137,
     "metadata": {},
     "output_type": "execute_result"
    }
   ],
   "source": [
    "cm2"
   ]
  },
  {
   "cell_type": "code",
   "execution_count": 125,
   "metadata": {
    "collapsed": false,
    "scrolled": true
   },
   "outputs": [
    {
     "data": {
      "text/plain": [
       "3"
      ]
     },
     "execution_count": 125,
     "metadata": {},
     "output_type": "execute_result"
    }
   ],
   "source": [
    "ground_truth_vectorized[2].nnz #get the number of non-zero columns"
   ]
  },
  {
   "cell_type": "code",
   "execution_count": 127,
   "metadata": {
    "collapsed": false,
    "scrolled": true
   },
   "outputs": [
    {
     "data": {
      "text/plain": [
       "0.40000000000000002"
      ]
     },
     "execution_count": 127,
     "metadata": {},
     "output_type": "execute_result"
    }
   ],
   "source": [
    "clf1.score(ground_truth_vectorized, ab[1])"
   ]
  },
  {
   "cell_type": "code",
   "execution_count": 264,
   "metadata": {
    "collapsed": false
   },
   "outputs": [],
   "source": [
    "from scipy.sparse import csr_matrix"
   ]
  },
  {
   "cell_type": "code",
   "execution_count": 269,
   "metadata": {
    "collapsed": false
   },
   "outputs": [
    {
     "data": {
      "text/plain": [
       "array([u'Chicken Benedict', u'Outback Flat Iron', u'Peanut Butter',\n",
       "       u'Specialty Meat', u'Cubs Spaghetti', u'Teriyaki Steak Medallions',\n",
       "       u'Lunch Combo Bacon Avocado Chicken Sandwich', u'Pasta',\n",
       "       u'Cookies, Cream Wafers Strawberry', u'Orange Juice',\n",
       "       u'New Zealand Lamb', u'Pork Porterhouse',\n",
       "       u'Crispy Chicken Sandwich', u'Broccoli & Cheese',\n",
       "       u'Chocolate Mini Milkshake', u'Pasta', u'Teriyaki Steak Medallions',\n",
       "       u'Crab & Avocado Stack', u'Triple Dipper Crispy Cheddar Bites',\n",
       "       u'Waffle Benedict', u'Teriyaki Steak Medallions', u'Eggs Benedict',\n",
       "       u'California Grilled Chicken Flatbread', u'Firecracker Salmon',\n",
       "       u'Pasta Sauce, Garlic Marinara', u'Iced Tea, Sweetened',\n",
       "       u'Ultimate Fresh Margarita',\n",
       "       u'Cookies, Kids Outback Animals Chocolate', u'Eggs',\n",
       "       u'Broccoli & Cheese', u'Triple Dipper Crispy Cheddar Bites',\n",
       "       u'Chicken Noodle Soup, Cup', u'Pasta', u'Chicken Scampi',\n",
       "       u'Outback Sirloin, 6 Oz', u'Great Barrier Trio',\n",
       "       u'Lunch Combo Chipotle Chicken Bowl with Rice', u'Chicken Scampi',\n",
       "       u'Blueberry, Bar', u'Firecracker Salmon', u'Great Barrier Trio',\n",
       "       u'Pork Porterhouse', u'Broccoli & Cheese',\n",
       "       u'Triple Dipper Big Mouth Bites',\n",
       "       u'Lunch Combo Bacon Avocado Chicken Sandwich', u'Bagel Benedict',\n",
       "       u'Double Burger', u'Fiber Supplement', u'Chicken Scampi',\n",
       "       u'Broccoli & Cheese', u'Organic Fusilli', u'Pasta',\n",
       "       u'Lunch Combo Top Shelf Ranchero Chicken Tacos', u'Double Burger',\n",
       "       u'Great Barrier Trio', u'Aussie Chicken Tacos',\n",
       "       u\"The Bloomin' Burger\", u'New Zealand Lamb', u'Iced Tea',\n",
       "       u'Organic Fusilli', u'Crab & Avocado Stack', u'Ribeye Melt',\n",
       "       u'French Onion Soup', u'Blackbeary Cobbler',\n",
       "       u'Crab & Avocado Stack', u'Steakhouse Mac & Cheese',\n",
       "       u\"Victoria's Filet Mignon, 6 Oz\", u'Wings',\n",
       "       u'Outback Sirloin, 9 Oz', u'Kids Crispy Chicken Crispers',\n",
       "       u'Aussie Chicken Tacos', u'Crab & Avocado Stack',\n",
       "       u'Aussie Steak Tacos', u\"Victoria's Filet Mignon, 6 Oz\",\n",
       "       u'Crispy Chicken Sandwich', u'Firecracker Salmon',\n",
       "       u'Lunch Combo Bacon Avocado Chicken Sandwich',\n",
       "       u'Crab & Avocado Stack', u'Kids Crispy Chicken Crispers',\n",
       "       u'Kids Crispy Chicken Crispers', u'Vanilla Flavot Shot',\n",
       "       u'Outback Pizza, Medium', u\"Victoria's Filet Mignon, 6 Oz\",\n",
       "       u'Dinner Salad', u'French Fries', u'French Onion Soup',\n",
       "       u'Chicken Marsala', u'Harvest Benedict', u'Great Barrier Trio',\n",
       "       u\"Bob's Big Bear Burger with Potato Salad\", u'Broccoli & Cheese',\n",
       "       u'Lunch Combo Top Shelf Ranchero Chicken Tacos', u'Double Burger',\n",
       "       u'Triple Dipper Crispy Cheddar Bites', u'Breakfast Hash Browns',\n",
       "       u'Wings', u'Outback Sirloin, 6 Oz', u'Cream Wafers, Lemon Flavour',\n",
       "       u'Kids Crispy Chicken Crispers', u'Kids Crispy Chicken Crispers'], \n",
       "      dtype='<U57')"
      ]
     },
     "execution_count": 269,
     "metadata": {},
     "output_type": "execute_result"
    }
   ],
   "source": [
    "ab[0]"
   ]
  },
  {
   "cell_type": "code",
   "execution_count": 265,
   "metadata": {
    "collapsed": false,
    "scrolled": true
   },
   "outputs": [
    {
     "ename": "TypeError",
     "evalue": "no supported conversion for types: (dtype('<U16'),)",
     "output_type": "error",
     "traceback": [
      "\u001b[1;31m---------------------------------------------------------------------------\u001b[0m",
      "\u001b[1;31mTypeError\u001b[0m                                 Traceback (most recent call last)",
      "\u001b[1;32m<ipython-input-265-c2f060be9104>\u001b[0m in \u001b[0;36m<module>\u001b[1;34m()\u001b[0m\n\u001b[1;32m----> 1\u001b[1;33m \u001b[0mclf1\u001b[0m\u001b[1;33m.\u001b[0m\u001b[0mscore\u001b[0m\u001b[1;33m(\u001b[0m\u001b[0mnp\u001b[0m\u001b[1;33m.\u001b[0m\u001b[0marray\u001b[0m\u001b[1;33m(\u001b[0m\u001b[1;33m[\u001b[0m\u001b[0mi\u001b[0m \u001b[1;32mfor\u001b[0m \u001b[0mi\u001b[0m \u001b[1;32min\u001b[0m \u001b[0mab\u001b[0m\u001b[1;33m[\u001b[0m\u001b[1;36m0\u001b[0m\u001b[1;33m]\u001b[0m \u001b[1;32mif\u001b[0m \u001b[0mcsr_matrix\u001b[0m\u001b[1;33m(\u001b[0m\u001b[0mi\u001b[0m\u001b[1;33m)\u001b[0m\u001b[1;33m.\u001b[0m\u001b[0mnnz\u001b[0m\u001b[1;33m>\u001b[0m\u001b[1;36m0\u001b[0m\u001b[1;33m]\u001b[0m\u001b[1;33m)\u001b[0m\u001b[1;33m,\u001b[0m \u001b[0mgoodindices\u001b[0m\u001b[1;33m)\u001b[0m\u001b[1;33m\u001b[0m\u001b[0m\n\u001b[0m",
      "\u001b[1;32m/home/andylane/anaconda2/envs/insight/lib/python2.7/site-packages/scipy/sparse/compressed.pyc\u001b[0m in \u001b[0;36m__init__\u001b[1;34m(self, arg1, shape, dtype, copy)\u001b[0m\n\u001b[0;32m     67\u001b[0m                         self.format)\n\u001b[0;32m     68\u001b[0m             \u001b[1;32mfrom\u001b[0m \u001b[1;33m.\u001b[0m\u001b[0mcoo\u001b[0m \u001b[1;32mimport\u001b[0m \u001b[0mcoo_matrix\u001b[0m\u001b[1;33m\u001b[0m\u001b[0m\n\u001b[1;32m---> 69\u001b[1;33m             \u001b[0mself\u001b[0m\u001b[1;33m.\u001b[0m\u001b[0m_set_self\u001b[0m\u001b[1;33m(\u001b[0m\u001b[0mself\u001b[0m\u001b[1;33m.\u001b[0m\u001b[0m__class__\u001b[0m\u001b[1;33m(\u001b[0m\u001b[0mcoo_matrix\u001b[0m\u001b[1;33m(\u001b[0m\u001b[0marg1\u001b[0m\u001b[1;33m,\u001b[0m \u001b[0mdtype\u001b[0m\u001b[1;33m=\u001b[0m\u001b[0mdtype\u001b[0m\u001b[1;33m)\u001b[0m\u001b[1;33m)\u001b[0m\u001b[1;33m)\u001b[0m\u001b[1;33m\u001b[0m\u001b[0m\n\u001b[0m\u001b[0;32m     70\u001b[0m \u001b[1;33m\u001b[0m\u001b[0m\n\u001b[0;32m     71\u001b[0m         \u001b[1;31m# Read matrix dimensions given, if any\u001b[0m\u001b[1;33m\u001b[0m\u001b[1;33m\u001b[0m\u001b[0m\n",
      "\u001b[1;32m/home/andylane/anaconda2/envs/insight/lib/python2.7/site-packages/scipy/sparse/compressed.pyc\u001b[0m in \u001b[0;36m__init__\u001b[1;34m(self, arg1, shape, dtype, copy)\u001b[0m\n\u001b[0;32m     29\u001b[0m                 \u001b[0marg1\u001b[0m \u001b[1;33m=\u001b[0m \u001b[0marg1\u001b[0m\u001b[1;33m.\u001b[0m\u001b[0mcopy\u001b[0m\u001b[1;33m(\u001b[0m\u001b[1;33m)\u001b[0m\u001b[1;33m\u001b[0m\u001b[0m\n\u001b[0;32m     30\u001b[0m             \u001b[1;32melse\u001b[0m\u001b[1;33m:\u001b[0m\u001b[1;33m\u001b[0m\u001b[0m\n\u001b[1;32m---> 31\u001b[1;33m                 \u001b[0marg1\u001b[0m \u001b[1;33m=\u001b[0m \u001b[0marg1\u001b[0m\u001b[1;33m.\u001b[0m\u001b[0masformat\u001b[0m\u001b[1;33m(\u001b[0m\u001b[0mself\u001b[0m\u001b[1;33m.\u001b[0m\u001b[0mformat\u001b[0m\u001b[1;33m)\u001b[0m\u001b[1;33m\u001b[0m\u001b[0m\n\u001b[0m\u001b[0;32m     32\u001b[0m             \u001b[0mself\u001b[0m\u001b[1;33m.\u001b[0m\u001b[0m_set_self\u001b[0m\u001b[1;33m(\u001b[0m\u001b[0marg1\u001b[0m\u001b[1;33m)\u001b[0m\u001b[1;33m\u001b[0m\u001b[0m\n\u001b[0;32m     33\u001b[0m \u001b[1;33m\u001b[0m\u001b[0m\n",
      "\u001b[1;32m/home/andylane/anaconda2/envs/insight/lib/python2.7/site-packages/scipy/sparse/base.pyc\u001b[0m in \u001b[0;36masformat\u001b[1;34m(self, format)\u001b[0m\n\u001b[0;32m    218\u001b[0m             \u001b[1;32mreturn\u001b[0m \u001b[0mself\u001b[0m\u001b[1;33m\u001b[0m\u001b[0m\n\u001b[0;32m    219\u001b[0m         \u001b[1;32melse\u001b[0m\u001b[1;33m:\u001b[0m\u001b[1;33m\u001b[0m\u001b[0m\n\u001b[1;32m--> 220\u001b[1;33m             \u001b[1;32mreturn\u001b[0m \u001b[0mgetattr\u001b[0m\u001b[1;33m(\u001b[0m\u001b[0mself\u001b[0m\u001b[1;33m,\u001b[0m\u001b[1;34m'to'\u001b[0m \u001b[1;33m+\u001b[0m \u001b[0mformat\u001b[0m\u001b[1;33m)\u001b[0m\u001b[1;33m(\u001b[0m\u001b[1;33m)\u001b[0m\u001b[1;33m\u001b[0m\u001b[0m\n\u001b[0m\u001b[0;32m    221\u001b[0m \u001b[1;33m\u001b[0m\u001b[0m\n\u001b[0;32m    222\u001b[0m     \u001b[1;31m###################################################################\u001b[0m\u001b[1;33m\u001b[0m\u001b[1;33m\u001b[0m\u001b[0m\n",
      "\u001b[1;32m/home/andylane/anaconda2/envs/insight/lib/python2.7/site-packages/scipy/sparse/coo.pyc\u001b[0m in \u001b[0;36mtocsr\u001b[1;34m(self)\u001b[0m\n\u001b[0;32m    328\u001b[0m             \u001b[0mindptr\u001b[0m \u001b[1;33m=\u001b[0m \u001b[0mnp\u001b[0m\u001b[1;33m.\u001b[0m\u001b[0mempty\u001b[0m\u001b[1;33m(\u001b[0m\u001b[0mM\u001b[0m \u001b[1;33m+\u001b[0m \u001b[1;36m1\u001b[0m\u001b[1;33m,\u001b[0m \u001b[0mdtype\u001b[0m\u001b[1;33m=\u001b[0m\u001b[0midx_dtype\u001b[0m\u001b[1;33m)\u001b[0m\u001b[1;33m\u001b[0m\u001b[0m\n\u001b[0;32m    329\u001b[0m             \u001b[0mindices\u001b[0m \u001b[1;33m=\u001b[0m \u001b[0mnp\u001b[0m\u001b[1;33m.\u001b[0m\u001b[0mempty\u001b[0m\u001b[1;33m(\u001b[0m\u001b[0mself\u001b[0m\u001b[1;33m.\u001b[0m\u001b[0mnnz\u001b[0m\u001b[1;33m,\u001b[0m \u001b[0mdtype\u001b[0m\u001b[1;33m=\u001b[0m\u001b[0midx_dtype\u001b[0m\u001b[1;33m)\u001b[0m\u001b[1;33m\u001b[0m\u001b[0m\n\u001b[1;32m--> 330\u001b[1;33m             \u001b[0mdata\u001b[0m \u001b[1;33m=\u001b[0m \u001b[0mnp\u001b[0m\u001b[1;33m.\u001b[0m\u001b[0mempty\u001b[0m\u001b[1;33m(\u001b[0m\u001b[0mself\u001b[0m\u001b[1;33m.\u001b[0m\u001b[0mnnz\u001b[0m\u001b[1;33m,\u001b[0m \u001b[0mdtype\u001b[0m\u001b[1;33m=\u001b[0m\u001b[0mupcast\u001b[0m\u001b[1;33m(\u001b[0m\u001b[0mself\u001b[0m\u001b[1;33m.\u001b[0m\u001b[0mdtype\u001b[0m\u001b[1;33m)\u001b[0m\u001b[1;33m)\u001b[0m\u001b[1;33m\u001b[0m\u001b[0m\n\u001b[0m\u001b[0;32m    331\u001b[0m \u001b[1;33m\u001b[0m\u001b[0m\n\u001b[0;32m    332\u001b[0m             coo_tocsr(M, N, self.nnz,\n",
      "\u001b[1;32m/home/andylane/anaconda2/envs/insight/lib/python2.7/site-packages/scipy/sparse/sputils.pyc\u001b[0m in \u001b[0;36mupcast\u001b[1;34m(*args)\u001b[0m\n\u001b[0;32m     55\u001b[0m             \u001b[1;32mreturn\u001b[0m \u001b[0mt\u001b[0m\u001b[1;33m\u001b[0m\u001b[0m\n\u001b[0;32m     56\u001b[0m \u001b[1;33m\u001b[0m\u001b[0m\n\u001b[1;32m---> 57\u001b[1;33m     \u001b[1;32mraise\u001b[0m \u001b[0mTypeError\u001b[0m\u001b[1;33m(\u001b[0m\u001b[1;34m'no supported conversion for types: %r'\u001b[0m \u001b[1;33m%\u001b[0m \u001b[1;33m(\u001b[0m\u001b[0margs\u001b[0m\u001b[1;33m,\u001b[0m\u001b[1;33m)\u001b[0m\u001b[1;33m)\u001b[0m\u001b[1;33m\u001b[0m\u001b[0m\n\u001b[0m\u001b[0;32m     58\u001b[0m \u001b[1;33m\u001b[0m\u001b[0m\n\u001b[0;32m     59\u001b[0m \u001b[1;33m\u001b[0m\u001b[0m\n",
      "\u001b[1;31mTypeError\u001b[0m: no supported conversion for types: (dtype('<U16'),)"
     ]
    }
   ],
   "source": [
    "clf1.score(np.array([i for i in ab[0] if csr_matrix(i).nnz>0]), goodindices)"
   ]
  },
  {
   "cell_type": "code",
   "execution_count": 38,
   "metadata": {
    "collapsed": false
   },
   "outputs": [
    {
     "data": {
      "text/plain": [
       "<595x3453 sparse matrix of type '<type 'numpy.int64'>'\n",
       "\twith 1258 stored elements in Compressed Sparse Row format>"
      ]
     },
     "execution_count": 38,
     "metadata": {},
     "output_type": "execute_result"
    }
   ],
   "source": [
    "ground_truth_vectorized"
   ]
  },
  {
   "cell_type": "code",
   "execution_count": 39,
   "metadata": {
    "collapsed": false
   },
   "outputs": [],
   "source": [
    "import cPickle as pickle"
   ]
  },
  {
   "cell_type": "code",
   "execution_count": 40,
   "metadata": {
    "collapsed": false,
    "scrolled": true
   },
   "outputs": [],
   "source": [
    "pickle.dump(clf1, open(\"logress.pkl\", \"wb\"))"
   ]
  },
  {
   "cell_type": "code",
   "execution_count": 50,
   "metadata": {
    "collapsed": true
   },
   "outputs": [],
   "source": [
    "import os"
   ]
  },
  {
   "cell_type": "code",
   "execution_count": 55,
   "metadata": {
    "collapsed": true
   },
   "outputs": [
    {
     "name": "stdout",
     "output_type": "stream",
     "text": [
      "steak with lettuc and chees\n",
      "(1, 3453)\n"
     ]
    },
    {
     "data": {
      "text/plain": [
       "('med',\n",
       " 0.86818759453988248,\n",
       " {u'and': {'high': -0.28095948716353059,\n",
       "   'low': 0.05553209092553954,\n",
       "   'med': -0.070925524039052321,\n",
       "   'vhigh': -0.28018772650582596},\n",
       "  u'and chees': {'high': -1.2768021744348395,\n",
       "   'low': 1.4471407444149393,\n",
       "   'med': 0.36346832775990345,\n",
       "   'vhigh': 0.1980409735793425},\n",
       "  u'chees': {'high': -0.13924886352166405,\n",
       "   'low': 0.23061949798271864,\n",
       "   'med': -0.044623777262833293,\n",
       "   'vhigh': -0.56761995900185402},\n",
       "  u'lettuc': {'high': 0.29007616026605887,\n",
       "   'low': -1.3932813424640726,\n",
       "   'med': 1.1793997764727082,\n",
       "   'vhigh': -1.4994832220392273},\n",
       "  u'steak': {'high': 0.14920934923870319,\n",
       "   'low': -0.57620492678198476,\n",
       "   'med': 0.54550685171258628,\n",
       "   'vhigh': -0.31915035168769718},\n",
       "  u'steak with': {'high': -0.047805546349243437,\n",
       "   'low': -1.289519558571993,\n",
       "   'med': 1.4697180322698384,\n",
       "   'vhigh': -1.2417679075838632},\n",
       "  u'with': {'high': 0.89725746476947521,\n",
       "   'low': -1.2759620799107605,\n",
       "   'med': -0.11285419805816142,\n",
       "   'vhigh': -0.41788872469814531}},\n",
       " [(u'lettuc', -1.4994832220392273),\n",
       "  (u'steak with', -1.2417679075838632),\n",
       "  (u'chees', -0.56761995900185402),\n",
       "  (u'with', -0.41788872469814531),\n",
       "  (u'steak', -0.31915035168769718),\n",
       "  (u'and', -0.28018772650582596),\n",
       "  (u'and chees', 0.1980409735793425)])"
      ]
     },
     "execution_count": 55,
     "metadata": {},
     "output_type": "execute_result"
    }
   ],
   "source": [
    "report_score_and_why(clf1, \"steak with lettuce and cheese\", vectorizer)"
   ]
  },
  {
   "cell_type": "code",
   "execution_count": 58,
   "metadata": {
    "collapsed": false
   },
   "outputs": [],
   "source": [
    "def report_score_and_why(menuitem, vectorizer=vectorizer, model=clf1):\n",
    "    input_vectorized = vectorizer.transform([tokenize_and_stem(menuitem)])\n",
    "    if input_vectorized.nnz > 0:\n",
    "        print(tokenize_and_stem(menuitem))\n",
    "        print(input_vectorized.shape)\n",
    "        #Need to change this to inputting model\n",
    "        p = model.predict_proba(input_vectorized)[0]\n",
    "        q = zip(model.classes_, list(p))\n",
    "        classification = model.predict(input_vectorized)[0]\n",
    "        probability = dict(q)[classification]\n",
    "        # Figure out why: list individual score contribution of each word\n",
    "        matchwords = [i for i in input_vectorized.todok().keys()] #todok = to dict of keys\n",
    "        explaindict = {}\n",
    "        ranklist = []\n",
    "        for i in matchwords:\n",
    "            w = vectorizer.get_feature_names()[i[1]] #gets actual word of feature, by matrix index\n",
    "            coef = zip(model.classes_, model.coef_[:,i[1]])\n",
    "            ranklist.append((w, dict(coef)[\"vhigh\"]))\n",
    "            explaindict[w] = dict(coef)\n",
    "        # Figure out the biggest contributor:\n",
    "        ranklist = sorted(ranklist, key=lambda a: a[1])\n",
    "    else:\n",
    "        classification = \"unknown\"\n",
    "        probability = 0\n",
    "        explaindict = {\"unscorable\": \"yes\"}\n",
    "        ranklist = [\"unscorable\", \"unscorable\"]\n",
    "        \n",
    "    return classification, probability, explaindict, ranklist[-1][0]"
   ]
  },
  {
   "cell_type": "code",
   "execution_count": 59,
   "metadata": {
    "collapsed": false
   },
   "outputs": [
    {
     "name": "stdout",
     "output_type": "stream",
     "text": [
      "mussel\n",
      "(1, 3453)\n"
     ]
    },
    {
     "data": {
      "text/plain": [
       "('med',\n",
       " 0.43833015948933679,\n",
       " {u'mussel': {'high': 0.092038266064129889,\n",
       "   'low': 0.2661989196174443,\n",
       "   'med': 1.8293413700608936,\n",
       "   'vhigh': -1.4658510154614306}},\n",
       " -1.4658510154614306)"
      ]
     },
     "execution_count": 59,
     "metadata": {},
     "output_type": "execute_result"
    }
   ],
   "source": [
    "report_score_and_why(\"Mussels\")"
   ]
  },
  {
   "cell_type": "code",
   "execution_count": null,
   "metadata": {
    "collapsed": true
   },
   "outputs": [],
   "source": []
  }
 ],
 "metadata": {
  "kernelspec": {
   "display_name": "Python [insight]",
   "language": "python",
   "name": "Python [insight]"
  },
  "language_info": {
   "codemirror_mode": {
    "name": "ipython",
    "version": 2
   },
   "file_extension": ".py",
   "mimetype": "text/x-python",
   "name": "python",
   "nbconvert_exporter": "python",
   "pygments_lexer": "ipython2",
   "version": "2.7.12"
  }
 },
 "nbformat": 4,
 "nbformat_minor": 0
}
