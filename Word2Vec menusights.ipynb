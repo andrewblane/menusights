{
 "cells": [
  {
   "cell_type": "code",
   "execution_count": 1,
   "metadata": {
    "collapsed": false
   },
   "outputs": [
    {
     "name": "stderr",
     "output_type": "stream",
     "text": [
      "/home/andylane/Envs/tf/lib/python3.6/importlib/_bootstrap.py:219: RuntimeWarning: compiletime version 3.5 of module 'tensorflow.python.framework.fast_tensor_util' does not match runtime version 3.6\n",
      "  return f(*args, **kwds)\n"
     ]
    }
   ],
   "source": [
    "import sys\n",
    "from operator import itemgetter\n",
    "import _pickle as pkl\n",
    "import random\n",
    "import pandas\n",
    "import numpy as np\n",
    "# from sklearn.model_selection import *\n",
    "# from sklearn.linear_model import *\n",
    "# from sklearn.metrics import *\n",
    "import tensorflow as tf\n",
    "from tensorflow.contrib.learn.python import SKCompat\n",
    "from tensorflow.contrib import learn\n",
    "import gensim"
   ]
  },
  {
   "cell_type": "markdown",
   "metadata": {},
   "source": [
    "http://ahogrammer.com/2017/01/20/the-list-of-pretrained-word-embeddings/"
   ]
  },
  {
   "cell_type": "code",
   "execution_count": 2,
   "metadata": {
    "collapsed": true
   },
   "outputs": [],
   "source": [
    "model = gensim.models.KeyedVectors.load_word2vec_format('GoogleNews-vectors-negative300.bin', binary=True)\n",
    "words = pkl.load(open(\"tf_data/training_data_names.pkl\", \"rb\"))\n",
    "\n",
    "X = pkl.load(open(\"tf_data/training_data_names_unstemmed.pkl\", \"rb\"))\n",
    "y = pkl.load(open(\"tf_data/training_labels_num.pkl\", \"rb\"))\n",
    "\n",
    "ground_truth_X = pkl.load(open(\"tf_data/test_data_names.pkl\", \"rb\"))\n",
    "ground_truth_y = pkl.load(open(\"tf_data/test_labels_num.pkl\", \"rb\"))"
   ]
  },
  {
   "cell_type": "code",
   "execution_count": 15,
   "metadata": {},
   "outputs": [],
   "source": [
    "import scipy\n",
    "def rsquared(x, y):\n",
    "    \"\"\" Return R^2 where x and y are array-like.\"\"\"\n",
    "\n",
    "    slope, intercept, r_value, p_value, std_err = scipy.stats.linregress(x, y)\n",
    "    return r_value**2\n"
   ]
  },
  {
   "cell_type": "code",
   "execution_count": 3,
   "metadata": {},
   "outputs": [
    {
     "name": "stdout",
     "output_type": "stream",
     "text": [
      "Campfire Banana Splits\n",
      "campfir banana split\n"
     ]
    },
    {
     "data": {
      "text/plain": [
       "[('cinnamon_rolls', 0.655969500541687),\n",
       " ('oatmeal_cookie', 0.62870192527771),\n",
       " ('peach_pie', 0.6216853260993958),\n",
       " ('banana_walnut', 0.6158987283706665),\n",
       " ('baked_beans_peaches', 0.6140761375427246),\n",
       " ('waffle_cone', 0.6071435809135437),\n",
       " ('fruit_cobbler', 0.6069991588592529),\n",
       " ('snickerdoodle', 0.6056694984436035),\n",
       " ('turtle_cheesecake', 0.6054642200469971),\n",
       " ('yogurt_parfait', 0.6052801609039307)]"
      ]
     },
     "execution_count": 3,
     "metadata": {},
     "output_type": "execute_result"
    }
   ],
   "source": [
    "# Notes to self:\n",
    "\n",
    "## There are 300,000 words in the Google News model\n",
    "len(model.vocab)\n",
    "\n",
    "## Get words from given index\n",
    "model.wv.index2word[2898]\n",
    "# Out: 'judges\"\n",
    "\n",
    "## Find the odd word out:\n",
    "model.doesnt_match(X[3].split())\n",
    "\n",
    "## Access recipes:\n",
    "print(X[3])\n",
    "print(words[3])\n",
    "\n",
    "## Get the similarity between two phrases. This is implemented in gensim as\n",
    "## just the cosine similarity of the means of the two vectors\n",
    "model.n_similarity(X[3].split(), X[7].split())\n",
    "model.similarity(\"saucepan\", \"food\")\n",
    "\n",
    "## There's a case for n-gramming with underscores:\n",
    "model.most_similar([\"cinnamon\", \"roll\"])\n",
    "# Out e.g.: coconut_flakes, graham_cracker_crumbs\n",
    "model.most_similar(\"cinnamon_roll\")\n",
    "# Out e.g.: cinnamon_rolls, oatmeal_cookie, peach_pie"
   ]
  },
  {
   "cell_type": "code",
   "execution_count": 4,
   "metadata": {
    "collapsed": false
   },
   "outputs": [],
   "source": [
    "# Remove words that are not in the Google News model\n",
    "# TODO: Also remove stopwords - not necessary to average e.g. \"in\"\n",
    "filtered_x = []\n",
    "filtered_y = []\n",
    "for index, recipe in enumerate(X):\n",
    "    recipe_words = recipe.split()\n",
    "    recipe_words = list(filter(lambda x: x in model.vocab, recipe_words))\n",
    "    if len(recipe_words) > 0: #don't add empty lists - the LinReg can't fit NaNs\n",
    "        filtered_x.append(recipe_words)\n",
    "        filtered_y.append(y[index]) # to keep y_ same index\n",
    "    else:\n",
    "        None"
   ]
  },
  {
   "cell_type": "code",
   "execution_count": 5,
   "metadata": {
    "collapsed": false
   },
   "outputs": [
    {
     "data": {
      "text/plain": [
       "['Chicken', 'Kale', 'in', 'Parmesan', 'Cream', 'Sauce']"
      ]
     },
     "execution_count": 5,
     "metadata": {},
     "output_type": "execute_result"
    }
   ],
   "source": [
    "filtered_x[571]"
   ]
  },
  {
   "cell_type": "code",
   "execution_count": 6,
   "metadata": {
    "collapsed": true
   },
   "outputs": [],
   "source": [
    "def input_preprocessor(dish, model=model):\n",
    "    '''\n",
    "    filter for words that are in the model and extract bigrams\n",
    "    Usage: input_preprocessor(dish). Returns np.array of size model dimensions \n",
    "        (300 dimensions for GoogleNews Word2Vec model)\n",
    "    dish: list of words in recipe title\n",
    "    model: a word2vec model\n",
    "    '''\n",
    "    \n",
    "    #dish = dish.split()\n",
    "    \n",
    "    ngrammed = []\n",
    "    ngrammed.extend(dish)\n",
    "    for index, word in enumerate(dish):\n",
    "        if index+1 < len(dish):\n",
    "            ngrammed.append(word + \"_\" + dish[index+1])\n",
    "    # duplicate words won't help us\n",
    "    ngrammed = set(ngrammed)\n",
    "    # only include words that have a cosine similarity with the word \"food\" above a certain threshold\n",
    "    # better idea: weight them against cosine similarity to food!\n",
    "    foodywords = list(filter(lambda x: x in model.vocab and model.similarity(x, \"food\") > 0.16, ngrammed))\n",
    "    # if no words are that close to food, pick the top two\n",
    "    if len(foodywords) == 0:\n",
    "        sims = []\n",
    "        for x in ngrammed:\n",
    "            if x in model.vocab:\n",
    "                sims.append((x, model.similarity(x, \"food\")))\n",
    "        foodywords = [word for word, similarity in sorted(sims, key=itemgetter(1))[:2]]\n",
    "    foodywords = set(foodywords)\n",
    "    #print(foodywords)\n",
    "#     for term in dish:\n",
    "#         print(term)\n",
    "#         print(model.similarity(term, \"food\"))\n",
    "#     return dish\n",
    "    # Return the average of all the foody-word vectors in the recipe name\n",
    "    return np.array([model[w] for w in foodywords]).mean(axis=0)"
   ]
  },
  {
   "cell_type": "code",
   "execution_count": 7,
   "metadata": {
    "collapsed": false
   },
   "outputs": [],
   "source": [
    "# Apply the input preprocessor across the filtered list of recipes\n",
    "filtered_x_vect = []\n",
    "for index, i in enumerate(filtered_x):\n",
    "    filtered_x_vect.append(input_preprocessor(i, model))\n",
    "filtered_x_vect = np.array(filtered_x_vect)"
   ]
  },
  {
   "cell_type": "code",
   "execution_count": 8,
   "metadata": {},
   "outputs": [],
   "source": [
    "filtered_y = np.array([filtered_y]).transpose()"
   ]
  },
  {
   "cell_type": "code",
   "execution_count": 9,
   "metadata": {},
   "outputs": [],
   "source": [
    "filtered_y = np.array(filtered_y)"
   ]
  },
  {
   "cell_type": "code",
   "execution_count": 10,
   "metadata": {
    "collapsed": false,
    "scrolled": false
   },
   "outputs": [],
   "source": [
    "# embedded_x = np.zeros((len(filtered_x), 300))\n",
    "# for index, i in enumerate(filtered_x):\n",
    "#     embedded_x[index] = model[filtered_x[index]]"
   ]
  },
  {
   "cell_type": "code",
   "execution_count": 11,
   "metadata": {},
   "outputs": [],
   "source": [
    "import tflearn"
   ]
  },
  {
   "cell_type": "code",
   "execution_count": 12,
   "metadata": {},
   "outputs": [
    {
     "name": "stdout",
     "output_type": "stream",
     "text": [
      "(3938, 300)\n",
      "(3938, 1)\n"
     ]
    }
   ],
   "source": [
    "print(filtered_x_vect.shape)\n",
    "print(filtered_y.shape)"
   ]
  },
  {
   "cell_type": "code",
   "execution_count": null,
   "metadata": {},
   "outputs": [],
   "source": []
  },
  {
   "cell_type": "code",
   "execution_count": 250,
   "metadata": {},
   "outputs": [
    {
     "name": "stdout",
     "output_type": "stream",
     "text": [
      "Training Step: 12399  | total loss: \u001b[1m\u001b[32m6608.24951\u001b[0m\u001b[0m | time: 0.407s\n",
      "\u001b[2K\r",
      "| SGD | epoch: 100 | loss: 6608.24951 - R2: 0.4316 -- iter: 3936/3938\n",
      "Training Step: 12400  | total loss: \u001b[1m\u001b[32m6863.83496\u001b[0m\u001b[0m | time: 0.411s\n",
      "\u001b[2K\r",
      "| SGD | epoch: 100 | loss: 6863.83496 - R2: 0.4173 -- iter: 3938/3938\n",
      "--\n"
     ]
    }
   ],
   "source": [
    "#tflearn.init_graph(num_cores=8, gpu_memory_fraction=0.5)\n",
    "tf.reset_default_graph()\n",
    "tflearn.init_graph()\n",
    "\n",
    "net = tflearn.input_data(shape=[None, 300])\n",
    "net = tflearn.fully_connected(net, 64, activation=\"linear\", regularizer=\"L2\", weight_decay=0.0005)\n",
    "net = tflearn.dropout(net, 0.1)\n",
    "net = tflearn.fully_connected(net, 32)\n",
    "net = tflearn.fully_connected(net, 32)\n",
    "net = tflearn.fully_connected(net, 64, activation=\"linear\", regularizer=\"L1\", weight_decay=0.0005)\n",
    "\n",
    "net = tflearn.fully_connected(net, 1, activation='linear') #Your final, output layer must have the same dimensions as the y input\n",
    "\n",
    "net = tflearn.dropout(net, 0.5)\n",
    "#net = tflearn.regression(net, optimizer=\"adam\", learning_rate=0.01)\n",
    "net = tflearn.regression(net, optimizer=\"sgd\",loss=\"mean_square\", metric=\"R2\", learning_rate=0.001)\n",
    "#net = tflearn.regression(net, optimizer=tflearn.optimizers.AdaGrad(learning_rate=0.001, initial_accumulator_value=0.01),loss=\"mean_square\", metric=\"R2\", learning_rate=0.001)\n",
    "\n",
    "dnnmodel = tflearn.DNN(net)\n",
    "dnnmodel.fit(filtered_x_vect, filtered_y, batch_size = 32, n_epoch = 100, show_metric=True)"
   ]
  },
  {
   "cell_type": "code",
   "execution_count": 251,
   "metadata": {},
   "outputs": [
    {
     "data": {
      "text/plain": [
       "0.22371178971003489"
      ]
     },
     "execution_count": 251,
     "metadata": {},
     "output_type": "execute_result"
    }
   ],
   "source": [
    "rsquared([i[0] for i in dnnmodel.predict(filtered_x_vect)], [i[0] for i in filtered_y])"
   ]
  },
  {
   "cell_type": "code",
   "execution_count": 179,
   "metadata": {},
   "outputs": [
    {
     "name": "stdout",
     "output_type": "stream",
     "text": [
      "INFO:tensorflow:/home/andylane/menusights/menusights/linear_model.tf is not in all_model_checkpoint_paths. Manually adding it.\n"
     ]
    }
   ],
   "source": [
    "dnnmodel.save(\"linear_model.tf\")"
   ]
  },
  {
   "cell_type": "code",
   "execution_count": 248,
   "metadata": {},
   "outputs": [
    {
     "name": "stdout",
     "output_type": "stream",
     "text": [
      "Training Step: 6199  | total loss: \u001b[1m\u001b[32m3668.51514\u001b[0m\u001b[0m | time: 0.332s\n",
      "\u001b[2K\r",
      "| SGD | epoch: 050 | loss: 3668.51514 - R2: 0.7652 -- iter: 3936/3938\n",
      "Training Step: 6200  | total loss: \u001b[1m\u001b[32m3471.63135\u001b[0m\u001b[0m | time: 0.335s\n",
      "\u001b[2K\r",
      "| SGD | epoch: 050 | loss: 3471.63135 - R2: 0.8067 -- iter: 3938/3938\n",
      "--\n"
     ]
    }
   ],
   "source": [
    "#tflearn.init_graph(num_cores=8, gpu_memory_fraction=0.5)\n",
    "tf.reset_default_graph()\n",
    "\n",
    "tflearn.init_graph()\n",
    "\n",
    "net = tflearn.input_data(shape=[None, 300])\n",
    "net = tflearn.fully_connected(net, 64, activation=\"linear\", regularizer=\"L2\", weight_decay=0.0005)\n",
    "#net = tflearn.fully_connected(net, 64, activation=\"softmax\", regularizer=\"L1\", weight_decay=0.0005)\n",
    "net = tflearn.dropout(net, 0.5)\n",
    "net = tflearn.fully_connected(net, 1, activation='linear') #Your final, output layer must have the same dimensions as the y input\n",
    "net = tflearn.regression(net, optimizer=\"sgd\",loss=\"mean_square\", metric=\"R2\", learning_rate=0.01)\n",
    "\n",
    "dnnmodel = tflearn.DNN(net)\n",
    "dnnmodel.fit(filtered_x_vect, filtered_y, batch_size = 32, n_epoch = 50, show_metric=True)"
   ]
  },
  {
   "cell_type": "code",
   "execution_count": 249,
   "metadata": {},
   "outputs": [
    {
     "data": {
      "text/plain": [
       "0.26711130938753103"
      ]
     },
     "execution_count": 249,
     "metadata": {},
     "output_type": "execute_result"
    }
   ],
   "source": [
    "rsquared([i[0] for i in dnnmodel.predict(filtered_x_vect)], [i[0] for i in filtered_y])"
   ]
  },
  {
   "cell_type": "code",
   "execution_count": 202,
   "metadata": {},
   "outputs": [
    {
     "name": "stdout",
     "output_type": "stream",
     "text": [
      "INFO:tensorflow:/home/andylane/menusights/menusights/linear_model_08.tf is not in all_model_checkpoint_paths. Manually adding it.\n"
     ]
    }
   ],
   "source": [
    "dnnmodel.save(\"linear_model_08.tf\")"
   ]
  },
  {
   "cell_type": "code",
   "execution_count": 244,
   "metadata": {},
   "outputs": [
    {
     "name": "stdout",
     "output_type": "stream",
     "text": [
      "Training Step: 6199  | total loss: \u001b[1m\u001b[32m3721.29565\u001b[0m\u001b[0m | time: 0.606s\n",
      "\u001b[2K\r",
      "| SGD | epoch: 050 | loss: 3721.29565 - R2: 0.7820 -- iter: 3936/3938\n",
      "Training Step: 6200  | total loss: \u001b[1m\u001b[32m3721.29565\u001b[0m\u001b[0m | time: 0.609s\n",
      "\u001b[2K\r",
      "| SGD | epoch: 050 | loss: 3721.29565 - R2: 0.7820 -- iter: 3938/3938\n",
      "--\n"
     ]
    }
   ],
   "source": [
    "#tflearn.init_graph(num_cores=8, gpu_memory_fraction=0.5)\n",
    "tf.reset_default_graph()\n",
    "\n",
    "tflearn.init_graph()\n",
    "\n",
    "net = tflearn.input_data(shape=[None, 300])\n",
    "net = tflearn.fully_connected(net, 10, activation=\"linear\", regularizer=\"L1\", weight_decay=0.0005)\n",
    "#net = tflearn.fully_connected(net, 64, activation=\"softmax\", regularizer=\"L1\", weight_decay=0.0005)\n",
    "net = tflearn.dropout(net, 0.5)\n",
    "net = tflearn.fully_connected(net, 1, activation='linear') #Your final, output layer must have the same dimensions as the y input\n",
    "net = tflearn.regression(net, optimizer=\"sgd\",loss=\"mean_square\", metric=\"R2\", learning_rate=0.01)\n",
    "\n",
    "dnnmodel = tflearn.DNN(net)\n",
    "dnnmodel.fit(filtered_x_vect, filtered_y, batch_size = 32, n_epoch = 50, show_metric=True)"
   ]
  },
  {
   "cell_type": "code",
   "execution_count": 245,
   "metadata": {},
   "outputs": [
    {
     "data": {
      "text/plain": [
       "0.26652300504059528"
      ]
     },
     "execution_count": 245,
     "metadata": {},
     "output_type": "execute_result"
    }
   ],
   "source": [
    "rsquared([i[0] for i in dnnmodel.predict(filtered_x_vect)], [i[0] for i in filtered_y])"
   ]
  },
  {
   "cell_type": "code",
   "execution_count": 23,
   "metadata": {},
   "outputs": [
    {
     "name": "stdout",
     "output_type": "stream",
     "text": [
      "Training Step: 12399  | total loss: \u001b[1m\u001b[32m11657.25195\u001b[0m\u001b[0m | time: 0.420s\n",
      "\u001b[2K\r",
      "| SGD | epoch: 100 | loss: 11657.25195 - R2: 0.0258 -- iter: 3936/3938\n",
      "Training Step: 12400  | total loss: \u001b[1m\u001b[32m11104.76660\u001b[0m\u001b[0m | time: 0.425s\n",
      "\u001b[2K\r",
      "| SGD | epoch: 100 | loss: 11104.76660 - R2: 0.0268 -- iter: 3938/3938\n",
      "--\n"
     ]
    }
   ],
   "source": [
    "#tflearn.init_graph(num_cores=8, gpu_memory_fraction=0.5)\n",
    "tf.reset_default_graph()\n",
    "\n",
    "tflearn.init_graph()\n",
    "\n",
    "net = tflearn.input_data(shape=[None, 300])\n",
    "net = tflearn.fully_connected(net, 10, activation=\"linear\", regularizer=\"L1\", weight_decay=0.0005)\n",
    "net = tflearn.fully_connected(net, 10, activation=\"linear\", regularizer=\"L2\", weight_decay=0.0005)\n",
    "net = tflearn.dropout(net, 0.5)\n",
    "net = tflearn.fully_connected(net, 1, activation='linear') #Your final, output layer must have the same dimensions as the y input\n",
    "net = tflearn.regression(net, optimizer=\"sgd\",loss=\"mean_square\", metric=\"R2\", learning_rate=0.01)\n",
    "\n",
    "dnnmodel = tflearn.DNN(net)\n",
    "dnnmodel.fit(filtered_x_vect, filtered_y, batch_size = 32, n_epoch = 100, show_metric=True)"
   ]
  },
  {
   "cell_type": "code",
   "execution_count": 243,
   "metadata": {},
   "outputs": [
    {
     "data": {
      "text/plain": [
       "0.31486165628695023"
      ]
     },
     "execution_count": 243,
     "metadata": {},
     "output_type": "execute_result"
    }
   ],
   "source": [
    "rsquared([i[0] for i in dnnmodel.predict(filtered_x_vect)], [i[0] for i in filtered_y])"
   ]
  },
  {
   "cell_type": "code",
   "execution_count": 37,
   "metadata": {},
   "outputs": [
    {
     "name": "stdout",
     "output_type": "stream",
     "text": [
      "Training Step: 123999  | total loss: \u001b[1m\u001b[32m2195.90137\u001b[0m\u001b[0m | time: 0.675s\n",
      "\u001b[2K\r",
      "| Adam | epoch: 1000 | loss: 2195.90137 - R2: 0.9388 -- iter: 3936/3938\n",
      "Training Step: 124000  | total loss: \u001b[1m\u001b[32m2232.30273\u001b[0m\u001b[0m | time: 0.681s\n",
      "\u001b[2K\r",
      "| Adam | epoch: 1000 | loss: 2232.30273 - R2: 0.9037 -- iter: 3938/3938\n",
      "--\n"
     ]
    },
    {
     "data": {
      "text/plain": [
       "0.6237392085441702"
      ]
     },
     "execution_count": 37,
     "metadata": {},
     "output_type": "execute_result"
    }
   ],
   "source": [
    "#tflearn.init_graph(num_cores=8, gpu_memory_fraction=0.5)\n",
    "tf.reset_default_graph()\n",
    "\n",
    "tflearn.init_graph()\n",
    "\n",
    "net = tflearn.input_data(shape=[None, 300])\n",
    "net = tflearn.fully_connected(net, 10, activation=\"softmax\", regularizer=\"L1\", weight_decay=0.0005)\n",
    "net = tflearn.fully_connected(net, 10, activation=\"tanh\", regularizer=\"L2\", weight_decay=0.0005)\n",
    "net = tflearn.dropout(net, 0.5)\n",
    "net = tflearn.fully_connected(net, 10, activation=\"relu\", regularizer=\"L1\", weight_decay=0.0005)\n",
    "net = tflearn.dropout(net, 0.5)\n",
    "net = tflearn.fully_connected(net, 10, activation=\"relu\", regularizer=\"L1\", weight_decay=0.0005)\n",
    "net = tflearn.fully_connected(net, 1, activation='linear') #Your final, output layer must have the same dimensions as the y input\n",
    "net = tflearn.regression(net, optimizer=\"adam\",loss=\"mean_square\", metric=\"R2\", learning_rate=0.001)\n",
    "\n",
    "dnnmodel = tflearn.DNN(net, tensorboard_verbose=3, tensorboard_dir=\"graph\")\n",
    "dnnmodel.fit(filtered_x_vect, filtered_y, batch_size = 32, n_epoch = 1000, show_metric=True)\n",
    "rsquared([i[0] for i in dnnmodel.predict(filtered_x_vect)], [i[0] for i in filtered_y])"
   ]
  },
  {
   "cell_type": "code",
   "execution_count": 40,
   "metadata": {},
   "outputs": [
    {
     "name": "stdout",
     "output_type": "stream",
     "text": [
      "Training Step: 247999  | total loss: \u001b[1m\u001b[32m1671.23584\u001b[0m\u001b[0m | time: 0.594s\n",
      "\u001b[2K\r",
      "| Adam | epoch: 2000 | loss: 1671.23584 - R2: 0.8751 -- iter: 3936/3938\n",
      "Training Step: 248000  | total loss: \u001b[1m\u001b[32m1518.20239\u001b[0m\u001b[0m | time: 0.599s\n",
      "\u001b[2K\r",
      "| Adam | epoch: 2000 | loss: 1518.20239 - R2: 0.8941 -- iter: 3938/3938\n",
      "--\n"
     ]
    }
   ],
   "source": [
    "# More training\n",
    "dnnmodel.fit(filtered_x_vect, filtered_y, batch_size = 32, n_epoch = 1000, show_metric=True)"
   ]
  },
  {
   "cell_type": "code",
   "execution_count": 41,
   "metadata": {},
   "outputs": [
    {
     "data": {
      "text/plain": [
       "0.67182523166785491"
      ]
     },
     "execution_count": 41,
     "metadata": {},
     "output_type": "execute_result"
    }
   ],
   "source": [
    "rsquared([i[0] for i in dnnmodel.predict(filtered_x_vect)], [i[0] for i in filtered_y])"
   ]
  },
  {
   "cell_type": "code",
   "execution_count": 16,
   "metadata": {},
   "outputs": [
    {
     "data": {
      "text/plain": [
       "0.3555411622618414"
      ]
     },
     "execution_count": 16,
     "metadata": {},
     "output_type": "execute_result"
    }
   ],
   "source": [
    "# for best all relu and linear\n",
    "rsquared([i[0] for i in dnnmodel.predict(filtered_x_vect)], [i[0] for i in filtered_y])"
   ]
  },
  {
   "cell_type": "code",
   "execution_count": 43,
   "metadata": {},
   "outputs": [
    {
     "data": {
      "text/plain": [
       "[(array([ 35.10609818], dtype=float32), array([36])),\n",
       " (array([ 34.24204636], dtype=float32), array([13])),\n",
       " (array([ 38.24633408], dtype=float32), array([59])),\n",
       " (array([ 118.52932739], dtype=float32), array([193])),\n",
       " (array([ 47.22659683], dtype=float32), array([0])),\n",
       " (array([ 33.21518707], dtype=float32), array([40])),\n",
       " (array([ 177.88861084], dtype=float32), array([394])),\n",
       " (array([ 79.42707825], dtype=float32), array([159])),\n",
       " (array([ 89.48239899], dtype=float32), array([69])),\n",
       " (array([ 65.68340302], dtype=float32), array([38]))]"
      ]
     },
     "execution_count": 43,
     "metadata": {},
     "output_type": "execute_result"
    }
   ],
   "source": [
    "#sgd 10 layers with relu\n",
    "list(zip(dnnmodel.predict(filtered_x_vect[50:60]), filtered_y[50:60]))"
   ]
  },
  {
   "cell_type": "code",
   "execution_count": 17,
   "metadata": {},
   "outputs": [
    {
     "data": {
      "text/plain": [
       "[(array([ 49.70022583], dtype=float32), array([36])),\n",
       " (array([ 49.6131134], dtype=float32), array([13])),\n",
       " (array([ 56.98905563], dtype=float32), array([59])),\n",
       " (array([ 173.17416382], dtype=float32), array([193])),\n",
       " (array([ 51.9260025], dtype=float32), array([0])),\n",
       " (array([ 64.88386536], dtype=float32), array([40])),\n",
       " (array([ 47.79671097], dtype=float32), array([394])),\n",
       " (array([ 128.43122864], dtype=float32), array([159])),\n",
       " (array([ 96.40604401], dtype=float32), array([69])),\n",
       " (array([ 56.64452744], dtype=float32), array([38]))]"
      ]
     },
     "execution_count": 17,
     "metadata": {},
     "output_type": "execute_result"
    }
   ],
   "source": [
    "#sgd\n",
    "list(zip(dnnmodel.predict(filtered_x_vect[50:60]), filtered_y[50:60]))"
   ]
  },
  {
   "cell_type": "code",
   "execution_count": 44,
   "metadata": {},
   "outputs": [
    {
     "data": {
      "text/plain": [
       "0.67182523166785491"
      ]
     },
     "execution_count": 44,
     "metadata": {},
     "output_type": "execute_result"
    }
   ],
   "source": [
    "rsquared([i[0] for i in dnnmodel.predict(filtered_x_vect)], [i[0] for i in filtered_y])"
   ]
  },
  {
   "cell_type": "code",
   "execution_count": 42,
   "metadata": {},
   "outputs": [
    {
     "data": {
      "image/png": "[encoded data removed]",
      "text/plain": [
       "<matplotlib.figure.Figure at 0x7fa416dd17f0>"
      ]
     },
     "metadata": {},
     "output_type": "display_data"
    }
   ],
   "source": [
    "import matplotlib.pyplot as plt\n",
    "plt.plot([i[0] for i in dnnmodel.predict(filtered_x_vect)], filtered_y, 'r.')\n",
    "plt.ylabel('predicted')\n",
    "plt.show()"
   ]
  },
  {
   "cell_type": "code",
   "execution_count": 46,
   "metadata": {},
   "outputs": [
    {
     "data": {
      "text/plain": [
       "['Outback Sirloin, 9 Oz SIGNATURE STEAKS - Outback Special 9 oz',\n",
       " 'Outback Sirloin, 6 Oz SIGNATURE STEAKS - Outback Special 6 oz',\n",
       " 'Outback Flat Iron ',\n",
       " 'Outback Calzone Calzones - Outback Calzone',\n",
       " 'Outback Sirloin, 12 Oz SIGNATURE STEAKS - Outback Special 12 oz',\n",
       " 'Outback Pizza, Personal Baked Personal Pizzas - outback',\n",
       " 'Outback Pizza, Medium MEDIUM PIZZAS - outback',\n",
       " 'Outback Pizza, Large LARGE PIZZAS - outback',\n",
       " 'House Salad FRESHLY MADE SIDES - House Salad',\n",
       " 'Sesame Salad ',\n",
       " 'Outback Pizza, Family FAMILY PIZZAS - outback',\n",
       " 'The Outbacker Burger Without Cheese BURGERS & SANDWICHES - The Outbacker Burger',\n",
       " \"Bloomin' Onion AUSSIE-TIZERS TO SHARE - Bloomin' Onion&reg;\",\n",
       " 'Firecracker Salmon ',\n",
       " 'Pork Porterhouse ',\n",
       " 'Double Burger BURGERS & SANDWICHES - Double Burger',\n",
       " 'Ribeye Melt ',\n",
       " 'Aussie Fries FRESHLY MADE SIDES - Aussie Fries',\n",
       " 'Caesar Salad FRESHLY MADE SIDES - Caesar Salad',\n",
       " 'Garlic Mashed Potatoes FRESHLY MADE SIDES - Garlic Mashed Potatoes',\n",
       " \"The Bloomin' Burger \",\n",
       " 'Tomato Mozzarella Caprese ',\n",
       " 'Chicken Tender Platter ',\n",
       " 'Bloom Petals ',\n",
       " 'Broccoli & Cheese ',\n",
       " 'Wings AUSSIE-TIZERS TO SHARE - Wings',\n",
       " 'Alice Springs Chicken OUTBACK FAVORITES - Alice Springs Chicken&reg;',\n",
       " 'Teriyaki Steak Medallions SPECIALTY CUTS & COMBOS - Teriyaki Filet Medallions',\n",
       " 'French Onion Soup ',\n",
       " 'Aussie Chicken Tacos ',\n",
       " 'Blue Cheese Crumbles Add On Mates - Blue Cheese Crumb Topping',\n",
       " 'Crab & Avocado Stack AUSSIE-TIZERS TO SHARE - Crab & Avocado Stack - Aussi-tizers&reg; to Share',\n",
       " 'New Zealand Lamb OUTBACK FAVORITES - New Zealand Rack Of Lamb',\n",
       " 'Bloom Petals Topping ',\n",
       " 'Aussie Steak Tacos ',\n",
       " 'Loaded Mashed Potatoes ',\n",
       " 'Aussie Fish Tacos ',\n",
       " 'Steakhouse Mac & Cheese ',\n",
       " 'Great Barrier Trio Aussietizers - Crab Stack',\n",
       " 'Baby Back Ribs Outback Favorites - Baby Back Ribs Full Order',\n",
       " 'Aussie Cheese Fries, Small AUSSIE-TIZERS TO SHARE - Aussie Cheese Fries Small',\n",
       " \"Victoria's Filet Mignon, 6 Oz SIGNATURE STEAKS - Victoria's Filet 6 oz\",\n",
       " 'Chocolate Thunder From Down Under IRRESISTIBLE DESSERTS - Chocolate Thunder From Down Under',\n",
       " 'Crispy Chicken Sandwich BURGERS & SANDWICHES - Crispy Chicken Sandwich',\n",
       " 'Outback Sirloin, 9 Oz SIGNATURE STEAKS - Outback Special 9 oz',\n",
       " 'Outback Sirloin, 6 Oz SIGNATURE STEAKS - Outback Special 6 oz',\n",
       " 'Outback Flat Iron ',\n",
       " 'Outback Calzone Calzones - Outback Calzone',\n",
       " 'Outback Sirloin, 12 Oz SIGNATURE STEAKS - Outback Special 12 oz',\n",
       " 'Outback Pizza, Personal Baked Personal Pizzas - outback',\n",
       " 'Outback Pizza, Medium MEDIUM PIZZAS - outback',\n",
       " 'Outback Pizza, Large LARGE PIZZAS - outback',\n",
       " 'House Salad FRESHLY MADE SIDES - House Salad',\n",
       " 'Sesame Salad ',\n",
       " 'Outback Pizza, Family FAMILY PIZZAS - outback',\n",
       " 'The Outbacker Burger Without Cheese BURGERS & SANDWICHES - The Outbacker Burger',\n",
       " \"Bloomin' Onion AUSSIE-TIZERS TO SHARE - Bloomin' Onion&reg;\",\n",
       " 'Firecracker Salmon ',\n",
       " 'Pork Porterhouse ',\n",
       " 'Double Burger BURGERS & SANDWICHES - Double Burger',\n",
       " 'Aussie Fries FRESHLY MADE SIDES - Aussie Fries',\n",
       " 'Caesar Salad FRESHLY MADE SIDES - Caesar Salad',\n",
       " 'Ribeye Melt ',\n",
       " 'Garlic Mashed Potatoes FRESHLY MADE SIDES - Garlic Mashed Potatoes',\n",
       " \"The Bloomin' Burger \",\n",
       " 'Tomato Mozzarella Caprese ',\n",
       " 'Chicken Tender Platter ',\n",
       " 'Alice Springs Chicken OUTBACK FAVORITES - Alice Springs Chicken&reg;',\n",
       " 'Teriyaki Steak Medallions SPECIALTY CUTS & COMBOS - Teriyaki Filet Medallions',\n",
       " 'French Onion Soup ',\n",
       " 'Aussie Chicken Tacos ',\n",
       " 'Bloom Petals ',\n",
       " 'Broccoli & Cheese ',\n",
       " 'Wings AUSSIE-TIZERS TO SHARE - Wings',\n",
       " 'Blue Cheese Crumbles Add On Mates - Blue Cheese Crumb Topping',\n",
       " 'Crab & Avocado Stack AUSSIE-TIZERS TO SHARE - Crab & Avocado Stack - Aussi-tizers&reg; to Share',\n",
       " 'New Zealand Lamb OUTBACK FAVORITES - New Zealand Rack Of Lamb',\n",
       " 'Bloom Petals Topping ',\n",
       " 'Aussie Steak Tacos ',\n",
       " 'Great Barrier Trio Aussietizers - Crab Stack',\n",
       " 'Baby Back Ribs Outback Favorites - Baby Back Ribs Full Order',\n",
       " 'Loaded Mashed Potatoes ',\n",
       " 'Aussie Fish Tacos ',\n",
       " 'Steakhouse Mac & Cheese ',\n",
       " 'Aussie Cheese Fries, Small AUSSIE-TIZERS TO SHARE - Aussie Cheese Fries Small',\n",
       " \"Victoria's Filet Mignon, 6 Oz SIGNATURE STEAKS - Victoria's Filet 6 oz\",\n",
       " 'Chocolate Thunder From Down Under IRRESISTIBLE DESSERTS - Chocolate Thunder From Down Under',\n",
       " 'Grilled Shrimp Add-On Add On Mates - 4 Grilled Shrimp',\n",
       " 'Outback Sirloin, 9 Oz SIGNATURE STEAKS - Outback Special 9 oz',\n",
       " 'Outback Sirloin, 6 Oz SIGNATURE STEAKS - Outback Special 6 oz',\n",
       " 'Outback Flat Iron ',\n",
       " 'Outback Calzone Calzones - Outback Calzone',\n",
       " 'Outback Sirloin, 12 Oz SIGNATURE STEAKS - Outback Special 12 oz',\n",
       " 'Outback Pizza, Personal Baked Personal Pizzas - outback',\n",
       " 'Outback Pizza, Medium MEDIUM PIZZAS - outback',\n",
       " 'Outback Pizza, Large LARGE PIZZAS - outback',\n",
       " 'Outback Pizza, Family FAMILY PIZZAS - outback',\n",
       " 'House Salad FRESHLY MADE SIDES - House Salad',\n",
       " 'Sesame Salad ',\n",
       " 'The Outbacker Burger Without Cheese BURGERS & SANDWICHES - The Outbacker Burger',\n",
       " \"Bloomin' Onion AUSSIE-TIZERS TO SHARE - Bloomin' Onion&reg;\",\n",
       " 'Firecracker Salmon ',\n",
       " 'Pork Porterhouse ',\n",
       " 'Ribeye Melt ',\n",
       " 'Aussie Fries FRESHLY MADE SIDES - Aussie Fries',\n",
       " 'Caesar Salad FRESHLY MADE SIDES - Caesar Salad',\n",
       " 'Double Burger BURGERS & SANDWICHES - Double Burger',\n",
       " 'Garlic Mashed Potatoes FRESHLY MADE SIDES - Garlic Mashed Potatoes',\n",
       " \"The Bloomin' Burger \",\n",
       " 'Tomato Mozzarella Caprese ',\n",
       " 'Chicken Tender Platter ',\n",
       " 'Bloom Petals ',\n",
       " 'Broccoli & Cheese ',\n",
       " 'Wings AUSSIE-TIZERS TO SHARE - Wings',\n",
       " 'Alice Springs Chicken OUTBACK FAVORITES - Alice Springs Chicken&reg;',\n",
       " 'Teriyaki Steak Medallions SPECIALTY CUTS & COMBOS - Teriyaki Filet Medallions',\n",
       " 'French Onion Soup ',\n",
       " 'Aussie Chicken Tacos ',\n",
       " 'Loaded Mashed Potatoes ',\n",
       " 'Aussie Fish Tacos ',\n",
       " 'Steakhouse Mac & Cheese ',\n",
       " 'Great Barrier Trio Aussietizers - Crab Stack',\n",
       " 'Baby Back Ribs Outback Favorites - Baby Back Ribs Full Order',\n",
       " 'Blue Cheese Crumbles Add On Mates - Blue Cheese Crumb Topping',\n",
       " 'Crab & Avocado Stack AUSSIE-TIZERS TO SHARE - Crab & Avocado Stack - Aussi-tizers&reg; to Share',\n",
       " 'New Zealand Lamb OUTBACK FAVORITES - New Zealand Rack Of Lamb',\n",
       " 'Bloom Petals Topping ',\n",
       " 'Aussie Steak Tacos ',\n",
       " 'Aussie Cheese Fries, Small AUSSIE-TIZERS TO SHARE - Aussie Cheese Fries Small',\n",
       " \"Victoria's Filet Mignon, 6 Oz SIGNATURE STEAKS - Victoria's Filet 6 oz\",\n",
       " 'Chocolate Thunder From Down Under IRRESISTIBLE DESSERTS - Chocolate Thunder From Down Under',\n",
       " 'Crispy Chicken Sandwich BURGERS & SANDWICHES - Crispy Chicken Sandwich',\n",
       " 'Chocolate Mini Milkshake MINI MILKSHAKES - Chocolate Mini Milkshake',\n",
       " 'Outback Sirloin, 9 Oz SIGNATURE STEAKS - Outback Special 9 oz',\n",
       " 'Outback Sirloin, 6 Oz SIGNATURE STEAKS - Outback Special 6 oz',\n",
       " 'Outback Flat Iron ',\n",
       " 'Outback Calzone Calzones - Outback Calzone',\n",
       " 'Outback Sirloin, 12 Oz SIGNATURE STEAKS - Outback Special 12 oz',\n",
       " 'Outback Pizza, Personal Baked Personal Pizzas - outback',\n",
       " 'Outback Pizza, Medium MEDIUM PIZZAS - outback',\n",
       " 'Outback Pizza, Large LARGE PIZZAS - outback',\n",
       " 'House Salad FRESHLY MADE SIDES - House Salad',\n",
       " 'Sesame Salad ',\n",
       " 'Outback Pizza, Family FAMILY PIZZAS - outback',\n",
       " 'The Outbacker Burger Without Cheese BURGERS & SANDWICHES - The Outbacker Burger',\n",
       " \"Bloomin' Onion AUSSIE-TIZERS TO SHARE - Bloomin' Onion&reg;\",\n",
       " 'Firecracker Salmon ',\n",
       " 'Pork Porterhouse ',\n",
       " 'Ribeye Melt ',\n",
       " 'Aussie Fries FRESHLY MADE SIDES - Aussie Fries',\n",
       " 'Caesar Salad FRESHLY MADE SIDES - Caesar Salad',\n",
       " 'Double Burger BURGERS & SANDWICHES - Double Burger',\n",
       " 'Garlic Mashed Potatoes FRESHLY MADE SIDES - Garlic Mashed Potatoes',\n",
       " \"The Bloomin' Burger \",\n",
       " 'Tomato Mozzarella Caprese ',\n",
       " 'Chicken Tender Platter ',\n",
       " 'Wings AUSSIE-TIZERS TO SHARE - Wings',\n",
       " 'Bloom Petals ',\n",
       " 'Broccoli & Cheese ',\n",
       " 'Alice Springs Chicken OUTBACK FAVORITES - Alice Springs Chicken&reg;',\n",
       " 'Teriyaki Steak Medallions SPECIALTY CUTS & COMBOS - Teriyaki Filet Medallions',\n",
       " 'French Onion Soup ',\n",
       " 'Aussie Chicken Tacos ',\n",
       " 'Loaded Mashed Potatoes ',\n",
       " 'Aussie Fish Tacos ',\n",
       " 'Steakhouse Mac & Cheese ',\n",
       " 'Great Barrier Trio Aussietizers - Crab Stack',\n",
       " 'Baby Back Ribs Outback Favorites - Baby Back Ribs Full Order',\n",
       " 'Blue Cheese Crumbles Add On Mates - Blue Cheese Crumb Topping',\n",
       " 'Crab & Avocado Stack AUSSIE-TIZERS TO SHARE - Crab & Avocado Stack - Aussi-tizers&reg; to Share',\n",
       " 'New Zealand Lamb OUTBACK FAVORITES - New Zealand Rack Of Lamb',\n",
       " 'Bloom Petals Topping ',\n",
       " 'Aussie Steak Tacos ',\n",
       " 'Lasagna Classico ',\n",
       " 'Hot Chocolate ',\n",
       " 'Tuscan Sirloin ',\n",
       " 'Fried Mozzarella ',\n",
       " 'Chocolate Sauce ',\n",
       " 'Fettuccine Alfredo ',\n",
       " 'Chicken Marsala ',\n",
       " 'Eggplant Parmigiana ',\n",
       " 'Shrimp Alfredo ',\n",
       " 'Lavazza Espresso ',\n",
       " 'Caffe Latte ',\n",
       " 'Caffe Mocha ',\n",
       " 'Tiramisu ',\n",
       " 'Chicken Parmigiana ',\n",
       " 'Chicken Scampi ',\n",
       " 'Stuffed Mushrooms ',\n",
       " 'Lobster Ravioli ',\n",
       " 'Vodka Pasta Sauce None',\n",
       " 'Pasta Sauce, Low Fat, Vodka Low Fat, Vodka',\n",
       " 'Pasta None',\n",
       " 'Pasta None',\n",
       " 'Pasta None',\n",
       " 'Pasta None',\n",
       " 'Classic Benedict Signature Eggsbenedict - Classic Benedict',\n",
       " 'Smoked Salmon Benedict Signature Eggsbenedict - Smoked Salmon Benedict',\n",
       " 'Bagel Benedict Signature Eggsbenedict - Bagel Benedict',\n",
       " 'Chicken Benedict Signature Eggsbenedict - Chicken Benedict',\n",
       " 'Eggs Benedict Breakfast Menu - Daybreak Traditionals - Eggs Benedict',\n",
       " 'Florentine Benedict Signature Eggsbenedict - Florentine Benedict',\n",
       " 'Chesapeake Benedict Signature Eggsbenedict - Chesapeake Benedict',\n",
       " 'Eggs Benedict Breakfast - Eggs Benedict',\n",
       " 'Eggs Benedict Egg Combos - Eggs Benedict',\n",
       " 'Eggs Benedict Gourmet Francais - Eggs Benedict* 1 svg',\n",
       " 'Eggs Benedict Breakfast - Farm Fresh Eggs, Etc. - Eggs Benedict',\n",
       " 'Yogurt ',\n",
       " 'Eggs Breakfast Sides - Eggs (each) 2 oz = 1 egg',\n",
       " \"Denny's Grand Slam - 1 breakfast None\",\n",
       " 'Chocolate Milk 16 oz Chocolate Milk',\n",
       " 'Clam Chowder, Bowl Soups, Salads & Sides - Clam Chowder (bowl)',\n",
       " 'Original Grand Slam Slams - Original Grand Slam',\n",
       " 'Milk Shakes, Strawberry ',\n",
       " 'Grilled Ham Slice ',\n",
       " 'Fit Slam Slams - Fit Slam',\n",
       " 'Ultimate Skillet Skillets - Ultimate Skillet',\n",
       " 'Sausage Links Breakfast Sides - Sausage Links (4)',\n",
       " 'Side Caesar Salad ',\n",
       " 'French Toast Slam Slams - French Toast Slam',\n",
       " 'Golden-Fried Shrimp Dinner Sides - Golden-Fried Shrimp',\n",
       " 'Brooklyn Spaghetti & Meatballs Dinner - Brooklyn Spaghetti & Meatballs',\n",
       " 'Clam Chowder, Cup Soups, Salads & Sides - Clam Chowder (cup)',\n",
       " 'Iced Cappuccino ',\n",
       " 'Milk Shakes, Oreo ',\n",
       " 'Fit Fare Tilapia Ranchero Dinner - Fit Fare Tilapia Ranchero',\n",
       " 'Avocado Chicken Caesar Salad Soups, Salads & Sides - Avocado Chicken Caesar Salad w/ dressing & bread',\n",
       " 'Broccoli & Cheddar Soup, Cup Soups, Salads & Sides - Broccoli & Cheddar Soup (cup)',\n",
       " 'Vegetable Beef Soup, Bowl Soups, Salads & Sides - Vegetable Beef Soup (bowl)',\n",
       " 'Slamburger (add side choice) ',\n",
       " 'Make it a Combo, Ancho Salmon ',\n",
       " 'Make it a Combo, Half Rack of Craft Beer BBQ Ribs ',\n",
       " 'Bone-In Wings, Smoked ',\n",
       " 'Triple Dipper Crispy Cheddar Bites ',\n",
       " 'Fresco Salad ',\n",
       " 'Crispy Cheddar Bites ',\n",
       " 'Spiced Panko Onion Rings ',\n",
       " 'Fresh Mex Pairing Chicken Enchilada Soup, Cup ',\n",
       " 'Skillet Toffee Fudge Brownie ',\n",
       " 'Lunch Combo Top Shelf Ranchero Chicken Tacos ',\n",
       " 'Boneless Buffalo Chicken Salad SALADS - Boneless Buffalo Chicken Salad',\n",
       " 'Caribbean Salad with Seared Shrimp SALADS - Caribbean Salad w/ Grilled Shrimp',\n",
       " 'Swiss Cheese EXTRAS - Cheese, Swiss',\n",
       " 'Sour Cream EXTRAS - Sour Cream',\n",
       " 'California Grilled Chicken Flatbread FLATBREADS - Full Size - California Grilled Chicken',\n",
       " 'Margherita Flatbread FLATBREADS - Full Size - Margherita',\n",
       " 'Thousand Island Dressing, Lunch Combo portion EXTRAS - Dressing, Thousand Island',\n",
       " 'Texas Cheese Fries, Full Order APPETIZERS - Texas Cheese Fries - Full Order',\n",
       " 'Fresh Mex Pairing Chicken Taco FRESH MEX - Tacos - Chicken Soft Taco (1 each)',\n",
       " 'Kids Corn Dog KIDS - Corn Dog',\n",
       " 'Kids Pepperoni Pizza KIDS - Pizza - Pepperoni - 6 \"',\n",
       " 'Dr. Pepper BBQ Ribs, Half Rack BABY BACK RIBS - Original Ribs - Half Rack',\n",
       " 'Lunch Combo Smoked Chicken Quesadilla LUNCH COMBOS (listed without soup or salad) - Southwestern BLT Toasted Sandwich',\n",
       " 'Lunch Combo Chipotle Chicken Bowl with Rice LUNCH COMBOS (listed without soup or salad) - Fresh Mex Chipotle Chicken Bowl',\n",
       " 'Kids Side Salad without Dressing KIDS - Side Salad w/ Low-Fat Ranch',\n",
       " 'Triple Dipper Big Mouth Bites TRIPLE DIPPER - TD? Big Mouth&reg; Bites',\n",
       " 'Beef Enchiladas FRESH MEX - Enchiladas - Beef Enchilada Platter',\n",
       " 'Chicken Enchiladas with Sour Cream Sauce FRESH MEX - Enchiladas - Sour Cream Chicken Enchilada Platter',\n",
       " 'Kids Cheese Quesadilla KIDS - Cheese Quesadilla',\n",
       " 'Kids Crispy Chicken Crispers KIDS - Crispy Chicken Crispers',\n",
       " 'Lunch Combo Bacon Avocado Chicken Sandwich LUNCH COMBOS (listed without soup or salad) - Bacon Avocado Chicken Sandwich Combo',\n",
       " 'Fajita Toppings MIX & MATCH FAJITAS - Choice of Tortillas & Toppings - Fajita Toppings',\n",
       " 'Fresh Mex Pairing Enchilada Chicken Sour Cream FRESH MEX - Enchiladas - Sour Cream Chicken Enchilada (1 each)',\n",
       " 'Kids 2% Chocolate Milk BEVERAGES - Kids - Chocolate Milk',\n",
       " 'Vodka Pasta Sauce None',\n",
       " 'Pasta Sauce, Low Fat, Vodka Low Fat, Vodka',\n",
       " 'Pasta None',\n",
       " 'Pasta None',\n",
       " 'Pasta None',\n",
       " 'Pasta None',\n",
       " 'Waffle Benedict Signature Eggsbenedict - Waffle Benedict',\n",
       " 'Benedictine Spread None',\n",
       " 'Benedictine Spread None',\n",
       " 'Eggs Benedict Breakfast Specialties - Eggs Benedict',\n",
       " 'Burgundy Sauce, Gourmet Gourmet',\n",
       " 'Bearnaise Sauce, Gourmet Gourmet',\n",
       " 'Harvest Benedict BENEDICTS - Harvest Benedict',\n",
       " 'Eggs Benedict BRUNCH - Eggs Benny',\n",
       " 'Eggs Benedict Breakfast Menu - Daybreak Traditionals - Eggs Benedict',\n",
       " 'Classic Benedict Signature Eggsbenedict - Classic Benedict',\n",
       " 'Smoked Salmon Benedict Signature Eggsbenedict - Smoked Salmon Benedict',\n",
       " 'Bagel Benedict Signature Eggsbenedict - Bagel Benedict',\n",
       " 'Chicken Benedict Signature Eggsbenedict - Chicken Benedict',\n",
       " 'Yogurt ',\n",
       " 'Eggs Breakfast Sides - Eggs (each) 2 oz = 1 egg',\n",
       " \"Denny's Grand Slam - 1 breakfast None\",\n",
       " 'Grilled Ham Slice ',\n",
       " 'Fit Slam Slams - Fit Slam',\n",
       " 'Ultimate Skillet Skillets - Ultimate Skillet',\n",
       " 'Sausage Links Breakfast Sides - Sausage Links (4)',\n",
       " 'Clam Chowder, Bowl Soups, Salads & Sides - Clam Chowder (bowl)',\n",
       " 'Original Grand Slam Slams - Original Grand Slam',\n",
       " 'Chocolate Milk 16 oz Chocolate Milk',\n",
       " 'Milk Shakes, Strawberry ',\n",
       " 'Hearty Breakfast Skillet ',\n",
       " '2% Milk 16 oz Milk',\n",
       " 'Mashed Potatoes Dinner Sides - Mashed Potatoes',\n",
       " 'Bacon Strips, 2 slices ',\n",
       " 'Caesar Dressing, 1.5 oz Condiments - Caesar Dressing',\n",
       " 'Caramel Apple Pie Crisp Desserts - Caramel Apple Crisp',\n",
       " 'Chicken Noodle Soup, Cup Soups, Salads & Sides - Chicken Noodle Soup (cup)',\n",
       " 'Caesar Dressing, 3 oz ',\n",
       " 'Fit Fare Tilapia Ranchero Dinner - Fit Fare Tilapia Ranchero',\n",
       " 'Avocado Chicken Caesar Salad Soups, Salads & Sides - Avocado Chicken Caesar Salad w/ dressing & bread',\n",
       " 'Broccoli & Cheddar Soup, Cup Soups, Salads & Sides - Broccoli & Cheddar Soup (cup)',\n",
       " 'Vegetable Beef Soup, Bowl Soups, Salads & Sides - Vegetable Beef Soup (bowl)',\n",
       " 'Slamburger (add side choice) ']"
      ]
     },
     "execution_count": 46,
     "metadata": {},
     "output_type": "execute_result"
    }
   ],
   "source": [
    "ground_truth_X"
   ]
  },
  {
   "cell_type": "code",
   "execution_count": 50,
   "metadata": {
    "collapsed": false
   },
   "outputs": [],
   "source": [
    "# Remove words that are not in the Google News model\n",
    "# TODO: Also remove stopwords - not necessary to average e.g. \"in\"\n",
    "filtered_x = []\n",
    "filtered_y = []\n",
    "for index, recipe in enumerate(ground_truth_X):\n",
    "    recipe_words = recipe.split()\n",
    "    recipe_words = list(filter(lambda x: x in model.vocab, recipe_words))\n",
    "    if len(recipe_words) > 0: #don't add empty lists - the LinReg can't fit NaNs\n",
    "        filtered_x.append(recipe_words)\n",
    "        filtered_y.append(ground_truth_y[index]) # to keep y_ same index\n",
    "    else:\n",
    "        None"
   ]
  },
  {
   "cell_type": "code",
   "execution_count": 51,
   "metadata": {
    "collapsed": false
   },
   "outputs": [],
   "source": [
    "# Apply the input preprocessor across the filtered list of recipes\n",
    "filtered_x_vect = []\n",
    "for index, i in enumerate(filtered_x):\n",
    "    filtered_x_vect.append(input_preprocessor(i, model))\n",
    "filtered_x_vect = np.array(filtered_x_vect)"
   ]
  },
  {
   "cell_type": "code",
   "execution_count": 52,
   "metadata": {},
   "outputs": [],
   "source": [
    "filtered_y = np.array([filtered_y]).transpose()"
   ]
  },
  {
   "cell_type": "code",
   "execution_count": 9,
   "metadata": {},
   "outputs": [],
   "source": [
    "#filtered_y = np.array(filtered_y)"
   ]
  },
  {
   "cell_type": "code",
   "execution_count": 53,
   "metadata": {},
   "outputs": [
    {
     "name": "stdout",
     "output_type": "stream",
     "text": [
      "(307, 300)\n",
      "(307, 1)\n"
     ]
    }
   ],
   "source": [
    "print(filtered_x_vect.shape)\n",
    "print(filtered_y.shape)"
   ]
  },
  {
   "cell_type": "code",
   "execution_count": 153,
   "metadata": {},
   "outputs": [
    {
     "data": {
      "image/png": "[encoded data removed]",
      "text/plain": [
       "<matplotlib.figure.Figure at 0x7fa3b2ac26a0>"
      ]
     },
     "metadata": {},
     "output_type": "display_data"
    }
   ],
   "source": [
    "import matplotlib.pyplot as plt\n",
    "plt.plot([i[0] for i in dnnmodel.predict(filtered_x_vect)], filtered_y, 'r.')\n",
    "plt.ylabel('predicted')\n",
    "plt.xlabel('actual')\n",
    "plt.show()"
   ]
  },
  {
   "cell_type": "code",
   "execution_count": 55,
   "metadata": {},
   "outputs": [
    {
     "data": {
      "text/plain": [
       "0.11763143463865514"
      ]
     },
     "execution_count": 55,
     "metadata": {},
     "output_type": "execute_result"
    }
   ],
   "source": [
    "rsquared([i[0] for i in dnnmodel.predict(filtered_x_vect)], [i[0] for i in filtered_y])"
   ]
  },
  {
   "cell_type": "code",
   "execution_count": null,
   "metadata": {},
   "outputs": [],
   "source": []
  },
  {
   "cell_type": "markdown",
   "metadata": {},
   "source": [
    "## **Comparison to a simple linear regression**"
   ]
  },
  {
   "cell_type": "code",
   "execution_count": 66,
   "metadata": {
    "collapsed": false
   },
   "outputs": [],
   "source": [
    "import sklearn\n",
    "from sklearn import linear_model\n",
    "from sklearn.feature_extraction.text import CountVectorizer\n",
    "import numpy as np"
   ]
  },
  {
   "cell_type": "code",
   "execution_count": 134,
   "metadata": {},
   "outputs": [],
   "source": [
    "linregX = pkl.load(open(\"tf_data/training_data_names.pkl\", \"rb\"))\n",
    "linregy = pkl.load(open(\"tf_data/training_labels_num.pkl\", \"rb\"))"
   ]
  },
  {
   "cell_type": "code",
   "execution_count": 156,
   "metadata": {},
   "outputs": [
    {
     "data": {
      "text/plain": [
       "BayesianRidge(alpha_1=1e-06, alpha_2=1e-06, compute_score=False, copy_X=True,\n",
       "       fit_intercept=True, lambda_1=1e-06, lambda_2=1e-06, n_iter=300,\n",
       "       normalize=False, tol=0.001, verbose=False)"
      ]
     },
     "execution_count": 156,
     "metadata": {},
     "output_type": "execute_result"
    }
   ],
   "source": [
    "# One-hot encode vocab\n",
    "vectorizer = CountVectorizer(linregX, ngram_range=(1,2))\n",
    "lrX = vectorizer.fit_transform(linregX)\n",
    "# Fit a model\n",
    "linreg = linear_model.BayesianRidge()\n",
    "linreg.fit(X=lrX.toarray(), y=y)"
   ]
  },
  {
   "cell_type": "code",
   "execution_count": 157,
   "metadata": {},
   "outputs": [
    {
     "data": {
      "text/plain": [
       "0.72422744210735945"
      ]
     },
     "execution_count": 157,
     "metadata": {},
     "output_type": "execute_result"
    }
   ],
   "source": [
    "# How well does model predict training data\n",
    "rsquared(linreg.predict(lrX), linregy)"
   ]
  },
  {
   "cell_type": "code",
   "execution_count": 150,
   "metadata": {},
   "outputs": [
    {
     "data": {
      "image/png": "[encoded data removed]",
      "text/plain": [
       "<matplotlib.figure.Figure at 0x7fa3b2789278>"
      ]
     },
     "metadata": {},
     "output_type": "display_data"
    }
   ],
   "source": [
    "# How well does model predict training data?\n",
    "import matplotlib.pyplot as plt\n",
    "plt.plot(linreg.predict(lrX), linregy, 'r.')\n",
    "plt.ylabel('predicted')\n",
    "plt.show()"
   ]
  },
  {
   "cell_type": "code",
   "execution_count": 151,
   "metadata": {
    "collapsed": true
   },
   "outputs": [
    {
     "name": "stdout",
     "output_type": "stream",
     "text": [
      "0.0462758895435\n"
     ]
    }
   ],
   "source": [
    "# How well does the model predict test data?\n",
    "gtlinregx = pkl.load(open(\"tf_data/test_data_names.pkl\", \"rb\"))\n",
    "gtlinregy = pkl.load(open(\"tf_data/test_labels_num.pkl\", \"rb\"))\n",
    "gtlinregxtf = vectorizer.transform(gtlinregx)\n",
    "print(rsquared(linreg.predict(gtlinregxtf), gtlinregy))"
   ]
  },
  {
   "cell_type": "code",
   "execution_count": 152,
   "metadata": {},
   "outputs": [
    {
     "data": {
      "image/png": "[encoded data removed]",
      "text/plain": [
       "<matplotlib.figure.Figure at 0x7fa3b266f1d0>"
      ]
     },
     "metadata": {},
     "output_type": "display_data"
    }
   ],
   "source": [
    "# How well does model predict test data (plot)?\n",
    "import matplotlib.pyplot as plt\n",
    "plt.plot(linreg.predict(gtlinregxtf), gtlinregy, 'r.')\n",
    "plt.ylabel('predicted')\n",
    "plt.show()"
   ]
  },
  {
   "cell_type": "code",
   "execution_count": null,
   "metadata": {},
   "outputs": [],
   "source": []
  },
  {
   "cell_type": "code",
   "execution_count": null,
   "metadata": {},
   "outputs": [],
   "source": []
  }
 ],
 "metadata": {
  "kernelspec": {
   "display_name": "tf",
   "language": "python",
   "name": "tf"
  },
  "language_info": {
   "codemirror_mode": {
    "name": "ipython",
    "version": 3
   },
   "file_extension": ".py",
   "mimetype": "text/x-python",
   "name": "python",
   "nbconvert_exporter": "python",
   "pygments_lexer": "ipython3",
   "version": "3.6.3"
  }
 },
 "nbformat": 4,
 "nbformat_minor": 2
}
