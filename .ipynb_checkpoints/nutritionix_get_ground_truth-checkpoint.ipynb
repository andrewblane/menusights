{
 "cells": [
  {
   "cell_type": "code",
   "execution_count": 1,
   "metadata": {
    "collapsed": true
   },
   "outputs": [],
   "source": [
    "from nutritionix import Nutritionix\n",
    "nix = Nutritionix(app_id=\"af11f356\", api_key=\"c910fbced664a08390817ae9a3228f01\")"
   ]
  },
  {
   "cell_type": "code",
   "execution_count": 2,
   "metadata": {
    "collapsed": false
   },
   "outputs": [
    {
     "data": {
      "text/plain": [
       "<nutritionix.Nutritionix at 0x7f31dc689510>"
      ]
     },
     "execution_count": 2,
     "metadata": {},
     "output_type": "execute_result"
    }
   ],
   "source": [
    "nix"
   ]
  },
  {
   "cell_type": "code",
   "execution_count": null,
   "metadata": {
    "collapsed": true
   },
   "outputs": [],
   "source": []
  },
  {
   "cell_type": "code",
   "execution_count": 7,
   "metadata": {
    "collapsed": false
   },
   "outputs": [
    {
     "data": {
      "text/plain": [
       "{u'hits': [{u'_id': u'513fbc1283aa2dc80c00001a',\n",
       "   u'_index': u'f762ef22-e660-434f-9071-a10ea6691c27',\n",
       "   u'_score': 7.6338005,\n",
       "   u'_type': u'brand',\n",
       "   u'fields': {u'_id': u'513fbc1283aa2dc80c00001a',\n",
       "    u'name': u'Outback Steakhouse',\n",
       "    u'type': 1,\n",
       "    u'website': u'http://www.outbacksteakhouse.com'}},\n",
       "  {u'_id': u'55f94897e765d1473cf8b561',\n",
       "   u'_index': u'f762ef22-e660-434f-9071-a10ea6691c27',\n",
       "   u'_score': 5.911516,\n",
       "   u'_type': u'brand',\n",
       "   u'fields': {u'_id': u'55f94897e765d1473cf8b561',\n",
       "    u'name': u'Orgran Outback Animals',\n",
       "    u'type': 2,\n",
       "    u'website': None}}],\n",
       " u'max_score': 7.6338005,\n",
       " u'total': 2}"
      ]
     },
     "execution_count": 7,
     "metadata": {},
     "output_type": "execute_result"
    }
   ],
   "source": [
    "nix.brand().search(query=\"outback\").json()"
   ]
  },
  {
   "cell_type": "code",
   "execution_count": 13,
   "metadata": {
    "collapsed": false
   },
   "outputs": [],
   "source": [
    "hits = nix.search(\"outback\", results=\"0:50\").json()"
   ]
  },
  {
   "cell_type": "code",
   "execution_count": 18,
   "metadata": {
    "collapsed": false
   },
   "outputs": [
    {
     "data": {
      "text/plain": [
       "{u'_id': u'513fc9c6673c4fbc26002464',\n",
       " u'_index': u'f762ef22-e660-434f-9071-a10ea6691c27',\n",
       " u'_score': 3.1158924,\n",
       " u'_type': u'item',\n",
       " u'fields': {u'brand_name': u'Outback Steakhouse',\n",
       "  u'item_id': u'513fc9c6673c4fbc26002464',\n",
       "  u'item_name': u'Outback Sirloin, 9 Oz',\n",
       "  u'nf_serving_size_qty': 1,\n",
       "  u'nf_serving_size_unit': u'serving'}}"
      ]
     },
     "execution_count": 18,
     "metadata": {},
     "output_type": "execute_result"
    }
   ],
   "source": [
    "hits[\"hits\"][0]"
   ]
  },
  {
   "cell_type": "code",
   "execution_count": null,
   "metadata": {
    "collapsed": true
   },
   "outputs": [],
   "source": [
    "for item in "
   ]
  },
  {
   "cell_type": "code",
   "execution_count": 20,
   "metadata": {
    "collapsed": false,
    "scrolled": true
   },
   "outputs": [
    {
     "data": {
      "text/plain": [
       "{u'allergen_contains_eggs': None,\n",
       " u'allergen_contains_fish': None,\n",
       " u'allergen_contains_gluten': None,\n",
       " u'allergen_contains_milk': None,\n",
       " u'allergen_contains_peanuts': None,\n",
       " u'allergen_contains_shellfish': None,\n",
       " u'allergen_contains_soybeans': None,\n",
       " u'allergen_contains_tree_nuts': None,\n",
       " u'allergen_contains_wheat': None,\n",
       " u'brand_id': u'513fbc1283aa2dc80c00001a',\n",
       " u'brand_name': u'Outback Steakhouse',\n",
       " u'item_description': u'SIGNATURE STEAKS - Outback Special 9 oz',\n",
       " u'item_id': u'513fc9c6673c4fbc26002464',\n",
       " u'item_name': u'Outback Sirloin, 9 Oz',\n",
       " u'leg_loc_id': 54,\n",
       " u'nf_calcium_dv': None,\n",
       " u'nf_calories': 380,\n",
       " u'nf_calories_from_fat': 170,\n",
       " u'nf_cholesterol': 125,\n",
       " u'nf_dietary_fiber': 0,\n",
       " u'nf_ingredient_statement': u'',\n",
       " u'nf_iron_dv': None,\n",
       " u'nf_monounsaturated_fat': None,\n",
       " u'nf_polyunsaturated_fat': None,\n",
       " u'nf_protein': 55,\n",
       " u'nf_refuse_pct': None,\n",
       " u'nf_saturated_fat': 7,\n",
       " u'nf_serving_size_qty': 1,\n",
       " u'nf_serving_size_unit': u'Total Meal',\n",
       " u'nf_serving_weight_grams': None,\n",
       " u'nf_servings_per_container': None,\n",
       " u'nf_sodium': 340,\n",
       " u'nf_sugars': 0,\n",
       " u'nf_total_carbohydrate': 0,\n",
       " u'nf_total_fat': 19,\n",
       " u'nf_trans_fatty_acid': 1,\n",
       " u'nf_vitamin_a_dv': None,\n",
       " u'nf_vitamin_c_dv': None,\n",
       " u'nf_water_grams': None,\n",
       " u'old_api_id': u'dpDQPwRea5ELWZlTUikm',\n",
       " u'updated_at': u'2016-06-07T15:37:27.000Z',\n",
       " u'usda_fields': None}"
      ]
     },
     "execution_count": 20,
     "metadata": {},
     "output_type": "execute_result"
    }
   ],
   "source": [
    "nix.item(id=\"513fc9c6673c4fbc26002464\").json()"
   ]
  },
  {
   "cell_type": "code",
   "execution_count": 4,
   "metadata": {
    "collapsed": true
   },
   "outputs": [],
   "source": [
    "list_of_restaurants = [\"olive garden\",\n",
    "                       \"pasta bene\",\n",
    "                       \"black bear diner\",\n",
    "                       \"denny's\",\n",
    "                       \"ihop\",\n",
    "                       \"chilis\",\n",
    "                       \"outback steakhouse\",\n",
    "                       \"applebees\"]"
   ]
  },
  {
   "cell_type": "code",
   "execution_count": 5,
   "metadata": {
    "collapsed": false
   },
   "outputs": [],
   "source": [
    "hit_ids = []\n",
    "for j in list_of_restaurants:\n",
    "    dish_ids = [item[\"_id\"] for item in nix.search(j, results=\"0:50\").json()[\"hits\"]]\n",
    "    hit_ids.extend(dish_ids)"
   ]
  },
  {
   "cell_type": "code",
   "execution_count": 6,
   "metadata": {
    "collapsed": false
   },
   "outputs": [
    {
     "data": {
      "text/plain": [
       "400"
      ]
     },
     "execution_count": 6,
     "metadata": {},
     "output_type": "execute_result"
    }
   ],
   "source": [
    "len(hit_ids)"
   ]
  },
  {
   "cell_type": "code",
   "execution_count": null,
   "metadata": {
    "collapsed": true
   },
   "outputs": [],
   "source": []
  },
  {
   "cell_type": "code",
   "execution_count": 7,
   "metadata": {
    "collapsed": false,
    "scrolled": false
   },
   "outputs": [
    {
     "ename": "KeyError",
     "evalue": "'brand_name'",
     "output_type": "error",
     "traceback": [
      "\u001b[1;31m---------------------------------------------------------------------------\u001b[0m",
      "\u001b[1;31mKeyError\u001b[0m                                  Traceback (most recent call last)",
      "\u001b[1;32m<ipython-input-7-7b2e47da26bf>\u001b[0m in \u001b[0;36m<module>\u001b[1;34m()\u001b[0m\n\u001b[0;32m      3\u001b[0m     \u001b[0mcurrent_item\u001b[0m \u001b[1;33m=\u001b[0m \u001b[0mnix\u001b[0m\u001b[1;33m.\u001b[0m\u001b[0mitem\u001b[0m\u001b[1;33m(\u001b[0m\u001b[0mid\u001b[0m\u001b[1;33m=\u001b[0m\u001b[0mi\u001b[0m\u001b[1;33m)\u001b[0m\u001b[1;33m.\u001b[0m\u001b[0mjson\u001b[0m\u001b[1;33m(\u001b[0m\u001b[1;33m)\u001b[0m\u001b[1;33m\u001b[0m\u001b[0m\n\u001b[0;32m      4\u001b[0m     ground_truth2.append({\n\u001b[1;32m----> 5\u001b[1;33m             \u001b[1;34m\"brand_name\"\u001b[0m\u001b[1;33m:\u001b[0m \u001b[0mcurrent_item\u001b[0m\u001b[1;33m[\u001b[0m\u001b[1;34m\"brand_name\"\u001b[0m\u001b[1;33m]\u001b[0m\u001b[1;33m,\u001b[0m\u001b[1;33m\u001b[0m\u001b[0m\n\u001b[0m\u001b[0;32m      6\u001b[0m             \u001b[1;34m\"item_name\"\u001b[0m\u001b[1;33m:\u001b[0m \u001b[0mcurrent_item\u001b[0m\u001b[1;33m[\u001b[0m\u001b[1;34m\"item_name\"\u001b[0m\u001b[1;33m]\u001b[0m\u001b[1;33m,\u001b[0m\u001b[1;33m\u001b[0m\u001b[0m\n\u001b[0;32m      7\u001b[0m             \u001b[1;34m\"item_description\"\u001b[0m\u001b[1;33m:\u001b[0m \u001b[0mcurrent_item\u001b[0m\u001b[1;33m[\u001b[0m\u001b[1;34m\"item_description\"\u001b[0m\u001b[1;33m]\u001b[0m\u001b[1;33m,\u001b[0m\u001b[1;33m\u001b[0m\u001b[0m\n",
      "\u001b[1;31mKeyError\u001b[0m: 'brand_name'"
     ]
    }
   ],
   "source": [
    "ground_truth2 = []\n",
    "for i in hit_ids:\n",
    "    current_item = nix.item(id=i).json()\n",
    "    ground_truth2.append({\n",
    "            \"brand_name\": current_item[\"brand_name\"],\n",
    "            \"item_name\": current_item[\"item_name\"],\n",
    "            \"item_description\": current_item[\"item_description\"],\n",
    "            \"nf_calories\": current_item[\"nf_calories\"],\n",
    "            \"nf_sodium\": current_item[\"nf_sodium\"],\n",
    "            \"nf_cholesterol\": current_item[\"nf_cholesterol\"],\n",
    "            \"nf_ingredient_statement\": current_item[\"nf_ingredient_statement\"],\n",
    "        })"
   ]
  },
  {
   "cell_type": "code",
   "execution_count": null,
   "metadata": {
    "collapsed": true
   },
   "outputs": [],
   "source": [
    "# Should be new limit at 4pm"
   ]
  },
  {
   "cell_type": "code",
   "execution_count": 8,
   "metadata": {
    "collapsed": false
   },
   "outputs": [
    {
     "data": {
      "text/plain": [
       "{u'error_code': None,\n",
       " u'error_message': u'usage limits are exceeded',\n",
       " u'usage_reports': [{u'current_value': u'235',\n",
       "   u'max_value': u'1000',\n",
       "   u'metric': u'hits',\n",
       "   u'period': u'day',\n",
       "   u'period_end': u'2016-10-03 00:00:00 +0000',\n",
       "   u'period_start': u'2016-10-02 00:00:00 +0000'},\n",
       "  {u'current_value': u'33',\n",
       "   u'max_value': u'500',\n",
       "   u'metric': u'search',\n",
       "   u'period': u'day',\n",
       "   u'period_end': u'2016-10-03 00:00:00 +0000',\n",
       "   u'period_start': u'2016-10-02 00:00:00 +0000'},\n",
       "  {u'current_value': u'200',\n",
       "   u'max_value': u'200',\n",
       "   u'metric': u'itemView',\n",
       "   u'period': u'day',\n",
       "   u'period_end': u'2016-10-03 00:00:00 +0000',\n",
       "   u'period_start': u'2016-10-02 00:00:00 +0000'},\n",
       "  {u'current_value': u'2',\n",
       "   u'max_value': u'100',\n",
       "   u'metric': u'brandView',\n",
       "   u'period': u'day',\n",
       "   u'period_end': u'2016-10-03 00:00:00 +0000',\n",
       "   u'period_start': u'2016-10-02 00:00:00 +0000'},\n",
       "  {u'current_value': u'0',\n",
       "   u'max_value': u'20',\n",
       "   u'metric': u'upcLookUp',\n",
       "   u'period': u'day',\n",
       "   u'period_end': u'2016-10-03 00:00:00 +0000',\n",
       "   u'period_start': u'2016-10-02 00:00:00 +0000'},\n",
       "  {u'current_value': u'0',\n",
       "   u'max_value': u'10000',\n",
       "   u'metric': u'v2_autocomplete',\n",
       "   u'period': u'day',\n",
       "   u'period_end': u'2016-10-03 00:00:00 +0000',\n",
       "   u'period_start': u'2016-10-02 00:00:00 +0000'},\n",
       "  {u'current_value': u'0',\n",
       "   u'max_value': u'500',\n",
       "   u'metric': u'v2_natural',\n",
       "   u'period': u'day',\n",
       "   u'period_end': u'2016-10-03 00:00:00 +0000',\n",
       "   u'period_start': u'2016-10-02 00:00:00 +0000'},\n",
       "  {u'current_value': u'0',\n",
       "   u'max_value': u'500',\n",
       "   u'metric': u'v2_search',\n",
       "   u'period': u'day',\n",
       "   u'period_end': u'2016-10-03 00:00:00 +0000',\n",
       "   u'period_start': u'2016-10-02 00:00:00 +0000'},\n",
       "  {u'current_value': u'0',\n",
       "   u'max_value': u'200',\n",
       "   u'metric': u'v2_brand_search',\n",
       "   u'period': u'day',\n",
       "   u'period_end': u'2016-10-03 00:00:00 +0000',\n",
       "   u'period_start': u'2016-10-02 00:00:00 +0000'},\n",
       "  {u'current_value': u'0',\n",
       "   u'max_value': u'250',\n",
       "   u'metric': u'v2_item',\n",
       "   u'period': u'day',\n",
       "   u'period_end': u'2016-10-03 00:00:00 +0000',\n",
       "   u'period_start': u'2016-10-02 00:00:00 +0000'},\n",
       "  {u'current_value': u'0',\n",
       "   u'max_value': u'100',\n",
       "   u'metric': u'v2_brand',\n",
       "   u'period': u'day',\n",
       "   u'period_end': u'2016-10-03 00:00:00 +0000',\n",
       "   u'period_start': u'2016-10-02 00:00:00 +0000'},\n",
       "  {u'current_value': u'0',\n",
       "   u'max_value': u'50',\n",
       "   u'metric': u'trackNatural',\n",
       "   u'period': u'day',\n",
       "   u'period_end': u'2016-10-03 00:00:00 +0000',\n",
       "   u'period_start': u'2016-10-02 00:00:00 +0000'}]}"
      ]
     },
     "execution_count": 8,
     "metadata": {},
     "output_type": "execute_result"
    }
   ],
   "source": [
    "current_item "
   ]
  },
  {
   "cell_type": "code",
   "execution_count": 38,
   "metadata": {
    "collapsed": true
   },
   "outputs": [],
   "source": [
    "import cPickle as pickle"
   ]
  },
  {
   "cell_type": "code",
   "execution_count": 40,
   "metadata": {
    "collapsed": false
   },
   "outputs": [],
   "source": [
    "pickle.dump(ground_truth, open(\"groundtruth.pkl\", \"wb\"))"
   ]
  },
  {
   "cell_type": "code",
   "execution_count": 54,
   "metadata": {
    "collapsed": true
   },
   "outputs": [
    {
     "data": {
      "text/plain": [
       "[u'SIGNATURE STEAKS - Outback Special 9 oz',\n",
       " u'SIGNATURE STEAKS - Outback Special 6 oz',\n",
       " u'',\n",
       " u'Calzones - Outback Calzone',\n",
       " u'SIGNATURE STEAKS - Outback Special 12 oz',\n",
       " u'Baked Personal Pizzas - outback',\n",
       " u'MEDIUM PIZZAS - outback',\n",
       " u'LARGE PIZZAS - outback',\n",
       " u'Kids Outback Animals Chocolate',\n",
       " u'FRESHLY MADE SIDES - House Salad',\n",
       " u'',\n",
       " u'FAMILY PIZZAS - outback',\n",
       " u'BURGERS & SANDWICHES - The Outbacker Burger',\n",
       " u\"AUSSIE-TIZERS TO SHARE - Bloomin' Onion&reg;\",\n",
       " u'',\n",
       " u'',\n",
       " u'Kids, Outback Animals',\n",
       " u'BURGERS & SANDWICHES - Double Burger',\n",
       " u'',\n",
       " u'',\n",
       " u'FRESHLY MADE SIDES - Aussie Fries',\n",
       " u'FRESHLY MADE SIDES - Caesar Salad',\n",
       " u'FRESHLY MADE SIDES - Garlic Mashed Potatoes',\n",
       " u'',\n",
       " u'',\n",
       " u'',\n",
       " u'FRESHLY MADE SIDES - Grilled Asparagus',\n",
       " u'',\n",
       " u'',\n",
       " u'AUSSIE-TIZERS TO SHARE - Wings',\n",
       " u'OUTBACK FAVORITES - Alice Springs Chicken&reg;',\n",
       " u'SPECIALTY CUTS & COMBOS - Teriyaki Filet Medallions',\n",
       " u'',\n",
       " u'',\n",
       " u'Add On Mates - Blue Cheese Crumb Topping',\n",
       " u'AUSSIE-TIZERS TO SHARE - Crab & Avocado Stack - Aussi-tizers&reg; to Share',\n",
       " u'OUTBACK FAVORITES - New Zealand Rack Of Lamb',\n",
       " u'',\n",
       " u'',\n",
       " u'',\n",
       " u'',\n",
       " u'',\n",
       " u'Aussietizers - Crab Stack',\n",
       " u'Outback Favorites - Baby Back Ribs Full Order',\n",
       " u'FRESHLY MADE SIDES - Fresh Steamed Broccoli',\n",
       " u'AUSSIE-TIZERS TO SHARE - Aussie Cheese Fries Small',\n",
       " u\"SIGNATURE STEAKS - Victoria's Filet 6 oz\",\n",
       " u'IRRESISTIBLE DESSERTS - Chocolate Thunder From Down Under',\n",
       " None,\n",
       " u'BURGERS & SANDWICHES - Crispy Chicken Sandwich',\n",
       " u'SIGNATURE STEAKS - Outback Special 9 oz',\n",
       " u'SIGNATURE STEAKS - Outback Special 6 oz',\n",
       " u'',\n",
       " u'Calzones - Outback Calzone',\n",
       " u'SIGNATURE STEAKS - Outback Special 12 oz',\n",
       " u'Baked Personal Pizzas - outback',\n",
       " u'MEDIUM PIZZAS - outback',\n",
       " u'LARGE PIZZAS - outback',\n",
       " u'Kids Outback Animals Chocolate',\n",
       " u'FRESHLY MADE SIDES - House Salad',\n",
       " u'',\n",
       " u'FAMILY PIZZAS - outback',\n",
       " u'BURGERS & SANDWICHES - The Outbacker Burger',\n",
       " u\"AUSSIE-TIZERS TO SHARE - Bloomin' Onion&reg;\",\n",
       " u'',\n",
       " u'',\n",
       " u'Kids, Outback Animals',\n",
       " u'BURGERS & SANDWICHES - Double Burger',\n",
       " u'',\n",
       " u'FRESHLY MADE SIDES - Aussie Fries',\n",
       " u'FRESHLY MADE SIDES - Caesar Salad',\n",
       " u'',\n",
       " u'FRESHLY MADE SIDES - Garlic Mashed Potatoes',\n",
       " u'',\n",
       " u'',\n",
       " u'',\n",
       " u'OUTBACK FAVORITES - Alice Springs Chicken&reg;',\n",
       " u'SPECIALTY CUTS & COMBOS - Teriyaki Filet Medallions',\n",
       " u'',\n",
       " u'',\n",
       " u'FRESHLY MADE SIDES - Grilled Asparagus',\n",
       " u'',\n",
       " u'',\n",
       " u'AUSSIE-TIZERS TO SHARE - Wings',\n",
       " u'Add On Mates - Blue Cheese Crumb Topping',\n",
       " u'AUSSIE-TIZERS TO SHARE - Crab & Avocado Stack - Aussi-tizers&reg; to Share',\n",
       " u'OUTBACK FAVORITES - New Zealand Rack Of Lamb',\n",
       " u'',\n",
       " u'',\n",
       " u'Aussietizers - Crab Stack',\n",
       " u'Outback Favorites - Baby Back Ribs Full Order',\n",
       " u'FRESHLY MADE SIDES - Fresh Steamed Broccoli',\n",
       " u'',\n",
       " u'',\n",
       " u'',\n",
       " u'AUSSIE-TIZERS TO SHARE - Aussie Cheese Fries Small',\n",
       " u\"SIGNATURE STEAKS - Victoria's Filet 6 oz\",\n",
       " u'IRRESISTIBLE DESSERTS - Chocolate Thunder From Down Under',\n",
       " None,\n",
       " u'Add On Mates - 4 Grilled Shrimp',\n",
       " u'SIGNATURE STEAKS - Outback Special 9 oz',\n",
       " u'SIGNATURE STEAKS - Outback Special 6 oz',\n",
       " u'',\n",
       " u'Calzones - Outback Calzone',\n",
       " u'SIGNATURE STEAKS - Outback Special 12 oz',\n",
       " u'Baked Personal Pizzas - outback',\n",
       " u'MEDIUM PIZZAS - outback',\n",
       " u'LARGE PIZZAS - outback',\n",
       " u'Kids Outback Animals Chocolate',\n",
       " u'FAMILY PIZZAS - outback',\n",
       " u'FRESHLY MADE SIDES - House Salad',\n",
       " u'',\n",
       " u'BURGERS & SANDWICHES - The Outbacker Burger',\n",
       " u'Kids, Outback Animals',\n",
       " u\"AUSSIE-TIZERS TO SHARE - Bloomin' Onion&reg;\",\n",
       " u'',\n",
       " u'',\n",
       " u'',\n",
       " u'FRESHLY MADE SIDES - Aussie Fries',\n",
       " u'FRESHLY MADE SIDES - Caesar Salad',\n",
       " u'BURGERS & SANDWICHES - Double Burger',\n",
       " u'',\n",
       " u'FRESHLY MADE SIDES - Garlic Mashed Potatoes',\n",
       " u'',\n",
       " u'',\n",
       " u'',\n",
       " u'FRESHLY MADE SIDES - Grilled Asparagus',\n",
       " u'',\n",
       " u'',\n",
       " u'AUSSIE-TIZERS TO SHARE - Wings',\n",
       " u'OUTBACK FAVORITES - Alice Springs Chicken&reg;',\n",
       " u'SPECIALTY CUTS & COMBOS - Teriyaki Filet Medallions',\n",
       " u'',\n",
       " u'',\n",
       " u'',\n",
       " u'',\n",
       " u'',\n",
       " u'Aussietizers - Crab Stack',\n",
       " u'Outback Favorites - Baby Back Ribs Full Order',\n",
       " u'FRESHLY MADE SIDES - Fresh Steamed Broccoli',\n",
       " u'Add On Mates - Blue Cheese Crumb Topping',\n",
       " u'AUSSIE-TIZERS TO SHARE - Crab & Avocado Stack - Aussi-tizers&reg; to Share',\n",
       " u'OUTBACK FAVORITES - New Zealand Rack Of Lamb',\n",
       " u'',\n",
       " u'',\n",
       " u'AUSSIE-TIZERS TO SHARE - Aussie Cheese Fries Small',\n",
       " u\"SIGNATURE STEAKS - Victoria's Filet 6 oz\",\n",
       " u'IRRESISTIBLE DESSERTS - Chocolate Thunder From Down Under',\n",
       " u'BURGERS & SANDWICHES - Crispy Chicken Sandwich',\n",
       " u'MINI MILKSHAKES - Chocolate Mini Milkshake',\n",
       " u'SIGNATURE STEAKS - Outback Special 9 oz',\n",
       " u'SIGNATURE STEAKS - Outback Special 6 oz',\n",
       " u'',\n",
       " u'Calzones - Outback Calzone',\n",
       " u'SIGNATURE STEAKS - Outback Special 12 oz',\n",
       " u'Baked Personal Pizzas - outback',\n",
       " u'MEDIUM PIZZAS - outback',\n",
       " u'LARGE PIZZAS - outback',\n",
       " u'Kids Outback Animals Chocolate',\n",
       " u'FRESHLY MADE SIDES - House Salad',\n",
       " u'',\n",
       " u'FAMILY PIZZAS - outback',\n",
       " u'BURGERS & SANDWICHES - The Outbacker Burger',\n",
       " u'Kids, Outback Animals',\n",
       " u\"AUSSIE-TIZERS TO SHARE - Bloomin' Onion&reg;\",\n",
       " u'',\n",
       " u'',\n",
       " u'',\n",
       " u'FRESHLY MADE SIDES - Aussie Fries',\n",
       " u'FRESHLY MADE SIDES - Caesar Salad',\n",
       " u'BURGERS & SANDWICHES - Double Burger',\n",
       " u'',\n",
       " u'FRESHLY MADE SIDES - Garlic Mashed Potatoes',\n",
       " u'',\n",
       " u'',\n",
       " u'',\n",
       " u'AUSSIE-TIZERS TO SHARE - Wings',\n",
       " u'FRESHLY MADE SIDES - Grilled Asparagus',\n",
       " u'',\n",
       " u'',\n",
       " u'OUTBACK FAVORITES - Alice Springs Chicken&reg;',\n",
       " u'SPECIALTY CUTS & COMBOS - Teriyaki Filet Medallions',\n",
       " u'',\n",
       " u'',\n",
       " u'',\n",
       " u'',\n",
       " u'',\n",
       " u'Aussietizers - Crab Stack',\n",
       " u'Outback Favorites - Baby Back Ribs Full Order',\n",
       " u'FRESHLY MADE SIDES - Fresh Steamed Broccoli',\n",
       " u'Add On Mates - Blue Cheese Crumb Topping',\n",
       " u'AUSSIE-TIZERS TO SHARE - Crab & Avocado Stack - Aussi-tizers&reg; to Share',\n",
       " u'OUTBACK FAVORITES - New Zealand Rack Of Lamb',\n",
       " u'',\n",
       " u'']"
      ]
     },
     "execution_count": 54,
     "metadata": {},
     "output_type": "execute_result"
    }
   ],
   "source": [
    "len(set[item[\"item_description\"] for item in ground_truth])"
   ]
  },
  {
   "cell_type": "code",
   "execution_count": null,
   "metadata": {
    "collapsed": true
   },
   "outputs": [],
   "source": []
  }
 ],
 "metadata": {
  "kernelspec": {
   "display_name": "Python [insight]",
   "language": "python",
   "name": "Python [insight]"
  },
  "language_info": {
   "codemirror_mode": {
    "name": "ipython",
    "version": 2
   },
   "file_extension": ".py",
   "mimetype": "text/x-python",
   "name": "python",
   "nbconvert_exporter": "python",
   "pygments_lexer": "ipython2",
   "version": "2.7.12"
  }
 },
 "nbformat": 4,
 "nbformat_minor": 0
}
