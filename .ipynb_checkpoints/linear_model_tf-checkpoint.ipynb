{
 "cells": [
  {
   "cell_type": "code",
   "execution_count": 1,
   "metadata": {
    "collapsed": true
   },
   "outputs": [],
   "source": [
    "import psycopg2\n",
    "from sqlalchemy import create_engine, Column, Integer, String, Float, ForeignKey\n",
    "from sqlalchemy.ext.declarative import declarative_base\n",
    "from sqlalchemy.orm import relationship, sessionmaker\n",
    "import re\n",
    "from __future__ import print_function"
   ]
  },
  {
   "cell_type": "code",
   "execution_count": 2,
   "metadata": {
    "collapsed": true
   },
   "outputs": [],
   "source": [
    "import numpy as np\n",
    "import pandas as pd\n",
    "import nltk\n",
    "import re\n",
    "import os\n",
    "import codecs\n",
    "from sklearn import feature_extraction\n",
    "import mpld3\n",
    "import pandas as pd\n",
    "from nltk.stem.snowball import SnowballStemmer"
   ]
  },
  {
   "cell_type": "code",
   "execution_count": 31,
   "metadata": {
    "collapsed": false
   },
   "outputs": [
    {
     "name": "stdout",
     "output_type": "stream",
     "text": [
      "postgres://andylane@localhost/restaurants\n"
     ]
    }
   ],
   "source": [
    "dbname = 'restaurants'\n",
    "username = 'andylane'\n",
    "engine = create_engine('postgres://%s@localhost/%s'%(username,dbname))\n",
    "print(engine.url)\n",
    "con = None\n",
    "con = psycopg2.connect(database = \"restaurants\", user = \"andylane\")\n",
    "Session = sessionmaker(bind=engine)\n",
    "session = Session()"
   ]
  },
  {
   "cell_type": "code",
   "execution_count": null,
   "metadata": {
    "collapsed": false
   },
   "outputs": [],
   "source": [
    "from menusights_aux import *"
   ]
  },
  {
   "cell_type": "code",
   "execution_count": null,
   "metadata": {
    "collapsed": false
   },
   "outputs": [],
   "source": [
    "recipes = pd.read_sql(\"recipes\", engine)"
   ]
  },
  {
   "cell_type": "markdown",
   "metadata": {},
   "source": [
    "## Get recipe names into a vector"
   ]
  },
  {
   "cell_type": "code",
   "execution_count": 6,
   "metadata": {
    "collapsed": true
   },
   "outputs": [],
   "source": [
    "stopwords = nltk.corpus.stopwords.words('english')\n",
    "stemmer = SnowballStemmer(\"english\")"
   ]
  },
  {
   "cell_type": "markdown",
   "metadata": {},
   "source": [
    "## Match menu items to a cluster"
   ]
  },
  {
   "cell_type": "code",
   "execution_count": 8,
   "metadata": {
    "collapsed": false
   },
   "outputs": [
    {
     "data": {
      "text/html": [
       "<div>\n",
       "<table border=\"1\" class=\"dataframe\">\n",
       "  <thead>\n",
       "    <tr style=\"text-align: right;\">\n",
       "      <th></th>\n",
       "      <th>id</th>\n",
       "      <th>name</th>\n",
       "      <th>url</th>\n",
       "      <th>calories</th>\n",
       "      <th>fat</th>\n",
       "      <th>carbs</th>\n",
       "      <th>protein</th>\n",
       "      <th>cholesterol</th>\n",
       "      <th>sodium</th>\n",
       "      <th>servings</th>\n",
       "    </tr>\n",
       "  </thead>\n",
       "  <tbody>\n",
       "    <tr>\n",
       "      <th>0</th>\n",
       "      <td>1</td>\n",
       "      <td>Fluffy Pancakes</td>\n",
       "      <td>http://allrecipes.com/recipe/162760/fluffy-pan...</td>\n",
       "      <td>230</td>\n",
       "      <td>8.2</td>\n",
       "      <td>32.7</td>\n",
       "      <td>6.4</td>\n",
       "      <td>65.0</td>\n",
       "      <td>650.0</td>\n",
       "      <td>4</td>\n",
       "    </tr>\n",
       "    <tr>\n",
       "      <th>1</th>\n",
       "      <td>2</td>\n",
       "      <td>Joan's Quick Chili</td>\n",
       "      <td>http://allrecipes.com/recipe/240622/joans-quic...</td>\n",
       "      <td>397</td>\n",
       "      <td>21.5</td>\n",
       "      <td>25.2</td>\n",
       "      <td>26.7</td>\n",
       "      <td>71.0</td>\n",
       "      <td>1438.0</td>\n",
       "      <td>4</td>\n",
       "    </tr>\n",
       "    <tr>\n",
       "      <th>2</th>\n",
       "      <td>3</td>\n",
       "      <td>Ultimate Double Chocolate Cookies</td>\n",
       "      <td>http://allrecipes.com/recipe/15097/ultimate-do...</td>\n",
       "      <td>148</td>\n",
       "      <td>6.8</td>\n",
       "      <td>21.4</td>\n",
       "      <td>2.2</td>\n",
       "      <td>25.0</td>\n",
       "      <td>88.0</td>\n",
       "      <td>42</td>\n",
       "    </tr>\n",
       "    <tr>\n",
       "      <th>3</th>\n",
       "      <td>4</td>\n",
       "      <td>Campfire Banana Splits</td>\n",
       "      <td>http://allrecipes.com/recipe/20038/campfire-ba...</td>\n",
       "      <td>545</td>\n",
       "      <td>17.3</td>\n",
       "      <td>106.2</td>\n",
       "      <td>4.7</td>\n",
       "      <td>0.0</td>\n",
       "      <td>47.0</td>\n",
       "      <td>6</td>\n",
       "    </tr>\n",
       "    <tr>\n",
       "      <th>4</th>\n",
       "      <td>5</td>\n",
       "      <td>Pumpkin Chocolate Chip Cookies II</td>\n",
       "      <td>http://allrecipes.com/recipe/10117/pumpkin-cho...</td>\n",
       "      <td>224</td>\n",
       "      <td>11.5</td>\n",
       "      <td>29.5</td>\n",
       "      <td>2.8</td>\n",
       "      <td>10.0</td>\n",
       "      <td>127.0</td>\n",
       "      <td>18</td>\n",
       "    </tr>\n",
       "  </tbody>\n",
       "</table>\n",
       "</div>"
      ],
      "text/plain": [
       "   id                               name  \\\n",
       "0   1                    Fluffy Pancakes   \n",
       "1   2                 Joan's Quick Chili   \n",
       "2   3  Ultimate Double Chocolate Cookies   \n",
       "3   4             Campfire Banana Splits   \n",
       "4   5  Pumpkin Chocolate Chip Cookies II   \n",
       "\n",
       "                                                 url  calories   fat  carbs  \\\n",
       "0  http://allrecipes.com/recipe/162760/fluffy-pan...       230   8.2   32.7   \n",
       "1  http://allrecipes.com/recipe/240622/joans-quic...       397  21.5   25.2   \n",
       "2  http://allrecipes.com/recipe/15097/ultimate-do...       148   6.8   21.4   \n",
       "3  http://allrecipes.com/recipe/20038/campfire-ba...       545  17.3  106.2   \n",
       "4  http://allrecipes.com/recipe/10117/pumpkin-cho...       224  11.5   29.5   \n",
       "\n",
       "   protein  cholesterol  sodium  servings  \n",
       "0      6.4         65.0   650.0         4  \n",
       "1     26.7         71.0  1438.0         4  \n",
       "2      2.2         25.0    88.0        42  \n",
       "3      4.7          0.0    47.0         6  \n",
       "4      2.8         10.0   127.0        18  "
      ]
     },
     "execution_count": 8,
     "metadata": {},
     "output_type": "execute_result"
    }
   ],
   "source": [
    "recipes.head()"
   ]
  },
  {
   "cell_type": "code",
   "execution_count": 9,
   "metadata": {
    "collapsed": false
   },
   "outputs": [
    {
     "name": "stderr",
     "output_type": "stream",
     "text": [
      "/home/andylane/anaconda2/envs/insight/lib/python2.7/site-packages/ipykernel/pylab/config.py:66: DeprecationWarning: metadata {'config': True} was set from the constructor.  Metadata should be set using the .tag() method, e.g., Int().tag(key1='value1', key2='value2')\n",
      "  inline backend.\"\"\"\n",
      "/home/andylane/anaconda2/envs/insight/lib/python2.7/site-packages/ipykernel/pylab/config.py:71: DeprecationWarning: metadata {'config': True} was set from the constructor.  Metadata should be set using the .tag() method, e.g., Int().tag(key1='value1', key2='value2')\n",
      "  'retina', 'jpeg', 'svg', 'pdf'.\"\"\")\n",
      "/home/andylane/anaconda2/envs/insight/lib/python2.7/site-packages/ipykernel/pylab/config.py:85: DeprecationWarning: metadata {'config': True} was set from the constructor.  Metadata should be set using the .tag() method, e.g., Int().tag(key1='value1', key2='value2')\n",
      "  use `figure_formats` instead)\"\"\")\n",
      "/home/andylane/anaconda2/envs/insight/lib/python2.7/site-packages/ipykernel/pylab/config.py:95: DeprecationWarning: metadata {'config': True} was set from the constructor.  Metadata should be set using the .tag() method, e.g., Int().tag(key1='value1', key2='value2')\n",
      "  \"\"\"\n",
      "/home/andylane/anaconda2/envs/insight/lib/python2.7/site-packages/ipykernel/pylab/config.py:114: DeprecationWarning: metadata {'config': True} was set from the constructor.  Metadata should be set using the .tag() method, e.g., Int().tag(key1='value1', key2='value2')\n",
      "  \"\"\")\n",
      "/home/andylane/anaconda2/envs/insight/lib/python2.7/site-packages/ipykernel/pylab/config.py:44: DeprecationWarning: InlineBackend._config_changed is deprecated: use @observe and @unobserve instead.\n",
      "  def _config_changed(self, name, old, new):\n",
      "/home/andylane/anaconda2/envs/insight/lib/python2.7/site-packages/traitlets/traitlets.py:770: DeprecationWarning: A parent of InlineBackend._config_changed has adopted the new @observe(change) API\n",
      "  clsname, change_or_name), DeprecationWarning)\n"
     ]
    },
    {
     "data": {
      "image/png": "[encoded data removed]",
      "text/plain": [
       "<matplotlib.figure.Figure at 0x7fd35c091d10>"
      ]
     },
     "metadata": {},
     "output_type": "display_data"
    }
   ],
   "source": [
    "# Plot distribution of cholesterol etc; looks like it's normalish\n",
    "from sklearn.preprocessing import scale\n",
    "def normalize(item):\n",
    "    a = scale(recipes[item], axis=0, with_mean=True, with_std=True, copy=True )\n",
    "    return a\n",
    "\n",
    "%matplotlib inline\n",
    "import seaborn as sns\n",
    "import matplotlib.pyplot as plt\n",
    "plt.figure(figsize=(8, 6))\n",
    "# ax = sns.distplot(normalize(\"cholesterol\"), label=\"chol\")\n",
    "#ax = sns.distplot(normalize(\"calories\"))\n",
    "ax = sns.distplot(normalize(\"protein\"))"
   ]
  },
  {
   "cell_type": "code",
   "execution_count": 10,
   "metadata": {
    "collapsed": true
   },
   "outputs": [],
   "source": [
    "def tokenize_and_stem(title):\n",
    "    stemmer = SnowballStemmer(\"english\")\n",
    "    stemmed_titles = []\n",
    "    new_title=[]\n",
    "    for word in nltk.word_tokenize(title):\n",
    "        new_title.append(stemmer.stem(word))\n",
    "    stemmed_titles.extend(new_title)\n",
    "    return \" \".join([i for i in stemmed_titles])"
   ]
  },
  {
   "cell_type": "code",
   "execution_count": 63,
   "metadata": {
    "collapsed": false
   },
   "outputs": [],
   "source": [
    "tokenized_names = [tokenize_and_stem(i) for i in (recipes[\"name\"])]"
   ]
  },
  {
   "cell_type": "code",
   "execution_count": 64,
   "metadata": {
    "collapsed": false
   },
   "outputs": [
    {
     "data": {
      "text/plain": [
       "u'award win soft chocol chip cooki'"
      ]
     },
     "execution_count": 64,
     "metadata": {},
     "output_type": "execute_result"
    }
   ],
   "source": [
    "tokenized_names[99]"
   ]
  },
  {
   "cell_type": "code",
   "execution_count": 65,
   "metadata": {
    "collapsed": true
   },
   "outputs": [],
   "source": [
    "from sklearn.feature_extraction.text import CountVectorizer"
   ]
  },
  {
   "cell_type": "code",
   "execution_count": 66,
   "metadata": {
    "collapsed": false
   },
   "outputs": [],
   "source": [
    "vectorizer = CountVectorizer(ngram_range=(1,3), min_df=0.0003)"
   ]
  },
  {
   "cell_type": "code",
   "execution_count": 102,
   "metadata": {
    "collapsed": false
   },
   "outputs": [],
   "source": [
    "a = vectorizer.fit_transform(tokenized_names)"
   ]
  },
  {
   "cell_type": "code",
   "execution_count": 103,
   "metadata": {
    "collapsed": false,
    "scrolled": true
   },
   "outputs": [
    {
     "data": {
      "text/plain": [
       "3453"
      ]
     },
     "execution_count": 103,
     "metadata": {},
     "output_type": "execute_result"
    }
   ],
   "source": [
    "len(vectorizer.get_feature_names())"
   ]
  },
  {
   "cell_type": "code",
   "execution_count": 104,
   "metadata": {
    "collapsed": false
   },
   "outputs": [
    {
     "data": {
      "text/plain": [
       "<3941x3453 sparse matrix of type '<type 'numpy.int64'>'\n",
       "\twith 28567 stored elements in Compressed Sparse Row format>"
      ]
     },
     "execution_count": 104,
     "metadata": {},
     "output_type": "execute_result"
    }
   ],
   "source": [
    "a"
   ]
  },
  {
   "cell_type": "code",
   "execution_count": 87,
   "metadata": {
    "collapsed": false
   },
   "outputs": [
    {
     "data": {
      "text/plain": [
       "1969"
      ]
     },
     "execution_count": 87,
     "metadata": {},
     "output_type": "execute_result"
    }
   ],
   "source": [
    "vectorizer.vocabulary_.get('minc')"
   ]
  },
  {
   "cell_type": "code",
   "execution_count": 88,
   "metadata": {
    "collapsed": false
   },
   "outputs": [
    {
     "data": {
      "text/plain": [
       "u'pie'"
      ]
     },
     "execution_count": 88,
     "metadata": {},
     "output_type": "execute_result"
    }
   ],
   "source": [
    "vectorizer.get_feature_names()[2256]"
   ]
  },
  {
   "cell_type": "code",
   "execution_count": 89,
   "metadata": {
    "collapsed": false
   },
   "outputs": [
    {
     "data": {
      "text/plain": [
       "208"
      ]
     },
     "execution_count": 89,
     "metadata": {},
     "output_type": "execute_result"
    }
   ],
   "source": [
    "sum(a.toarray()[:,2701])"
   ]
  },
  {
   "cell_type": "code",
   "execution_count": 90,
   "metadata": {
    "collapsed": false
   },
   "outputs": [],
   "source": [
    "from sklearn.feature_selection import f_regression, mutual_info_regression"
   ]
  },
  {
   "cell_type": "code",
   "execution_count": 91,
   "metadata": {
    "collapsed": false
   },
   "outputs": [],
   "source": [
    "# produces an array with mutual information (weights?) between individual words/n-grams in recipe names and cholesterol information\n",
    "mi = mutual_info_regression(X_train, y_train)\n",
    "mi /= np.max(mi)"
   ]
  },
  {
   "cell_type": "code",
   "execution_count": 92,
   "metadata": {
    "collapsed": true
   },
   "outputs": [
    {
     "data": {
      "text/plain": [
       "[(0, 0.025201561902403847, u'acorn'),\n",
       " (1, 0.025201561902403847, u'acorn squash'),\n",
       " (7, 0.013643215636660967, u'aioli'),\n",
       " (9, 0.039165795620042146, u'al tonno'),\n",
       " (13, 0.019242112105449811, u'alfredo'),\n",
       " (14, 0.020561987050747736, u'alfredo pasta'),\n",
       " (22, 0.021370763844375529, u'almond chicken'),\n",
       " (27, 0.066911568695689455, u'amaz pork tenderloin'),\n",
       " (40, 0.011787353267286972, u'and bacon'),\n",
       " (44, 0.014823240148492109, u'and bean'),\n",
       " (47, 0.015498066596474562, u'and blue'),\n",
       " (52, 0.04285270506006332, u'and broccoli'),\n",
       " (53, 0.012684320348783879, u'and broccoli pasta'),\n",
       " (62, 0.024166857098301325, u'and chees'),\n",
       " (63, 0.01099032321047597, u'and chees grit'),\n",
       " (66, 0.035510727175284952, u'and chicken'),\n",
       " (71, 0.014223340569421107, u'and coconut'),\n",
       " (82, 0.04340125002493856, u'and dumpl'),\n",
       " (84, 0.013561486399538152, u'and easi chicken'),\n",
       " (86, 0.042046663431006909, u'and egg'),\n",
       " (87, 0.050869294438138209, u'and egg salad'),\n",
       " (93, 0.028000117251897726, u'and garlic'),\n",
       " (94, 0.013057076901927209, u'and garlic scape'),\n",
       " (100, 0.085607033661091306, u'and grit'),\n",
       " (102, 0.010142730431457029, u'and honey'),\n",
       " (112, 0.019958632992574284, u'and mushroom sauc'),\n",
       " (118, 0.010168092374552488, u'and parmesan'),\n",
       " (122, 0.010141394892173933, u'and pasta in'),\n",
       " (125, 0.013405543488628928, u'and pecan'),\n",
       " (126, 0.01047664613927448, u'and pepper'),\n",
       " (135, 0.024548291045047986, u'and potato'),\n",
       " (137, 0.016499002039525552, u'and potato pie'),\n",
       " (168, 0.020330884493041639, u'and sour'),\n",
       " (175, 0.025923761722795119, u'and spinach'),\n",
       " (187, 0.012921242677962691, u'and tangi'),\n",
       " (192, 0.011078486436450975, u'and veget'),\n",
       " (193, 0.011114030527900052, u'and veggi'),\n",
       " (201, 0.011375362277234282, u'andouill'),\n",
       " (206, 0.020866742527431134, u'appl'),\n",
       " (208, 0.024923963512577332, u'appl bread'),\n",
       " (216, 0.033659946063866505, u'appl onion'),\n",
       " (217, 0.020161167768110905, u'appl pie'),\n",
       " (227, 0.024604063277482387, u'apricot'),\n",
       " (230, 0.023026738431295195, u'apricot pork'),\n",
       " (231, 0.023026738431295195, u'apricot pork chop'),\n",
       " (234, 0.013140504213713126, u'artichok chicken'),\n",
       " (238, 0.027089224936802742, u'asiago'),\n",
       " (239, 0.032758209380366714, u'asian'),\n",
       " (241, 0.021116146612195904, u'asian chicken and'),\n",
       " (244, 0.011550914622310776, u'asian salmon'),\n",
       " (247, 0.023835642313887816, u'asparagus'),\n",
       " (250, 0.025456233570844332, u'asparagus pasta'),\n",
       " (253, 0.015484476686644575, u'asparagus with'),\n",
       " (257, 0.030247056845498447, u'australian'),\n",
       " (262, 0.063382268359029464, u'avocado and'),\n",
       " (269, 0.012952969756714979, u'award'),\n",
       " (270, 0.012952969756714979, u'award win'),\n",
       " (271, 0.012952969756714979, u'award win soft'),\n",
       " (281, 0.070911121455690368, u'bacon'),\n",
       " (282, 0.027796685136003505, u'bacon and'),\n",
       " (283, 0.017099372225190056, u'bacon and egg'),\n",
       " (286, 0.055361131230252159, u'bacon devil'),\n",
       " (287, 0.055361131230252159, u'bacon devil egg'),\n",
       " (298, 0.11305298047045327, u'bake'),\n",
       " (301, 0.077572501310186698, u'bake chicken'),\n",
       " (306, 0.064344804814483417, u'bake coconut shrimp'),\n",
       " (309, 0.056325245101586673, u'bake ham'),\n",
       " (321, 0.029409983053044635, u'bake salmon'),\n",
       " (322, 0.014333333049229235, u'bake salmon with'),\n",
       " (338, 0.022908897187083742, u'banana cream pie'),\n",
       " (339, 0.061457195448123246, u'banana pie'),\n",
       " (343, 0.01065977872222885, u'barbecu'),\n",
       " (356, 0.031668816729548632, u'basil cream'),\n",
       " (364, 0.022942937406227291, u'bbq chicken'),\n",
       " (365, 0.021832732169040553, u'bbq chicken pizza'),\n",
       " (375, 0.035654017607732451, u'bean'),\n",
       " (376, 0.016944689322101972, u'bean and'),\n",
       " (384, 0.04198123632201637, u'beef'),\n",
       " (387, 0.011739682172044479, u'beef and cabbag'),\n",
       " (390, 0.024981865901845847, u'beef brisket'),\n",
       " (401, 0.015349883097087739, u'beefi'),\n",
       " (402, 0.046849591614010373, u'beer'),\n",
       " (406, 0.022323435950464269, u'beer butt chicken'),\n",
       " (407, 0.038596794669615402, u'beer can'),\n",
       " (408, 0.038596794669615402, u'beer can chicken'),\n",
       " (409, 0.014352853785680705, u'beer pull'),\n",
       " (410, 0.014352853785680705, u'beer pull pork'),\n",
       " (413, 0.020593463648691364, u'ben'),\n",
       " (415, 0.069384323706962472, u'best'),\n",
       " (416, 0.012005006228457946, u'best big'),\n",
       " (417, 0.012005006228457946, u'best big fat'),\n",
       " (419, 0.037471213961934209, u'best ever'),\n",
       " (427, 0.012005006228457946, u'big fat'),\n",
       " (428, 0.012005006228457946, u'big fat chewi'),\n",
       " (430, 0.015562367018863715, u'bird'),\n",
       " (431, 0.015562367018863715, u'bird eye'),\n",
       " (433, 0.021560174045313407, u'bisqu'),\n",
       " (436, 0.010804880487020352, u'black bean'),\n",
       " (440, 0.028192184858182815, u'blacken chicken'),\n",
       " (442, 0.026825104095368531, u'blacken tilapia'),\n",
       " (443, 0.031063874836582319, u'bleu'),\n",
       " (444, 0.023314895065737529, u'blue'),\n",
       " (445, 0.028086052074170323, u'blue chees'),\n",
       " (447, 0.011755564239628842, u'blue chees burger'),\n",
       " (450, 0.059853528948282234, u'blueberri'),\n",
       " (453, 0.016637028003947216, u'blueberri muffin'),\n",
       " (454, 0.020955347255103923, u'blueberri pie'),\n",
       " (456, 0.021689677335849273, u'boil'),\n",
       " (460, 0.010708764357948874, u'borscht'),\n",
       " (461, 0.017711899352764762, u'bourbon'),\n",
       " (465, 0.01312770189987369, u'bow'),\n",
       " (469, 0.010111125693043564, u'bow tie pasta'),\n",
       " (477, 0.019649624605729887, u'brais pork'),\n",
       " (482, 0.048988663985390334, u'bread'),\n",
       " (483, 0.010254043206923823, u'bread chicken'),\n",
       " (484, 0.010628775847190644, u'bread ii'),\n",
       " (489, 0.011748566130629634, u'breakfast spam'),\n",
       " (490, 0.045211058026276431, u'breast'),\n",
       " (494, 0.018696680617021125, u'breast with'),\n",
       " (495, 0.013081731030027023, u'brie'),\n",
       " (498, 0.024981865901845847, u'brisket'),\n",
       " (507, 0.012684320348783879, u'broccoli pasta'),\n",
       " (508, 0.024314143087330296, u'broccoli rabe'),\n",
       " (511, 0.010905229645921404, u'broccoli soup'),\n",
       " (514, 0.011359777436737823, u'broil'),\n",
       " (525, 0.01002773941226703, u'brown rice'),\n",
       " (527, 0.011372598728346568, u'brown sugar'),\n",
       " (531, 0.021829722307061726, u'brown sugar meatloaf'),\n",
       " (533, 0.01537667609073462, u'brunch'),\n",
       " (534, 0.01537667609073462, u'brunch casserol'),\n",
       " (537, 0.012337631077939039, u'brussel'),\n",
       " (538, 0.012337631077939039, u'brussel sprout'),\n",
       " (543, 0.018536371984982449, u'buffalo chicken and'),\n",
       " (544, 0.01346519966468834, u'buffalo chicken mac'),\n",
       " (547, 0.019841826161301562, u'burger'),\n",
       " (550, 0.02814121970340118, u'busi'),\n",
       " (551, 0.02814121970340118, u'busi day'),\n",
       " (552, 0.02814121970340118, u'busi day chicken'),\n",
       " (555, 0.022323435950464269, u'butt chicken'),\n",
       " (556, 0.014532336790482051, u'butter'),\n",
       " (564, 0.012350507959184093, u'buttermilk fri'),\n",
       " (565, 0.012350507959184093, u'buttermilk fri chicken'),\n",
       " (566, 0.02200524046057686, u'butternut'),\n",
       " (567, 0.02200524046057686, u'butternut squash'),\n",
       " (568, 0.011960085964525998, u'butternut squash soup'),\n",
       " (574, 0.012535361781942514, u'cacciator'),\n",
       " (576, 0.01547873909992132, u'caesar salad'),\n",
       " (583, 0.029351293620677638, u'calamari'),\n",
       " (584, 0.029351293620677638, u'calamari in'),\n",
       " (591, 0.02597294979975729, u'campbell slow cook'),\n",
       " (592, 0.026157512099997164, u'can'),\n",
       " (593, 0.04274756310038394, u'can chicken'),\n",
       " (602, 0.022279338310310617, u'caramel appl'),\n",
       " (603, 0.028788841297002758, u'caramel appl pie'),\n",
       " (604, 0.014006783978467113, u'caramel chicken'),\n",
       " (605, 0.057927895111459883, u'caramel corn'),\n",
       " (612, 0.024289926543569217, u'carrot'),\n",
       " (617, 0.016476727758957737, u'cashew'),\n",
       " (618, 0.012816742977301799, u'cashew chicken'),\n",
       " (619, 0.040217829095195341, u'casserol'),\n",
       " (622, 0.042462501550257638, u'cauliflow'),\n",
       " (623, 0.012567775370001704, u'cauliflow pasta'),\n",
       " (628, 0.031340134064975669, u'chard'),\n",
       " (631, 0.11683983586826387, u'chees'),\n",
       " (634, 0.011755564239628842, u'chees burger'),\n",
       " (635, 0.015379179897761198, u'chees chicken'),\n",
       " (637, 0.033055793317106397, u'chees frost'),\n",
       " (638, 0.019414860695575589, u'chees grit'),\n",
       " (640, 0.05325436863436616, u'chees pie'),\n",
       " (641, 0.010450093128772812, u'chees pie ii'),\n",
       " (644, 0.032268291098451321, u'chees sandwich'),\n",
       " (650, 0.033618653720683699, u'cheeseburg'),\n",
       " (651, 0.020492916665833534, u'cheeseburg pie'),\n",
       " (655, 0.012901816581552469, u'cheesi'),\n",
       " (658, 0.01106727850535796, u'cheesi chicken'),\n",
       " (667, 0.029662199861920573, u'chef'),\n",
       " (668, 0.029662199861920573, u'chef john'),\n",
       " (671, 0.018104712329549438, u'chef john chicken'),\n",
       " (673, 0.010637452190778144, u'chef john grill'),\n",
       " (677, 0.011521199515691137, u'chef john shrimp'),\n",
       " (684, 0.013592740704706251, u'cherri cream'),\n",
       " (686, 0.020232073139119913, u'chewi'),\n",
       " (687, 0.020232073139119913, u'chewi chocol'),\n",
       " (688, 0.020232073139119913, u'chewi chocol chip'),\n",
       " (689, 0.85291910717828912, u'chicken'),\n",
       " (691, 0.023311613130648775, u'chicken alfredo'),\n",
       " (692, 0.017778961573391944, u'chicken and'),\n",
       " (696, 0.011746394057747116, u'chicken and broccoli'),\n",
       " (697, 0.024254321157089025, u'chicken and corn'),\n",
       " (698, 0.04340125002493856, u'chicken and dumpl'),\n",
       " (703, 0.015644140728275076, u'chicken and rice'),\n",
       " (722, 0.04390611986761507, u'chicken breast'),\n",
       " (725, 0.018696680617021125, u'chicken breast with'),\n",
       " (731, 0.01549258828625665, u'chicken cacciator'),\n",
       " (732, 0.010277575389876958, u'chicken casserol'),\n",
       " (733, 0.014775289575343751, u'chicken chili'),\n",
       " (735, 0.031063874836582319, u'chicken cordon'),\n",
       " (736, 0.031063874836582319, u'chicken cordon bleu'),\n",
       " (737, 0.052702819722943085, u'chicken curri'),\n",
       " (738, 0.012532895841885631, u'chicken curri with'),\n",
       " (741, 0.019338735207456374, u'chicken enchilada'),\n",
       " (743, 0.012873680032162563, u'chicken fajita'),\n",
       " (748, 0.029679771968229213, u'chicken fri venison'),\n",
       " (750, 0.011289746123433626, u'chicken gumbo'),\n",
       " (753, 0.032734588745831329, u'chicken in'),\n",
       " (758, 0.01496407167850237, u'chicken la'),\n",
       " (759, 0.011671977015010594, u'chicken la king'),\n",
       " (760, 0.011634905770102476, u'chicken lettuc'),\n",
       " (761, 0.011634905770102476, u'chicken lettuc wrap'),\n",
       " (762, 0.025146625208202773, u'chicken mac'),\n",
       " (763, 0.01346519966468834, u'chicken mac and'),\n",
       " (764, 0.010229923793440274, u'chicken marsala'),\n",
       " (768, 0.036076709201529222, u'chicken parmesan'),\n",
       " (776, 0.020711223960334976, u'chicken pizza'),\n",
       " (781, 0.03252493939777016, u'chicken rollup'),\n",
       " (786, 0.01211212622029012, u'chicken sausag'),\n",
       " (796, 0.012673945277539589, u'chicken spinach'),\n",
       " (798, 0.025607320704061021, u'chicken stir'),\n",
       " (799, 0.025607320704061021, u'chicken stir fri'),\n",
       " (806, 0.018997155118150127, u'chicken teriyaki'),\n",
       " (815, 0.094275387527058274, u'chicken wing'),\n",
       " (817, 0.067295668650820359, u'chicken with'),\n",
       " (818, 0.014454143944637982, u'chicken with avocado'),\n",
       " (826, 0.01258433621638352, u'chicken with rice'),\n",
       " (827, 0.021953641187934962, u'chicken with sweet'),\n",
       " (832, 0.065890830745598233, u'chili'),\n",
       " (835, 0.02752979223241122, u'chines'),\n",
       " (841, 0.081747931067226096, u'chip'),\n",
       " (842, 0.10144976541772767, u'chip cooki'),\n",
       " (843, 0.024660711871384033, u'chip muffin'),\n",
       " (845, 0.015711716518620387, u'chip pumpkin'),\n",
       " (846, 0.015711716518620387, u'chip pumpkin cooki'),\n",
       " (851, 0.10380445350766351, u'chocol'),\n",
       " (854, 0.073906325986371521, u'chocol chip'),\n",
       " (855, 0.091548964747775935, u'chocol chip cooki'),\n",
       " (856, 0.024660711871384033, u'chocol chip muffin'),\n",
       " (858, 0.015711716518620387, u'chocol chip pumpkin'),\n",
       " (864, 0.020361095980390445, u'chocol pecan'),\n",
       " (865, 0.020361095980390445, u'chocol pecan pie'),\n",
       " (868, 0.48438762851510353, u'chop'),\n",
       " (885, 0.038451585743982275, u'chop with'),\n",
       " (886, 0.011267713852517135, u'chop with appl'),\n",
       " (889, 0.017974334259482787, u'chop with fresh'),\n",
       " (895, 0.039848977998730196, u'chowder'),\n",
       " (899, 0.051118588131694363, u'cider'),\n",
       " (924, 0.010291602491735335, u'coconut chicken'),\n",
       " (926, 0.034564024960913931, u'coconut cream'),\n",
       " (927, 0.034509648737303236, u'coconut cream pie'),\n",
       " (929, 0.013500072891858705, u'coconut crust tilapia'),\n",
       " (936, 0.030094424732543801, u'coconut pie'),\n",
       " (939, 0.010695084198679724, u'coconut shrimp with'),\n",
       " (951, 0.28808331265099091, u'cooker'),\n",
       " (958, 0.010831409401356152, u'cooker beef'),\n",
       " (962, 0.061398223032615815, u'cooker chicken'),\n",
       " (963, 0.033730957596193482, u'cooker chicken and'),\n",
       " (970, 0.018267984955018971, u'cooker chicken taco'),\n",
       " (973, 0.014404010482142019, u'cooker chicken with'),\n",
       " (977, 0.06049465899267098, u'cooker cranberri pork'),\n",
       " (987, 0.057103499913266659, u'cooker pork'),\n",
       " (989, 0.016982102858735044, u'cooker pork chop'),\n",
       " (994, 0.018344164920509748, u'cooker pot'),\n",
       " (995, 0.018344164920509748, u'cooker pot roast'),\n",
       " (996, 0.0432341620204542, u'cooker pull'),\n",
       " (997, 0.048807308690958708, u'cooker pull pork'),\n",
       " (1006, 0.016827623403604278, u'cooker stew'),\n",
       " (1009, 0.027350750410944012, u'cooker thai'),\n",
       " (1010, 0.012952076428979907, u'cooker thai pork'),\n",
       " (1011, 0.023216704021213258, u'cooker venison'),\n",
       " (1014, 0.20866480410289032, u'cooki'),\n",
       " (1015, 0.0303407770408817, u'cooki from'),\n",
       " (1016, 0.02133794959781821, u'cooki from karo'),\n",
       " (1019, 0.031063874836582319, u'cordon'),\n",
       " (1020, 0.031063874836582319, u'cordon bleu'),\n",
       " (1021, 0.021256986120889197, u'corn'),\n",
       " (1022, 0.013711187919478188, u'corn and'),\n",
       " (1023, 0.011739682172044479, u'corn beef'),\n",
       " (1024, 0.011739682172044479, u'corn beef and'),\n",
       " (1025, 0.012005160674997548, u'corn chowder'),\n",
       " (1026, 0.012601116295074736, u'corn salad'),\n",
       " (1027, 0.025611291108049248, u'corn soup'),\n",
       " (1037, 0.010500297617077983, u'crab'),\n",
       " (1038, 0.015850122608932701, u'crab stuf'),\n",
       " (1041, 0.06516217411978889, u'cranberri'),\n",
       " (1043, 0.010909900461510918, u'cranberri appl'),\n",
       " (1047, 0.06049465899267098, u'cranberri pork'),\n",
       " (1049, 0.063165595321769991, u'cream'),\n",
       " (1050, 0.017834960677342179, u'cream appl'),\n",
       " (1051, 0.017834960677342179, u'cream appl pie'),\n",
       " (1052, 0.083590113793714602, u'cream chees'),\n",
       " (1053, 0.014852054947044831, u'cream chees and'),\n",
       " (1054, 0.014137339674467616, u'cream chees chicken'),\n",
       " (1055, 0.033055793317106397, u'cream chees frost'),\n",
       " (1056, 0.011112381146115536, u'cream chees pie'),\n",
       " (1057, 0.030104288731479221, u'cream chicken'),\n",
       " (1060, 0.037729204532411395, u'cream pie'),\n",
       " (1065, 0.053961788550877042, u'cream sauc'),\n",
       " (1068, 0.04826248343961094, u'creami'),\n",
       " (1074, 0.010569540489777677, u'creami dill'),\n",
       " (1075, 0.010569540489777677, u'creami dill sauc'),\n",
       " (1104, 0.021811485635722019, u'crock pot'),\n",
       " (1108, 0.035723237475158653, u'crust'),\n",
       " (1115, 0.016942196958520755, u'crust tilapia'),\n",
       " (1126, 0.016397758082230152, u'cup'),\n",
       " (1127, 0.013392195531014221, u'cupcak'),\n",
       " (1128, 0.012097246692292594, u'cupcak with'),\n",
       " (1131, 0.071418040271321176, u'curri'),\n",
       " (1132, 0.05491337559996199, u'curri chicken'),\n",
       " (1135, 0.024367123342149844, u'curri with'),\n",
       " (1136, 0.01468456977916411, u'curri with chicken'),\n",
       " (1137, 0.094447215701133777, u'custard'),\n",
       " (1138, 0.083086829662033124, u'custard pie'),\n",
       " (1139, 0.011603375088871506, u'custard pie ii'),\n",
       " (1147, 0.02814121970340118, u'day chicken'),\n",
       " (1165, 0.074227359314160538, u'devil'),\n",
       " (1166, 0.063230231314109639, u'devil egg'),\n",
       " (1169, 0.057927895111459883, u'die'),\n",
       " (1170, 0.057927895111459883, u'die for'),\n",
       " (1171, 0.057927895111459883, u'die for blueberri'),\n",
       " (1172, 0.015003732729482449, u'dijon'),\n",
       " (1176, 0.020829292638608707, u'dill'),\n",
       " (1180, 0.026517500491097707, u'dinner'),\n",
       " (1181, 0.03427420014942778, u'dip'),\n",
       " (1182, 0.014655375851771421, u'dip sauc'),\n",
       " (1187, 0.010175044105806517, u'doubl chocol chip'),\n",
       " (1203, 0.043802569907376777, u'dumpl'),\n",
       " (1216, 0.027525566558876592, u'easi cheeseburg'),\n",
       " (1217, 0.01756806307745732, u'easi cheeseburg pie'),\n",
       " (1218, 0.018733885317038408, u'easi cheesi'),\n",
       " (1221, 0.016884922353905235, u'easi chicken'),\n",
       " (1231, 0.010642886833989689, u'easi mini'),\n",
       " (1233, 0.024506117913666484, u'easi one pot'),\n",
       " (1245, 0.012802473320322326, u'easi shrimp'),\n",
       " (1246, 0.012597480413113428, u'easi slow'),\n",
       " (1247, 0.012597480413113428, u'easi slow cooker'),\n",
       " (1258, 0.11409981000444948, u'egg'),\n",
       " (1260, 0.01537667609073462, u'egg brunch'),\n",
       " (1261, 0.01537667609073462, u'egg brunch casserol'),\n",
       " (1264, 0.050869294438138209, u'egg salad'),\n",
       " (1266, 0.017006425296645082, u'eggplant'),\n",
       " (1269, 0.01279171122288697, u'eggplant pasta'),\n",
       " (1276, 0.031931738774369368, u'enchilada'),\n",
       " (1279, 0.021345895055021522, u'ever'),\n",
       " (1289, 0.010179784360962974, u'fast'),\n",
       " (1293, 0.012005006228457946, u'fat chewi'),\n",
       " (1294, 0.012005006228457946, u'fat chewi chocol'),\n",
       " (1295, 0.011314674085174848, u'favorit'),\n",
       " (1297, 0.015453153769246343, u'fennel and'),\n",
       " (1308, 0.010875184048015126, u'fig sauc'),\n",
       " (1320, 0.045937165915514361, u'flank'),\n",
       " (1321, 0.045937165915514361, u'flank steak'),\n",
       " (1322, 0.013910841695549103, u'flank steak with'),\n",
       " (1330, 0.057927895111459883, u'for blueberri'),\n",
       " (1331, 0.057927895111459883, u'for blueberri muffin'),\n",
       " (1348, 0.013630687504760043, u'french onion'),\n",
       " (1349, 0.013630687504760043, u'french onion soup'),\n",
       " (1351, 0.011120322149588493, u'fresh'),\n",
       " (1354, 0.01660577568695747, u'fri'),\n",
       " (1356, 0.011879894910267726, u'fri chicken and'),\n",
       " (1358, 0.02400545484072894, u'fri chicken with'),\n",
       " (1370, 0.014304351757445448, u'fri venison'),\n",
       " (1371, 0.029679771968229213, u'fri venison steak'),\n",
       " (1372, 0.010672188159102423, u'fri with'),\n",
       " (1373, 0.010876929969938847, u'fridg'),\n",
       " (1374, 0.030371042366912217, u'frittata'),\n",
       " (1376, 0.019613789215583436, u'frogmor'),\n",
       " (1377, 0.019613789215583436, u'frogmor stew'),\n",
       " (1378, 0.055614352540716464, u'from'),\n",
       " (1379, 0.015562367018863715, u'from bird'),\n",
       " (1380, 0.015562367018863715, u'from bird eye'),\n",
       " (1389, 0.017156638051911623, u'from swanson'),\n",
       " (1390, 0.020593463648691364, u'from uncl'),\n",
       " (1391, 0.020593463648691364, u'from uncl ben'),\n",
       " (1392, 0.039813115524667007, u'frost'),\n",
       " (1400, 0.011634840880649621, u'fusion'),\n",
       " (1405, 0.020176417247599759, u'garl shrimp'),\n",
       " (1414, 0.035239470071952196, u'garlic chicken'),\n",
       " (1416, 0.019741398015370715, u'garlic chicken breast'),\n",
       " (1425, 0.012754668097966396, u'garlic pork'),\n",
       " (1428, 0.010836323988653024, u'garlic roast chicken'),\n",
       " (1431, 0.013057076901927209, u'garlic scape'),\n",
       " (1432, 0.034784665882965596, u'garlic shrimp'),\n",
       " (1433, 0.018646700512800346, u'garlic shrimp and'),\n",
       " (1434, 0.019601728665669716, u'garlic shrimp with'),\n",
       " (1440, 0.074471744320837752, u'ginger'),\n",
       " (1442, 0.031418679789833301, u'ginger cooki'),\n",
       " (1445, 0.064344804814483417, u'ginger salmon'),\n",
       " (1446, 0.014062199515471139, u'ginger shrimp'),\n",
       " (1447, 0.011136768543791468, u'ginger shrimp and'),\n",
       " (1477, 0.010920298884962976, u'gorgonzola and'),\n",
       " (1478, 0.010920298884962976, u'gorgonzola and appl'),\n",
       " (1496, 0.013558111521900642, u'gravi'),\n",
       " (1503, 0.022828394535966492, u'green'),\n",
       " (1511, 0.041196584583104323, u'grill'),\n",
       " (1512, 0.033714554339057325, u'grill chees'),\n",
       " (1513, 0.014550917032385258, u'grill chees and'),\n",
       " (1514, 0.027418648869900988, u'grill chees sandwich'),\n",
       " (1515, 0.02673393815085346, u'grill chicken'),\n",
       " (1518, 0.010264217936608918, u'grill chicken with'),\n",
       " (1519, 0.020788420618961669, u'grill lamb'),\n",
       " (1524, 0.025165792005372445, u'grill pork'),\n",
       " (1525, 0.037939371051903328, u'grill pork chop'),\n",
       " (1526, 0.010503859188536795, u'grill portobello'),\n",
       " (1527, 0.019706507085738689, u'grill rosemari'),\n",
       " (1528, 0.040184860395077057, u'grill salmon'),\n",
       " (1529, 0.021168440063650144, u'grill salmon with'),\n",
       " (1530, 0.14059053627154039, u'grill shrimp'),\n",
       " (1535, 0.11270364304248387, u'grit'),\n",
       " (1536, 0.017410069752493998, u'grit with'),\n",
       " (1541, 0.025982731361052815, u'gumbo'),\n",
       " (1547, 0.17321290950143534, u'ham'),\n",
       " (1548, 0.023971387497415415, u'ham and'),\n",
       " (1555, 0.013587421535165928, u'hamburg'),\n",
       " (1560, 0.011011477732201604, u'hamburg steak'),\n",
       " (1562, 0.014191262726384959, u'happi'),\n",
       " (1563, 0.022832980449319272, u'harvest'),\n",
       " (1567, 0.011929325994944347, u'hash with'),\n",
       " (1572, 0.014192743281203776, u'healthier'),\n",
       " (1584, 0.017847381599566937, u'herb'),\n",
       " (1586, 0.023482154395206668, u'herb chicken'),\n",
       " (1598, 0.010619056212288123, u'honey'),\n",
       " (1604, 0.014491118003010056, u'honey garlic chicken'),\n",
       " (1633, 0.022625895217506371, u'imposs'),\n",
       " (1636, 0.017449194026057241, u'imposs easi'),\n",
       " (1638, 0.01756806307745732, u'imposs easi cheeseburg'),\n",
       " (1639, 0.010642886833989689, u'imposs easi mini'),\n",
       " (1641, 0.010970194284763198, u'imposs pumpkin'),\n",
       " (1642, 0.010970194284763198, u'imposs pumpkin pie'),\n",
       " (1645, 0.010665618907087343, u'in caper'),\n",
       " (1658, 0.021861906915327359, u'in onion and'),\n",
       " (1672, 0.024939504255552292, u'in tomato'),\n",
       " (1675, 0.010952235815886937, u'in wine'),\n",
       " (1676, 0.010952235815886937, u'in wine sauc'),\n",
       " (1689, 0.013496842181763682, u'irish shepherd'),\n",
       " (1690, 0.013496842181763682, u'irish shepherd pie'),\n",
       " (1696, 0.012817239815917291, u'italian'),\n",
       " (1699, 0.013331316520741876, u'italian chicken'),\n",
       " (1704, 0.016919261847280695, u'italian ricotta'),\n",
       " (1727, 0.01075170368807985, u'jelli'),\n",
       " (1730, 0.036328968686649414, u'jerki'),\n",
       " (1732, 0.029252159864140773, u'john'),\n",
       " (1735, 0.018104712329549438, u'john chicken'),\n",
       " (1739, 0.010637452190778144, u'john grill'),\n",
       " (1743, 0.011521199515691137, u'john shrimp'),\n",
       " (1750, 0.010291980428870414, u'kabob'),\n",
       " (1761, 0.014482673692195934, u'ketchup'),\n",
       " (1763, 0.020900407382291472, u'key'),\n",
       " (1764, 0.020900407382291472, u'key lime'),\n",
       " (1765, 0.020900407382291472, u'key west'),\n",
       " (1772, 0.011439774233186923, u'king'),\n",
       " (1777, 0.010658119477210411, u'la'),\n",
       " (1790, 0.10541891787154772, u'lemon'),\n",
       " (1797, 0.029920335184280212, u'lemon chicken'),\n",
       " (1801, 0.021530198460659015, u'lemon cream sauc'),\n",
       " (1805, 0.022258221322028045, u'lemon garlic'),\n",
       " (1806, 0.012678550921034299, u'lemon garlic chicken'),\n",
       " (1810, 0.010020989527219731, u'lemon herb'),\n",
       " (1814, 0.011725819281355604, u'lemon pepper'),\n",
       " (1815, 0.010315915697813769, u'lemon pepper chicken'),\n",
       " (1822, 0.029545570985949086, u'lemon tilapia'),\n",
       " (1823, 0.017147622328243697, u'lemongrass'),\n",
       " (1826, 0.045235420952616831, u'lentil'),\n",
       " (1827, 0.035463528084707999, u'lentil soup'),\n",
       " (1829, 0.045166448126050952, u'lettuc'),\n",
       " (1830, 0.045166448126050952, u'lettuc wrap'),\n",
       " (1831, 0.019214708815535768, u'light'),\n",
       " (1842, 0.012492704784279645, u'lime saute'),\n",
       " (1843, 0.012492704784279645, u'lime saute shrimp'),\n",
       " (1851, 0.020086778126780468, u'loaf'),\n",
       " (1853, 0.13010664531908656, u'lobster'),\n",
       " (1855, 0.021840910226929102, u'lobster sauc'),\n",
       " (1856, 0.073837621444159701, u'lobster tail'),\n",
       " (1857, 0.13056703507076084, u'loin'),\n",
       " (1863, 0.010060077071870762, u'loin roast'),\n",
       " (1865, 0.010683711721741686, u'loin stuf'),\n",
       " (1866, 0.010683711721741686, u'loin stuf with'),\n",
       " (1868, 0.027671870472083807, u'loui'),\n",
       " (1869, 0.032489538886546931, u'loui rib'),\n",
       " (1876, 0.012507615245162029, u'lowcountri'),\n",
       " (1877, 0.012507615245162029, u'lowcountri shrimp'),\n",
       " (1878, 0.012507615245162029, u'lowcountri shrimp and'),\n",
       " (1881, 0.01346519966468834, u'mac and'),\n",
       " (1882, 0.01346519966468834, u'mac and chees'),\n",
       " (1893, 0.010733720558707298, u'man'),\n",
       " (1894, 0.033691279128658422, u'mango'),\n",
       " (1897, 0.013074916824582564, u'mango salsa'),\n",
       " (1899, 0.01381725000776649, u'manok'),\n",
       " (1900, 0.016708958164782284, u'mapl'),\n",
       " (1903, 0.01108442839089499, u'mapl pecan'),\n",
       " (1904, 0.01108442839089499, u'mapl pecan pie'),\n",
       " (1905, 0.011793360445470224, u'mapl walnut'),\n",
       " (1906, 0.012698499751442252, u'maple'),\n",
       " (1912, 0.034509269405005406, u'marin'),\n",
       " (1913, 0.014760580548651429, u'marin chicken'),\n",
       " (1914, 0.018176292201761066, u'marin flank'),\n",
       " (1915, 0.018176292201761066, u'marin flank steak'),\n",
       " (1918, 0.019707138046279084, u'marin pork tenderloin'),\n",
       " (1926, 0.015859987217136624, u'masala'),\n",
       " (1927, 0.014626612267161531, u'mash'),\n",
       " (1928, 0.014626612267161531, u'mash potato'),\n",
       " (1936, 0.015420787459269104, u'meat loaf'),\n",
       " (1945, 0.070628808375590213, u'meatloaf'),\n",
       " (1948, 0.029950957753437903, u'mediterranean'),\n",
       " (1949, 0.030649380647206573, u'mediterranean pasta'),\n",
       " (1950, 0.015375120882518675, u'mein'),\n",
       " (1955, 0.010033736596413113, u'meringu pie'),\n",
       " (1957, 0.020776901973430847, u'mexican beef'),\n",
       " (1959, 0.011080004386190823, u'mexican chicken'),\n",
       " (1961, 0.035366945269894222, u'mexican rice'),\n",
       " (1969, 0.01267119625738241, u'minc'),\n",
       " (1971, 0.014317039446240304, u'minestron'),\n",
       " (1972, 0.014317039446240304, u'minestron soup'),\n",
       " (1973, 0.041243678268610487, u'mini'),\n",
       " (1984, 0.010553976603470456, u'miso salmon'),\n",
       " (2004, 0.059211277052064588, u'moos'),\n",
       " (2005, 0.059211277052064588, u'moos roast'),\n",
       " (2011, 0.02562613946657662, u'mouss'),\n",
       " (2014, 0.1468868800035035, u'muffin'),\n",
       " (2015, 0.011377529844620721, u'muffin with'),\n",
       " (2033, 0.022689891830702396, u'mushroom stuf chicken'),\n",
       " (2038, 0.013054627601211739, u'mustard glaze'),\n",
       " (2051, 0.025980753708651761, u'night'),\n",
       " (2058, 0.012297918786062711, u'nugget'),\n",
       " (2062, 0.013903475797984345, u'oatmeal'),\n",
       " (2079, 0.011499116382395336, u'one'),\n",
       " (2082, 0.032708692474601272, u'one pot'),\n",
       " (2083, 0.039985125901922443, u'one pot pasta'),\n",
       " (2085, 0.010362689219325871, u'onion and'),\n",
       " (2091, 0.010725724729580836, u'onion pork'),\n",
       " (2093, 0.013630687504760043, u'onion soup'),\n",
       " (2097, 0.032344547564269882, u'orang'),\n",
       " (2100, 0.056644513170856864, u'orang chicken stir'),\n",
       " (2105, 0.012862328881386073, u'orang salmon'),\n",
       " (2107, 0.01318670355292639, u'orang sauc'),\n",
       " (2109, 0.021942940777263258, u'orang vinaigrett'),\n",
       " (2111, 0.016342779439796611, u'orange glaz'),\n",
       " (2133, 0.017117028678907766, u'paleo chicken'),\n",
       " (2134, 0.017117028678907766, u'paleo chicken with'),\n",
       " (2136, 0.043360178244076453, u'pan'),\n",
       " (2137, 0.038940897860898611, u'pan fri'),\n",
       " (2142, 0.021210930705193979, u'pan sear'),\n",
       " (2146, 0.041237764831071708, u'pancak'),\n",
       " (2153, 0.014028581648077642, u'paprika'),\n",
       " (2156, 0.010832652670600138, u'paradis'),\n",
       " (2157, 0.010832652670600138, u'paradis pumpkin'),\n",
       " (2158, 0.010832652670600138, u'paradis pumpkin pie'),\n",
       " (2160, 0.011620770289977284, u'parmesan'),\n",
       " (2164, 0.061778040933274006, u'parmesan crust tilapia'),\n",
       " (2167, 0.021410106756584005, u'parmesan tilapia'),\n",
       " (2169, 0.01754147700907353, u'parmigiana'),\n",
       " (2171, 0.21412614538411068, u'pasta'),\n",
       " (2175, 0.013477639624648707, u'pasta casserol'),\n",
       " (2176, 0.011978965661791444, u'pasta con'),\n",
       " (2181, 0.039097636162544566, u'pasta sauc'),\n",
       " (2183, 0.050563312937828918, u'pasta with'),\n",
       " (2184, 0.012590089803717912, u'pasta with asparagus'),\n",
       " (2190, 0.019461830006152474, u'pasta with spinach'),\n",
       " (2194, 0.01955164139785975, u'pea'),\n",
       " (2203, 0.095697898755907465, u'peanut'),\n",
       " (2204, 0.020467452176656624, u'peanut butter'),\n",
       " (2207, 0.064789739178063369, u'peanut sauc'),\n",
       " (2210, 0.1704842452323983, u'pecan'),\n",
       " (2212, 0.1762499635905857, u'pecan pie'),\n",
       " (2213, 0.010584087342481847, u'pecan pie ii'),\n",
       " (2214, 0.028368029212231437, u'pecan pie iii'),\n",
       " (2216, 0.011769344899112357, u'pecan pie tart'),\n",
       " (2218, 0.026813977904401418, u'penn'),\n",
       " (2219, 0.01267233058821873, u'penn pasta'),\n",
       " (2220, 0.024679607992243953, u'penn pasta with'),\n",
       " (2227, 0.017187368813805653, u'pepper chicken'),\n",
       " (2230, 0.021188088344789757, u'pepper cream'),\n",
       " (2231, 0.021188088344789757, u'pepper cream sauc'),\n",
       " (2237, 0.057927895111459883, u'pepper steak'),\n",
       " (2242, 0.018762607036316117, u'pernil'),\n",
       " (2256, 0.34633571901991145, u'pie'),\n",
       " (2266, 0.011769344899112357, u'pie tart'),\n",
       " (2271, 0.071034859164897685, u'pineappl'),\n",
       " (2272, 0.011905008110785424, u'pineappl chicken'),\n",
       " (2275, 0.01883086134220149, u'pineappl fri'),\n",
       " (2276, 0.01883086134220149, u'pineappl fri rice'),\n",
       " (2280, 0.010695567074537579, u'pineappl pork'),\n",
       " (2288, 0.017381923840358058, u'pizza'),\n",
       " (2294, 0.010325529432036178, u'plum glaze'),\n",
       " (2296, 0.010421997954942867, u'poach'),\n",
       " (2297, 0.01365392135332164, u'poach salmon'),\n",
       " (2303, 0.010733720558707298, u'poor'),\n",
       " (2304, 0.010733720558707298, u'poor man'),\n",
       " (2308, 0.71507922476045149, u'pork'),\n",
       " (2309, 0.020804211426154958, u'pork and'),\n",
       " (2311, 0.017407733549701477, u'pork and sauerkraut'),\n",
       " (2314, 0.44540686062949025, u'pork chop'),\n",
       " (2324, 0.04558829519826129, u'pork chop with'),\n",
       " (2326, 0.012476214796705352, u'pork in'),\n",
       " (2328, 0.12346911049910747, u'pork loin'),\n",
       " (2331, 0.010060077071870762, u'pork loin roast'),\n",
       " (2332, 0.010683711721741686, u'pork loin stuf'),\n",
       " (2340, 0.048580880925614925, u'pork roast'),\n",
       " (2345, 0.010696599554555829, u'pork steak'),\n",
       " (2347, 0.095552223364057512, u'pork tenderloin'),\n",
       " (2348, 0.011240494174628, u'pork tenderloin in'),\n",
       " (2349, 0.022608161042683355, u'pork tenderloin with'),\n",
       " (2350, 0.035779134262407745, u'pork with'),\n",
       " (2351, 0.025433315877520395, u'pork with appl'),\n",
       " (2353, 0.010925613383710342, u'port and'),\n",
       " (2357, 0.033711416091871636, u'portobello'),\n",
       " (2361, 0.018071766466865723, u'pot'),\n",
       " (2362, 0.039985125901922443, u'pot pasta'),\n",
       " (2363, 0.015840956069192051, u'pot pie'),\n",
       " (2366, 0.017578993998970987, u'pot roast'),\n",
       " (2367, 0.044836985901618311, u'potato'),\n",
       " (2373, 0.012206718875465088, u'potato from'),\n",
       " (2374, 0.012206718875465088, u'potato from swanson'),\n",
       " (2375, 0.016830691605145123, u'potato gratin'),\n",
       " (2379, 0.051502458723558707, u'potato soup'),\n",
       " (2380, 0.027838544197019401, u'potato with'),\n",
       " (2393, 0.017609406189036239, u'progresso'),\n",
       " (2399, 0.018006892905453525, u'puerto'),\n",
       " (2400, 0.018006892905453525, u'puerto rican'),\n",
       " (2402, 0.10622410532653086, u'pull'),\n",
       " (2405, 0.10496174966598198, u'pull pork'),\n",
       " (2409, 0.16582570215072595, u'pumpkin'),\n",
       " (2411, 0.044742803165205562, u'pumpkin bread'),\n",
       " (2414, 0.032346944240138967, u'pumpkin chocol'),\n",
       " (2415, 0.032346944240138967, u'pumpkin chocol chip'),\n",
       " (2416, 0.012861793315907718, u'pumpkin cooki'),\n",
       " (2418, 0.017229225417687434, u'pumpkin muffin'),\n",
       " (2419, 0.011377529844620721, u'pumpkin muffin with'),\n",
       " (2422, 0.057614316494330589, u'pumpkin pie'),\n",
       " (2425, 0.013232385948881353, u'pumpkin pud'),\n",
       " (2426, 0.013232385948881353, u'pumpkin pud pie'),\n",
       " (2428, 0.047065905799454952, u'pumpkin scone'),\n",
       " (2430, 0.018455680028491978, u'quich'),\n",
       " (2435, 0.018977267860644482, u'quinoa'),\n",
       " (2437, 0.024314143087330296, u'rabe'),\n",
       " (2446, 0.019352699222193074, u'ranch'),\n",
       " (2447, 0.013284062321470218, u'ranch chicken'),\n",
       " (2460, 0.020728080427837584, u'red lentil'),\n",
       " (2477, 0.055909449871523985, u'rhubarb'),\n",
       " (2480, 0.027428864366800691, u'rhubarb custard'),\n",
       " (2481, 0.027428864366800691, u'rhubarb custard pie'),\n",
       " (2482, 0.040536650607152433, u'rhubarb pie'),\n",
       " (2483, 0.17073028055719647, u'rib'),\n",
       " (2484, 0.018006892905453525, u'rican'),\n",
       " (2488, 0.014423974977604549, u'rice and'),\n",
       " (2491, 0.015668049433650882, u'rice casserol'),\n",
       " (2492, 0.015774499943614764, u'rice chicken'),\n",
       " (2497, 0.021942940777263258, u'rice salad'),\n",
       " (2504, 0.017817748144470579, u'ricotta chees'),\n",
       " (2510, 0.18944644318371018, u'roast'),\n",
       " (2517, 0.26687078017472649, u'roast chicken'),\n",
       " (2519, 0.045073773064048285, u'roast chicken with'),\n",
       " (2523, 0.017963163299881048, u'roast lemon'),\n",
       " (2527, 0.014440972962352186, u'roast pepper cream'),\n",
       " (2528, 0.069557455796116455, u'roast pork'),\n",
       " (2531, 0.011224344978807539, u'roast pork tenderloin'),\n",
       " (2535, 0.021846259904689726, u'roast salmon'),\n",
       " (2536, 0.011820478402583105, u'roast salmon with'),\n",
       " (2545, 0.03252493939777016, u'rollup'),\n",
       " (2548, 0.014554366085035493, u'root beer'),\n",
       " (2549, 0.015152673002019031, u'rosemari'),\n",
       " (2550, 0.02387120627542939, u'rosemari chicken'),\n",
       " (2565, 0.021285355995302038, u'sake'),\n",
       " (2566, 0.013299576308940663, u'salad'),\n",
       " (2571, 0.010423036237002452, u'salami'),\n",
       " (2574, 0.28729492542796575, u'salmon'),\n",
       " (2577, 0.016671129046381492, u'salmon devil'),\n",
       " (2578, 0.016671129046381492, u'salmon devil egg'),\n",
       " (2579, 0.011869132232309681, u'salmon fillet'),\n",
       " (2591, 0.12703025606660928, u'salmon with'),\n",
       " (2595, 0.014119357313479698, u'salmon with creami'),\n",
       " (2600, 0.018265292612273984, u'salsa'),\n",
       " (2610, 0.06049465899267098, u'sara pumpkin'),\n",
       " (2611, 0.06049465899267098, u'sara pumpkin pie'),\n",
       " (2613, 0.011978965661791444, u'sard'),\n",
       " (2614, 0.010034623819610339, u'satay'),\n",
       " (2615, 0.14628144733564868, u'sauc'),\n",
       " (2625, 0.068007365567318998, u'sausag'),\n",
       " (2632, 0.012469881447367836, u'sausag pasta'),\n",
       " (2637, 0.025545464444597796, u'saut'),\n",
       " (2638, 0.029961671868286271, u'saute'),\n",
       " (2639, 0.029961671868286271, u'saute shrimp'),\n",
       " (2640, 0.02196506301176445, u'savori'),\n",
       " (2642, 0.038207524149687845, u'savori slow'),\n",
       " (2643, 0.038207524149687845, u'savori slow cooker'),\n",
       " (2645, 0.034818984359547452, u'scallop'),\n",
       " (2655, 0.07701990887530219, u'scampi'),\n",
       " (2657, 0.041436437174695556, u'scampi in'),\n",
       " (2662, 0.049791838848482373, u'scone'),\n",
       " (2671, 0.014526276136748676, u'sear'),\n",
       " (2673, 0.012102876839716788, u'sear scallop'),\n",
       " (2691, 0.013363966635967395, u'sherry'),\n",
       " (2699, 0.030391551442111673, u'shred chicken'),\n",
       " (2701, 1.0, u'shrimp'),\n",
       " (2702, 0.018086716160708539, u'shrimp alfredo'),\n",
       " (2703, 0.020561987050747736, u'shrimp alfredo pasta'),\n",
       " (2704, 0.23253903006620533, u'shrimp and'),\n",
       " (2705, 0.010944034029753396, u'shrimp and broccoli'),\n",
       " (2706, 0.01099032321047597, u'shrimp and chees'),\n",
       " (2711, 0.085607033661091306, u'shrimp and grit'),\n",
       " (2714, 0.016698579642279329, u'shrimp and scallop'),\n",
       " (2718, 0.021888884688154531, u'shrimp de'),\n",
       " (2719, 0.021888884688154531, u'shrimp de jongh'),\n",
       " (2722, 0.010263449331527468, u'shrimp gumbo'),\n",
       " (2723, 0.05596762900506768, u'shrimp in'),\n",
       " (2724, 0.012488416227716296, u'shrimp in cream'),\n",
       " (2729, 0.013560752975600963, u'shrimp salad'),\n",
       " (2731, 0.071605628908098212, u'shrimp scampi'),\n",
       " (2733, 0.037201841345313152, u'shrimp stir'),\n",
       " (2734, 0.037201841345313152, u'shrimp stir fri'),\n",
       " (2737, 0.087229923402193613, u'shrimp with'),\n",
       " (2752, 0.043238108476966769, u'skillet'),\n",
       " (2761, 0.26713158613069016, u'slow'),\n",
       " (2763, 0.011830353130844897, u'slow cook chicken'),\n",
       " (2766, 0.28891335105813465, u'slow cooker'),\n",
       " (2770, 0.010831409401356152, u'slow cooker beef'),\n",
       " (2771, 0.061398223032615815, u'slow cooker chicken'),\n",
       " (2781, 0.047701389827492648, u'slow cooker pork'),\n",
       " (2782, 0.016155932183160648, u'slow cooker pot'),\n",
       " (2783, 0.0432341620204542, u'slow cooker pull'),\n",
       " (2790, 0.016827623403604278, u'slow cooker stew'),\n",
       " (2792, 0.027350750410944012, u'slow cooker thai'),\n",
       " (2793, 0.023216704021213258, u'slow cooker venison'),\n",
       " (2799, 0.010054797483571127, u'smoke salmon devil'),\n",
       " (2802, 0.013288544940903837, u'smother'),\n",
       " (2805, 0.010398508236824861, u'smother pork'),\n",
       " (2806, 0.010923366212439896, u'smother pork chop'),\n",
       " (2807, 0.045653030562317856, u'snap'),\n",
       " (2808, 0.045653030562317856, u'snap pea'),\n",
       " (2813, 0.012655296393373407, u'soft'),\n",
       " (2814, 0.012952969756714979, u'soft chocol'),\n",
       " (2815, 0.012952969756714979, u'soft chocol chip'),\n",
       " (2816, 0.12330299524104527, u'soup'),\n",
       " (2817, 0.01000148952946156, u'soup from'),\n",
       " (2819, 0.030234261988618234, u'sour'),\n",
       " (2821, 0.045922153711632628, u'sour cream'),\n",
       " (2822, 0.017834960677342179, u'sour cream appl'),\n",
       " (2823, 0.036122119617437672, u'sour cream chicken'),\n",
       " (2830, 0.026090069490503267, u'southern'),\n",
       " (2834, 0.022313297910959321, u'soy'),\n",
       " (2842, 0.016813833767728374, u'spaghetti'),\n",
       " (2855, 0.071461306936333666, u'spici'),\n",
       " (2860, 0.027972304890601509, u'spici chicken'),\n",
       " (2862, 0.02264104771010482, u'spici garlic'),\n",
       " (2865, 0.013491786617533339, u'spici grill chicken'),\n",
       " (2866, 0.022293774021547703, u'spici grill shrimp'),\n",
       " (2873, 0.016099504130030438, u'spici pork'),\n",
       " (2880, 0.027937276357606511, u'spici shrimp'),\n",
       " (2881, 0.013567763314086339, u'spici shrimp and'),\n",
       " (2886, 0.010614691314646199, u'spici tomato chicken'),\n",
       " (2888, 0.04647702624049832, u'spinach'),\n",
       " (2905, 0.012337631077939039, u'sprout'),\n",
       " (2906, 0.019819163194946691, u'squash'),\n",
       " (2907, 0.011960085964525998, u'squash soup'),\n",
       " (2909, 0.027671870472083807, u'st'),\n",
       " (2910, 0.027671870472083807, u'st loui'),\n",
       " (2911, 0.032489538886546931, u'st loui rib'),\n",
       " (2912, 0.059429785485186612, u'steak'),\n",
       " (2926, 0.015027773199462602, u'steam'),\n",
       " (2929, 0.018911510908612133, u'stew'),\n",
       " (2933, 0.045081593434674633, u'stir'),\n",
       " (2934, 0.045081593434674633, u'stir fri'),\n",
       " (2935, 0.011879894910267726, u'stir fri chicken'),\n",
       " (2936, 0.010756267022186523, u'stir fri shrimp'),\n",
       " (2937, 0.010672188159102423, u'stir fri with'),\n",
       " (2941, 0.01680529525929144, u'strawberri rhubarb pie'),\n",
       " (2942, 0.010569411411488977, u'streusel'),\n",
       " (2943, 0.010932402984974303, u'streusel top'),\n",
       " (2944, 0.029068587701145936, u'strip'),\n",
       " (2945, 0.020629258987179148, u'stroganoff'),\n",
       " (2946, 0.079463123556844206, u'stuf'),\n",
       " (2950, 0.040510229906672662, u'stuf chicken'),\n",
       " (2951, 0.028174752897520479, u'stuf chicken breast'),\n",
       " (2954, 0.012542416745057147, u'stuf mushroom'),\n",
       " (2957, 0.054683735399839291, u'stuf pork'),\n",
       " (2958, 0.012904694210645027, u'stuf pork chop'),\n",
       " (2959, 0.011462270004590316, u'stuf pork loin'),\n",
       " (2961, 0.024755840664912012, u'stuf pork tenderloin'),\n",
       " (2962, 0.014869673378320488, u'stuf roast'),\n",
       " (2963, 0.014869673378320488, u'stuf roast chicken'),\n",
       " (2965, 0.014061450575220119, u'stuf with'),\n",
       " (2967, 0.014225636218707607, u'stuf with spinach'),\n",
       " (2973, 0.020172877899030876, u'styl peanut'),\n",
       " (2974, 0.020172877899030876, u'styl peanut sauc'),\n",
       " (2977, 0.011843714564660901, u'style'),\n",
       " (2981, 0.022513177811931375, u'sugar'),\n",
       " (2986, 0.021829722307061726, u'sugar meatloaf'),\n",
       " (2987, 0.042439210079753577, u'sugar snap'),\n",
       " (2988, 0.042439210079753577, u'sugar snap pea'),\n",
       " (2989, 0.014443620079100128, u'sugarless'),\n",
       " (2990, 0.014443620079100128, u'sugarless pumpkin'),\n",
       " (2991, 0.014443620079100128, u'sugarless pumpkin pie'),\n",
       " (3000, 0.057417355501570053, u'super'),\n",
       " (3008, 0.026945204933134386, u'swanson'),\n",
       " (3010, 0.052439894115052482, u'sweet'),\n",
       " (3017, 0.010985926769860285, u'sweet and tangi'),\n",
       " (3029, 0.031236539004776194, u'sweet potato'),\n",
       " (3031, 0.013222746168728395, u'sweet potato chicken'),\n",
       " (3033, 0.032958565747357421, u'sweet potato soup'),\n",
       " (3035, 0.019878923836741901, u'swiss'),\n",
       " (3036, 0.020927560810481464, u'swiss chard'),\n",
       " (3040, 0.011485228591201784, u'taco casserol'),\n",
       " (3044, 0.073837621444159701, u'tail'),\n",
       " (3049, 0.014893592289376745, u'tangi'),\n",
       " (3058, 0.018644213376531077, u'tart'),\n",
       " (3066, 0.081957299531969605, u'tenderloin'),\n",
       " (3067, 0.011240494174628, u'tenderloin in'),\n",
       " (3068, 0.066911568695689455, u'tenderloin in the'),\n",
       " (3069, 0.021511653119069055, u'tenderloin with'),\n",
       " (3071, 0.02452432274489965, u'teriyaki'),\n",
       " (3074, 0.026679161252257569, u'teriyaki venison'),\n",
       " (3078, 0.10026098540205973, u'thai'),\n",
       " (3081, 0.015552900331425258, u'thai chicken'),\n",
       " (3083, 0.01554332460623558, u'thai chicken pizza'),\n",
       " (3088, 0.020797477869064673, u'thai peanut'),\n",
       " (3089, 0.02963114138151032, u'thai peanut sauc'),\n",
       " (3090, 0.011478031203627176, u'thai pork'),\n",
       " (3091, 0.021367132300711515, u'thai pork with'),\n",
       " (3092, 0.020172877899030876, u'thai styl'),\n",
       " (3093, 0.020172877899030876, u'thai styl peanut'),\n",
       " (3096, 0.010876929969938847, u'the fridg'),\n",
       " (3098, 0.027949553397420553, u'the slow'),\n",
       " (3099, 0.027949553397420553, u'the slow cooker'),\n",
       " (3109, 0.010111125693043564, u'tie pasta'),\n",
       " (3113, 0.19384059885018778, u'tilapia'),\n",
       " (3114, 0.010188655895370694, u'tilapia in'),\n",
       " (3116, 0.042373637703600323, u'tilapia with'),\n",
       " (3121, 0.057927895111459883, u'to die'),\n",
       " (3122, 0.057927895111459883, u'to die for'),\n",
       " (3126, 0.020059504381882171, u'tofu'),\n",
       " (3130, 0.092293666050362821, u'tomato'),\n",
       " (3131, 0.039563967453895267, u'tomato and'),\n",
       " (3146, 0.013276466577231062, u'tomato sauc'),\n",
       " (3150, 0.039165795620042146, u'tonno'),\n",
       " (3171, 0.011477020820380449, u'turkey meat'),\n",
       " (3172, 0.011477020820380449, u'turkey meat loaf'),\n",
       " (3173, 0.014191392850894113, u'tuscan'),\n",
       " (3182, 0.026868948967894681, u'uncl'),\n",
       " (3183, 0.020593463648691364, u'uncl ben'),\n",
       " (3186, 0.01363231896156223, u'veal'),\n",
       " (3187, 0.072600814797103869, u'vegan'),\n",
       " (3188, 0.02994015341935673, u'veget'),\n",
       " (3197, 0.013284567029078443, u'veget stew'),\n",
       " (3198, 0.047607002396949892, u'vegetarian'),\n",
       " (3199, 0.019152970261663547, u'vegetarian lettuc'),\n",
       " (3200, 0.019152970261663547, u'vegetarian lettuc wrap'),\n",
       " (3201, 0.018383482143625642, u'vegetarian shepherd'),\n",
       " (3202, 0.018383482143625642, u'vegetarian shepherd pie'),\n",
       " (3208, 0.014872120098190717, u'velveti'),\n",
       " (3209, 0.21574070555752131, u'venison'),\n",
       " (3211, 0.016608744395907114, u'venison breakfast'),\n",
       " (3212, 0.016608744395907114, u'venison breakfast sausag'),\n",
       " (3214, 0.012073474407213439, u'venison jerki'),\n",
       " (3215, 0.030587637048685716, u'venison meatloaf'),\n",
       " (3226, 0.010149232878045736, u'veri'),\n",
       " (3232, 0.030899181751911513, u'vinaigrett'),\n",
       " (3236, 0.027417487629608977, u'walnut'),\n",
       " (3239, 0.017107173513995107, u'walnut pie'),\n",
       " (3245, 0.020900407382291472, u'west'),\n",
       " (3250, 0.021764657329926537, u'white bean soup'),\n",
       " (3271, 0.012952969756714979, u'win soft'),\n",
       " (3272, 0.012952969756714979, u'win soft chocol'),\n",
       " (3277, 0.09618526909465222, u'wing'),\n",
       " (3279, 0.11550076473425434, u'with'),\n",
       " (3280, 0.049698802776339646, u'with appl'),\n",
       " (3281, 0.02746623956509766, u'with appl and'),\n",
       " (3285, 0.012469153360166726, u'with asparagus'),\n",
       " (3287, 0.030081063409041396, u'with avocado'),\n",
       " (3295, 0.013502321278328996, u'with blue'),\n",
       " (3296, 0.013502321278328996, u'with blue chees'),\n",
       " (3300, 0.010239084932230009, u'with broccoli and'),\n",
       " (3312, 0.010570553043236027, u'with coconut'),\n",
       " (3315, 0.026314708552995371, u'with cornbread'),\n",
       " (3320, 0.010569540489777677, u'with creami dill'),\n",
       " (3331, 0.020361518689655668, u'with fresh'),\n",
       " (3334, 0.011122222540903259, u'with garlic'),\n",
       " (3353, 0.015262153584137284, u'with lobster'),\n",
       " (3354, 0.01858224905428741, u'with mango'),\n",
       " (3365, 0.024663928601811519, u'with oliv'),\n",
       " (3394, 0.011065519607195238, u'with rice'),\n",
       " (3401, 0.013374849891982494, u'with sausag'),\n",
       " (3405, 0.013363966635967395, u'with sherry'),\n",
       " (3406, 0.027374093966868983, u'with shrimp'),\n",
       " (3419, 0.018688767327300553, u'with sweet potato'),\n",
       " (3428, 0.013540019726974913, u'with white wine'),\n",
       " (3435, 0.056752615588342555, u'wrap'),\n",
       " (3439, 0.029040714332908515, u'wrap stuf'),\n",
       " (3447, 0.026071158300680429, u'yummi'),\n",
       " (3448, 0.029042806409482123, u'zesti'),\n",
       " (3452, 0.015114302988111838, u'zucchini pie')]"
      ]
     },
     "execution_count": 92,
     "metadata": {},
     "output_type": "execute_result"
    }
   ],
   "source": [
    "[(index, i, vectorizer.get_feature_names()[index]) for index, i in enumerate(mi) if i>0.01]"
   ]
  },
  {
   "cell_type": "code",
   "execution_count": 105,
   "metadata": {
    "collapsed": false
   },
   "outputs": [],
   "source": [
    "# Returns indices of columns with MI value greater than e.g. 0.01. Can be used for re\n",
    "informative_words = np.array([(index) for index, i in enumerate(mi) if i>0.01])\n",
    "# return word vector array with uninformative words removeds\n",
    "culled_array = a.toarray()[:,informative_words]"
   ]
  },
  {
   "cell_type": "code",
   "execution_count": 106,
   "metadata": {
    "collapsed": false
   },
   "outputs": [
    {
     "data": {
      "text/plain": [
       "(3941, 885)"
      ]
     },
     "execution_count": 106,
     "metadata": {},
     "output_type": "execute_result"
    }
   ],
   "source": [
    "culled_array.shape"
   ]
  },
  {
   "cell_type": "code",
   "execution_count": 35,
   "metadata": {
    "collapsed": false
   },
   "outputs": [
    {
     "data": {
      "text/plain": [
       "LinearRegression(copy_X=True, fit_intercept=True, n_jobs=1, normalize=False)"
      ]
     },
     "execution_count": 35,
     "metadata": {},
     "output_type": "execute_result"
    }
   ],
   "source": [
    "import matplotlib.pyplot as plt\n",
    "import numpy as np\n",
    "from mpl_toolkits.mplot3d import Axes3D\n",
    "\n",
    "from sklearn import datasets, linear_model\n",
    "\n",
    "\n",
    "X_train = culled_array\n",
    "y_train = recipes[\"cholesterol\"]\n",
    "\n",
    "X_test = a[:200]\n",
    "y_test = recipes[\"cholesterol\"][:200]\n",
    "\n",
    "regr = linear_model.LinearRegression()\n",
    "regr.fit(X_train, y_train)"
   ]
  },
  {
   "cell_type": "code",
   "execution_count": 36,
   "metadata": {
    "collapsed": false
   },
   "outputs": [
    {
     "data": {
      "text/plain": [
       "-0.28720369665982726"
      ]
     },
     "execution_count": 36,
     "metadata": {},
     "output_type": "execute_result"
    }
   ],
   "source": [
    "# Try fitting an elasticnet model!\n",
    "from sklearn.linear_model import ElasticNet\n",
    "from sklearn.metrics import r2_score\n",
    "enet = ElasticNet()\n",
    "enetmodel=enet.fit(culled_array[200:], y_train[200:])\n",
    "y_predicted = enetmodel.predict(culled_array[:200])\n",
    "# Evaluate by comparing predicted cholesterol to actual cholesterol\n",
    "r2_score_enet = r2_score(y_test, y_predicted)\n",
    "r2_score_enet #oh no it's -0.29..."
   ]
  },
  {
   "cell_type": "code",
   "execution_count": 41,
   "metadata": {
    "collapsed": false
   },
   "outputs": [],
   "source": [
    "import cPickle as pkl"
   ]
  },
  {
   "cell_type": "code",
   "execution_count": 49,
   "metadata": {
    "collapsed": false,
    "scrolled": true
   },
   "outputs": [],
   "source": [
    "ground_truth_x =[]\n",
    "ground_truth_y =[]\n",
    "for item in pkl.load(open(\"groundtruth.pkl\", \"rb\")):\n",
    "    ground_truth_x.append(item[\"item_name\"])\n",
    "    ground_truth_y.append(item[\"nf_cholesterol\"])"
   ]
  },
  {
   "cell_type": "code",
   "execution_count": 71,
   "metadata": {
    "collapsed": true
   },
   "outputs": [],
   "source": [
    "tokenized_names_ground_truth = [tokenize_and_stem(i) for i in (ground_truth_x)]"
   ]
  },
  {
   "cell_type": "code",
   "execution_count": 80,
   "metadata": {
    "collapsed": false
   },
   "outputs": [],
   "source": [
    "# Puts words from new ground truth set into matrix from training set\n",
    "ground_truth_vectorized = vectorizer.transform(tokenized_names_ground_truth)"
   ]
  },
  {
   "cell_type": "code",
   "execution_count": 87,
   "metadata": {
    "collapsed": false
   },
   "outputs": [
    {
     "data": {
      "text/plain": [
       "0.0023477097139615877"
      ]
     },
     "execution_count": 87,
     "metadata": {},
     "output_type": "execute_result"
    }
   ],
   "source": [
    "ground_truth_vectorized_culled_array = ground_truth_vectorized.toarray()[:,informative_words]\n",
    "y_predicted = enetmodel.predict(ground_truth_vectorized_culled_array)\n",
    "r2_score_enet = r2_score(ground_truth_y, y_predicted)\n",
    "r2_score_enet #oh no it's still bad..."
   ]
  },
  {
   "cell_type": "code",
   "execution_count": 86,
   "metadata": {
    "collapsed": false
   },
   "outputs": [
    {
     "data": {
      "image/png": "[encoded data removed]",
      "text/plain": [
       "<matplotlib.figure.Figure at 0x7eff02b01590>"
      ]
     },
     "metadata": {},
     "output_type": "display_data"
    }
   ],
   "source": [
    "x,y = pd.Series(ground_truth_y, name=\"x_var\"), pd.Series(y_predicted, name=\"y_var\")\n",
    "ax = sns.regplot(x=x, y=y)"
   ]
  },
  {
   "cell_type": "markdown",
   "metadata": {},
   "source": [
    "## So, the elasticnet model (a linear regression) has poor predictive power at default parameters. Can we optimize the parameters?"
   ]
  },
  {
   "cell_type": "code",
   "execution_count": 117,
   "metadata": {
    "collapsed": false
   },
   "outputs": [
    {
     "name": "stdout",
     "output_type": "stream",
     "text": [
      "Computing regularization path using the coordinate descent lasso...\n"
     ]
    }
   ],
   "source": [
    "# Compute paths\n",
    "from sklearn.linear_model import ElasticNetCV\n",
    "import time, copy\n",
    "print(\"Computing regularization path using the coordinate descent lasso...\")\n",
    "t1 = time.time()\n",
    "culledarrayecv = copy.copy(culled_array)\n",
    "#culledarrayecv = np.sqrt(np.sum(culledarrayecv ** 2, axis=0)) / culledarrayecv\n",
    "model = ElasticNetCV(cv=20).fit(culledarrayecv, y_train)\n",
    "t_lasso_cv = time.time() - t1\n",
    "\n",
    "# Display results\n",
    "m_log_alphas = -np.log10(model.alphas_)"
   ]
  },
  {
   "cell_type": "code",
   "execution_count": 130,
   "metadata": {
    "collapsed": false,
    "scrolled": true
   },
   "outputs": [
    {
     "data": {
      "text/plain": [
       "195"
      ]
     },
     "execution_count": 130,
     "metadata": {},
     "output_type": "execute_result"
    }
   ],
   "source": [
    "len(y_predicted_cv)"
   ]
  },
  {
   "cell_type": "code",
   "execution_count": 132,
   "metadata": {
    "collapsed": false
   },
   "outputs": [
    {
     "data": {
      "text/plain": [
       "1.0"
      ]
     },
     "execution_count": 132,
     "metadata": {},
     "output_type": "execute_result"
    }
   ],
   "source": [
    "float(model.score(ground_truth_vectorized_culled_array, y_predicted_cv)) # this doesn't seem right..."
   ]
  },
  {
   "cell_type": "code",
   "execution_count": 120,
   "metadata": {
    "collapsed": false
   },
   "outputs": [],
   "source": [
    "y_predicted_cv = model.predict(ground_truth_vectorized_culled_array)"
   ]
  },
  {
   "cell_type": "code",
   "execution_count": 122,
   "metadata": {
    "collapsed": false
   },
   "outputs": [
    {
     "data": {
      "image/png": "[encoded data removed]",
      "text/plain": [
       "<matplotlib.figure.Figure at 0x7eff02b7cd90>"
      ]
     },
     "metadata": {},
     "output_type": "display_data"
    }
   ],
   "source": [
    "x,y = pd.Series(ground_truth_y, name=\"actual cholesterol\"), pd.Series(y_predicted_cv, name=\"predicted cholesterol\")\n",
    "ax = sns.regplot(x=x, y=y)"
   ]
  },
  {
   "cell_type": "code",
   "execution_count": 123,
   "metadata": {
    "collapsed": false
   },
   "outputs": [
    {
     "data": {
      "text/plain": [
       "0.13705325116560363"
      ]
     },
     "execution_count": 123,
     "metadata": {},
     "output_type": "execute_result"
    }
   ],
   "source": [
    "r2_score_enet = r2_score(ground_truth_y, y_predicted_cv)\n",
    "r2_score_enet"
   ]
  },
  {
   "cell_type": "markdown",
   "metadata": {},
   "source": [
    "## woohoo with an optimized elasticnet model, there's a 0.13 Rsq"
   ]
  },
  {
   "cell_type": "code",
   "execution_count": 91,
   "metadata": {
    "collapsed": false
   },
   "outputs": [
    {
     "data": {
      "text/plain": [
       "(2300, 3800)"
      ]
     },
     "execution_count": 91,
     "metadata": {},
     "output_type": "execute_result"
    },
    {
     "data": {
      "image/png": "[encoded data removed]",
      "text/plain": [
       "<matplotlib.figure.Figure at 0x7eff01c6fc90>"
      ]
     },
     "metadata": {},
     "output_type": "display_data"
    }
   ],
   "source": [
    "plt.figure()\n",
    "ymin, ymax = 2300, 3800\n",
    "plt.plot(m_log_alphas, model.mse_path_, ':')\n",
    "plt.plot(m_log_alphas, model.mse_path_.mean(axis=-1), 'k',\n",
    "         label='Average across the folds', linewidth=2)\n",
    "plt.axvline(-np.log10(model.alpha_), linestyle='--', color='k',\n",
    "            label='alpha: CV estimate')\n",
    "\n",
    "plt.legend()\n",
    "\n",
    "plt.xlabel('-log(alpha)')\n",
    "plt.ylabel('Mean square error')\n",
    "plt.title('Mean square error on each fold: coordinate descent '\n",
    "          '(train time: %.2fs)' % t_lasso_cv)\n",
    "plt.axis('tight')\n",
    "plt.ylim(ymin, ymax)"
   ]
  },
  {
   "cell_type": "markdown",
   "metadata": {},
   "source": [
    "### How about if I try to add position-weights to words?"
   ]
  },
  {
   "cell_type": "code",
   "execution_count": 155,
   "metadata": {
    "collapsed": false
   },
   "outputs": [],
   "source": [
    "def tokenize_and_stem_with_position_weights(title):\n",
    "    stemmer = SnowballStemmer(\"english\")\n",
    "    stemmed_titles = []\n",
    "    new_title=[]\n",
    "    for index, word in enumerate(nltk.word_tokenize(title)):\n",
    "        rindex = abs(index - len(nltk.word_tokenize(title)))\n",
    "        new_title.append(str(stemmer.stem(word).encode(\"utf-8\") + str(rindex)))\n",
    "    stemmed_titles.extend(new_title)    \n",
    "    return \" \".join([i for i in stemmed_titles])"
   ]
  },
  {
   "cell_type": "code",
   "execution_count": 160,
   "metadata": {
    "collapsed": false
   },
   "outputs": [],
   "source": [
    "tokenized_names_pos = [tokenize_and_stem_with_position_weights(i) for i in (recipes[\"name\"])]"
   ]
  },
  {
   "cell_type": "code",
   "execution_count": 161,
   "metadata": {
    "collapsed": false
   },
   "outputs": [],
   "source": [
    "vectorizer = CountVectorizer(ngram_range=(1,3), min_df=0.0003)\n",
    "a = vectorizer.fit_transform(tokenized_names_pos)\n",
    "mi = mutual_info_regression(a, recipes[\"cholesterol\"])\n",
    "mi /= np.max(mi)"
   ]
  },
  {
   "cell_type": "code",
   "execution_count": 175,
   "metadata": {
    "collapsed": false
   },
   "outputs": [
    {
     "name": "stdout",
     "output_type": "stream",
     "text": [
      "-0.277850941993\n",
      "-5.04236052772e-05\n",
      "0.0559342225121\n"
     ]
    }
   ],
   "source": [
    "# Returns indices of columns with MI value greater than e.g. 0.01. Can be used for re\n",
    "informative_words = np.array([(index) for index, i in enumerate(mi) if i>0.01])\n",
    "# return word vector array with uninformative words removeds\n",
    "culled_array = a.toarray()[:,informative_words]\n",
    "\n",
    "X_train = culled_array\n",
    "y_train = recipes[\"cholesterol\"]\n",
    "\n",
    "X_test = culled_array[:200]\n",
    "y_test = recipes[\"cholesterol\"][:200]\n",
    "\n",
    "# Try fitting an elasticnet model!\n",
    "from sklearn.linear_model import ElasticNet\n",
    "from sklearn.metrics import r2_score\n",
    "enet = ElasticNet()\n",
    "enetmodel=enet.fit(culled_array, y_train)\n",
    "y_predicted = enetmodel.predict(X_test)\n",
    "# Evaluate by comparing predicted cholesterol to actual cholesterol\n",
    "r2_score_enet = r2_score(y_test, y_predicted)\n",
    "r2_score_enet #oh no it's -0.29...\n",
    "print(r2_score_enet)\n",
    "\n",
    "# Validate against ground_truth\n",
    "tokenized_names_ground_truth = [tokenize_and_stem_with_position_weights(i) for i in (ground_truth_x)]\n",
    "ground_truth_vectorized = vectorizer.transform(tokenized_names_ground_truth)\n",
    "ground_truth_vectorized_culled_array = ground_truth_vectorized.toarray()[:,informative_words]\n",
    "y_predicted = enetmodel.predict(ground_truth_vectorized_culled_array)\n",
    "r2_score_enet = r2_score(ground_truth_y, y_predicted)\n",
    "r2_score_enet #oh no it's still bad...\n",
    "print(r2_score_enet)\n",
    "\n",
    "#Try optimizing ENet (validated across ground truth)\n",
    "model = ElasticNetCV(cv=20).fit(culled_array, y_train)\n",
    "m_log_alphas = -np.log10(model.alphas_)\n",
    "y_predicted_cv = model.predict(ground_truth_vectorized_culled_array)\n",
    "r2_score_enet = r2_score(ground_truth_y, y_predicted_cv)\n",
    "print(r2_score_enet) #0.056..."
   ]
  },
  {
   "cell_type": "code",
   "execution_count": null,
   "metadata": {
    "collapsed": true
   },
   "outputs": [],
   "source": [
    "### Hmm. The ElasticNet CV optimization still maxes out at 0.056"
   ]
  },
  {
   "cell_type": "markdown",
   "metadata": {},
   "source": [
    "## Try Ridge Regression"
   ]
  },
  {
   "cell_type": "code",
   "execution_count": 193,
   "metadata": {
    "collapsed": false
   },
   "outputs": [],
   "source": [
    "from sklearn import linear_model\n",
    "reg = linear_model.Ridge(alpha = .5)\n",
    "rrfit = reg.fit(culled_array, recipes[\"cholesterol\"]) "
   ]
  },
  {
   "cell_type": "code",
   "execution_count": null,
   "metadata": {
    "collapsed": true
   },
   "outputs": [],
   "source": []
  },
  {
   "cell_type": "code",
   "execution_count": 188,
   "metadata": {
    "collapsed": false
   },
   "outputs": [
    {
     "name": "stdout",
     "output_type": "stream",
     "text": [
      "-0.00912346792665\n"
     ]
    }
   ],
   "source": [
    "y_predicted = rrfit.predict(ground_truth_vectorized_culled_array)\n",
    "# Evaluate by comparing predicted cholesterol to actual cholesterol\n",
    "r2_score_rrfit = r2_score(ground_truth_y, y_predicted)\n",
    "print(r2_score_rrfit) # -0.009 - not great still "
   ]
  },
  {
   "cell_type": "code",
   "execution_count": 202,
   "metadata": {
    "collapsed": true
   },
   "outputs": [
    {
     "data": {
      "text/plain": [
       "[125,\n",
       " 85,\n",
       " 150,\n",
       " 35,\n",
       " 170,\n",
       " 25,\n",
       " 35,\n",
       " 30,\n",
       " 0,\n",
       " 10,\n",
       " 45,\n",
       " 35,\n",
       " 130,\n",
       " 130,\n",
       " 70,\n",
       " 175,\n",
       " 0,\n",
       " 155,\n",
       " 0,\n",
       " 190,\n",
       " 15,\n",
       " 5,\n",
       " 10,\n",
       " 180,\n",
       " 40,\n",
       " 125,\n",
       " 0,\n",
       " 35,\n",
       " 65,\n",
       " 240,\n",
       " 205,\n",
       " 100,\n",
       " 50,\n",
       " 195,\n",
       " 15,\n",
       " 65,\n",
       " 165,\n",
       " 5,\n",
       " 195,\n",
       " 25,\n",
       " 125,\n",
       " 140,\n",
       " 105,\n",
       " 200,\n",
       " 0,\n",
       " 140,\n",
       " 75,\n",
       " 355,\n",
       " 0,\n",
       " 85,\n",
       " 125,\n",
       " 85,\n",
       " 150,\n",
       " 35,\n",
       " 170,\n",
       " 25,\n",
       " 35,\n",
       " 30,\n",
       " 0,\n",
       " 10,\n",
       " 45,\n",
       " 35,\n",
       " 130,\n",
       " 130,\n",
       " 70,\n",
       " 175,\n",
       " 0,\n",
       " 155,\n",
       " 0,\n",
       " 15,\n",
       " 5,\n",
       " 190,\n",
       " 10,\n",
       " 180,\n",
       " 40,\n",
       " 125,\n",
       " 205,\n",
       " 100,\n",
       " 50,\n",
       " 195,\n",
       " 0,\n",
       " 35,\n",
       " 65,\n",
       " 240,\n",
       " 15,\n",
       " 65,\n",
       " 165,\n",
       " 5,\n",
       " 195,\n",
       " 105,\n",
       " 200,\n",
       " 0,\n",
       " 25,\n",
       " 125,\n",
       " 140,\n",
       " 140,\n",
       " 75,\n",
       " 355,\n",
       " 0,\n",
       " 115,\n",
       " 125,\n",
       " 85,\n",
       " 150,\n",
       " 35,\n",
       " 170,\n",
       " 25,\n",
       " 35,\n",
       " 30,\n",
       " 0,\n",
       " 35,\n",
       " 10,\n",
       " 45,\n",
       " 130,\n",
       " 0,\n",
       " 130,\n",
       " 70,\n",
       " 175,\n",
       " 190,\n",
       " 15,\n",
       " 5,\n",
       " 155,\n",
       " 0,\n",
       " 10,\n",
       " 180,\n",
       " 40,\n",
       " 125,\n",
       " 0,\n",
       " 35,\n",
       " 65,\n",
       " 240,\n",
       " 205,\n",
       " 100,\n",
       " 50,\n",
       " 195,\n",
       " 25,\n",
       " 125,\n",
       " 140,\n",
       " 105,\n",
       " 200,\n",
       " 0,\n",
       " 15,\n",
       " 65,\n",
       " 165,\n",
       " 5,\n",
       " 195,\n",
       " 140,\n",
       " 75,\n",
       " 355,\n",
       " 85,\n",
       " 90,\n",
       " 125,\n",
       " 85,\n",
       " 150,\n",
       " 35,\n",
       " 170,\n",
       " 25,\n",
       " 35,\n",
       " 30,\n",
       " 0,\n",
       " 10,\n",
       " 45,\n",
       " 35,\n",
       " 130,\n",
       " 0,\n",
       " 130,\n",
       " 70,\n",
       " 175,\n",
       " 190,\n",
       " 15,\n",
       " 5,\n",
       " 155,\n",
       " 0,\n",
       " 10,\n",
       " 180,\n",
       " 40,\n",
       " 125,\n",
       " 240,\n",
       " 0,\n",
       " 35,\n",
       " 65,\n",
       " 205,\n",
       " 100,\n",
       " 50,\n",
       " 195,\n",
       " 25,\n",
       " 125,\n",
       " 140,\n",
       " 105,\n",
       " 200,\n",
       " 0,\n",
       " 15,\n",
       " 65,\n",
       " 165,\n",
       " 5,\n",
       " 195]"
      ]
     },
     "execution_count": 202,
     "metadata": {},
     "output_type": "execute_result"
    }
   ],
   "source": [
    "ground_truth_y"
   ]
  },
  {
   "cell_type": "code",
   "execution_count": 203,
   "metadata": {
    "collapsed": false
   },
   "outputs": [
    {
     "name": "stdout",
     "output_type": "stream",
     "text": [
      "0.0119477728758\n"
     ]
    }
   ],
   "source": [
    "model = linear_model.RidgeCV(cv=100).fit(culled_array, recipes[\"cholesterol\"])\n",
    "m_log_alphas = -np.log10(model.alpha_)\n",
    "y_predicted_cv = model.predict(ground_truth_vectorized_culled_array)\n",
    "r2_score_rrfitcv = r2_score(ground_truth_y, y_predicted_cv)\n",
    "print(r2_score_rrfitcv) #0.056... or 0.119 with 100cv"
   ]
  },
  {
   "cell_type": "code",
   "execution_count": null,
   "metadata": {
    "collapsed": true
   },
   "outputs": [],
   "source": []
  }
 ],
 "metadata": {
  "kernelspec": {
   "display_name": "Python [insight]",
   "language": "python",
   "name": "Python [insight]"
  },
  "language_info": {
   "codemirror_mode": {
    "name": "ipython",
    "version": 2
   },
   "file_extension": ".py",
   "mimetype": "text/x-python",
   "name": "python",
   "nbconvert_exporter": "python",
   "pygments_lexer": "ipython2",
   "version": "2.7.12"
  }
 },
 "nbformat": 4,
 "nbformat_minor": 0
}
