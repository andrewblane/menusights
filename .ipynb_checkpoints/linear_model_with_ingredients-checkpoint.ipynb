{
 "cells": [
  {
   "cell_type": "code",
   "execution_count": 1,
   "metadata": {
    "collapsed": true
   },
   "outputs": [],
   "source": [
    "import psycopg2\n",
    "from sqlalchemy import create_engine, Column, Integer, String, Float, ForeignKey\n",
    "from sqlalchemy.ext.declarative import declarative_base\n",
    "from sqlalchemy.orm import relationship, sessionmaker\n",
    "import re\n",
    "from __future__ import print_function"
   ]
  },
  {
   "cell_type": "code",
   "execution_count": 2,
   "metadata": {
    "collapsed": false
   },
   "outputs": [],
   "source": [
    "import numpy as np\n",
    "import pandas as pd\n",
    "import nltk\n",
    "import re\n",
    "import os\n",
    "import codecs\n",
    "from sklearn import feature_extraction\n",
    "import mpld3\n",
    "import pandas as pd\n",
    "from nltk.stem.snowball import SnowballStemmer\n",
    "import tensorflow as tf"
   ]
  },
  {
   "cell_type": "code",
   "execution_count": 3,
   "metadata": {
    "collapsed": false,
    "scrolled": true
   },
   "outputs": [
    {
     "name": "stdout",
     "output_type": "stream",
     "text": [
      "postgres://andylane@localhost/restaurants\n"
     ]
    },
    {
     "name": "stderr",
     "output_type": "stream",
     "text": [
      "/home/andylane/anaconda2/envs/insight/lib/python2.7/site-packages/sqlalchemy/dialects/__init__.py:34: SADeprecationWarning: The SQLAlchemy PostgreSQL dialect has been renamed from 'postgres' to 'postgresql'. The new URL format is postgresql[+driver]://<user>:<pass>@<host>/<dbname>\n",
      "  module = __import__('sqlalchemy.dialects.%s' % (dialect, )).dialects\n"
     ]
    }
   ],
   "source": [
    "dbname = 'restaurants'\n",
    "username = 'andylane'\n",
    "engine = create_engine('postgres://%s@localhost/%s'%(username,dbname))\n",
    "print(engine.url)\n",
    "con = None\n",
    "con = psycopg2.connect(database = \"restaurants\", user = \"andylane\")\n",
    "Session = sessionmaker(bind=engine)\n",
    "session = Session()"
   ]
  },
  {
   "cell_type": "code",
   "execution_count": 4,
   "metadata": {
    "collapsed": false
   },
   "outputs": [],
   "source": [
    "from menusights_aux import *"
   ]
  },
  {
   "cell_type": "code",
   "execution_count": 5,
   "metadata": {
    "collapsed": false
   },
   "outputs": [],
   "source": [
    "recipes = pd.read_sql(\"recipes\", engine)"
   ]
  },
  {
   "cell_type": "markdown",
   "metadata": {},
   "source": [
    "## Get recipe names into a vector"
   ]
  },
  {
   "cell_type": "code",
   "execution_count": 6,
   "metadata": {
    "collapsed": true
   },
   "outputs": [],
   "source": [
    "stopwords = nltk.corpus.stopwords.words('english')\n",
    "stemmer = SnowballStemmer(\"english\")"
   ]
  },
  {
   "cell_type": "code",
   "execution_count": 13,
   "metadata": {
    "collapsed": false
   },
   "outputs": [
    {
     "data": {
      "text/html": [
       "<div>\n",
       "<table border=\"1\" class=\"dataframe\">\n",
       "  <thead>\n",
       "    <tr style=\"text-align: right;\">\n",
       "      <th></th>\n",
       "      <th>id</th>\n",
       "      <th>name</th>\n",
       "      <th>url</th>\n",
       "      <th>calories</th>\n",
       "      <th>fat</th>\n",
       "      <th>carbs</th>\n",
       "      <th>protein</th>\n",
       "      <th>cholesterol</th>\n",
       "      <th>sodium</th>\n",
       "      <th>servings</th>\n",
       "    </tr>\n",
       "  </thead>\n",
       "  <tbody>\n",
       "    <tr>\n",
       "      <th>0</th>\n",
       "      <td>1</td>\n",
       "      <td>Fluffy Pancakes</td>\n",
       "      <td>http://allrecipes.com/recipe/162760/fluffy-pan...</td>\n",
       "      <td>230</td>\n",
       "      <td>8.2</td>\n",
       "      <td>32.7</td>\n",
       "      <td>6.4</td>\n",
       "      <td>65.0</td>\n",
       "      <td>650.0</td>\n",
       "      <td>4</td>\n",
       "    </tr>\n",
       "    <tr>\n",
       "      <th>1</th>\n",
       "      <td>2</td>\n",
       "      <td>Joan's Quick Chili</td>\n",
       "      <td>http://allrecipes.com/recipe/240622/joans-quic...</td>\n",
       "      <td>397</td>\n",
       "      <td>21.5</td>\n",
       "      <td>25.2</td>\n",
       "      <td>26.7</td>\n",
       "      <td>71.0</td>\n",
       "      <td>1438.0</td>\n",
       "      <td>4</td>\n",
       "    </tr>\n",
       "    <tr>\n",
       "      <th>2</th>\n",
       "      <td>3</td>\n",
       "      <td>Ultimate Double Chocolate Cookies</td>\n",
       "      <td>http://allrecipes.com/recipe/15097/ultimate-do...</td>\n",
       "      <td>148</td>\n",
       "      <td>6.8</td>\n",
       "      <td>21.4</td>\n",
       "      <td>2.2</td>\n",
       "      <td>25.0</td>\n",
       "      <td>88.0</td>\n",
       "      <td>42</td>\n",
       "    </tr>\n",
       "    <tr>\n",
       "      <th>3</th>\n",
       "      <td>4</td>\n",
       "      <td>Campfire Banana Splits</td>\n",
       "      <td>http://allrecipes.com/recipe/20038/campfire-ba...</td>\n",
       "      <td>545</td>\n",
       "      <td>17.3</td>\n",
       "      <td>106.2</td>\n",
       "      <td>4.7</td>\n",
       "      <td>0.0</td>\n",
       "      <td>47.0</td>\n",
       "      <td>6</td>\n",
       "    </tr>\n",
       "    <tr>\n",
       "      <th>4</th>\n",
       "      <td>5</td>\n",
       "      <td>Pumpkin Chocolate Chip Cookies II</td>\n",
       "      <td>http://allrecipes.com/recipe/10117/pumpkin-cho...</td>\n",
       "      <td>224</td>\n",
       "      <td>11.5</td>\n",
       "      <td>29.5</td>\n",
       "      <td>2.8</td>\n",
       "      <td>10.0</td>\n",
       "      <td>127.0</td>\n",
       "      <td>18</td>\n",
       "    </tr>\n",
       "  </tbody>\n",
       "</table>\n",
       "</div>"
      ],
      "text/plain": [
       "   id                               name  \\\n",
       "0   1                    Fluffy Pancakes   \n",
       "1   2                 Joan's Quick Chili   \n",
       "2   3  Ultimate Double Chocolate Cookies   \n",
       "3   4             Campfire Banana Splits   \n",
       "4   5  Pumpkin Chocolate Chip Cookies II   \n",
       "\n",
       "                                                 url  calories   fat  carbs  \\\n",
       "0  http://allrecipes.com/recipe/162760/fluffy-pan...       230   8.2   32.7   \n",
       "1  http://allrecipes.com/recipe/240622/joans-quic...       397  21.5   25.2   \n",
       "2  http://allrecipes.com/recipe/15097/ultimate-do...       148   6.8   21.4   \n",
       "3  http://allrecipes.com/recipe/20038/campfire-ba...       545  17.3  106.2   \n",
       "4  http://allrecipes.com/recipe/10117/pumpkin-cho...       224  11.5   29.5   \n",
       "\n",
       "   protein  cholesterol  sodium  servings  \n",
       "0      6.4         65.0   650.0         4  \n",
       "1     26.7         71.0  1438.0         4  \n",
       "2      2.2         25.0    88.0        42  \n",
       "3      4.7          0.0    47.0         6  \n",
       "4      2.8         10.0   127.0        18  "
      ]
     },
     "execution_count": 13,
     "metadata": {},
     "output_type": "execute_result"
    }
   ],
   "source": [
    "recipes.head()"
   ]
  },
  {
   "cell_type": "code",
   "execution_count": 8,
   "metadata": {
    "collapsed": true
   },
   "outputs": [],
   "source": [
    "def clean_up_ingredient(ingredient_line):\n",
    "    ingredient_line = re.sub(\"\\[u\\'\", \"\", ingredient_line)\n",
    "    ingredient_line = re.sub(\"\\']\", \"\", ingredient_line)\n",
    "    return find_measurement_words(ingredient_line)"
   ]
  },
  {
   "cell_type": "code",
   "execution_count": 24,
   "metadata": {
    "collapsed": false
   },
   "outputs": [],
   "source": [
    "names = session.query(Recipe)"
   ]
  },
  {
   "cell_type": "code",
   "execution_count": 50,
   "metadata": {
    "collapsed": false
   },
   "outputs": [],
   "source": [
    "def get_ingredientslist_for_recipeid(i):\n",
    "    return [clean_up_ingredient(item.ingredient)\\\n",
    "            for item in names.filter(Recipe.id == i).all()[0].ingredients]"
   ]
  },
  {
   "cell_type": "code",
   "execution_count": 54,
   "metadata": {
    "collapsed": false
   },
   "outputs": [],
   "source": [
    "b = get_ingredientslist_for_recipeid(1)"
   ]
  },
  {
   "cell_type": "code",
   "execution_count": 53,
   "metadata": {
    "collapsed": false
   },
   "outputs": [],
   "source": [
    "def make_ingredient_list_string(ingredientdictlist):\n",
    "    return \" \".join((j[\"ingredient\"] for j in ingredientdictlist))"
   ]
  },
  {
   "cell_type": "code",
   "execution_count": 55,
   "metadata": {
    "collapsed": false
   },
   "outputs": [
    {
     "data": {
      "text/plain": [
       "u'milk white vinegar all-purpose flour white sugar baking powder baking soda salt egg butter, melted spray'"
      ]
     },
     "execution_count": 55,
     "metadata": {},
     "output_type": "execute_result"
    }
   ],
   "source": [
    "make_ingredient_list_string(b)"
   ]
  },
  {
   "cell_type": "code",
   "execution_count": 58,
   "metadata": {
    "collapsed": true
   },
   "outputs": [],
   "source": [
    "def tokenize_and_stem(title, is_ingredient = False):\n",
    "    stemmer = SnowballStemmer(\"english\")\n",
    "    stemmed_titles = []\n",
    "    new_title=[]\n",
    "    for word in nltk.word_tokenize(title):\n",
    "        new_title.append(stemmer.stem(word))\n",
    "    stemmed_titles.extend(new_title)\n",
    "    return \" \".join([i for i in stemmed_titles])"
   ]
  },
  {
   "cell_type": "code",
   "execution_count": 73,
   "metadata": {
    "collapsed": false
   },
   "outputs": [],
   "source": [
    "tokenized_ingredients = [tokenize_and_stem(make_ingredient_list_string(get_ingredientslist_for_recipeid(i))) for i in (recipes[\"id\"])]"
   ]
  },
  {
   "cell_type": "code",
   "execution_count": 74,
   "metadata": {
    "collapsed": true
   },
   "outputs": [],
   "source": [
    "tokenized_names = [tokenize_and_stem(i) for i in (recipes[\"name\"])]"
   ]
  },
  {
   "cell_type": "code",
   "execution_count": 75,
   "metadata": {
    "collapsed": false
   },
   "outputs": [
    {
     "data": {
      "text/plain": [
       "(u'award win soft chocol chip cooki',)"
      ]
     },
     "execution_count": 75,
     "metadata": {},
     "output_type": "execute_result"
    }
   ],
   "source": [
    "tokenized_names[99], "
   ]
  },
  {
   "cell_type": "code",
   "execution_count": 76,
   "metadata": {
    "collapsed": false
   },
   "outputs": [
    {
     "data": {
      "text/plain": [
       "u'all-purpos flour bake soda butter , soften pack brown sugar white sugar ( 3.4 ounc ) packag instant vanilla pud mix egg vanilla extract semisweet chocol chip chop walnut ( option )'"
      ]
     },
     "execution_count": 76,
     "metadata": {},
     "output_type": "execute_result"
    }
   ],
   "source": [
    "tokenized_ingredients[99]"
   ]
  },
  {
   "cell_type": "code",
   "execution_count": 77,
   "metadata": {
    "collapsed": true
   },
   "outputs": [],
   "source": [
    "tokenized_name_ing = zip(tokenized_names, tokenized_ingredients)"
   ]
  },
  {
   "cell_type": "code",
   "execution_count": 84,
   "metadata": {
    "collapsed": false,
    "scrolled": true
   },
   "outputs": [],
   "source": [
    "tokenized_name_ing = map(lambda a: \" \".join(a), tokenized_name_ing)"
   ]
  },
  {
   "cell_type": "code",
   "execution_count": 85,
   "metadata": {
    "collapsed": true
   },
   "outputs": [],
   "source": [
    "from sklearn.feature_extraction.text import CountVectorizer"
   ]
  },
  {
   "cell_type": "code",
   "execution_count": 86,
   "metadata": {
    "collapsed": false
   },
   "outputs": [],
   "source": [
    "vectorizer = CountVectorizer(ngram_range=(1,3), min_df=0.0003)"
   ]
  },
  {
   "cell_type": "code",
   "execution_count": 88,
   "metadata": {
    "collapsed": false
   },
   "outputs": [],
   "source": [
    "a = vectorizer.fit_transform(tokenized_name_ing)"
   ]
  },
  {
   "cell_type": "code",
   "execution_count": 89,
   "metadata": {
    "collapsed": false,
    "scrolled": true
   },
   "outputs": [
    {
     "data": {
      "text/plain": [
       "27066"
      ]
     },
     "execution_count": 89,
     "metadata": {},
     "output_type": "execute_result"
    }
   ],
   "source": [
    "len(vectorizer.get_feature_names())"
   ]
  },
  {
   "cell_type": "code",
   "execution_count": 90,
   "metadata": {
    "collapsed": false
   },
   "outputs": [
    {
     "data": {
      "text/plain": [
       "<3941x27066 sparse matrix of type '<type 'numpy.int64'>'\n",
       "\twith 305606 stored elements in Compressed Sparse Row format>"
      ]
     },
     "execution_count": 90,
     "metadata": {},
     "output_type": "execute_result"
    }
   ],
   "source": [
    "a"
   ]
  },
  {
   "cell_type": "code",
   "execution_count": 91,
   "metadata": {
    "collapsed": false
   },
   "outputs": [
    {
     "data": {
      "text/plain": [
       "13760"
      ]
     },
     "execution_count": 91,
     "metadata": {},
     "output_type": "execute_result"
    }
   ],
   "source": [
    "vectorizer.vocabulary_.get('minc')"
   ]
  },
  {
   "cell_type": "code",
   "execution_count": 92,
   "metadata": {
    "collapsed": false
   },
   "outputs": [
    {
     "data": {
      "text/plain": [
       "u'box barilla xa'"
      ]
     },
     "execution_count": 92,
     "metadata": {},
     "output_type": "execute_result"
    }
   ],
   "source": [
    "vectorizer.get_feature_names()[2256]"
   ]
  },
  {
   "cell_type": "code",
   "execution_count": null,
   "metadata": {
    "collapsed": false
   },
   "outputs": [],
   "source": [
    "sum(a.toarray()[:,2701])"
   ]
  },
  {
   "cell_type": "code",
   "execution_count": 93,
   "metadata": {
    "collapsed": false
   },
   "outputs": [],
   "source": [
    "from sklearn.feature_selection import f_regression, mutual_info_regression"
   ]
  },
  {
   "cell_type": "code",
   "execution_count": 94,
   "metadata": {
    "collapsed": false
   },
   "outputs": [],
   "source": [
    "# produces an array with mutual information (weights?) between individual words/n-grams in recipe names and cholesterol information\n",
    "mi = mutual_info_regression(a, recipes[\"cholesterol\"])\n",
    "mi /= np.max(mi)"
   ]
  },
  {
   "cell_type": "code",
   "execution_count": 95,
   "metadata": {
    "collapsed": false
   },
   "outputs": [
    {
     "data": {
      "text/plain": [
       "27066"
      ]
     },
     "execution_count": 95,
     "metadata": {},
     "output_type": "execute_result"
    }
   ],
   "source": [
    "len(mi)"
   ]
  },
  {
   "cell_type": "code",
   "execution_count": null,
   "metadata": {
    "collapsed": false,
    "scrolled": true
   },
   "outputs": [],
   "source": [
    "#[(index, i, vectorizer.get_feature_names()[index]) for index, i in enumerate(mi) if i>0.01]"
   ]
  },
  {
   "cell_type": "code",
   "execution_count": 96,
   "metadata": {
    "collapsed": false
   },
   "outputs": [],
   "source": [
    "# Returns indices of columns with MI value greater than e.g. 0.01. Can be used for re\n",
    "informative_words = np.array([(index) for index, i in enumerate(mi) if i>0.01])\n",
    "# return word vector array with uninformative words removeds\n",
    "culled_array = a.toarray()[:,informative_words]"
   ]
  },
  {
   "cell_type": "code",
   "execution_count": 97,
   "metadata": {
    "collapsed": false
   },
   "outputs": [
    {
     "data": {
      "text/plain": [
       "5413"
      ]
     },
     "execution_count": 97,
     "metadata": {},
     "output_type": "execute_result"
    }
   ],
   "source": [
    "len(informative_words)"
   ]
  },
  {
   "cell_type": "code",
   "execution_count": 98,
   "metadata": {
    "collapsed": false
   },
   "outputs": [
    {
     "data": {
      "text/plain": [
       "(3941, 5413)"
      ]
     },
     "execution_count": 98,
     "metadata": {},
     "output_type": "execute_result"
    }
   ],
   "source": [
    "culled_array.shape"
   ]
  },
  {
   "cell_type": "code",
   "execution_count": 99,
   "metadata": {
    "collapsed": false
   },
   "outputs": [
    {
     "data": {
      "text/plain": [
       "LinearRegression(copy_X=True, fit_intercept=True, n_jobs=1, normalize=False)"
      ]
     },
     "execution_count": 99,
     "metadata": {},
     "output_type": "execute_result"
    }
   ],
   "source": [
    "import matplotlib.pyplot as plt\n",
    "import numpy as np\n",
    "from mpl_toolkits.mplot3d import Axes3D\n",
    "\n",
    "from sklearn import datasets, linear_model\n",
    "\n",
    "\n",
    "X_train = culled_array\n",
    "y_train = recipes[\"cholesterol\"]\n",
    "\n",
    "X_test = a[:200]\n",
    "y_test = recipes[\"cholesterol\"][:200]\n",
    "\n",
    "regr = linear_model.LinearRegression()\n",
    "regr.fit(X_train, y_train)"
   ]
  },
  {
   "cell_type": "code",
   "execution_count": null,
   "metadata": {
    "collapsed": false
   },
   "outputs": [],
   "source": [
    "# Try fitting an elasticnet model!\n",
    "from sklearn.linear_model import ElasticNet\n",
    "from sklearn.metrics import r2_score\n",
    "enet = ElasticNet()\n",
    "enetmodel=enet.fit(culled_array[200:], y_train[200:])\n",
    "y_predicted = enetmodel.predict(culled_array[:200])\n",
    "# Evaluate by comparing predicted cholesterol to actual cholesterol\n",
    "r2_score_enet = r2_score(y_test, y_predicted)\n",
    "r2_score_enet #oh no it's -0.29..."
   ]
  },
  {
   "cell_type": "code",
   "execution_count": 100,
   "metadata": {
    "collapsed": false
   },
   "outputs": [],
   "source": [
    "import cPickle as pkl"
   ]
  },
  {
   "cell_type": "code",
   "execution_count": 157,
   "metadata": {
    "collapsed": false,
    "scrolled": true
   },
   "outputs": [],
   "source": [
    "ground_truth_x =[]\n",
    "ground_truth_y =[]\n",
    "for item in pkl.load(open(\"groundtruth.pkl\", \"rb\")):\n",
    "    try:\n",
    "        if len(item[\"item_description\"]) > 10:\n",
    "            ground_truth_x.append(\" \".join((item[\"item_name\"], item[\"item_description\"])))\n",
    "            ground_truth_y.append(item[\"nf_cholesterol\"])\n",
    "    except:\n",
    "        None"
   ]
  },
  {
   "cell_type": "code",
   "execution_count": 174,
   "metadata": {
    "collapsed": false,
    "scrolled": true
   },
   "outputs": [],
   "source": [
    "for item in pkl.load(open(\"groundtruth2.pkl\", \"rb\")):\n",
    "    try:\n",
    "        if len(item[\"item_description\"]) > 10:\n",
    "            ground_truth_x.append(\" \".join((item[\"item_name\"], item[\"item_description\"])))\n",
    "            ground_truth_y.append(item[\"nf_cholesterol\"])\n",
    "    except:\n",
    "        None"
   ]
  },
  {
   "cell_type": "code",
   "execution_count": 175,
   "metadata": {
    "collapsed": false
   },
   "outputs": [
    {
     "data": {
      "text/plain": [
       "287"
      ]
     },
     "execution_count": 175,
     "metadata": {},
     "output_type": "execute_result"
    }
   ],
   "source": [
    "len(ground_truth_x)"
   ]
  },
  {
   "cell_type": "code",
   "execution_count": 160,
   "metadata": {
    "collapsed": false
   },
   "outputs": [
    {
     "data": {
      "text/plain": [
       "u'Outback Sirloin, 9 Oz SIGNATURE STEAKS - Outback Special 9 oz'"
      ]
     },
     "execution_count": 160,
     "metadata": {},
     "output_type": "execute_result"
    }
   ],
   "source": [
    "ground_truth_x[0]"
   ]
  },
  {
   "cell_type": "code",
   "execution_count": 161,
   "metadata": {
    "collapsed": true
   },
   "outputs": [],
   "source": [
    "# tokenized_names_ground_truth = [tokenize_and_stem(i) for i in (ground_truth_x)]\n",
    "# Include descriptions\n",
    "tokenized_names_ground_truth = [tokenize_and_stem(i) for i in (ground_truth_x)]"
   ]
  },
  {
   "cell_type": "code",
   "execution_count": 162,
   "metadata": {
    "collapsed": false
   },
   "outputs": [],
   "source": [
    "# Puts words from new ground truth set into matrix from training set\n",
    "ground_truth_vectorized = vectorizer.transform(tokenized_names_ground_truth)"
   ]
  },
  {
   "cell_type": "code",
   "execution_count": 163,
   "metadata": {
    "collapsed": false,
    "scrolled": true
   },
   "outputs": [
    {
     "ename": "NameError",
     "evalue": "name 'enetmodel' is not defined",
     "output_type": "error",
     "traceback": [
      "\u001b[1;31m---------------------------------------------------------------------------\u001b[0m",
      "\u001b[1;31mNameError\u001b[0m                                 Traceback (most recent call last)",
      "\u001b[1;32m<ipython-input-163-7d588cf165b3>\u001b[0m in \u001b[0;36m<module>\u001b[1;34m()\u001b[0m\n\u001b[0;32m      1\u001b[0m \u001b[0mground_truth_vectorized_culled_array\u001b[0m \u001b[1;33m=\u001b[0m \u001b[0mground_truth_vectorized\u001b[0m\u001b[1;33m.\u001b[0m\u001b[0mtoarray\u001b[0m\u001b[1;33m(\u001b[0m\u001b[1;33m)\u001b[0m\u001b[1;33m[\u001b[0m\u001b[1;33m:\u001b[0m\u001b[1;33m,\u001b[0m\u001b[0minformative_words\u001b[0m\u001b[1;33m]\u001b[0m\u001b[1;33m\u001b[0m\u001b[0m\n\u001b[1;32m----> 2\u001b[1;33m \u001b[0my_predicted\u001b[0m \u001b[1;33m=\u001b[0m \u001b[0menetmodel\u001b[0m\u001b[1;33m.\u001b[0m\u001b[0mpredict\u001b[0m\u001b[1;33m(\u001b[0m\u001b[0mground_truth_vectorized_culled_array\u001b[0m\u001b[1;33m)\u001b[0m\u001b[1;33m\u001b[0m\u001b[0m\n\u001b[0m\u001b[0;32m      3\u001b[0m \u001b[0mr2_score_enet\u001b[0m \u001b[1;33m=\u001b[0m \u001b[0mr2_score\u001b[0m\u001b[1;33m(\u001b[0m\u001b[0mground_truth_y\u001b[0m\u001b[1;33m,\u001b[0m \u001b[0my_predicted\u001b[0m\u001b[1;33m)\u001b[0m\u001b[1;33m\u001b[0m\u001b[0m\n\u001b[0;32m      4\u001b[0m \u001b[0mr2_score_enet\u001b[0m \u001b[1;31m#oh no it's still bad...\u001b[0m\u001b[1;33m\u001b[0m\u001b[0m\n",
      "\u001b[1;31mNameError\u001b[0m: name 'enetmodel' is not defined"
     ]
    }
   ],
   "source": [
    "ground_truth_vectorized_culled_array = ground_truth_vectorized.toarray()[:,informative_words]\n",
    "y_predicted = enetmodel.predict(ground_truth_vectorized_culled_array)\n",
    "r2_score_enet = r2_score(ground_truth_y, y_predicted)\n",
    "r2_score_enet #oh no it's still bad..."
   ]
  },
  {
   "cell_type": "code",
   "execution_count": null,
   "metadata": {
    "collapsed": false
   },
   "outputs": [],
   "source": [
    "x,y = pd.Series(ground_truth_y, name=\"x_var\"), pd.Series(y_predicted, name=\"y_var\")\n",
    "ax = sns.regplot(x=x, y=y)"
   ]
  },
  {
   "cell_type": "markdown",
   "metadata": {},
   "source": [
    "## So, the elasticnet model (a linear regression) has poor predictive power at default parameters. Can we optimize the parameters?"
   ]
  },
  {
   "cell_type": "code",
   "execution_count": 134,
   "metadata": {
    "collapsed": false
   },
   "outputs": [],
   "source": [
    "%matplotlib inline\n",
    "# Compute paths\n",
    "from sklearn.linear_model import ElasticNetCV\n",
    "import time, copy\n",
    "from sklearn.metrics import r2_score\n",
    "import seaborn as sns\n",
    "def enetcv(culled_array, y_train, ground_truth_vectorized_culled_array, ground_truth_y):\n",
    "    #culledarrayecv = np.sqrt(np.sum(culledarrayecv ** 2, axis=0)) / culledarrayecv\n",
    "    model = ElasticNetCV(cv=10)\n",
    "    out = model.fit(culled_array, y_train)\n",
    "    #m_log_alphas = -np.log10(out.alphas_)\n",
    "    #y_predicted_cv = out.predict(ground_truth_vectorized_culled_array)\n",
    "    #x,y = pd.Series(ground_truth_y, name=\"actual cholesterol\"), pd.Series(y_predicted_cv, name=\"predicted cholesterol\")\n",
    "    #ax = sns.regplot(x=x, y=y)\n",
    "    return(out, model)"
   ]
  },
  {
   "cell_type": "code",
   "execution_count": null,
   "metadata": {
    "collapsed": true
   },
   "outputs": [],
   "source": [
    "r2_score(ground_truth_y, y_predicted_cv)"
   ]
  },
  {
   "cell_type": "code",
   "execution_count": 135,
   "metadata": {
    "collapsed": false
   },
   "outputs": [],
   "source": [
    "fit_enet = enetcv(culled_array, y_train, ground_truth_vectorized, ground_truth_y)"
   ]
  },
  {
   "cell_type": "code",
   "execution_count": 164,
   "metadata": {
    "collapsed": false
   },
   "outputs": [],
   "source": [
    "y_predicted_cv = fit_enet[0].predict(ground_truth_vectorized_culled_array)"
   ]
  },
  {
   "cell_type": "code",
   "execution_count": 172,
   "metadata": {
    "collapsed": false
   },
   "outputs": [
    {
     "data": {
      "text/plain": [
       "(3941, 5413)"
      ]
     },
     "execution_count": 172,
     "metadata": {},
     "output_type": "execute_result"
    }
   ],
   "source": [
    "culled_array.shape"
   ]
  },
  {
   "cell_type": "code",
   "execution_count": 165,
   "metadata": {
    "collapsed": false
   },
   "outputs": [
    {
     "data": {
      "image/png": "[encoded data removed]",
      "text/plain": [
       "<matplotlib.figure.Figure at 0x7f060ca50b90>"
      ]
     },
     "metadata": {},
     "output_type": "display_data"
    }
   ],
   "source": [
    "x,y = pd.Series(ground_truth_y, name=\"actual cholesterol\"), pd.Series(y_predicted_cv, name=\"predicted cholesterol\")\n",
    "ax = sns.regplot(x=x, y=y)"
   ]
  },
  {
   "cell_type": "code",
   "execution_count": 170,
   "metadata": {
    "collapsed": true
   },
   "outputs": [
    {
     "data": {
      "text/html": [
       "<div>\n",
       "<table border=\"1\" class=\"dataframe\">\n",
       "  <thead>\n",
       "    <tr style=\"text-align: right;\">\n",
       "      <th></th>\n",
       "      <th>0</th>\n",
       "      <th>1</th>\n",
       "      <th>2</th>\n",
       "    </tr>\n",
       "  </thead>\n",
       "  <tbody>\n",
       "    <tr>\n",
       "      <th>0</th>\n",
       "      <td>125</td>\n",
       "      <td>59.860252</td>\n",
       "      <td>Outback Sirloin, 9 Oz SIGNATURE STEAKS - Outba...</td>\n",
       "    </tr>\n",
       "    <tr>\n",
       "      <th>1</th>\n",
       "      <td>85</td>\n",
       "      <td>59.860252</td>\n",
       "      <td>Outback Sirloin, 6 Oz SIGNATURE STEAKS - Outba...</td>\n",
       "    </tr>\n",
       "    <tr>\n",
       "      <th>2</th>\n",
       "      <td>35</td>\n",
       "      <td>53.949573</td>\n",
       "      <td>Outback Calzone Calzones - Outback Calzone</td>\n",
       "    </tr>\n",
       "    <tr>\n",
       "      <th>3</th>\n",
       "      <td>170</td>\n",
       "      <td>59.860252</td>\n",
       "      <td>Outback Sirloin, 12 Oz SIGNATURE STEAKS - Outb...</td>\n",
       "    </tr>\n",
       "    <tr>\n",
       "      <th>4</th>\n",
       "      <td>25</td>\n",
       "      <td>53.288084</td>\n",
       "      <td>Outback Pizza, Personal Baked Personal Pizzas ...</td>\n",
       "    </tr>\n",
       "    <tr>\n",
       "      <th>5</th>\n",
       "      <td>35</td>\n",
       "      <td>57.161490</td>\n",
       "      <td>Outback Pizza, Medium MEDIUM PIZZAS - outback</td>\n",
       "    </tr>\n",
       "    <tr>\n",
       "      <th>6</th>\n",
       "      <td>30</td>\n",
       "      <td>51.414681</td>\n",
       "      <td>Outback Pizza, Large LARGE PIZZAS - outback</td>\n",
       "    </tr>\n",
       "    <tr>\n",
       "      <th>7</th>\n",
       "      <td>0</td>\n",
       "      <td>38.986001</td>\n",
       "      <td>Cookies, Kids Outback Animals Chocolate Kids O...</td>\n",
       "    </tr>\n",
       "    <tr>\n",
       "      <th>8</th>\n",
       "      <td>10</td>\n",
       "      <td>53.949573</td>\n",
       "      <td>House Salad FRESHLY MADE SIDES - House Salad</td>\n",
       "    </tr>\n",
       "    <tr>\n",
       "      <th>9</th>\n",
       "      <td>35</td>\n",
       "      <td>53.477749</td>\n",
       "      <td>Outback Pizza, Family FAMILY PIZZAS - outback</td>\n",
       "    </tr>\n",
       "    <tr>\n",
       "      <th>10</th>\n",
       "      <td>130</td>\n",
       "      <td>62.460295</td>\n",
       "      <td>The Outbacker Burger Without Cheese BURGERS &amp; ...</td>\n",
       "    </tr>\n",
       "    <tr>\n",
       "      <th>11</th>\n",
       "      <td>130</td>\n",
       "      <td>50.867602</td>\n",
       "      <td>Bloomin' Onion AUSSIE-TIZERS TO SHARE - Bloomi...</td>\n",
       "    </tr>\n",
       "    <tr>\n",
       "      <th>12</th>\n",
       "      <td>0</td>\n",
       "      <td>48.743469</td>\n",
       "      <td>Vegetable Pasta Shapes, Kids, Outback Animals ...</td>\n",
       "    </tr>\n",
       "    <tr>\n",
       "      <th>13</th>\n",
       "      <td>155</td>\n",
       "      <td>53.949573</td>\n",
       "      <td>Double Burger BURGERS &amp; SANDWICHES - Double Bu...</td>\n",
       "    </tr>\n",
       "    <tr>\n",
       "      <th>14</th>\n",
       "      <td>15</td>\n",
       "      <td>56.792457</td>\n",
       "      <td>Aussie Fries FRESHLY MADE SIDES - Aussie Fries</td>\n",
       "    </tr>\n",
       "    <tr>\n",
       "      <th>15</th>\n",
       "      <td>5</td>\n",
       "      <td>53.949573</td>\n",
       "      <td>Caesar Salad FRESHLY MADE SIDES - Caesar Salad</td>\n",
       "    </tr>\n",
       "    <tr>\n",
       "      <th>16</th>\n",
       "      <td>10</td>\n",
       "      <td>25.782338</td>\n",
       "      <td>Garlic Mashed Potatoes FRESHLY MADE SIDES - Ga...</td>\n",
       "    </tr>\n",
       "    <tr>\n",
       "      <th>17</th>\n",
       "      <td>0</td>\n",
       "      <td>51.878894</td>\n",
       "      <td>Grilled Asparagus FRESHLY MADE SIDES - Grilled...</td>\n",
       "    </tr>\n",
       "    <tr>\n",
       "      <th>18</th>\n",
       "      <td>240</td>\n",
       "      <td>38.481763</td>\n",
       "      <td>Wings AUSSIE-TIZERS TO SHARE - Wings</td>\n",
       "    </tr>\n",
       "    <tr>\n",
       "      <th>19</th>\n",
       "      <td>205</td>\n",
       "      <td>78.370319</td>\n",
       "      <td>Alice Springs Chicken OUTBACK FAVORITES - Alic...</td>\n",
       "    </tr>\n",
       "    <tr>\n",
       "      <th>20</th>\n",
       "      <td>100</td>\n",
       "      <td>62.028176</td>\n",
       "      <td>Teriyaki Steak Medallions SPECIALTY CUTS &amp; COM...</td>\n",
       "    </tr>\n",
       "    <tr>\n",
       "      <th>21</th>\n",
       "      <td>15</td>\n",
       "      <td>68.216448</td>\n",
       "      <td>Blue Cheese Crumbles Add On Mates - Blue Chees...</td>\n",
       "    </tr>\n",
       "    <tr>\n",
       "      <th>22</th>\n",
       "      <td>65</td>\n",
       "      <td>45.317744</td>\n",
       "      <td>Crab &amp; Avocado Stack AUSSIE-TIZERS TO SHARE - ...</td>\n",
       "    </tr>\n",
       "    <tr>\n",
       "      <th>23</th>\n",
       "      <td>165</td>\n",
       "      <td>75.715730</td>\n",
       "      <td>New Zealand Lamb OUTBACK FAVORITES - New Zeala...</td>\n",
       "    </tr>\n",
       "    <tr>\n",
       "      <th>24</th>\n",
       "      <td>105</td>\n",
       "      <td>53.949573</td>\n",
       "      <td>Great Barrier Trio Aussietizers - Crab Stack</td>\n",
       "    </tr>\n",
       "    <tr>\n",
       "      <th>25</th>\n",
       "      <td>200</td>\n",
       "      <td>102.548295</td>\n",
       "      <td>Baby Back Ribs Outback Favorites - Baby Back R...</td>\n",
       "    </tr>\n",
       "    <tr>\n",
       "      <th>26</th>\n",
       "      <td>0</td>\n",
       "      <td>53.949573</td>\n",
       "      <td>Fresh Steamed Broccoli FRESHLY MADE SIDES - Fr...</td>\n",
       "    </tr>\n",
       "    <tr>\n",
       "      <th>27</th>\n",
       "      <td>140</td>\n",
       "      <td>73.813902</td>\n",
       "      <td>Aussie Cheese Fries, Small AUSSIE-TIZERS TO SH...</td>\n",
       "    </tr>\n",
       "    <tr>\n",
       "      <th>28</th>\n",
       "      <td>75</td>\n",
       "      <td>59.860252</td>\n",
       "      <td>Victoria's Filet Mignon, 6 Oz SIGNATURE STEAKS...</td>\n",
       "    </tr>\n",
       "    <tr>\n",
       "      <th>29</th>\n",
       "      <td>355</td>\n",
       "      <td>45.202125</td>\n",
       "      <td>Chocolate Thunder From Down Under IRRESISTIBLE...</td>\n",
       "    </tr>\n",
       "    <tr>\n",
       "      <th>...</th>\n",
       "      <td>...</td>\n",
       "      <td>...</td>\n",
       "      <td>...</td>\n",
       "    </tr>\n",
       "    <tr>\n",
       "      <th>174</th>\n",
       "      <td>0</td>\n",
       "      <td>53.652157</td>\n",
       "      <td>Bob's Big Bear Burger with Dinner Salad LUNCH ...</td>\n",
       "    </tr>\n",
       "    <tr>\n",
       "      <th>175</th>\n",
       "      <td>0</td>\n",
       "      <td>100.536423</td>\n",
       "      <td>Little Less Bear Paw Chicken Fried Steak DINNE...</td>\n",
       "    </tr>\n",
       "    <tr>\n",
       "      <th>176</th>\n",
       "      <td>225</td>\n",
       "      <td>175.915288</td>\n",
       "      <td>Eggs Breakfast Sides - Eggs (each) 2 oz = 1 egg</td>\n",
       "    </tr>\n",
       "    <tr>\n",
       "      <th>177</th>\n",
       "      <td>0</td>\n",
       "      <td>42.996378</td>\n",
       "      <td>Tortillas Soups, Salads &amp; Sides - Tortillas (3)</td>\n",
       "    </tr>\n",
       "    <tr>\n",
       "      <th>178</th>\n",
       "      <td>0</td>\n",
       "      <td>53.949573</td>\n",
       "      <td>Lemonade Beverages - Lemonade</td>\n",
       "    </tr>\n",
       "    <tr>\n",
       "      <th>179</th>\n",
       "      <td>0</td>\n",
       "      <td>60.023722</td>\n",
       "      <td>Croutons Condiments - Croutons (for Salad)</td>\n",
       "    </tr>\n",
       "    <tr>\n",
       "      <th>180</th>\n",
       "      <td>0</td>\n",
       "      <td>53.949573</td>\n",
       "      <td>Broccoli Dinner Sides - Broccoli</td>\n",
       "    </tr>\n",
       "    <tr>\n",
       "      <th>181</th>\n",
       "      <td>15</td>\n",
       "      <td>49.851584</td>\n",
       "      <td>Chocolate Milk 16 oz Chocolate Milk</td>\n",
       "    </tr>\n",
       "    <tr>\n",
       "      <th>182</th>\n",
       "      <td>0</td>\n",
       "      <td>42.774545</td>\n",
       "      <td>Strawberry Lemonade Beverages - Strawberry Lem...</td>\n",
       "    </tr>\n",
       "    <tr>\n",
       "      <th>183</th>\n",
       "      <td>0</td>\n",
       "      <td>62.231498</td>\n",
       "      <td>Whipped Margarine Condiments - Whipped Margarine</td>\n",
       "    </tr>\n",
       "    <tr>\n",
       "      <th>184</th>\n",
       "      <td>45</td>\n",
       "      <td>43.077705</td>\n",
       "      <td>Clam Chowder, Bowl Soups, Salads &amp; Sides - Cla...</td>\n",
       "    </tr>\n",
       "    <tr>\n",
       "      <th>185</th>\n",
       "      <td>425</td>\n",
       "      <td>53.949573</td>\n",
       "      <td>Original Grand Slam Slams - Original Grand Slam</td>\n",
       "    </tr>\n",
       "    <tr>\n",
       "      <th>186</th>\n",
       "      <td>0</td>\n",
       "      <td>45.022192</td>\n",
       "      <td>Sweet Petite Corn Dinner Sides - Sweet Petite ...</td>\n",
       "    </tr>\n",
       "    <tr>\n",
       "      <th>187</th>\n",
       "      <td>30</td>\n",
       "      <td>53.949573</td>\n",
       "      <td>Fit Slam Slams - Fit Slam</td>\n",
       "    </tr>\n",
       "    <tr>\n",
       "      <th>188</th>\n",
       "      <td>465</td>\n",
       "      <td>58.379352</td>\n",
       "      <td>Ultimate Skillet Skillets - Ultimate Skillet</td>\n",
       "    </tr>\n",
       "    <tr>\n",
       "      <th>189</th>\n",
       "      <td>60</td>\n",
       "      <td>63.710683</td>\n",
       "      <td>Sausage Links Breakfast Sides - Sausage Links (4)</td>\n",
       "    </tr>\n",
       "    <tr>\n",
       "      <th>190</th>\n",
       "      <td>0</td>\n",
       "      <td>39.914407</td>\n",
       "      <td>Onion Rings Soups, Salads &amp; Sides - Onion Rings</td>\n",
       "    </tr>\n",
       "    <tr>\n",
       "      <th>191</th>\n",
       "      <td>0</td>\n",
       "      <td>48.081415</td>\n",
       "      <td>Apple Juice 10 oz Chocolate Milk</td>\n",
       "    </tr>\n",
       "    <tr>\n",
       "      <th>192</th>\n",
       "      <td>370</td>\n",
       "      <td>61.357708</td>\n",
       "      <td>French Toast Slam Slams - French Toast Slam</td>\n",
       "    </tr>\n",
       "    <tr>\n",
       "      <th>193</th>\n",
       "      <td>0</td>\n",
       "      <td>135.260049</td>\n",
       "      <td>Egg Whites Breakfast Sides - Egg Whites</td>\n",
       "    </tr>\n",
       "    <tr>\n",
       "      <th>194</th>\n",
       "      <td>0</td>\n",
       "      <td>45.839262</td>\n",
       "      <td>Seasoned Fries Soups, Salads &amp; Sides - Seasone...</td>\n",
       "    </tr>\n",
       "    <tr>\n",
       "      <th>195</th>\n",
       "      <td>70</td>\n",
       "      <td>133.075415</td>\n",
       "      <td>Golden-Fried Shrimp Dinner Sides - Golden-Frie...</td>\n",
       "    </tr>\n",
       "    <tr>\n",
       "      <th>196</th>\n",
       "      <td>145</td>\n",
       "      <td>52.310371</td>\n",
       "      <td>Brooklyn Spaghetti &amp; Meatballs Dinner - Brookl...</td>\n",
       "    </tr>\n",
       "    <tr>\n",
       "      <th>197</th>\n",
       "      <td>30</td>\n",
       "      <td>41.240092</td>\n",
       "      <td>Clam Chowder, Cup Soups, Salads &amp; Sides - Clam...</td>\n",
       "    </tr>\n",
       "    <tr>\n",
       "      <th>198</th>\n",
       "      <td>0</td>\n",
       "      <td>64.165509</td>\n",
       "      <td>Breakfast Hash Browns Dinner Sides - Hash Browns</td>\n",
       "    </tr>\n",
       "    <tr>\n",
       "      <th>199</th>\n",
       "      <td>0</td>\n",
       "      <td>49.969395</td>\n",
       "      <td>Iced Tea, Sweetened Beverages - Iced Tea</td>\n",
       "    </tr>\n",
       "    <tr>\n",
       "      <th>200</th>\n",
       "      <td>125</td>\n",
       "      <td>48.691515</td>\n",
       "      <td>Fit Fare Tilapia Ranchero Dinner - Fit Fare Ti...</td>\n",
       "    </tr>\n",
       "    <tr>\n",
       "      <th>201</th>\n",
       "      <td>140</td>\n",
       "      <td>60.950717</td>\n",
       "      <td>Avocado Chicken Caesar Salad Soups, Salads &amp; S...</td>\n",
       "    </tr>\n",
       "    <tr>\n",
       "      <th>202</th>\n",
       "      <td>25</td>\n",
       "      <td>22.802388</td>\n",
       "      <td>Broccoli &amp; Cheddar Soup, Cup Soups, Salads &amp; S...</td>\n",
       "    </tr>\n",
       "    <tr>\n",
       "      <th>203</th>\n",
       "      <td>15</td>\n",
       "      <td>30.604707</td>\n",
       "      <td>Vegetable Beef Soup, Bowl Soups, Salads &amp; Side...</td>\n",
       "    </tr>\n",
       "  </tbody>\n",
       "</table>\n",
       "<p>204 rows × 3 columns</p>\n",
       "</div>"
      ],
      "text/plain": [
       "       0           1                                                  2\n",
       "0    125   59.860252  Outback Sirloin, 9 Oz SIGNATURE STEAKS - Outba...\n",
       "1     85   59.860252  Outback Sirloin, 6 Oz SIGNATURE STEAKS - Outba...\n",
       "2     35   53.949573         Outback Calzone Calzones - Outback Calzone\n",
       "3    170   59.860252  Outback Sirloin, 12 Oz SIGNATURE STEAKS - Outb...\n",
       "4     25   53.288084  Outback Pizza, Personal Baked Personal Pizzas ...\n",
       "5     35   57.161490      Outback Pizza, Medium MEDIUM PIZZAS - outback\n",
       "6     30   51.414681        Outback Pizza, Large LARGE PIZZAS - outback\n",
       "7      0   38.986001  Cookies, Kids Outback Animals Chocolate Kids O...\n",
       "8     10   53.949573       House Salad FRESHLY MADE SIDES - House Salad\n",
       "9     35   53.477749      Outback Pizza, Family FAMILY PIZZAS - outback\n",
       "10   130   62.460295  The Outbacker Burger Without Cheese BURGERS & ...\n",
       "11   130   50.867602  Bloomin' Onion AUSSIE-TIZERS TO SHARE - Bloomi...\n",
       "12     0   48.743469  Vegetable Pasta Shapes, Kids, Outback Animals ...\n",
       "13   155   53.949573  Double Burger BURGERS & SANDWICHES - Double Bu...\n",
       "14    15   56.792457     Aussie Fries FRESHLY MADE SIDES - Aussie Fries\n",
       "15     5   53.949573     Caesar Salad FRESHLY MADE SIDES - Caesar Salad\n",
       "16    10   25.782338  Garlic Mashed Potatoes FRESHLY MADE SIDES - Ga...\n",
       "17     0   51.878894  Grilled Asparagus FRESHLY MADE SIDES - Grilled...\n",
       "18   240   38.481763               Wings AUSSIE-TIZERS TO SHARE - Wings\n",
       "19   205   78.370319  Alice Springs Chicken OUTBACK FAVORITES - Alic...\n",
       "20   100   62.028176  Teriyaki Steak Medallions SPECIALTY CUTS & COM...\n",
       "21    15   68.216448  Blue Cheese Crumbles Add On Mates - Blue Chees...\n",
       "22    65   45.317744  Crab & Avocado Stack AUSSIE-TIZERS TO SHARE - ...\n",
       "23   165   75.715730  New Zealand Lamb OUTBACK FAVORITES - New Zeala...\n",
       "24   105   53.949573       Great Barrier Trio Aussietizers - Crab Stack\n",
       "25   200  102.548295  Baby Back Ribs Outback Favorites - Baby Back R...\n",
       "26     0   53.949573  Fresh Steamed Broccoli FRESHLY MADE SIDES - Fr...\n",
       "27   140   73.813902  Aussie Cheese Fries, Small AUSSIE-TIZERS TO SH...\n",
       "28    75   59.860252  Victoria's Filet Mignon, 6 Oz SIGNATURE STEAKS...\n",
       "29   355   45.202125  Chocolate Thunder From Down Under IRRESISTIBLE...\n",
       "..   ...         ...                                                ...\n",
       "174    0   53.652157  Bob's Big Bear Burger with Dinner Salad LUNCH ...\n",
       "175    0  100.536423  Little Less Bear Paw Chicken Fried Steak DINNE...\n",
       "176  225  175.915288    Eggs Breakfast Sides - Eggs (each) 2 oz = 1 egg\n",
       "177    0   42.996378    Tortillas Soups, Salads & Sides - Tortillas (3)\n",
       "178    0   53.949573                      Lemonade Beverages - Lemonade\n",
       "179    0   60.023722         Croutons Condiments - Croutons (for Salad)\n",
       "180    0   53.949573                   Broccoli Dinner Sides - Broccoli\n",
       "181   15   49.851584                Chocolate Milk 16 oz Chocolate Milk\n",
       "182    0   42.774545  Strawberry Lemonade Beverages - Strawberry Lem...\n",
       "183    0   62.231498   Whipped Margarine Condiments - Whipped Margarine\n",
       "184   45   43.077705  Clam Chowder, Bowl Soups, Salads & Sides - Cla...\n",
       "185  425   53.949573    Original Grand Slam Slams - Original Grand Slam\n",
       "186    0   45.022192  Sweet Petite Corn Dinner Sides - Sweet Petite ...\n",
       "187   30   53.949573                          Fit Slam Slams - Fit Slam\n",
       "188  465   58.379352       Ultimate Skillet Skillets - Ultimate Skillet\n",
       "189   60   63.710683  Sausage Links Breakfast Sides - Sausage Links (4)\n",
       "190    0   39.914407    Onion Rings Soups, Salads & Sides - Onion Rings\n",
       "191    0   48.081415                   Apple Juice 10 oz Chocolate Milk\n",
       "192  370   61.357708        French Toast Slam Slams - French Toast Slam\n",
       "193    0  135.260049            Egg Whites Breakfast Sides - Egg Whites\n",
       "194    0   45.839262  Seasoned Fries Soups, Salads & Sides - Seasone...\n",
       "195   70  133.075415  Golden-Fried Shrimp Dinner Sides - Golden-Frie...\n",
       "196  145   52.310371  Brooklyn Spaghetti & Meatballs Dinner - Brookl...\n",
       "197   30   41.240092  Clam Chowder, Cup Soups, Salads & Sides - Clam...\n",
       "198    0   64.165509   Breakfast Hash Browns Dinner Sides - Hash Browns\n",
       "199    0   49.969395           Iced Tea, Sweetened Beverages - Iced Tea\n",
       "200  125   48.691515  Fit Fare Tilapia Ranchero Dinner - Fit Fare Ti...\n",
       "201  140   60.950717  Avocado Chicken Caesar Salad Soups, Salads & S...\n",
       "202   25   22.802388  Broccoli & Cheddar Soup, Cup Soups, Salads & S...\n",
       "203   15   30.604707  Vegetable Beef Soup, Bowl Soups, Salads & Side...\n",
       "\n",
       "[204 rows x 3 columns]"
      ]
     },
     "execution_count": 170,
     "metadata": {},
     "output_type": "execute_result"
    }
   ],
   "source": [
    "pd.DataFrame(zip(ground_truth_y, y_predicted_cv, ground_truth_x))"
   ]
  },
  {
   "cell_type": "code",
   "execution_count": 167,
   "metadata": {
    "collapsed": false
   },
   "outputs": [],
   "source": [
    "for index, i in enumerate(ground_truth_y):\n",
    "    if i == None:\n",
    "        ground_truth_y[index] = 0"
   ]
  },
  {
   "cell_type": "code",
   "execution_count": 173,
   "metadata": {
    "collapsed": false
   },
   "outputs": [
    {
     "data": {
      "text/plain": [
       "(0.014897884854584431,)"
      ]
     },
     "execution_count": 173,
     "metadata": {},
     "output_type": "execute_result"
    }
   ],
   "source": [
    "r2_score(ground_truth_y, y_predicted_cv), "
   ]
  },
  {
   "cell_type": "markdown",
   "metadata": {},
   "source": [
    "0.014 without removing no-description names"
   ]
  },
  {
   "cell_type": "code",
   "execution_count": null,
   "metadata": {
    "collapsed": true
   },
   "outputs": [],
   "source": [
    "from sklearn.model_selection import cross_val_score\n",
    "clf = svm.SVC(kernel='linear', C=1)\n",
    "scores = cross_val_score(clf, iris.data, iris.target, cv=5)\n",
    "scores                                              \n",
    "array([ 0.96...,  1.  ...,  0.96...,  0.96...,  1.        ])"
   ]
  },
  {
   "cell_type": "markdown",
   "metadata": {},
   "source": [
    "## woohoo with an optimized elasticnet model, there's a 0.13705 Rsq"
   ]
  },
  {
   "cell_type": "markdown",
   "metadata": {},
   "source": [
    "### How about if I try to add position-weights to words?"
   ]
  },
  {
   "cell_type": "code",
   "execution_count": null,
   "metadata": {
    "collapsed": false
   },
   "outputs": [],
   "source": [
    "def tokenize_and_stem_with_position_weights(title):\n",
    "    stemmer = SnowballStemmer(\"english\")\n",
    "    stemmed_titles = []\n",
    "    new_title=[]\n",
    "    for index, word in enumerate(nltk.word_tokenize(title)):\n",
    "        rindex = abs(index - len(nltk.word_tokenize(title)))\n",
    "        new_title.append(str(stemmer.stem(word).encode(\"utf-8\") + str(rindex)))\n",
    "    stemmed_titles.extend(new_title)    \n",
    "    return \" \".join([i for i in stemmed_titles])"
   ]
  },
  {
   "cell_type": "code",
   "execution_count": null,
   "metadata": {
    "collapsed": false
   },
   "outputs": [],
   "source": [
    "tokenized_names_pos = [tokenize_and_stem_with_position_weights(i) for i in (recipes[\"name\"])]"
   ]
  },
  {
   "cell_type": "code",
   "execution_count": null,
   "metadata": {
    "collapsed": false
   },
   "outputs": [],
   "source": [
    "vectorizer = CountVectorizer(ngram_range=(1,3), min_df=0.0003)\n",
    "a = vectorizer.fit_transform(tokenized_names_pos)\n",
    "mi = mutual_info_regression(a, recipes[\"cholesterol\"])\n",
    "mi /= np.max(mi)"
   ]
  },
  {
   "cell_type": "code",
   "execution_count": null,
   "metadata": {
    "collapsed": false
   },
   "outputs": [],
   "source": [
    "# Returns indices of columns with MI value greater than e.g. 0.01. Can be used for re\n",
    "informative_words = np.array([(index) for index, i in enumerate(mi) if i>0.01])\n",
    "# return word vector array with uninformative words removeds\n",
    "culled_array = a.toarray()[:,informative_words]\n",
    "\n",
    "X_train = culled_array\n",
    "y_train = recipes[\"cholesterol\"]\n",
    "\n",
    "X_test = culled_array[:200]\n",
    "y_test = recipes[\"cholesterol\"][:200]\n",
    "\n",
    "# Try fitting an elasticnet model!\n",
    "from sklearn.linear_model import ElasticNet\n",
    "from sklearn.metrics import r2_score\n",
    "enet = ElasticNet()\n",
    "enetmodel=enet.fit(culled_array, y_train)\n",
    "y_predicted = enetmodel.predict(X_test)\n",
    "# Evaluate by comparing predicted cholesterol to actual cholesterol\n",
    "r2_score_enet = r2_score(y_test, y_predicted)\n",
    "r2_score_enet #oh no it's -0.29...\n",
    "print(r2_score_enet)\n",
    "\n",
    "# Validate against ground_truth\n",
    "tokenized_names_ground_truth = [tokenize_and_stem_with_position_weights(i) for i in (ground_truth_x)]\n",
    "ground_truth_vectorized = vectorizer.transform(tokenized_names_ground_truth)\n",
    "ground_truth_vectorized_culled_array = ground_truth_vectorized.toarray()[:,informative_words]\n",
    "y_predicted = enetmodel.predict(ground_truth_vectorized_culled_array)\n",
    "r2_score_enet = r2_score(ground_truth_y, y_predicted)\n",
    "r2_score_enet #oh no it's still bad...\n",
    "print(r2_score_enet)\n",
    "\n",
    "#Try optimizing ENet (validated across ground truth)\n",
    "model = ElasticNetCV(cv=20).fit(culled_array, y_train)\n",
    "m_log_alphas = -np.log10(model.alphas_)\n",
    "y_predicted_cv = model.predict(ground_truth_vectorized_culled_array)\n",
    "r2_score_enet = r2_score(ground_truth_y, y_predicted_cv)\n",
    "print(r2_score_enet) #0.056..."
   ]
  },
  {
   "cell_type": "code",
   "execution_count": null,
   "metadata": {
    "collapsed": true
   },
   "outputs": [],
   "source": [
    "### Hmm. The ElasticNet CV optimization still maxes out at 0.056"
   ]
  },
  {
   "cell_type": "markdown",
   "metadata": {},
   "source": [
    "## Try Ridge Regression"
   ]
  },
  {
   "cell_type": "code",
   "execution_count": null,
   "metadata": {
    "collapsed": false
   },
   "outputs": [],
   "source": [
    "from sklearn import linear_model\n",
    "reg = linear_model.Ridge(alpha = .5)\n",
    "rrfit = reg.fit(culled_array, recipes[\"cholesterol\"]) "
   ]
  },
  {
   "cell_type": "code",
   "execution_count": null,
   "metadata": {
    "collapsed": false
   },
   "outputs": [],
   "source": [
    "y_predicted = rrfit.predict(ground_truth_vectorized_culled_array)\n",
    "# Evaluate by comparing predicted cholesterol to actual cholesterol\n",
    "r2_score_rrfit = r2_score(ground_truth_y, y_predicted)\n",
    "print(r2_score_rrfit) # -0.009 - not great still "
   ]
  },
  {
   "cell_type": "code",
   "execution_count": null,
   "metadata": {
    "collapsed": true
   },
   "outputs": [],
   "source": [
    "ground_truth_y"
   ]
  },
  {
   "cell_type": "code",
   "execution_count": null,
   "metadata": {
    "collapsed": false
   },
   "outputs": [],
   "source": [
    "model = linear_model.RidgeCV(cv=100).fit(culled_array, recipes[\"cholesterol\"])\n",
    "m_log_alphas = -np.log10(model.alpha_)\n",
    "y_predicted_cv = model.predict(ground_truth_vectorized_culled_array)\n",
    "r2_score_rrfitcv = r2_score(ground_truth_y, y_predicted_cv)\n",
    "print(r2_score_rrfitcv) #0.056... or 0.119 with 100cv"
   ]
  }
 ],
 "metadata": {
  "kernelspec": {
   "display_name": "Python [insight]",
   "language": "python",
   "name": "Python [insight]"
  },
  "language_info": {
   "codemirror_mode": {
    "name": "ipython",
    "version": 2
   },
   "file_extension": ".py",
   "mimetype": "text/x-python",
   "name": "python",
   "nbconvert_exporter": "python",
   "pygments_lexer": "ipython2",
   "version": "2.7.12"
  }
 },
 "nbformat": 4,
 "nbformat_minor": 0
}
