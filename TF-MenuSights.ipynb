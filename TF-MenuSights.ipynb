{
 "cells": [
  {
   "cell_type": "markdown",
   "metadata": {},
   "source": [
    "# Comparing a naive neural net using word embeddings to a linear model for prediction of cholesterol content of foods"
   ]
  },
  {
   "cell_type": "code",
   "execution_count": 1,
   "metadata": {
    "collapsed": false
   },
   "outputs": [
    {
     "name": "stderr",
     "output_type": "stream",
     "text": [
      "/home/andylane/Envs/tf/lib/python3.6/importlib/_bootstrap.py:219: RuntimeWarning: compiletime version 3.5 of module 'tensorflow.python.framework.fast_tensor_util' does not match runtime version 3.6\n",
      "  return f(*args, **kwds)\n"
     ]
    }
   ],
   "source": [
    "import sys\n",
    "import os\n",
    "from operator import itemgetter\n",
    "import _pickle as pkl\n",
    "import random\n",
    "import pandas\n",
    "import numpy as np\n",
    "import matplotlib.pyplot as plt\n",
    "# from sklearn.model_selection import *\n",
    "# from sklearn.linear_model import *\n",
    "import sklearn\n",
    "from sklearn.metrics import *\n",
    "import tensorflow as tf\n",
    "from tensorflow.contrib.learn.python import SKCompat\n",
    "from tensorflow.contrib import learn\n",
    "import gensim\n",
    "import tflearn"
   ]
  },
  {
   "cell_type": "markdown",
   "metadata": {},
   "source": [
    "http://ahogrammer.com/2017/01/20/the-list-of-pretrained-word-embeddings/"
   ]
  },
  {
   "cell_type": "markdown",
   "metadata": {},
   "source": [
    "## Load data\n",
    "These were previously collected from a collection of recipes with cholesterol information."
   ]
  },
  {
   "cell_type": "code",
   "execution_count": null,
   "metadata": {},
   "outputs": [],
   "source": []
  },
  {
   "cell_type": "code",
   "execution_count": 2,
   "metadata": {
    "collapsed": true
   },
   "outputs": [],
   "source": [
    "# Load pre-trained Google News word vector embeddings\n",
    "#model = gensim.models.KeyedVectors.load_word2vec_format('GoogleNews-vectors-negative300.bin', binary=True)\n",
    "#model.save(\"saved_word2vec.mdl\")\n",
    "#del model\n",
    "model = gensim.models.KeyedVectors.load('saved_word2vec.mdl', mmap='r')\n",
    "\n",
    "# Load the traning/test data\n",
    "words = pkl.load(open(\"tf_data/training_data_names.pkl\", \"rb\")) # this is a stemmed/tokenized version\n",
    "X = pkl.load(open(\"tf_data/training_data_names_unstemmed.pkl\", \"rb\")) # Recipe names\n",
    "y = pkl.load(open(\"tf_data/training_labels_num.pkl\", \"rb\")) # Corresponding cholesterol content for each recipe\n",
    "\n",
    "# Slice out 20% for test data. This isn't random. OK for development, but need to go back and check later.\n",
    "X_test = X[3152:]\n",
    "y_test = y[3152:]\n",
    "\n",
    "# The rest is the training data\n",
    "X = X[:3152]\n",
    "y = y[:3152]\n",
    "\n",
    "# We also have some alternative test data from chain restaurant menus, but there are issues\n",
    "# with testing the model on this. Explain in blog.\n",
    "ground_truth_X = pkl.load(open(\"tf_data/test_data_names.pkl\", \"rb\"))\n",
    "ground_truth_y = pkl.load(open(\"tf_data/test_labels_num.pkl\", \"rb\"))"
   ]
  },
  {
   "cell_type": "code",
   "execution_count": 3,
   "metadata": {},
   "outputs": [],
   "source": [
    "# This time we're carrying out the prediction as a regression\n",
    "# rather than a classification. To start with, an r2 of \n",
    "# predicted vs true test cholesterol is used as a metric; the MSE\n",
    "# is also used.\n",
    "import scipy\n",
    "def rsquared(x, y):\n",
    "    \"\"\" Return R^2 where x and y are array-like.\"\"\"\n",
    "    slope, intercept, r_value, p_value, std_err = scipy.stats.linregress(x, y)\n",
    "    return r_value**2"
   ]
  },
  {
   "cell_type": "code",
   "execution_count": 4,
   "metadata": {},
   "outputs": [
    {
     "name": "stdout",
     "output_type": "stream",
     "text": [
      "Campfire Banana Splits\n",
      "campfir banana split\n"
     ]
    },
    {
     "data": {
      "text/plain": [
       "[('cinnamon_rolls', 0.655969500541687),\n",
       " ('oatmeal_cookie', 0.6287018656730652),\n",
       " ('peach_pie', 0.6216853857040405),\n",
       " ('banana_walnut', 0.6158987879753113),\n",
       " ('baked_beans_peaches', 0.6140761375427246),\n",
       " ('waffle_cone', 0.6071436405181885),\n",
       " ('fruit_cobbler', 0.6069991588592529),\n",
       " ('snickerdoodle', 0.6056694984436035),\n",
       " ('turtle_cheesecake', 0.6054642200469971),\n",
       " ('yogurt_parfait', 0.6052801609039307)]"
      ]
     },
     "execution_count": 4,
     "metadata": {},
     "output_type": "execute_result"
    }
   ],
   "source": [
    "# Notes to self:\n",
    "## There are 300,000 words in the Google News model\n",
    "len(model.vocab)\n",
    "\n",
    "## Get words from given index\n",
    "model.wv.index2word[2898]\n",
    "# Out: 'judges\"\n",
    "\n",
    "## Find the odd word out:\n",
    "model.doesnt_match(X[3].split())\n",
    "\n",
    "## Access recipes:\n",
    "print(X[3])\n",
    "print(words[3])\n",
    "\n",
    "## Get the similarity between two phrases. This is implemented in gensim as\n",
    "## just the cosine similarity of the means of the two vectors\n",
    "model.n_similarity(X[3].split(), X[7].split())\n",
    "model.similarity(\"saucepan\", \"food\")\n",
    "\n",
    "## There's a case for n-gramming with underscores:\n",
    "model.most_similar([\"cinnamon\", \"roll\"])\n",
    "# Out e.g.: coconut_flakes, graham_cracker_crumbs\n",
    "model.most_similar(\"cinnamon_roll\")\n",
    "# Out e.g.: cinnamon_rolls, oatmeal_cookie, peach_pie"
   ]
  },
  {
   "cell_type": "code",
   "execution_count": 5,
   "metadata": {
    "collapsed": false
   },
   "outputs": [],
   "source": [
    "# Remove words that are not in the Google News model\n",
    "# TODO: Also remove stopwords - not necessary to average e.g. \"in\"\n",
    "def prune_words_not_found_in_model(X, y):\n",
    "    filtered_x = []\n",
    "    filtered_y = []\n",
    "    for index, recipe in enumerate(X):\n",
    "        recipe_words = recipe.split()\n",
    "        recipe_words = list(filter(lambda x: x in model.vocab, recipe_words))\n",
    "        if len(recipe_words) > 0: #don't add empty lists - the LinReg can't fit NaNs\n",
    "            filtered_x.append(recipe_words)\n",
    "            filtered_y.append(y[index]) # to keep y_ same index\n",
    "        else:\n",
    "            None\n",
    "    return filtered_x, filtered_y"
   ]
  },
  {
   "cell_type": "code",
   "execution_count": 6,
   "metadata": {
    "collapsed": true
   },
   "outputs": [],
   "source": [
    "def input_preprocessor(dish, model=model, foodfilter=True, maintain_individual_words = True):\n",
    "    '''\n",
    "    filter for words that are in the model and extract bigrams\n",
    "    also optionally only keep words above a cosine similarity\n",
    "    threshold with the word \"food\".\n",
    "    Usage: input_preprocessor(dish). Returns np.array of size model dimensions \n",
    "        (300 dimensions for GoogleNews Word2Vec model)\n",
    "    dish: list of words in recipe title\n",
    "    model: a word2vec model\n",
    "    ''' \n",
    "    # Construct n-grams of pairs of words\n",
    "    ngrammed = []\n",
    "    ngrammed.extend(dish)\n",
    "    for index, word in enumerate(dish):\n",
    "        if index+1 < len(dish):\n",
    "            ngrammed.append(word + \"_\" + dish[index+1])\n",
    "    # Duplicate words in a dish won't help the model\n",
    "    ngrammed = set(ngrammed)\n",
    "    # only include words that have a cosine similarity with the word \"food\" above a certain threshold\n",
    "    # better idea: weight them against cosine similarity to food!\n",
    "    if foodfilter == True:\n",
    "        foodywords = list(filter(lambda x: x in model.vocab and model.similarity(x, \"food\") > 0.16, ngrammed))\n",
    "        # if no words are that close to food, pick the top two words\n",
    "        if len(foodywords) == 0:\n",
    "            sims = []\n",
    "            for x in ngrammed:\n",
    "                if x in model.vocab:\n",
    "                    sims.append((x, model.similarity(x, \"food\")))\n",
    "            foodywords = [word for word, similarity in sorted(sims, key=itemgetter(1))[:2]]\n",
    "        foodywords = set(foodywords)\n",
    "    elif foodfilter == False: # don't filter based on similarity to a food\n",
    "        foodywords = list(filter(lambda x: x in model.vocab, ngrammed))\n",
    "    # Return the average of all the foody-word vectors in the recipe name\n",
    "    if maintain_individual_words == False:\n",
    "        return np.array([model[w] for w in foodywords]).mean(axis=0)\n",
    "    elif maintain_individual_words == True:\n",
    "        # Just get the first 7 words in the dish name\n",
    "        dish_vector = np.array([model[w] for w in dish][:8])\n",
    "        words_in_dish = dish_vector.shape[0]\n",
    "        words_to_pad = 8 - words_in_dish\n",
    "        return np.pad(dish_vector, [(0,words_to_pad),(0,0)], mode=\"constant\")"
   ]
  },
  {
   "cell_type": "code",
   "execution_count": 7,
   "metadata": {
    "collapsed": false
   },
   "outputs": [],
   "source": [
    "# Apply the input preprocessor across the filtered list of recipes\n",
    "def prune_and_preprocess(X, y, foodfilter=True):\n",
    "    filtered_x, filtered_y  = prune_words_not_found_in_model(X, y)\n",
    "    filtered_x_vect = []\n",
    "    for index, i in enumerate(filtered_x):\n",
    "        filtered_x_vect.append(input_preprocessor(i, model, foodfilter=foodfilter))\n",
    "    filtered_x_vect = np.array(filtered_x_vect)\n",
    "    filtered_y = np.array([filtered_y]).transpose()\n",
    "    filtered_y = np.array(filtered_y)\n",
    "    return filtered_x_vect, np.transpose(filtered_y)"
   ]
  },
  {
   "cell_type": "code",
   "execution_count": 8,
   "metadata": {},
   "outputs": [],
   "source": [
    "filtered_x_vect, filtered_y = prune_and_preprocess(X, y, foodfilter=False)"
   ]
  },
  {
   "cell_type": "code",
   "execution_count": 9,
   "metadata": {},
   "outputs": [],
   "source": [
    "X_test_vect, y_test_vect = prune_and_preprocess(X_test, y_test, foodfilter=False)"
   ]
  },
  {
   "cell_type": "code",
   "execution_count": 10,
   "metadata": {},
   "outputs": [],
   "source": [
    "filtered_x_vect = np.expand_dims(filtered_x_vect, axis=3)\n",
    "X_test_vect  = np.expand_dims(X_test_vect, axis=3)"
   ]
  },
  {
   "cell_type": "code",
   "execution_count": 11,
   "metadata": {},
   "outputs": [
    {
     "data": {
      "text/plain": [
       "(3150, 8, 300, 1)"
      ]
     },
     "execution_count": 11,
     "metadata": {},
     "output_type": "execute_result"
    }
   ],
   "source": [
    "filtered_x_vect.shape"
   ]
  },
  {
   "cell_type": "code",
   "execution_count": 12,
   "metadata": {},
   "outputs": [],
   "source": [
    "from tensorflow.contrib.data import Dataset, Iterator"
   ]
  },
  {
   "cell_type": "markdown",
   "metadata": {},
   "source": [
    "Posit that cholesterol is a combination of input word vector, some weight, some bias and some error term. "
   ]
  },
  {
   "cell_type": "code",
   "execution_count": 34,
   "metadata": {},
   "outputs": [],
   "source": [
    "# Build input layer\n",
    "def weight_variable(shape):\n",
    "    initial = tf.random_normal(shape, stddev=0.2)\n",
    "    return tf.Variable(initial)\n",
    "\n",
    "def bias_variable(shape):\n",
    "    initial = tf.constant(0.001, shape=shape)\n",
    "    return tf.Variable(initial)\n",
    "\n",
    "# Build a linear layer\n",
    "def full_layer(input, size):\n",
    "    in_size = int(input.get_shape()[1])\n",
    "    W = weight_variable([in_size, size])\n",
    "    b = bias_variable([size])\n",
    "    return tf.matmul(input, W) + b\n",
    "\n",
    "def conv1d(x, W):\n",
    "    return(tf.nn.conv1d(x, W, stride = 1, padding = 'SAME'))\n",
    "\n",
    "def conv2d(x, W):\n",
    "    return tf.nn.conv2d(x, W, strides=[1, 1, 1, 1], padding='SAME')\n",
    "\n",
    "\n",
    "def max_pool_2x2(x):\n",
    "    return tf.nn.max_pool(x, ksize=[1, 2, 2, 1],\n",
    "                          strides=[1, 2, 2, 1], padding='SAME')\n",
    "def max_pool_1x1(x):\n",
    "    return tf.nn.max_pool(x, ksize=[1, 1, 1, 1],\n",
    "                          strides=[1, 1, 1, 1], padding='SAME')\n",
    "\n",
    "def conv_layer(input, shape):\n",
    "    W = weight_variable(shape)\n",
    "    b = bias_variable([shape[3]]) #check this index - try3\n",
    "    return tf.nn.relu(conv2d(input, W) + b)"
   ]
  },
  {
   "cell_type": "code",
   "execution_count": null,
   "metadata": {},
   "outputs": [
    {
     "name": "stdout",
     "output_type": "stream",
     "text": [
      "step 0, training accuracy 4313.7197265625\n",
      "test accuracy: 12605.2685546875\n",
      "step 10000, training accuracy 2232.4365234375\n",
      "test accuracy: 4107.21337890625\n",
      "step 20000, training accuracy 1083.1651611328125\n",
      "test accuracy: 3991.990478515625\n",
      "step 30000, training accuracy 3883.772216796875\n",
      "test accuracy: 3993.88232421875\n",
      "step 40000, training accuracy 5304.74853515625\n",
      "test accuracy: 4045.876953125\n"
     ]
    }
   ],
   "source": [
    "# Try with convolution\n",
    "tf.reset_default_graph()\n",
    "minibatch_size = 32\n",
    "steps_per_epoch = int(filtered_y.shape[1] / minibatch_size)\n",
    "epochs = 1000\n",
    "g=tf.Graph()\n",
    "\n",
    "with g.as_default():\n",
    "    training_data = Dataset.from_tensor_slices((filtered_x_vect, filtered_y.transpose()))\n",
    "    training_data=training_data.batch(minibatch_size).repeat()\n",
    "    iterator = training_data.make_one_shot_iterator()\n",
    "    \n",
    "    steps = epochs*steps_per_epoch\n",
    "    beta = 0.001\n",
    "    batched_x, batched_y = iterator.get_next() \n",
    "    \n",
    "    conv1 = conv_layer(batched_x, shape=[4, 1, 1, 8])\n",
    "    conv1_pool = max_pool_1x1(conv1)\n",
    "\n",
    "    \n",
    "    #     conv1_pool = max_pool_2x2(conv1)\n",
    "\n",
    "#     conv2 = conv_layer(conv1_pool, shape=[2, 2, 8, 12])\n",
    "#     conv2_pool = max_pool_2x2(conv2)\n",
    "\n",
    "    conv2_flat = tf.reshape(conv1_pool, [-1, 8*300*8])\n",
    "    full_1 = tf.nn.relu(full_layer(conv2_flat, 10))\n",
    "\n",
    "    #keep_prob = tf.placeholder(tf.float32)\n",
    "    #full1_drop = tf.nn.dropout(full_1, keep_prob=1)\n",
    "\n",
    "    linear = full_layer(full_1, 1)\n",
    "\n",
    "    regularizer = tf.nn.l2_loss(linear)\n",
    "    mse = tf.losses.mean_squared_error(labels=batched_y, predictions=linear)\n",
    "    mse = tf.reduce_mean(mse + beta * regularizer)\n",
    "    train_step = tf.train.AdamOptimizer(1e-4).minimize(mse)\n",
    "    accuracy = tf.losses.mean_squared_error(labels=batched_y, predictions=linear)\n",
    "    \n",
    "with tf.Session(graph=g) as sess:\n",
    "    sess.run(tf.global_variables_initializer())\n",
    "    for i in range(steps):\n",
    "        if i % 10000 == 0:\n",
    "            train_accuracy = sess.run(accuracy)\n",
    "            print(\"step {}, training accuracy {}\".format(i, train_accuracy))\n",
    "            test_accuracy = np.mean([sess.run(accuracy, feed_dict={batched_x: X_test_vect, batched_y: y_test_vect.transpose()})])\n",
    "            print(\"test accuracy: {}\".format(test_accuracy))\n",
    "        sess.run(train_step)\n",
    "    test_accuracy = np.mean(\n",
    "        [sess.run(accuracy, feed_dict={batched_x: X_test_vect, batched_y: y_test_vect.transpose()})])\n",
    "    predictions = sess.run(linear, feed_dict={batched_x: X_test_vect, batched_y: y_test_vect.transpose()})\n",
    "print(\"test accuracy: {}\".format(test_accuracy))\n"
   ]
  },
  {
   "cell_type": "code",
   "execution_count": 30,
   "metadata": {},
   "outputs": [
    {
     "data": {
      "image/png": "[encoded data removed]",
      "text/plain": [
       "<matplotlib.figure.Figure at 0x7f4efdd94358>"
      ]
     },
     "metadata": {},
     "output_type": "display_data"
    }
   ],
   "source": [
    "predictionsi, truthi = [int(i) for i in predictions.transpose()[0]], [i for i in y_test_vect[0]]\n",
    "plt.plot(truthi, predictionsi, 'r.')\n",
    "plt.ylabel('predictions')\n",
    "plt.xlabel('truth')\n",
    "plt.show()"
   ]
  },
  {
   "cell_type": "code",
   "execution_count": 28,
   "metadata": {},
   "outputs": [
    {
     "data": {
      "text/plain": [
       "0.12748859001058499"
      ]
     },
     "execution_count": 28,
     "metadata": {},
     "output_type": "execute_result"
    }
   ],
   "source": [
    "rsquared(truthi, predictionsi)"
   ]
  },
  {
   "cell_type": "code",
   "execution_count": 138,
   "metadata": {},
   "outputs": [],
   "source": [
    "# Build input layer\n",
    "def weight_variable(shape):\n",
    "    initial = tf.random_normal(shape, stddev=0.2)\n",
    "    return tf.Variable(initial)\n",
    "\n",
    "def bias_variable(shape):\n",
    "    initial = tf.constant(0.001, shape=shape)\n",
    "    return tf.Variable(initial)\n",
    "\n",
    "# Build a linear layer\n",
    "def full_layer(input, size):\n",
    "    in_size = int(input.get_shape()[1])\n",
    "    W = weight_variable([in_size, size])\n",
    "    b = bias_variable([size])\n",
    "    return tf.matmul(input, W) + b\n",
    "\n",
    "def conv1d(x, W):\n",
    "    return(tf.nn.conv1d(x, W, stride = 1, padding = 'SAME'))\n",
    "\n",
    "def conv_layer(input, shape):\n",
    "    W = weight_variable(shape)\n",
    "    b = bias_variable([shape[2]]) #check this index\n",
    "    return tf.nn.relu(conv1d(input, W) + b)\n",
    "\n",
    "def max_pool_2x2(x):\n",
    "    return tf.nn.max_pool(x, ksize=[1,2,2,1], strides = [1,2,2,1], padding='SAME')"
   ]
  },
  {
   "cell_type": "code",
   "execution_count": null,
   "metadata": {},
   "outputs": [],
   "source": [
    "tf.reset_default_graph()\n",
    "minibatch_size = 32\n",
    "steps_per_epoch = int(filtered_y.shape[1] / minibatch_size)\n",
    "epochs = 1000\n",
    "g=tf.Graph()\n",
    "\n",
    "with g.as_default():\n",
    "    training_data = Dataset.from_tensor_slices((filtered_x_vect, filtered_y.transpose()))\n",
    "    training_data=training_data.batch(minibatch_size).repeat()\n",
    "    iterator = training_data.make_one_shot_iterator()\n",
    "    \n",
    "    steps = epochs*steps_per_epoch\n",
    "    beta = 0.0001\n",
    "    batched_x, batched_y = iterator.get_next() \n",
    "    tanh = tf.nn.tanh(full_layer(batched_x, 10))\n",
    "    relu = tf.nn.relu(full_layer(tanh, 10))\n",
    "    linear = full_layer(relu, 1)\n",
    "\n",
    "    regularizer = tf.nn.l2_loss(linear)\n",
    "    mse = tf.losses.mean_squared_error(labels=batched_y, predictions=linear)\n",
    "    mse = tf.reduce_mean(mse + beta * regularizer)\n",
    "    train_step = tf.train.AdamOptimizer(1e-4).minimize(mse)\n",
    "    accuracy = tf.losses.mean_squared_error(labels=batched_y, predictions=linear)\n",
    "    \n",
    "with tf.Session(graph=g) as sess:\n",
    "    sess.run(tf.global_variables_initializer())\n",
    "    for i in range(steps):\n",
    "        if i % 10000 == 0:\n",
    "            train_accuracy = sess.run(accuracy)\n",
    "            print(\"step {}, training accuracy {}\".format(i, train_accuracy))\n",
    "            test_accuracy = np.mean(\n",
    "        [sess.run(accuracy, feed_dict={batched_x: X_test_vect, batched_y: y_test_vect.transpose()})])\n",
    "            print(\"test accuracy: {}\".format(test_accuracy))\n",
    "        sess.run(train_step)\n",
    "    test_accuracy = np.mean(\n",
    "        [sess.run(accuracy, feed_dict={batched_x: X_test_vect, batched_y: y_test_vect.transpose()})])\n",
    "    predictions = sess.run(linear, feed_dict={batched_x: X_test_vect, batched_y: y_test_vect.transpose()})\n",
    "print(\"test accuracy: {}\".format(test_accuracy))\n"
   ]
  },
  {
   "cell_type": "code",
   "execution_count": 160,
   "metadata": {},
   "outputs": [
    {
     "data": {
      "text/plain": [
       "0.10615209824128694"
      ]
     },
     "execution_count": 160,
     "metadata": {},
     "output_type": "execute_result"
    }
   ],
   "source": [
    "rsquared(truthi, predictionsi)"
   ]
  },
  {
   "cell_type": "code",
   "execution_count": 15,
   "metadata": {},
   "outputs": [],
   "source": [
    "def plot_test_epochs(model, result_, subset=None):\n",
    "    i = 1\n",
    "    if subset != None:\n",
    "        result_[\"history\"] = np.take(result_[\"history\"], range(0, len(result_[\"epoch\"]), subset), axis=1)\n",
    "        result_[\"epoch\"] = result_[\"epoch\"][::subset]\n",
    "    while i < result_[\"history\"].shape[1]:\n",
    "        plt.plot(result_[\"history\"][:,0], result_[\"history\"][:,i], 'r.')\n",
    "        plt.ylabel('y_')\n",
    "        plt.xlabel('y')\n",
    "        plt.show()\n",
    "        print(\"Epoch \" + str(result_[\"epoch\"][i]) + \": R2 = \" + str(rsquared(result_[\"history\"][:,0], result_[\"history\"][:,i])))\n",
    "        print(\"Epoch \" + str(result_[\"epoch\"][i]) + \": MSE = \" + str(mean_squared_error(result_[\"history\"][:,0], result_[\"history\"][:,i])))\n",
    "        i+= 1\n",
    "#     return result[\"epoch\"]"
   ]
  },
  {
   "cell_type": "code",
   "execution_count": 16,
   "metadata": {},
   "outputs": [],
   "source": [
    "def rsquared_one_to_many(result_):\n",
    "    out = []\n",
    "    truth = result_[\"history\"][:,0]\n",
    "    for column in range(1, result_[\"history\"][:,1:].shape[1]+1):\n",
    "        epoch_result = result_[\"history\"][:,column]\n",
    "        out.append(rsquared(epoch_result, truth))\n",
    "    print(max(out))\n",
    "    return out\n",
    "\n",
    "def mse_one_to_many(result_):\n",
    "    out = []\n",
    "    truth = result_[\"history\"][:,0]\n",
    "    for column in range(1, result_[\"history\"][:,1:].shape[1]+1):\n",
    "        epoch_result = result_[\"history\"][:,column]\n",
    "        out.append(mean_squared_error(epoch_result, truth))\n",
    "    print(min(out))\n",
    "    return out\n"
   ]
  }
 ],
 "metadata": {
  "kernelspec": {
   "display_name": "tf",
   "language": "python",
   "name": "tf"
  },
  "language_info": {
   "codemirror_mode": {
    "name": "ipython",
    "version": 3
   },
   "file_extension": ".py",
   "mimetype": "text/x-python",
   "name": "python",
   "nbconvert_exporter": "python",
   "pygments_lexer": "ipython3",
   "version": "3.6.3"
  }
 },
 "nbformat": 4,
 "nbformat_minor": 2
}
