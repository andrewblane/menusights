{
 "cells": [
  {
   "cell_type": "code",
   "execution_count": 1,
   "metadata": {
    "collapsed": true
   },
   "outputs": [],
   "source": [
    "import psycopg2\n",
    "from sqlalchemy import create_engine, Column, Integer, String, Float, ForeignKey\n",
    "from sqlalchemy.ext.declarative import declarative_base\n",
    "from sqlalchemy.orm import relationship, sessionmaker\n",
    "import re\n",
    "from __future__ import print_function"
   ]
  },
  {
   "cell_type": "code",
   "execution_count": 2,
   "metadata": {
    "collapsed": false
   },
   "outputs": [],
   "source": [
    "import numpy as np\n",
    "import pandas as pd\n",
    "import nltk\n",
    "import re\n",
    "import os\n",
    "import codecs\n",
    "from sklearn import feature_extraction\n",
    "import mpld3\n",
    "import pandas as pd\n",
    "from nltk.stem.snowball import SnowballStemmer\n",
    "import tensorflow as tf"
   ]
  },
  {
   "cell_type": "code",
   "execution_count": 3,
   "metadata": {
    "collapsed": false
   },
   "outputs": [
    {
     "name": "stdout",
     "output_type": "stream",
     "text": [
      "postgres://andylane@localhost/restaurants\n"
     ]
    },
    {
     "name": "stderr",
     "output_type": "stream",
     "text": [
      "/home/andylane/anaconda2/envs/insight/lib/python2.7/site-packages/sqlalchemy/dialects/__init__.py:34: SADeprecationWarning: The SQLAlchemy PostgreSQL dialect has been renamed from 'postgres' to 'postgresql'. The new URL format is postgresql[+driver]://<user>:<pass>@<host>/<dbname>\n",
      "  module = __import__('sqlalchemy.dialects.%s' % (dialect, )).dialects\n"
     ]
    }
   ],
   "source": [
    "dbname = 'restaurants'\n",
    "username = 'andylane'\n",
    "engine = create_engine('postgres://%s@localhost/%s'%(username,dbname))\n",
    "print(engine.url)\n",
    "con = None\n",
    "con = psycopg2.connect(database = \"restaurants\", user = \"andylane\")\n",
    "Session = sessionmaker(bind=engine)\n",
    "session = Session()"
   ]
  },
  {
   "cell_type": "code",
   "execution_count": 4,
   "metadata": {
    "collapsed": false
   },
   "outputs": [],
   "source": [
    "from menusights_aux import *"
   ]
  },
  {
   "cell_type": "code",
   "execution_count": 5,
   "metadata": {
    "collapsed": false
   },
   "outputs": [],
   "source": [
    "recipes = pd.read_sql(\"recipes\", engine)"
   ]
  },
  {
   "cell_type": "markdown",
   "metadata": {},
   "source": [
    "## Get recipe names into a vector"
   ]
  },
  {
   "cell_type": "code",
   "execution_count": 6,
   "metadata": {
    "collapsed": true
   },
   "outputs": [],
   "source": [
    "stopwords = nltk.corpus.stopwords.words('english')\n",
    "stemmer = SnowballStemmer(\"english\")"
   ]
  },
  {
   "cell_type": "markdown",
   "metadata": {},
   "source": [
    "## Match menu items to a cluster"
   ]
  },
  {
   "cell_type": "code",
   "execution_count": 7,
   "metadata": {
    "collapsed": false
   },
   "outputs": [
    {
     "name": "stderr",
     "output_type": "stream",
     "text": [
      "/home/andylane/anaconda2/envs/insight/lib/python2.7/site-packages/IPython/core/formatters.py:92: DeprecationWarning: DisplayFormatter._ipython_display_formatter_default is deprecated: use @default decorator instead.\n",
      "  def _ipython_display_formatter_default(self):\n",
      "/home/andylane/anaconda2/envs/insight/lib/python2.7/site-packages/IPython/core/formatters.py:98: DeprecationWarning: DisplayFormatter._formatters_default is deprecated: use @default decorator instead.\n",
      "  def _formatters_default(self):\n",
      "/home/andylane/anaconda2/envs/insight/lib/python2.7/site-packages/IPython/core/formatters.py:677: DeprecationWarning: PlainTextFormatter._deferred_printers_default is deprecated: use @default decorator instead.\n",
      "  def _deferred_printers_default(self):\n",
      "/home/andylane/anaconda2/envs/insight/lib/python2.7/site-packages/IPython/core/formatters.py:669: DeprecationWarning: PlainTextFormatter._singleton_printers_default is deprecated: use @default decorator instead.\n",
      "  def _singleton_printers_default(self):\n",
      "/home/andylane/anaconda2/envs/insight/lib/python2.7/site-packages/IPython/core/formatters.py:672: DeprecationWarning: PlainTextFormatter._type_printers_default is deprecated: use @default decorator instead.\n",
      "  def _type_printers_default(self):\n",
      "/home/andylane/anaconda2/envs/insight/lib/python2.7/site-packages/IPython/core/formatters.py:669: DeprecationWarning: PlainTextFormatter._singleton_printers_default is deprecated: use @default decorator instead.\n",
      "  def _singleton_printers_default(self):\n",
      "/home/andylane/anaconda2/envs/insight/lib/python2.7/site-packages/IPython/core/formatters.py:672: DeprecationWarning: PlainTextFormatter._type_printers_default is deprecated: use @default decorator instead.\n",
      "  def _type_printers_default(self):\n",
      "/home/andylane/anaconda2/envs/insight/lib/python2.7/site-packages/IPython/core/formatters.py:677: DeprecationWarning: PlainTextFormatter._deferred_printers_default is deprecated: use @default decorator instead.\n",
      "  def _deferred_printers_default(self):\n"
     ]
    },
    {
     "data": {
      "text/html": [
       "<div>\n",
       "<table border=\"1\" class=\"dataframe\">\n",
       "  <thead>\n",
       "    <tr style=\"text-align: right;\">\n",
       "      <th></th>\n",
       "      <th>id</th>\n",
       "      <th>name</th>\n",
       "      <th>url</th>\n",
       "      <th>calories</th>\n",
       "      <th>fat</th>\n",
       "      <th>carbs</th>\n",
       "      <th>protein</th>\n",
       "      <th>cholesterol</th>\n",
       "      <th>sodium</th>\n",
       "      <th>servings</th>\n",
       "    </tr>\n",
       "  </thead>\n",
       "  <tbody>\n",
       "    <tr>\n",
       "      <th>0</th>\n",
       "      <td>1</td>\n",
       "      <td>Fluffy Pancakes</td>\n",
       "      <td>http://allrecipes.com/recipe/162760/fluffy-pan...</td>\n",
       "      <td>230</td>\n",
       "      <td>8.2</td>\n",
       "      <td>32.7</td>\n",
       "      <td>6.4</td>\n",
       "      <td>65.0</td>\n",
       "      <td>650.0</td>\n",
       "      <td>4</td>\n",
       "    </tr>\n",
       "    <tr>\n",
       "      <th>1</th>\n",
       "      <td>2</td>\n",
       "      <td>Joan's Quick Chili</td>\n",
       "      <td>http://allrecipes.com/recipe/240622/joans-quic...</td>\n",
       "      <td>397</td>\n",
       "      <td>21.5</td>\n",
       "      <td>25.2</td>\n",
       "      <td>26.7</td>\n",
       "      <td>71.0</td>\n",
       "      <td>1438.0</td>\n",
       "      <td>4</td>\n",
       "    </tr>\n",
       "    <tr>\n",
       "      <th>2</th>\n",
       "      <td>3</td>\n",
       "      <td>Ultimate Double Chocolate Cookies</td>\n",
       "      <td>http://allrecipes.com/recipe/15097/ultimate-do...</td>\n",
       "      <td>148</td>\n",
       "      <td>6.8</td>\n",
       "      <td>21.4</td>\n",
       "      <td>2.2</td>\n",
       "      <td>25.0</td>\n",
       "      <td>88.0</td>\n",
       "      <td>42</td>\n",
       "    </tr>\n",
       "    <tr>\n",
       "      <th>3</th>\n",
       "      <td>4</td>\n",
       "      <td>Campfire Banana Splits</td>\n",
       "      <td>http://allrecipes.com/recipe/20038/campfire-ba...</td>\n",
       "      <td>545</td>\n",
       "      <td>17.3</td>\n",
       "      <td>106.2</td>\n",
       "      <td>4.7</td>\n",
       "      <td>0.0</td>\n",
       "      <td>47.0</td>\n",
       "      <td>6</td>\n",
       "    </tr>\n",
       "    <tr>\n",
       "      <th>4</th>\n",
       "      <td>5</td>\n",
       "      <td>Pumpkin Chocolate Chip Cookies II</td>\n",
       "      <td>http://allrecipes.com/recipe/10117/pumpkin-cho...</td>\n",
       "      <td>224</td>\n",
       "      <td>11.5</td>\n",
       "      <td>29.5</td>\n",
       "      <td>2.8</td>\n",
       "      <td>10.0</td>\n",
       "      <td>127.0</td>\n",
       "      <td>18</td>\n",
       "    </tr>\n",
       "  </tbody>\n",
       "</table>\n",
       "</div>"
      ],
      "text/plain": [
       "   id                               name  \\\n",
       "0   1                    Fluffy Pancakes   \n",
       "1   2                 Joan's Quick Chili   \n",
       "2   3  Ultimate Double Chocolate Cookies   \n",
       "3   4             Campfire Banana Splits   \n",
       "4   5  Pumpkin Chocolate Chip Cookies II   \n",
       "\n",
       "                                                 url  calories   fat  carbs  \\\n",
       "0  http://allrecipes.com/recipe/162760/fluffy-pan...       230   8.2   32.7   \n",
       "1  http://allrecipes.com/recipe/240622/joans-quic...       397  21.5   25.2   \n",
       "2  http://allrecipes.com/recipe/15097/ultimate-do...       148   6.8   21.4   \n",
       "3  http://allrecipes.com/recipe/20038/campfire-ba...       545  17.3  106.2   \n",
       "4  http://allrecipes.com/recipe/10117/pumpkin-cho...       224  11.5   29.5   \n",
       "\n",
       "   protein  cholesterol  sodium  servings  \n",
       "0      6.4         65.0   650.0         4  \n",
       "1     26.7         71.0  1438.0         4  \n",
       "2      2.2         25.0    88.0        42  \n",
       "3      4.7          0.0    47.0         6  \n",
       "4      2.8         10.0   127.0        18  "
      ]
     },
     "execution_count": 7,
     "metadata": {},
     "output_type": "execute_result"
    }
   ],
   "source": [
    "recipes.head()"
   ]
  },
  {
   "cell_type": "code",
   "execution_count": 10,
   "metadata": {
    "collapsed": false
   },
   "outputs": [
    {
     "data": {
      "image/png": "[encoded data removed]",
      "text/plain": [
       "<matplotlib.figure.Figure at 0x7f8825299150>"
      ]
     },
     "metadata": {},
     "output_type": "display_data"
    }
   ],
   "source": [
    "# Plot distribution of cholesterol etc; looks like it's normalish\n",
    "from sklearn.preprocessing import scale\n",
    "def normalize(item):\n",
    "    a = scale(recipes[item], axis=0, with_mean=True, with_std=True, copy=True )\n",
    "    return a\n",
    "\n",
    "%matplotlib inline\n",
    "import seaborn as sns\n",
    "import matplotlib.pyplot as plt\n",
    "plt.figure(figsize=(8, 6))\n",
    "ax = sns.distplot(normalize(\"cholesterol\"), label=\"chol\")\n",
    "#ax = sns.distplot(normalize(\"calories\"))\n",
    "#ax = sns.distplot(normalize(\"protein\"))"
   ]
  },
  {
   "cell_type": "code",
   "execution_count": 9,
   "metadata": {
    "collapsed": true
   },
   "outputs": [],
   "source": [
    "def tokenize_and_stem(title):\n",
    "    stemmer = SnowballStemmer(\"english\")\n",
    "    stemmed_titles = []\n",
    "    new_title=[]\n",
    "    for word in nltk.word_tokenize(title):\n",
    "        new_title.append(stemmer.stem(word))\n",
    "    stemmed_titles.extend(new_title)\n",
    "    return \" \".join([i for i in stemmed_titles])"
   ]
  },
  {
   "cell_type": "code",
   "execution_count": 11,
   "metadata": {
    "collapsed": false
   },
   "outputs": [],
   "source": [
    "tokenized_names = [tokenize_and_stem(i) for i in (recipes[\"name\"])]"
   ]
  },
  {
   "cell_type": "code",
   "execution_count": null,
   "metadata": {
    "collapsed": false
   },
   "outputs": [],
   "source": [
    "tokenized_names[99]"
   ]
  },
  {
   "cell_type": "code",
   "execution_count": 12,
   "metadata": {
    "collapsed": true
   },
   "outputs": [],
   "source": [
    "from sklearn.feature_extraction.text import CountVectorizer"
   ]
  },
  {
   "cell_type": "code",
   "execution_count": 13,
   "metadata": {
    "collapsed": false
   },
   "outputs": [],
   "source": [
    "vectorizer = CountVectorizer(ngram_range=(1,3), min_df=0.0003)"
   ]
  },
  {
   "cell_type": "code",
   "execution_count": 14,
   "metadata": {
    "collapsed": false
   },
   "outputs": [],
   "source": [
    "a = vectorizer.fit_transform(tokenized_names)"
   ]
  },
  {
   "cell_type": "code",
   "execution_count": 15,
   "metadata": {
    "collapsed": false,
    "scrolled": true
   },
   "outputs": [
    {
     "data": {
      "text/plain": [
       "3453"
      ]
     },
     "execution_count": 15,
     "metadata": {},
     "output_type": "execute_result"
    }
   ],
   "source": [
    "len(vectorizer.get_feature_names())"
   ]
  },
  {
   "cell_type": "code",
   "execution_count": 16,
   "metadata": {
    "collapsed": false
   },
   "outputs": [
    {
     "data": {
      "text/plain": [
       "<3941x3453 sparse matrix of type '<type 'numpy.int64'>'\n",
       "\twith 28567 stored elements in Compressed Sparse Row format>"
      ]
     },
     "execution_count": 16,
     "metadata": {},
     "output_type": "execute_result"
    }
   ],
   "source": [
    "a"
   ]
  },
  {
   "cell_type": "code",
   "execution_count": 17,
   "metadata": {
    "collapsed": false
   },
   "outputs": [
    {
     "data": {
      "text/plain": [
       "1969"
      ]
     },
     "execution_count": 17,
     "metadata": {},
     "output_type": "execute_result"
    }
   ],
   "source": [
    "vectorizer.vocabulary_.get('minc')"
   ]
  },
  {
   "cell_type": "code",
   "execution_count": 18,
   "metadata": {
    "collapsed": false
   },
   "outputs": [
    {
     "data": {
      "text/plain": [
       "u'pie'"
      ]
     },
     "execution_count": 18,
     "metadata": {},
     "output_type": "execute_result"
    }
   ],
   "source": [
    "vectorizer.get_feature_names()[2256]"
   ]
  },
  {
   "cell_type": "code",
   "execution_count": 19,
   "metadata": {
    "collapsed": false
   },
   "outputs": [
    {
     "data": {
      "text/plain": [
       "208"
      ]
     },
     "execution_count": 19,
     "metadata": {},
     "output_type": "execute_result"
    }
   ],
   "source": [
    "sum(a.toarray()[:,2701])"
   ]
  },
  {
   "cell_type": "code",
   "execution_count": 20,
   "metadata": {
    "collapsed": false
   },
   "outputs": [],
   "source": [
    "from sklearn.feature_selection import f_regression, mutual_info_regression"
   ]
  },
  {
   "cell_type": "code",
   "execution_count": 21,
   "metadata": {
    "collapsed": false
   },
   "outputs": [],
   "source": [
    "# produces an array with mutual information (weights?) between individual words/n-grams in recipe names and cholesterol information\n",
    "mi = mutual_info_regression(a, recipes[\"cholesterol\"])\n",
    "mi /= np.max(mi)"
   ]
  },
  {
   "cell_type": "code",
   "execution_count": 22,
   "metadata": {
    "collapsed": false,
    "scrolled": true
   },
   "outputs": [
    {
     "data": {
      "text/plain": [
       "[(0, 0.019422527770953772, u'acorn'),\n",
       " (1, 0.019422527770953772, u'acorn squash'),\n",
       " (7, 0.014865655586902169, u'aioli'),\n",
       " (9, 0.063034048743356955, u'al tonno'),\n",
       " (13, 0.031591162213226893, u'alfredo'),\n",
       " (14, 0.021684946062962202, u'alfredo pasta'),\n",
       " (20, 0.013627996718424792, u'almond'),\n",
       " (22, 0.021555947352981324, u'almond chicken'),\n",
       " (27, 0.024726302234324621, u'amaz pork tenderloin'),\n",
       " (29, 0.010263549431077651, u'amish'),\n",
       " (31, 0.011775715953625719, u'and almond'),\n",
       " (47, 0.014508829315116201, u'and blue'),\n",
       " (52, 0.048755366732576119, u'and broccoli'),\n",
       " (53, 0.010592645885868316, u'and broccoli pasta'),\n",
       " (60, 0.01019832932473704, u'and cauliflow'),\n",
       " (66, 0.027352795760279536, u'and chicken'),\n",
       " (71, 0.016403846667356618, u'and coconut'),\n",
       " (82, 0.046196069171825553, u'and dumpl'),\n",
       " (84, 0.014690149176446758, u'and easi chicken'),\n",
       " (86, 0.043798907735924424, u'and egg'),\n",
       " (87, 0.050664443878828014, u'and egg salad'),\n",
       " (88, 0.014087938507014583, u'and fast'),\n",
       " (93, 0.035936163465733528, u'and garlic'),\n",
       " (94, 0.016120648111930445, u'and garlic scape'),\n",
       " (100, 0.099105144646947002, u'and grit'),\n",
       " (102, 0.014420845421339732, u'and honey'),\n",
       " (112, 0.018570527066229105, u'and mushroom sauc'),\n",
       " (125, 0.015841808145509281, u'and pecan'),\n",
       " (126, 0.012908311574437639, u'and pepper'),\n",
       " (135, 0.038814099845877761, u'and potato'),\n",
       " (137, 0.023972419300247041, u'and potato pie'),\n",
       " (152, 0.010499011717430031, u'and roast red'),\n",
       " (168, 0.014573991550551342, u'and sour'),\n",
       " (175, 0.023028679703695414, u'and spinach'),\n",
       " (187, 0.013979577377376108, u'and tangi'),\n",
       " (193, 0.016732668050124563, u'and veggi'),\n",
       " (206, 0.039137743117486537, u'appl'),\n",
       " (208, 0.029865346357739433, u'appl bread'),\n",
       " (214, 0.018900207640800224, u'appl glaze'),\n",
       " (215, 0.018900207640800224, u'appl glaze pork'),\n",
       " (216, 0.061696794163404137, u'appl onion'),\n",
       " (217, 0.015544774214351012, u'appl pie'),\n",
       " (227, 0.024181070096471212, u'apricot'),\n",
       " (230, 0.023215737283040945, u'apricot pork'),\n",
       " (231, 0.023215737283040945, u'apricot pork chop'),\n",
       " (238, 0.018602467879744147, u'asiago'),\n",
       " (239, 0.020258584222852583, u'asian'),\n",
       " (241, 0.02107582299156752, u'asian chicken and'),\n",
       " (244, 0.017522099198962606, u'asian salmon'),\n",
       " (247, 0.025535857135906555, u'asparagus'),\n",
       " (250, 0.02265537193709203, u'asparagus pasta'),\n",
       " (253, 0.014577686930011706, u'asparagus with'),\n",
       " (257, 0.03071919451142029, u'australian'),\n",
       " (260, 0.01365906736781866, u'autumn'),\n",
       " (262, 0.064371303323304513, u'avocado and'),\n",
       " (269, 0.018216216667000341, u'award'),\n",
       " (270, 0.018216216667000341, u'award win'),\n",
       " (271, 0.018216216667000341, u'award win soft'),\n",
       " (281, 0.05039859254749627, u'bacon'),\n",
       " (282, 0.013049260658017401, u'bacon and'),\n",
       " (283, 0.016528442294160371, u'bacon and egg'),\n",
       " (286, 0.061696794163404137, u'bacon devil'),\n",
       " (287, 0.061696794163404137, u'bacon devil egg'),\n",
       " (292, 0.010427806609053455, u'bacon roast'),\n",
       " (293, 0.010427806609053455, u'bacon roast chicken'),\n",
       " (298, 0.13098167467604652, u'bake'),\n",
       " (301, 0.085962394248132526, u'bake chicken'),\n",
       " (306, 0.061696794163404137, u'bake coconut shrimp'),\n",
       " (309, 0.06696205668758122, u'bake ham'),\n",
       " (321, 0.030518170579710447, u'bake salmon'),\n",
       " (322, 0.012947130277661376, u'bake salmon with'),\n",
       " (327, 0.011270991906924344, u'bake tilapia'),\n",
       " (338, 0.018326973489030309, u'banana cream pie'),\n",
       " (339, 0.030473583967648474, u'banana pie'),\n",
       " (343, 0.016534667057269178, u'barbecu'),\n",
       " (356, 0.032657430080692211, u'basil cream'),\n",
       " (364, 0.012786024200553199, u'bbq chicken'),\n",
       " (365, 0.026438719507893307, u'bbq chicken pizza'),\n",
       " (368, 0.011826091517071514, u'bbq pork chop'),\n",
       " (375, 0.033849154499364036, u'bean'),\n",
       " (376, 0.015376917695900919, u'bean and'),\n",
       " (385, 0.010047056848842261, u'beef and'),\n",
       " (387, 0.010921817000895817, u'beef and cabbag'),\n",
       " (390, 0.063034048743356955, u'beef brisket'),\n",
       " (401, 0.014979947401890483, u'beefi'),\n",
       " (402, 0.013412718025541739, u'beer'),\n",
       " (406, 0.018122062811415682, u'beer butt chicken'),\n",
       " (407, 0.038510666978083849, u'beer can'),\n",
       " (408, 0.038510666978083849, u'beer can chicken'),\n",
       " (413, 0.026141019862308539, u'ben'),\n",
       " (415, 0.07558300391496986, u'best'),\n",
       " (418, 0.014700149414505358, u'best chicken'),\n",
       " (419, 0.029623838050248843, u'best ever'),\n",
       " (426, 0.010102796258034624, u'big'),\n",
       " (430, 0.012465095863570341, u'bird'),\n",
       " (431, 0.012465095863570341, u'bird eye'),\n",
       " (433, 0.019037293455857293, u'bisqu'),\n",
       " (435, 0.01176189902737095, u'black'),\n",
       " (436, 0.012038105521339553, u'black bean'),\n",
       " (440, 0.01923238063281598, u'blacken chicken'),\n",
       " (442, 0.02968811515047751, u'blacken tilapia'),\n",
       " (443, 0.03200652607761123, u'bleu'),\n",
       " (444, 0.012357650264027825, u'blue'),\n",
       " (445, 0.011903379887647683, u'blue chees'),\n",
       " (450, 0.091631468691540541, u'blueberri'),\n",
       " (453, 0.026791674251543007, u'blueberri muffin'),\n",
       " (454, 0.024420052330700097, u'blueberri pie'),\n",
       " (456, 0.022456869599043021, u'boil'),\n",
       " (461, 0.025699627488589279, u'bourbon'),\n",
       " (465, 0.01555573309112426, u'bow'),\n",
       " (469, 0.010201959782016431, u'bow tie pasta'),\n",
       " (477, 0.01665324543887696, u'brais pork'),\n",
       " (482, 0.030279299081695878, u'bread'),\n",
       " (483, 0.014804128560392874, u'bread chicken'),\n",
       " (489, 0.012272596470635064, u'breakfast spam'),\n",
       " (490, 0.05795112124051343, u'breast'),\n",
       " (494, 0.024708155809853968, u'breast with'),\n",
       " (496, 0.011548369034388297, u'brie and'),\n",
       " (498, 0.063034048743356955, u'brisket'),\n",
       " (507, 0.010592645885868316, u'broccoli pasta'),\n",
       " (508, 0.019175785400216427, u'broccoli rabe'),\n",
       " (510, 0.010385522237186445, u'broccoli salad'),\n",
       " (525, 0.015964704884783226, u'brown rice'),\n",
       " (527, 0.015595938192355944, u'brown sugar'),\n",
       " (529, 0.011287166462592261, u'brown sugar glaze'),\n",
       " (531, 0.025313672634388565, u'brown sugar meatloaf'),\n",
       " (533, 0.018959874739178196, u'brunch'),\n",
       " (534, 0.018959874739178196, u'brunch casserol'),\n",
       " (537, 0.014151891946847062, u'brussel'),\n",
       " (538, 0.014151891946847062, u'brussel sprout'),\n",
       " (543, 0.017674214567999478, u'buffalo chicken and'),\n",
       " (544, 0.014381976905956037, u'buffalo chicken mac'),\n",
       " (547, 0.017435744120046885, u'burger'),\n",
       " (550, 0.059022285003507265, u'busi'),\n",
       " (551, 0.059022285003507265, u'busi day'),\n",
       " (552, 0.059022285003507265, u'busi day chicken'),\n",
       " (555, 0.018122062811415682, u'butt chicken'),\n",
       " (556, 0.034098949824092617, u'butter'),\n",
       " (564, 0.015360717310374968, u'buttermilk fri'),\n",
       " (565, 0.015360717310374968, u'buttermilk fri chicken'),\n",
       " (566, 0.021703988621371122, u'butternut'),\n",
       " (567, 0.021703988621371122, u'butternut squash'),\n",
       " (568, 0.01342797911933593, u'butternut squash soup'),\n",
       " (574, 0.017843832789360078, u'cacciator'),\n",
       " (576, 0.013237844556563858, u'caesar salad'),\n",
       " (580, 0.024354218946786497, u'cake'),\n",
       " (583, 0.027594097202470046, u'calamari'),\n",
       " (584, 0.027594097202470046, u'calamari in'),\n",
       " (591, 0.02624874436394771, u'campbell slow cook'),\n",
       " (592, 0.025646720037927909, u'can'),\n",
       " (593, 0.045692179153559491, u'can chicken'),\n",
       " (601, 0.014918988811419948, u'caramel'),\n",
       " (602, 0.028289383788755652, u'caramel appl'),\n",
       " (603, 0.033605067964016175, u'caramel appl pie'),\n",
       " (604, 0.010497472838348667, u'caramel chicken'),\n",
       " (605, 0.062031107808394534, u'caramel corn'),\n",
       " (612, 0.012107634004667264, u'carrot'),\n",
       " (617, 0.013266137545654097, u'cashew'),\n",
       " (618, 0.015149032588588367, u'cashew chicken'),\n",
       " (622, 0.049292350285476794, u'cauliflow'),\n",
       " (623, 0.010325790285614403, u'cauliflow pasta'),\n",
       " (628, 0.029278873840857124, u'chard'),\n",
       " (631, 0.11093777130781451, u'chees'),\n",
       " (637, 0.043402087620785089, u'chees frost'),\n",
       " (638, 0.010971955790144452, u'chees grit'),\n",
       " (640, 0.070470844890934373, u'chees pie'),\n",
       " (641, 0.012564393219817825, u'chees pie ii'),\n",
       " (644, 0.030963092023967003, u'chees sandwich'),\n",
       " (650, 0.031726538397905117, u'cheeseburg'),\n",
       " (651, 0.023969249490526281, u'cheeseburg pie'),\n",
       " (655, 0.016753319427867383, u'cheesi'),\n",
       " (671, 0.013484301570651206, u'chef john chicken'),\n",
       " (680, 0.011462197791507053, u'cherri'),\n",
       " (684, 0.014943932415060592, u'cherri cream'),\n",
       " (686, 0.016575270330759909, u'chewi'),\n",
       " (687, 0.016575270330759909, u'chewi chocol'),\n",
       " (688, 0.016575270330759909, u'chewi chocol chip'),\n",
       " (689, 0.8218012109159305, u'chicken'),\n",
       " (691, 0.022855651732958476, u'chicken alfredo'),\n",
       " (696, 0.013751560241517061, u'chicken and broccoli'),\n",
       " (697, 0.020765525097430154, u'chicken and corn'),\n",
       " (698, 0.046196069171825553, u'chicken and dumpl'),\n",
       " (720, 0.01067328435561243, u'chicken barbecu'),\n",
       " (722, 0.054043129732137804, u'chicken breast'),\n",
       " (725, 0.024708155809853968, u'chicken breast with'),\n",
       " (731, 0.023486182386026132, u'chicken cacciator'),\n",
       " (733, 0.018272882108576978, u'chicken chili'),\n",
       " (735, 0.03200652607761123, u'chicken cordon'),\n",
       " (736, 0.03200652607761123, u'chicken cordon bleu'),\n",
       " (737, 0.052955048114439851, u'chicken curri'),\n",
       " (745, 0.012258661300529331, u'chicken fri'),\n",
       " (748, 0.029764750410676298, u'chicken fri venison'),\n",
       " (750, 0.010108036308209799, u'chicken gumbo'),\n",
       " (753, 0.029188413547803237, u'chicken in'),\n",
       " (758, 0.016032159244565428, u'chicken la'),\n",
       " (759, 0.01309369404041325, u'chicken la king'),\n",
       " (760, 0.016057896237389513, u'chicken lettuc'),\n",
       " (761, 0.016057896237389513, u'chicken lettuc wrap'),\n",
       " (762, 0.029747986178766422, u'chicken mac'),\n",
       " (763, 0.014381976905956037, u'chicken mac and'),\n",
       " (764, 0.011354237130502343, u'chicken marsala'),\n",
       " (768, 0.051806623829810411, u'chicken parmesan'),\n",
       " (776, 0.017779130456870133, u'chicken pizza'),\n",
       " (777, 0.017921752632964423, u'chicken pot'),\n",
       " (778, 0.017921752632964423, u'chicken pot pie'),\n",
       " (781, 0.022706157266532388, u'chicken rollup'),\n",
       " (786, 0.02014690473014662, u'chicken sausag'),\n",
       " (798, 0.041889590407937889, u'chicken stir'),\n",
       " (799, 0.041889590407937889, u'chicken stir fri'),\n",
       " (805, 0.013553056099364455, u'chicken tender'),\n",
       " (806, 0.020082969522785151, u'chicken teriyaki'),\n",
       " (815, 0.095688978320874751, u'chicken wing'),\n",
       " (817, 0.078295452272209867, u'chicken with'),\n",
       " (826, 0.013499426994258462, u'chicken with rice'),\n",
       " (827, 0.021219121368894856, u'chicken with sweet'),\n",
       " (832, 0.059838439369541502, u'chili'),\n",
       " (835, 0.018240252266633412, u'chines'),\n",
       " (837, 0.010251262371358857, u'chines chicken wing'),\n",
       " (840, 0.011046082329914206, u'chines roast chicken'),\n",
       " (841, 0.11341755222064728, u'chip'),\n",
       " (842, 0.11632345925557812, u'chip cooki'),\n",
       " (843, 0.023070347863769325, u'chip muffin'),\n",
       " (844, 0.011923682868802181, u'chip pie'),\n",
       " (845, 0.015425980691758026, u'chip pumpkin'),\n",
       " (846, 0.015425980691758026, u'chip pumpkin cooki'),\n",
       " (851, 0.12977423894095924, u'chocol'),\n",
       " (854, 0.10592558233613779, u'chocol chip'),\n",
       " (855, 0.1075833703997021, u'chocol chip cooki'),\n",
       " (856, 0.023070347863769325, u'chocol chip muffin'),\n",
       " (857, 0.011923682868802181, u'chocol chip pie'),\n",
       " (858, 0.015425980691758026, u'chocol chip pumpkin'),\n",
       " (864, 0.025974497406320178, u'chocol pecan'),\n",
       " (865, 0.025974497406320178, u'chocol pecan pie'),\n",
       " (868, 0.484155889597989, u'chop'),\n",
       " (869, 0.015220673124627949, u'chop and'),\n",
       " (885, 0.03886902798064789, u'chop with'),\n",
       " (889, 0.02123971282629171, u'chop with fresh'),\n",
       " (892, 0.011963011338900213, u'chop with tomato'),\n",
       " (895, 0.033066616802007426, u'chowder'),\n",
       " (899, 0.037850803499323342, u'cider'),\n",
       " (905, 0.013601643300517264, u'cinnamon'),\n",
       " (907, 0.01336976066726799, u'cinnamon cream'),\n",
       " (908, 0.01336976066726799, u'cinnamon cream chees'),\n",
       " (926, 0.038682103186463299, u'coconut cream'),\n",
       " (927, 0.037790931206063277, u'coconut cream pie'),\n",
       " (930, 0.014141739467075138, u'coconut curri'),\n",
       " (931, 0.0192492113326053, u'coconut curri chicken'),\n",
       " (936, 0.032703942711113335, u'coconut pie'),\n",
       " (941, 0.019253100889493904, u'coffe'),\n",
       " (944, 0.012523500126930648, u'cook'),\n",
       " (951, 0.19675239596312372, u'cooker'),\n",
       " (962, 0.052382565248579024, u'cooker chicken'),\n",
       " (963, 0.026492335873714641, u'cooker chicken and'),\n",
       " (970, 0.015772048753424819, u'cooker chicken taco'),\n",
       " (973, 0.018148476369673545, u'cooker chicken with'),\n",
       " (977, 0.063034048743356955, u'cooker cranberri pork'),\n",
       " (982, 0.01511411236585217, u'cooker mexican'),\n",
       " (983, 0.013052551502448401, u'cooker mexican styl'),\n",
       " (987, 0.025537675702557945, u'cooker pork'),\n",
       " (989, 0.013083001020476416, u'cooker pork chop'),\n",
       " (994, 0.019619988550511443, u'cooker pot'),\n",
       " (995, 0.019619988550511443, u'cooker pot roast'),\n",
       " (996, 0.031296300826337053, u'cooker pull'),\n",
       " (997, 0.035799309789468575, u'cooker pull pork'),\n",
       " (1006, 0.016083749333757318, u'cooker stew'),\n",
       " (1007, 0.017361774048722425, u'cooker sweet'),\n",
       " (1008, 0.012275002580289769, u'cooker sweet and'),\n",
       " (1009, 0.029729553856394683, u'cooker thai'),\n",
       " (1010, 0.015406951078555338, u'cooker thai pork'),\n",
       " (1011, 0.014869560356065192, u'cooker venison'),\n",
       " (1014, 0.24989846246159975, u'cooki'),\n",
       " (1015, 0.035633059578582718, u'cooki from'),\n",
       " (1016, 0.026589627576229284, u'cooki from karo'),\n",
       " (1019, 0.03200652607761123, u'cordon'),\n",
       " (1020, 0.03200652607761123, u'cordon bleu'),\n",
       " (1021, 0.023287032875815, u'corn'),\n",
       " (1022, 0.020783704449964118, u'corn and'),\n",
       " (1023, 0.010921817000895817, u'corn beef'),\n",
       " (1024, 0.010921817000895817, u'corn beef and'),\n",
       " (1026, 0.010394375663502859, u'corn salad'),\n",
       " (1027, 0.023716169311205418, u'corn soup'),\n",
       " (1038, 0.015288794138967983, u'crab stuf'),\n",
       " (1041, 0.075665277491864372, u'cranberri'),\n",
       " (1047, 0.063034048743356955, u'cranberri pork'),\n",
       " (1049, 0.090248837751747524, u'cream'),\n",
       " (1050, 0.018366490863931027, u'cream appl'),\n",
       " (1051, 0.018366490863931027, u'cream appl pie'),\n",
       " (1052, 0.081274078988445131, u'cream chees'),\n",
       " (1053, 0.01338532492227199, u'cream chees and'),\n",
       " (1055, 0.043402087620785089, u'cream chees frost'),\n",
       " (1056, 0.013143333961725161, u'cream chees pie'),\n",
       " (1057, 0.031232696326125613, u'cream chicken'),\n",
       " (1060, 0.034369333515133556, u'cream pie'),\n",
       " (1065, 0.068321473080894882, u'cream sauc'),\n",
       " (1066, 0.011378638977072376, u'cream sauc over'),\n",
       " (1071, 0.012259109936702747, u'creami chicken'),\n",
       " (1074, 0.012840460630027285, u'creami dill'),\n",
       " (1075, 0.012840460630027285, u'creami dill sauc'),\n",
       " (1104, 0.018286715256735198, u'crock pot'),\n",
       " (1108, 0.013025141907976667, u'crust'),\n",
       " (1115, 0.010305595889882554, u'crust tilapia'),\n",
       " (1126, 0.01971695492256648, u'cup'),\n",
       " (1127, 0.010289284670763357, u'cupcak'),\n",
       " (1128, 0.010220300602882312, u'cupcak with'),\n",
       " (1131, 0.056108221707717044, u'curri'),\n",
       " (1132, 0.043820663571344454, u'curri chicken'),\n",
       " (1135, 0.018540804432682353, u'curri with'),\n",
       " (1136, 0.018377862692660951, u'curri with chicken'),\n",
       " (1137, 0.11125708998685709, u'custard'),\n",
       " (1138, 0.10555677437666409, u'custard pie'),\n",
       " (1147, 0.059022285003507265, u'day chicken'),\n",
       " (1165, 0.098203467477464251, u'devil'),\n",
       " (1166, 0.087475972824819004, u'devil egg'),\n",
       " (1169, 0.063034048743356955, u'die'),\n",
       " (1170, 0.063034048743356955, u'die for'),\n",
       " (1171, 0.063034048743356955, u'die for blueberri'),\n",
       " (1176, 0.025843018977856503, u'dill'),\n",
       " (1180, 0.025306387142311745, u'dinner'),\n",
       " (1181, 0.014839299083369142, u'dip'),\n",
       " (1182, 0.014177906331006882, u'dip sauc'),\n",
       " (1185, 0.013535248581915679, u'doubl'),\n",
       " (1187, 0.013343841470108947, u'doubl chocol chip'),\n",
       " (1203, 0.045574237594175254, u'dumpl'),\n",
       " (1216, 0.027124882623367153, u'easi cheeseburg'),\n",
       " (1217, 0.019598250941496101, u'easi cheeseburg pie'),\n",
       " (1218, 0.021661721941175147, u'easi cheesi'),\n",
       " (1221, 0.012923398865268693, u'easi chicken'),\n",
       " (1231, 0.011056059835606116, u'easi mini'),\n",
       " (1233, 0.029660799306338709, u'easi one pot'),\n",
       " (1258, 0.14773711358511757, u'egg'),\n",
       " (1260, 0.018959874739178196, u'egg brunch'),\n",
       " (1261, 0.018959874739178196, u'egg brunch casserol'),\n",
       " (1262, 0.01877032993636198, u'egg custard'),\n",
       " (1263, 0.01877032993636198, u'egg custard pie'),\n",
       " (1264, 0.050664443878828014, u'egg salad'),\n",
       " (1266, 0.016256528540114185, u'eggplant'),\n",
       " (1276, 0.023771687802456972, u'enchilada'),\n",
       " (1289, 0.016381993303592, u'fast'),\n",
       " (1295, 0.013171373334552313, u'favorit'),\n",
       " (1297, 0.018337290966026234, u'fennel and'),\n",
       " (1320, 0.052649403330821014, u'flank'),\n",
       " (1321, 0.052649403330821014, u'flank steak'),\n",
       " (1322, 0.015475396789997889, u'flank steak with'),\n",
       " (1323, 0.013234747677573194, u'flat'),\n",
       " (1324, 0.013234747677573194, u'flat iron'),\n",
       " (1325, 0.013234747677573194, u'flat iron steak'),\n",
       " (1330, 0.063034048743356955, u'for blueberri'),\n",
       " (1331, 0.063034048743356955, u'for blueberri muffin'),\n",
       " (1348, 0.017406732890289607, u'french onion'),\n",
       " (1349, 0.017406732890289607, u'french onion soup'),\n",
       " (1351, 0.015151622483219305, u'fresh'),\n",
       " (1354, 0.013650943629124638, u'fri'),\n",
       " (1355, 0.026361300079802325, u'fri chicken'),\n",
       " (1358, 0.037775691658934088, u'fri chicken with'),\n",
       " (1370, 0.016170169636931069, u'fri venison'),\n",
       " (1371, 0.029764750410676298, u'fri venison steak'),\n",
       " (1374, 0.030064573742123773, u'frittata'),\n",
       " (1376, 0.024387102174516642, u'frogmor'),\n",
       " (1377, 0.024387102174516642, u'frogmor stew'),\n",
       " (1378, 0.063946217710435779, u'from'),\n",
       " (1379, 0.012465095863570341, u'from bird'),\n",
       " (1380, 0.012465095863570341, u'from bird eye'),\n",
       " (1389, 0.010886912902477017, u'from swanson'),\n",
       " (1390, 0.026141019862308539, u'from uncl'),\n",
       " (1391, 0.026141019862308539, u'from uncl ben'),\n",
       " (1392, 0.053096109359901292, u'frost'),\n",
       " (1400, 0.013450125909891482, u'fusion'),\n",
       " (1405, 0.021239977778973473, u'garl shrimp'),\n",
       " (1406, 0.038086027765034627, u'garlic'),\n",
       " (1414, 0.033921516251050658, u'garlic chicken'),\n",
       " (1416, 0.019771989836586162, u'garlic chicken breast'),\n",
       " (1425, 0.015046846268056245, u'garlic pork'),\n",
       " (1428, 0.011225422459712918, u'garlic roast chicken'),\n",
       " (1431, 0.016120648111930445, u'garlic scape'),\n",
       " (1432, 0.033511157643533233, u'garlic shrimp'),\n",
       " (1433, 0.017502309427763003, u'garlic shrimp and'),\n",
       " (1434, 0.02046911203585541, u'garlic shrimp with'),\n",
       " (1440, 0.070199059838363789, u'ginger'),\n",
       " (1442, 0.034074799121926319, u'ginger cooki'),\n",
       " (1445, 0.061696794163404137, u'ginger salmon'),\n",
       " (1446, 0.012155842643393469, u'ginger shrimp'),\n",
       " (1447, 0.01050116743351698, u'ginger shrimp and'),\n",
       " (1449, 0.01758083074367681, u'glaz'),\n",
       " (1456, 0.019310701936145373, u'glaze ham'),\n",
       " (1470, 0.014283627853165975, u'goat'),\n",
       " (1471, 0.014283627853165975, u'goat chees'),\n",
       " (1477, 0.011347364784128997, u'gorgonzola and'),\n",
       " (1478, 0.011347364784128997, u'gorgonzola and appl'),\n",
       " (1488, 0.017097690897777018, u'grandma'),\n",
       " (1496, 0.045527920526598889, u'gravi'),\n",
       " (1510, 0.015388130958328541, u'gril'),\n",
       " (1511, 0.11003403333649438, u'grill'),\n",
       " (1512, 0.036574293178506759, u'grill chees'),\n",
       " (1513, 0.013747216443508565, u'grill chees and'),\n",
       " (1514, 0.029775460329485918, u'grill chees sandwich'),\n",
       " (1515, 0.049372018729043385, u'grill chicken'),\n",
       " (1518, 0.010538621318615122, u'grill chicken with'),\n",
       " (1519, 0.020020347843949304, u'grill lamb'),\n",
       " (1520, 0.012374836775692122, u'grill lamb chop'),\n",
       " (1524, 0.027265386039537969, u'grill pork'),\n",
       " (1525, 0.044376360171797205, u'grill pork chop'),\n",
       " (1526, 0.0115555584307459, u'grill portobello'),\n",
       " (1527, 0.023058697732096005, u'grill rosemari'),\n",
       " (1528, 0.047667091116789198, u'grill salmon'),\n",
       " (1529, 0.012714557593412699, u'grill salmon with'),\n",
       " (1530, 0.16495111907414217, u'grill shrimp'),\n",
       " (1535, 0.11681153718688039, u'grit'),\n",
       " (1536, 0.018123411295210692, u'grit with'),\n",
       " (1541, 0.01591333142637915, u'gumbo'),\n",
       " (1547, 0.21851341843408442, u'ham'),\n",
       " (1548, 0.022972261630046748, u'ham and'),\n",
       " (1555, 0.014964275389817493, u'hamburg'),\n",
       " (1558, 0.010363507822418384, u'hamburg potato'),\n",
       " (1560, 0.011633637669453807, u'hamburg steak'),\n",
       " (1562, 0.010755341730423721, u'happi'),\n",
       " (1563, 0.014952021456363766, u'harvest'),\n",
       " (1567, 0.013780383033968434, u'hash with'),\n",
       " (1570, 0.01444199968916896, u'healthi'),\n",
       " (1572, 0.02132858393827302, u'healthier'),\n",
       " (1584, 0.011573175967940863, u'herb'),\n",
       " (1598, 0.091304991933278151, u'honey'),\n",
       " (1604, 0.015415480463778502, u'honey garlic chicken'),\n",
       " (1605, 0.010402160499098105, u'honey glaz'),\n",
       " (1611, 0.029039145754535898, u'honey mustard'),\n",
       " (1613, 0.011815529487259915, u'honey mustard pork'),\n",
       " (1616, 0.011921970511550108, u'honey pork'),\n",
       " (1620, 0.014371352473677627, u'hot'),\n",
       " (1632, 0.025899816898077858, u'iii'),\n",
       " (1633, 0.016790812807667026, u'imposs'),\n",
       " (1636, 0.013388354199543697, u'imposs easi'),\n",
       " (1638, 0.019598250941496101, u'imposs easi cheeseburg'),\n",
       " (1639, 0.011056059835606116, u'imposs easi mini'),\n",
       " (1641, 0.015342816714503811, u'imposs pumpkin'),\n",
       " (1642, 0.015342816714503811, u'imposs pumpkin pie'),\n",
       " (1645, 0.011289301230188007, u'in caper'),\n",
       " (1658, 0.022014931750973205, u'in onion and'),\n",
       " (1672, 0.028338322678688053, u'in tomato'),\n",
       " (1675, 0.01826530869452973, u'in wine'),\n",
       " (1676, 0.01826530869452973, u'in wine sauc'),\n",
       " (1689, 0.013825009192153501, u'irish shepherd'),\n",
       " (1690, 0.013825009192153501, u'irish shepherd pie'),\n",
       " (1692, 0.013234747677573194, u'iron'),\n",
       " (1693, 0.013234747677573194, u'iron steak'),\n",
       " (1696, 0.016244319650354652, u'italian'),\n",
       " (1704, 0.016428566857056428, u'italian ricotta'),\n",
       " (1707, 0.010293144940774468, u'italian sausag soup'),\n",
       " (1727, 0.010612249025945639, u'jelli'),\n",
       " (1730, 0.041904399321609595, u'jerki'),\n",
       " (1735, 0.013484301570651206, u'john chicken'),\n",
       " (1750, 0.016158067588141041, u'kabob'),\n",
       " (1761, 0.015972408874769226, u'ketchup'),\n",
       " (1763, 0.02177774566596016, u'key'),\n",
       " (1764, 0.02177774566596016, u'key lime'),\n",
       " (1765, 0.02177774566596016, u'key west'),\n",
       " (1767, 0.014233926149813026, u'kid favorit'),\n",
       " (1772, 0.014919924560262842, u'king'),\n",
       " (1777, 0.013296247910380737, u'la'),\n",
       " (1778, 0.010738273654754594, u'la king'),\n",
       " (1780, 0.012642772335465948, u'lamb chop'),\n",
       " (1784, 0.015301364020246155, u'lasagna with'),\n",
       " (1785, 0.015770165709456364, u'layer'),\n",
       " (1790, 0.13973463847266679, u'lemon'),\n",
       " (1797, 0.022014577809485559, u'lemon chicken'),\n",
       " (1801, 0.022788316862672513, u'lemon cream sauc'),\n",
       " (1805, 0.014180943546750764, u'lemon garlic'),\n",
       " (1810, 0.014621769614613924, u'lemon herb'),\n",
       " (1812, 0.015528994881303449, u'lemon pepp'),\n",
       " (1814, 0.023136859386540174, u'lemon pepper'),\n",
       " (1822, 0.027404441539130728, u'lemon tilapia'),\n",
       " (1823, 0.012935092758826429, u'lemongrass'),\n",
       " (1826, 0.042647277571468238, u'lentil'),\n",
       " (1827, 0.039426102975627021, u'lentil soup'),\n",
       " (1829, 0.05664429834826798, u'lettuc'),\n",
       " (1830, 0.05664429834826798, u'lettuc wrap'),\n",
       " (1831, 0.024386006081335853, u'light'),\n",
       " (1842, 0.01304829182895805, u'lime saute'),\n",
       " (1843, 0.01304829182895805, u'lime saute shrimp'),\n",
       " (1851, 0.031892184141161073, u'loaf'),\n",
       " (1853, 0.1315218835915207, u'lobster'),\n",
       " (1855, 0.022951519662149464, u'lobster sauc'),\n",
       " (1856, 0.076789963324120997, u'lobster tail'),\n",
       " (1857, 0.13346979310237658, u'loin'),\n",
       " (1863, 0.013151527805352458, u'loin roast'),\n",
       " (1865, 0.014220883783680173, u'loin stuf'),\n",
       " (1866, 0.014220883783680173, u'loin stuf with'),\n",
       " (1867, 0.014757159637831594, u'loin with'),\n",
       " (1868, 0.027340443643474228, u'loui'),\n",
       " (1869, 0.032301738679252394, u'loui rib'),\n",
       " (1876, 0.011490879793290309, u'lowcountri'),\n",
       " (1877, 0.011490879793290309, u'lowcountri shrimp'),\n",
       " (1878, 0.011490879793290309, u'lowcountri shrimp and'),\n",
       " (1881, 0.014381976905956037, u'mac and'),\n",
       " (1882, 0.014381976905956037, u'mac and chees'),\n",
       " (1894, 0.025053645471158847, u'mango'),\n",
       " (1900, 0.021266271246250801, u'mapl'),\n",
       " (1903, 0.014615767538554052, u'mapl pecan'),\n",
       " (1904, 0.014615767538554052, u'mapl pecan pie'),\n",
       " (1906, 0.01338633433010075, u'maple'),\n",
       " (1909, 0.022794613305287793, u'mari'),\n",
       " (1912, 0.047450832007741056, u'marin'),\n",
       " (1913, 0.016027731506494766, u'marin chicken'),\n",
       " (1914, 0.022556108714117978, u'marin flank'),\n",
       " (1915, 0.022556108714117978, u'marin flank steak'),\n",
       " (1918, 0.02340111027896908, u'marin pork tenderloin'),\n",
       " (1926, 0.01379809405642983, u'masala'),\n",
       " (1927, 0.019088249684049329, u'mash'),\n",
       " (1928, 0.019088249684049329, u'mash potato'),\n",
       " (1935, 0.018084457210870285, u'meat'),\n",
       " (1936, 0.026520837881426024, u'meat loaf'),\n",
       " (1945, 0.063562101910347404, u'meatloaf'),\n",
       " (1948, 0.029860923252581287, u'mediterranean'),\n",
       " (1949, 0.030658756818577427, u'mediterranean pasta'),\n",
       " (1950, 0.013195215597566434, u'mein'),\n",
       " (1957, 0.023722740008932573, u'mexican beef'),\n",
       " (1961, 0.034149305285835055, u'mexican rice'),\n",
       " (1962, 0.013052551502448401, u'mexican styl'),\n",
       " (1966, 0.012003718153909241, u'milanes'),\n",
       " (1969, 0.017672420769992259, u'minc'),\n",
       " (1973, 0.042021586618867256, u'mini'),\n",
       " (1984, 0.010888869169712555, u'miso salmon'),\n",
       " (1986, 0.012580576987998721, u'mix'),\n",
       " (1992, 0.010118603482853896, u'mochiko'),\n",
       " (1997, 0.024025590484174391, u'mom'),\n",
       " (1998, 0.01381679945765704, u'mom chicken'),\n",
       " (2004, 0.061696794163405892, u'moos'),\n",
       " (2005, 0.061696794163405892, u'moos roast'),\n",
       " (2011, 0.021916575845432374, u'mouss'),\n",
       " (2014, 0.14283945278978966, u'muffin'),\n",
       " (2015, 0.012252341049643367, u'muffin with'),\n",
       " (2021, 0.011322450650129717, u'mushroom cream sauc'),\n",
       " (2023, 0.011287650443057528, u'mushroom gravi'),\n",
       " (2026, 0.013771196421732015, u'mushroom pasta'),\n",
       " (2033, 0.019065138894581529, u'mushroom stuf chicken'),\n",
       " (2050, 0.012845768427279785, u'new potato'),\n",
       " (2051, 0.027071350147766161, u'night'),\n",
       " (2054, 0.010360734336154294, u'noodl casserol'),\n",
       " (2061, 0.014170960907763961, u'oat'),\n",
       " (2062, 0.013105352213856549, u'oatmeal'),\n",
       " (2075, 0.017574213895658244, u'oliv'),\n",
       " (2079, 0.022182224138436353, u'one'),\n",
       " (2082, 0.029730927339198028, u'one pot'),\n",
       " (2083, 0.041272461601343041, u'one pot pasta'),\n",
       " (2087, 0.013110236951686043, u'onion bake'),\n",
       " (2088, 0.013110236951686043, u'onion bake chicken'),\n",
       " (2093, 0.017406732890289607, u'onion soup'),\n",
       " (2097, 0.029635933786098086, u'orang'),\n",
       " (2100, 0.060359539583458334, u'orang chicken stir'),\n",
       " (2103, 0.012249155894612045, u'orang glaze ham'),\n",
       " (2109, 0.029343979126271232, u'orang vinaigrett'),\n",
       " (2111, 0.02096439074103789, u'orange glaz'),\n",
       " (2112, 0.014059007910717158, u'orecchiett'),\n",
       " (2133, 0.019187160909563284, u'paleo chicken'),\n",
       " (2134, 0.019187160909563284, u'paleo chicken with'),\n",
       " (2136, 0.016355064902914405, u'pan'),\n",
       " (2137, 0.017848669466958591, u'pan fri'),\n",
       " (2142, 0.02483902184380583, u'pan sear'),\n",
       " (2145, 0.010977074625861125, u'panang curri with'),\n",
       " (2146, 0.041006873747129469, u'pancak'),\n",
       " (2153, 0.024373255572217978, u'paprika'),\n",
       " (2154, 0.010146178226743147, u'paprika chicken'),\n",
       " (2156, 0.013295335245374051, u'paradis'),\n",
       " (2157, 0.013295335245374051, u'paradis pumpkin'),\n",
       " (2158, 0.013295335245374051, u'paradis pumpkin pie'),\n",
       " (2160, 0.021769470398295215, u'parmesan'),\n",
       " (2161, 0.010555855653123265, u'parmesan chicken'),\n",
       " (2164, 0.063034048743356955, u'parmesan crust tilapia'),\n",
       " (2167, 0.017367021439476823, u'parmesan tilapia'),\n",
       " (2169, 0.012650531692442735, u'parmigiana'),\n",
       " (2171, 0.083000261652085447, u'pasta'),\n",
       " (2175, 0.011192835013868561, u'pasta casserol'),\n",
       " (2176, 0.01241681043634494, u'pasta con'),\n",
       " (2178, 0.013553667654932867, u'pasta primavera'),\n",
       " (2179, 0.027008669618441328, u'pasta salad'),\n",
       " (2181, 0.031622035165150671, u'pasta sauc'),\n",
       " (2183, 0.015593594998307965, u'pasta with'),\n",
       " (2184, 0.017130348877534826, u'pasta with asparagus'),\n",
       " (2190, 0.020198942927232528, u'pasta with spinach'),\n",
       " (2194, 0.044342988019872562, u'pea'),\n",
       " (2203, 0.14476882671811298, u'peanut'),\n",
       " (2204, 0.023661469533587536, u'peanut butter'),\n",
       " (2207, 0.099959607930550698, u'peanut sauc'),\n",
       " (2210, 0.15437296739484979, u'pecan'),\n",
       " (2212, 0.18576826421048964, u'pecan pie'),\n",
       " (2213, 0.012553565521928038, u'pecan pie ii'),\n",
       " (2214, 0.063034048743356955, u'pecan pie iii'),\n",
       " (2218, 0.018278790107419167, u'penn'),\n",
       " (2220, 0.015064072398906354, u'penn pasta with'),\n",
       " (2221, 0.012369338997115073, u'penn with'),\n",
       " (2222, 0.015528994881303449, u'pepp'),\n",
       " (2227, 0.020961722709222703, u'pepper chicken'),\n",
       " (2229, 0.010488783271872779, u'pepper chicken wing'),\n",
       " (2230, 0.027305300902545699, u'pepper cream'),\n",
       " (2231, 0.027305300902545699, u'pepper cream sauc'),\n",
       " (2237, 0.028705041097399693, u'pepper steak'),\n",
       " (2242, 0.025494722489761448, u'pernil'),\n",
       " (2256, 0.31421235775294221, u'pie'),\n",
       " (2263, 0.01109607750770578, u'pie iv'),\n",
       " (2271, 0.059880562672746725, u'pineappl'),\n",
       " (2272, 0.013559548545370352, u'pineappl chicken'),\n",
       " (2288, 0.022886269808989401, u'pizza'),\n",
       " (2294, 0.013452974926060629, u'plum glaze'),\n",
       " (2296, 0.014191328155290272, u'poach'),\n",
       " (2297, 0.017512693966987364, u'poach salmon'),\n",
       " (2307, 0.014133945455961673, u'porchetta'),\n",
       " (2308, 0.5577381187569237, u'pork'),\n",
       " (2314, 0.44320579052206543, u'pork chop'),\n",
       " (2315, 0.015220673124627949, u'pork chop and'),\n",
       " (2321, 0.010449523762424457, u'pork chop in'),\n",
       " (2324, 0.041844876436717131, u'pork chop with'),\n",
       " (2326, 0.010448840179041354, u'pork in'),\n",
       " (2327, 0.011819457779413053, u'pork kabob'),\n",
       " (2328, 0.13121978038559032, u'pork loin'),\n",
       " (2331, 0.013151527805352458, u'pork loin roast'),\n",
       " (2332, 0.014220883783680173, u'pork loin stuf'),\n",
       " (2333, 0.014757159637831594, u'pork loin with'),\n",
       " (2337, 0.013462016010547978, u'pork pernil'),\n",
       " (2340, 0.065331805631768686, u'pork roast'),\n",
       " (2346, 0.012668027000654626, u'pork steak with'),\n",
       " (2347, 0.071135183791966802, u'pork tenderloin'),\n",
       " (2349, 0.020154248217785241, u'pork tenderloin with'),\n",
       " (2351, 0.018229273331941079, u'pork with appl'),\n",
       " (2353, 0.011290945823961205, u'port and'),\n",
       " (2357, 0.030662571202471931, u'portobello'),\n",
       " (2361, 0.012062616715767258, u'pot'),\n",
       " (2362, 0.041272461601343041, u'pot pasta'),\n",
       " (2363, 0.013490151915718862, u'pot pie'),\n",
       " (2366, 0.017712174707140853, u'pot roast'),\n",
       " (2367, 0.072680659342418685, u'potato'),\n",
       " (2368, 0.019134852987664777, u'potato and'),\n",
       " (2375, 0.011991578001991828, u'potato gratin'),\n",
       " (2379, 0.039593006817771066, u'potato soup'),\n",
       " (2380, 0.036067697355472321, u'potato with'),\n",
       " (2393, 0.01671086437782178, u'progresso'),\n",
       " (2402, 0.080076898145856834, u'pull'),\n",
       " (2405, 0.08260376437935546, u'pull pork'),\n",
       " (2409, 0.15327946060541642, u'pumpkin'),\n",
       " (2411, 0.040384844003919014, u'pumpkin bread'),\n",
       " (2414, 0.031511551858655111, u'pumpkin chocol'),\n",
       " (2415, 0.031511551858655111, u'pumpkin chocol chip'),\n",
       " (2416, 0.014652432187815024, u'pumpkin cooki'),\n",
       " (2418, 0.018833527234138725, u'pumpkin muffin'),\n",
       " (2419, 0.012252341049643367, u'pumpkin muffin with'),\n",
       " (2422, 0.074339698467810009, u'pumpkin pie'),\n",
       " (2425, 0.013562160338688732, u'pumpkin pud'),\n",
       " (2426, 0.013562160338688732, u'pumpkin pud pie'),\n",
       " (2428, 0.058489244142560709, u'pumpkin scone'),\n",
       " (2430, 0.020400080313660637, u'quich'),\n",
       " (2435, 0.021210534213446871, u'quinoa'),\n",
       " (2437, 0.019175785400216427, u'rabe'),\n",
       " (2446, 0.017832808169533296, u'ranch'),\n",
       " (2447, 0.016824670220481772, u'ranch chicken'),\n",
       " (2460, 0.02036411514328593, u'red lentil'),\n",
       " (2477, 0.029192601299446522, u'rhubarb'),\n",
       " (2480, 0.020960461875197421, u'rhubarb custard'),\n",
       " (2481, 0.020960461875197421, u'rhubarb custard pie'),\n",
       " (2482, 0.033380235102138847, u'rhubarb pie'),\n",
       " (2483, 0.16322757454337603, u'rib'),\n",
       " (2490, 0.010668847562054658, u'rice bowl'),\n",
       " (2497, 0.029343979126271232, u'rice salad'),\n",
       " (2504, 0.017297615724866686, u'ricotta chees'),\n",
       " (2508, 0.014458028074432881, u'risotto'),\n",
       " (2510, 0.18811533608998551, u'roast'),\n",
       " (2517, 0.2839958714516374, u'roast chicken'),\n",
       " (2519, 0.041211690516409341, u'roast chicken with'),\n",
       " (2523, 0.01557002786270514, u'roast lemon'),\n",
       " (2527, 0.015218665833468032, u'roast pepper cream'),\n",
       " (2528, 0.061865733168783556, u'roast pork'),\n",
       " (2529, 0.010227978709059293, u'roast pork loin'),\n",
       " (2530, 0.013462016010547978, u'roast pork pernil'),\n",
       " (2535, 0.024818707221952691, u'roast salmon'),\n",
       " (2536, 0.010230807087332778, u'roast salmon with'),\n",
       " (2537, 0.013776365730048298, u'roast turkey'),\n",
       " (2542, 0.011063081386290719, u'roll'),\n",
       " (2545, 0.022706157266532388, u'rollup'),\n",
       " (2548, 0.011037174686921791, u'root beer'),\n",
       " (2549, 0.039787383390942295, u'rosemari'),\n",
       " (2550, 0.034066552294807401, u'rosemari chicken'),\n",
       " (2565, 0.020815149643433381, u'sake'),\n",
       " (2566, 0.02039310226305004, u'salad'),\n",
       " (2571, 0.011973752830589962, u'salami'),\n",
       " (2574, 0.31591489908255777, u'salmon'),\n",
       " (2577, 0.021297341298992717, u'salmon devil'),\n",
       " (2578, 0.021297341298992717, u'salmon devil egg'),\n",
       " (2591, 0.12036856355299268, u'salmon with'),\n",
       " (2595, 0.014547917646480999, u'salmon with creami'),\n",
       " (2610, 0.060359539583456578, u'sara pumpkin'),\n",
       " (2611, 0.060359539583456578, u'sara pumpkin pie'),\n",
       " (2613, 0.01241681043634494, u'sard'),\n",
       " (2615, 0.085859099794280788, u'sauc'),\n",
       " (2620, 0.011378638977072376, u'sauc over'),\n",
       " (2625, 0.07375738214923791, u'sausag'),\n",
       " (2626, 0.017889181871075348, u'sausag and'),\n",
       " (2627, 0.013420257286094469, u'sausag and broccoli'),\n",
       " (2628, 0.015182979181998631, u'sausag and pepper'),\n",
       " (2635, 0.010293144940774468, u'sausag soup'),\n",
       " (2637, 0.023914445428898826, u'saut'),\n",
       " (2638, 0.030347155323211236, u'saute'),\n",
       " (2639, 0.030347155323211236, u'saute shrimp'),\n",
       " (2640, 0.014439773706241374, u'savori'),\n",
       " (2642, 0.035654189846116409, u'savori slow'),\n",
       " (2643, 0.035654189846116409, u'savori slow cooker'),\n",
       " (2645, 0.023694131531845752, u'scallop'),\n",
       " (2655, 0.075967306359345274, u'scampi'),\n",
       " (2657, 0.044178759166074992, u'scampi in'),\n",
       " (2662, 0.055017102783856055, u'scone'),\n",
       " (2671, 0.017760289842851003, u'sear'),\n",
       " (2673, 0.015465989016502358, u'sear scallop'),\n",
       " (2684, 0.0232635134842324, u'shepherd'),\n",
       " (2685, 0.024610383056010817, u'shepherd pie'),\n",
       " (2691, 0.014736836759189164, u'sherry'),\n",
       " (2699, 0.031595118995899521, u'shred chicken'),\n",
       " (2700, 0.010940321714787978, u'shred pork'),\n",
       " (2701, 1.0, u'shrimp'),\n",
       " (2702, 0.020169563288904114, u'shrimp alfredo'),\n",
       " (2703, 0.021684946062962202, u'shrimp alfredo pasta'),\n",
       " (2704, 0.23865615854937794, u'shrimp and'),\n",
       " (2711, 0.099105144646947002, u'shrimp and grit'),\n",
       " (2714, 0.015953822534898868, u'shrimp and scallop'),\n",
       " (2718, 0.021470461792797092, u'shrimp de'),\n",
       " (2719, 0.021470461792797092, u'shrimp de jongh'),\n",
       " (2723, 0.059653081790979098, u'shrimp in'),\n",
       " (2724, 0.01296402590683894, u'shrimp in cream'),\n",
       " (2729, 0.016951518306514011, u'shrimp salad'),\n",
       " (2731, 0.067246480852749119, u'shrimp scampi'),\n",
       " (2733, 0.037577310439777876, u'shrimp stir'),\n",
       " (2734, 0.037577310439777876, u'shrimp stir fri'),\n",
       " (2737, 0.090190234608548761, u'shrimp with'),\n",
       " (2744, 0.011237011626236729, u'simpl lemon'),\n",
       " (2750, 0.010448655426066603, u'simpli'),\n",
       " (2752, 0.062709394500283525, u'skillet'),\n",
       " (2761, 0.18107239175259388, u'slow'),\n",
       " (2763, 0.016648783015591986, u'slow cook chicken'),\n",
       " (2766, 0.19014653022107669, u'slow cooker'),\n",
       " (2771, 0.052382565248579024, u'slow cooker chicken'),\n",
       " (2778, 0.01511411236585217, u'slow cooker mexican'),\n",
       " (2781, 0.023557725696319504, u'slow cooker pork'),\n",
       " (2782, 0.01466179541194821, u'slow cooker pot'),\n",
       " (2783, 0.031296300826337053, u'slow cooker pull'),\n",
       " (2790, 0.016083749333757318, u'slow cooker stew'),\n",
       " (2791, 0.017361774048722425, u'slow cooker sweet'),\n",
       " (2792, 0.029729553856394683, u'slow cooker thai'),\n",
       " (2793, 0.014869560356065192, u'slow cooker venison'),\n",
       " (2799, 0.014405969279287906, u'smoke salmon devil'),\n",
       " (2805, 0.010494567722518377, u'smother pork'),\n",
       " (2806, 0.012559541586319136, u'smother pork chop'),\n",
       " (2807, 0.060868640513661101, u'snap'),\n",
       " (2808, 0.060868640513661101, u'snap pea'),\n",
       " (2813, 0.022294764384524181, u'soft'),\n",
       " (2814, 0.018216216667000341, u'soft chocol'),\n",
       " (2815, 0.018216216667000341, u'soft chocol chip'),\n",
       " (2816, 0.15197869178917023, u'soup'),\n",
       " (2817, 0.01146896763251902, u'soup from'),\n",
       " (2819, 0.035947877695492528, u'sour'),\n",
       " (2821, 0.048262379029565171, u'sour cream'),\n",
       " (2822, 0.018366490863931027, u'sour cream appl'),\n",
       " (2823, 0.037746148427702804, u'sour cream chicken'),\n",
       " (2830, 0.03081533712498067, u'southern'),\n",
       " (2831, 0.012835661408923718, u'southern fri'),\n",
       " (2832, 0.012835661408923718, u'southern fri chicken'),\n",
       " (2834, 0.010279482827933985, u'soy'),\n",
       " (2842, 0.024629967234499509, u'spaghetti'),\n",
       " (2855, 0.12098162034609714, u'spici'),\n",
       " (2860, 0.039888459150056906, u'spici chicken'),\n",
       " (2862, 0.034607732373284419, u'spici garlic'),\n",
       " (2864, 0.010510108743074177, u'spici grill'),\n",
       " (2865, 0.020985285343848581, u'spici grill chicken'),\n",
       " (2866, 0.024971660599196296, u'spici grill shrimp'),\n",
       " (2873, 0.017352804108409337, u'spici pork'),\n",
       " (2880, 0.028828107596881595, u'spici shrimp'),\n",
       " (2881, 0.010023597474526417, u'spici shrimp and'),\n",
       " (2888, 0.01320428498473307, u'spinach'),\n",
       " (2905, 0.014151891946847062, u'sprout'),\n",
       " (2906, 0.010485106417457275, u'squash'),\n",
       " (2907, 0.01342797911933593, u'squash soup'),\n",
       " (2909, 0.027340443643474228, u'st'),\n",
       " (2910, 0.027340443643474228, u'st loui'),\n",
       " (2911, 0.032301738679252394, u'st loui rib'),\n",
       " (2912, 0.11475705107513484, u'steak'),\n",
       " (2916, 0.011325385244362086, u'steak in'),\n",
       " (2922, 0.015581987669886842, u'steak with'),\n",
       " (2928, 0.011327495391738546, u'step'),\n",
       " (2933, 0.044705216112735924, u'stir'),\n",
       " (2934, 0.044705216112735924, u'stir fri'),\n",
       " (2936, 0.011100060118068647, u'stir fri shrimp'),\n",
       " (2941, 0.012854891906618805, u'strawberri rhubarb pie'),\n",
       " (2942, 0.014089163735571262, u'streusel'),\n",
       " (2943, 0.015383685982725775, u'streusel top'),\n",
       " (2944, 0.025699979811454408, u'strip'),\n",
       " (2945, 0.013481486108670608, u'stroganoff'),\n",
       " (2946, 0.068449245879922349, u'stuf'),\n",
       " (2950, 0.046591144727723438, u'stuf chicken'),\n",
       " (2951, 0.03374447725732467, u'stuf chicken breast'),\n",
       " (2954, 0.02483015639175987, u'stuf mushroom'),\n",
       " (2957, 0.057896009024254319, u'stuf pork'),\n",
       " (2958, 0.01865358025143107, u'stuf pork chop'),\n",
       " (2961, 0.021129348356358407, u'stuf pork tenderloin'),\n",
       " (2962, 0.011284492037025666, u'stuf roast'),\n",
       " (2963, 0.011284492037025666, u'stuf roast chicken'),\n",
       " (2965, 0.021811233336300122, u'stuf with'),\n",
       " (2967, 0.018875088187861079, u'stuf with spinach'),\n",
       " (2968, 0.010381459721282472, u'stuf zucchini'),\n",
       " (2969, 0.010647539234280081, u'styl'),\n",
       " (2973, 0.03043462990815262, u'styl peanut'),\n",
       " (2974, 0.03043462990815262, u'styl peanut sauc'),\n",
       " (2981, 0.042567482888826065, u'sugar'),\n",
       " (2986, 0.025313672634388565, u'sugar meatloaf'),\n",
       " (2987, 0.05621238293958121, u'sugar snap'),\n",
       " (2988, 0.05621238293958121, u'sugar snap pea'),\n",
       " (2989, 0.010049842278343693, u'sugarless'),\n",
       " (2990, 0.010049842278343693, u'sugarless pumpkin'),\n",
       " (2991, 0.010049842278343693, u'sugarless pumpkin pie'),\n",
       " (3000, 0.056753045417436622, u'super'),\n",
       " (3008, 0.015467344689831042, u'swanson'),\n",
       " (3010, 0.086143703272696576, u'sweet'),\n",
       " (3017, 0.014582028805212508, u'sweet and tangi'),\n",
       " (3022, 0.011384862610842265, u'sweet italian'),\n",
       " (3029, 0.040745539931717922, u'sweet potato'),\n",
       " (3030, 0.015213497128868794, u'sweet potato and'),\n",
       " (3031, 0.012905060172496662, u'sweet potato chicken'),\n",
       " (3033, 0.042118750325057019, u'sweet potato soup'),\n",
       " (3035, 0.017730659936811787, u'swiss'),\n",
       " (3036, 0.011573653842933343, u'swiss chard'),\n",
       " (3040, 0.012768563375186776, u'taco casserol'),\n",
       " (3044, 0.076789963324120997, u'tail'),\n",
       " (3049, 0.019100510084150431, u'tangi'),\n",
       " (3058, 0.014417783444671504, u'tart'),\n",
       " (3066, 0.06479559032365842, u'tenderloin'),\n",
       " (3068, 0.024726302234324621, u'tenderloin in the'),\n",
       " (3069, 0.019121592469149459, u'tenderloin with'),\n",
       " (3071, 0.044334880918878085, u'teriyaki'),\n",
       " (3074, 0.034485347707494653, u'teriyaki venison'),\n",
       " (3078, 0.093620092466792371, u'thai'),\n",
       " (3081, 0.013839360355416452, u'thai chicken'),\n",
       " (3083, 0.010044698027271422, u'thai chicken pizza'),\n",
       " (3088, 0.023169383452445833, u'thai peanut'),\n",
       " (3089, 0.039533391470490217, u'thai peanut sauc'),\n",
       " (3090, 0.02246493735653601, u'thai pork'),\n",
       " (3091, 0.026573106657010237, u'thai pork with'),\n",
       " (3092, 0.03043462990815262, u'thai styl'),\n",
       " (3093, 0.03043462990815262, u'thai styl peanut'),\n",
       " (3095, 0.020078709676142968, u'the best'),\n",
       " (3098, 0.022758542937540545, u'the slow'),\n",
       " (3099, 0.022758542937540545, u'the slow cooker'),\n",
       " (3104, 0.012929240167408425, u'thyme chicken'),\n",
       " (3109, 0.010201959782016431, u'tie pasta'),\n",
       " (3113, 0.2048892150900293, u'tilapia'),\n",
       " (3116, 0.057256839465089152, u'tilapia with'),\n",
       " (3121, 0.063034048743356955, u'to die'),\n",
       " (3122, 0.063034048743356955, u'to die for'),\n",
       " (3126, 0.016523754314384038, u'tofu'),\n",
       " (3130, 0.059453790649274765, u'tomato'),\n",
       " (3131, 0.011378995030620937, u'tomato and'),\n",
       " (3146, 0.011046147713339574, u'tomato sauc'),\n",
       " (3150, 0.063034048743356955, u'tonno'),\n",
       " (3166, 0.015340577863167993, u'turkey'),\n",
       " (3171, 0.016744021357142948, u'turkey meat'),\n",
       " (3172, 0.016744021357142948, u'turkey meat loaf'),\n",
       " (3173, 0.010463989259073327, u'tuscan'),\n",
       " (3182, 0.031333012714486026, u'uncl'),\n",
       " (3183, 0.026141019862308539, u'uncl ben'),\n",
       " (3186, 0.014213215822606724, u'veal'),\n",
       " (3187, 0.078920527109678756, u'vegan'),\n",
       " (3198, 0.054899940406100294, u'vegetarian'),\n",
       " (3199, 0.029964694135489665, u'vegetarian lettuc'),\n",
       " (3200, 0.029964694135489665, u'vegetarian lettuc wrap'),\n",
       " (3201, 0.016152229091928101, u'vegetarian shepherd'),\n",
       " (3202, 0.016152229091928101, u'vegetarian shepherd pie'),\n",
       " (3203, 0.016018105929383124, u'veggi'),\n",
       " (3208, 0.015000161174433077, u'velveti'),\n",
       " (3209, 0.1942976422557785, u'venison'),\n",
       " (3214, 0.017789526240212333, u'venison jerki'),\n",
       " (3215, 0.028108813885363463, u'venison meatloaf'),\n",
       " (3232, 0.034469951327275351, u'vinaigrett'),\n",
       " (3236, 0.014239283933767515, u'walnut'),\n",
       " (3245, 0.02177774566596016, u'west'),\n",
       " (3250, 0.022914327104857544, u'white bean soup'),\n",
       " (3271, 0.018216216667000341, u'win soft'),\n",
       " (3272, 0.018216216667000341, u'win soft chocol'),\n",
       " (3277, 0.10101311277058854, u'wing'),\n",
       " (3279, 0.014091736092453656, u'with'),\n",
       " (3280, 0.034342652163919365, u'with appl'),\n",
       " (3281, 0.017174591001581307, u'with appl and'),\n",
       " (3285, 0.01564394712713962, u'with asparagus'),\n",
       " (3287, 0.023146044257793683, u'with avocado'),\n",
       " (3300, 0.010893671987315445, u'with broccoli and'),\n",
       " (3304, 0.012185875649126479, u'with chees'),\n",
       " (3310, 0.011273309043916687, u'with cinnamon'),\n",
       " (3315, 0.027887346706936818, u'with cornbread'),\n",
       " (3320, 0.012840460630027285, u'with creami dill'),\n",
       " (3328, 0.011850854258088439, u'with eggplant and'),\n",
       " (3331, 0.023881553628451235, u'with fresh'),\n",
       " (3340, 0.011164672976381683, u'with gravi'),\n",
       " (3346, 0.010252257607625131, u'with italian'),\n",
       " (3353, 0.019876370846286951, u'with lobster'),\n",
       " (3354, 0.010787174597502456, u'with mango'),\n",
       " (3365, 0.026329609948760307, u'with oliv'),\n",
       " (3401, 0.01670716550006426, u'with sausag'),\n",
       " (3405, 0.014736836759189164, u'with sherry'),\n",
       " (3406, 0.024412235492630194, u'with shrimp'),\n",
       " (3419, 0.020761220484579044, u'with sweet potato'),\n",
       " (3435, 0.086650411644416461, u'wrap'),\n",
       " (3439, 0.032367279960047055, u'wrap stuf'),\n",
       " (3447, 0.019739402585310085, u'yummi'),\n",
       " (3448, 0.021603968342493902, u'zesti'),\n",
       " (3452, 0.01472848887630978, u'zucchini pie')]"
      ]
     },
     "execution_count": 22,
     "metadata": {},
     "output_type": "execute_result"
    }
   ],
   "source": [
    "#[(index, i, vectorizer.get_feature_names()[index]) for index, i in enumerate(mi) if i>0.01]"
   ]
  },
  {
   "cell_type": "code",
   "execution_count": 23,
   "metadata": {
    "collapsed": false
   },
   "outputs": [],
   "source": [
    "# Returns indices of columns with MI value greater than e.g. 0.01. Can be used for re\n",
    "informative_words = np.array([(index) for index, i in enumerate(mi) if i>0.01])\n",
    "# return word vector array with uninformative words removeds\n",
    "culled_array = a.toarray()[:,informative_words]"
   ]
  },
  {
   "cell_type": "code",
   "execution_count": 44,
   "metadata": {
    "collapsed": false
   },
   "outputs": [
    {
     "data": {
      "text/plain": [
       "(3941, 3453)"
      ]
     },
     "execution_count": 44,
     "metadata": {},
     "output_type": "execute_result"
    }
   ],
   "source": [
    "culled_array.shape"
   ]
  },
  {
   "cell_type": "code",
   "execution_count": 25,
   "metadata": {
    "collapsed": false
   },
   "outputs": [
    {
     "data": {
      "text/plain": [
       "LinearRegression(copy_X=True, fit_intercept=True, n_jobs=1, normalize=False)"
      ]
     },
     "execution_count": 25,
     "metadata": {},
     "output_type": "execute_result"
    }
   ],
   "source": [
    "import matplotlib.pyplot as plt\n",
    "import numpy as np\n",
    "from mpl_toolkits.mplot3d import Axes3D\n",
    "\n",
    "from sklearn import datasets, linear_model\n",
    "\n",
    "\n",
    "X_train = culled_array\n",
    "y_train = recipes[\"cholesterol\"]\n",
    "\n",
    "X_test = a[:200]\n",
    "y_test = recipes[\"cholesterol\"][:200]\n",
    "\n",
    "regr = linear_model.LinearRegression()\n",
    "regr.fit(X_train, y_train)"
   ]
  },
  {
   "cell_type": "code",
   "execution_count": null,
   "metadata": {
    "collapsed": false
   },
   "outputs": [],
   "source": [
    "# Try fitting an elasticnet model!\n",
    "from sklearn.linear_model import ElasticNet\n",
    "from sklearn.metrics import r2_score\n",
    "enet = ElasticNet()\n",
    "enetmodel=enet.fit(culled_array[200:], y_train[200:])\n",
    "y_predicted = enetmodel.predict(culled_array[:200])\n",
    "# Evaluate by comparing predicted cholesterol to actual cholesterol\n",
    "r2_score_enet = r2_score(y_test, y_predicted)\n",
    "r2_score_enet #oh no it's -0.29..."
   ]
  },
  {
   "cell_type": "code",
   "execution_count": 26,
   "metadata": {
    "collapsed": false
   },
   "outputs": [],
   "source": [
    "import cPickle as pkl"
   ]
  },
  {
   "cell_type": "code",
   "execution_count": 27,
   "metadata": {
    "collapsed": false,
    "scrolled": true
   },
   "outputs": [],
   "source": [
    "ground_truth_x =[]\n",
    "ground_truth_y =[]\n",
    "for item in pkl.load(open(\"groundtruth.pkl\", \"rb\")):\n",
    "    ground_truth_x.append(item[\"item_name\"])\n",
    "    ground_truth_y.append(item[\"nf_cholesterol\"])"
   ]
  },
  {
   "cell_type": "code",
   "execution_count": 28,
   "metadata": {
    "collapsed": true
   },
   "outputs": [],
   "source": [
    "tokenized_names_ground_truth = [tokenize_and_stem(i) for i in (ground_truth_x)]"
   ]
  },
  {
   "cell_type": "code",
   "execution_count": 29,
   "metadata": {
    "collapsed": false
   },
   "outputs": [],
   "source": [
    "# Puts words from new ground truth set into matrix from training set\n",
    "ground_truth_vectorized = vectorizer.transform(tokenized_names_ground_truth)"
   ]
  },
  {
   "cell_type": "code",
   "execution_count": 30,
   "metadata": {
    "collapsed": false,
    "scrolled": true
   },
   "outputs": [
    {
     "ename": "NameError",
     "evalue": "name 'enetmodel' is not defined",
     "output_type": "error",
     "traceback": [
      "\u001b[1;31m---------------------------------------------------------------------------\u001b[0m",
      "\u001b[1;31mNameError\u001b[0m                                 Traceback (most recent call last)",
      "\u001b[1;32m<ipython-input-30-7d588cf165b3>\u001b[0m in \u001b[0;36m<module>\u001b[1;34m()\u001b[0m\n\u001b[0;32m      1\u001b[0m \u001b[0mground_truth_vectorized_culled_array\u001b[0m \u001b[1;33m=\u001b[0m \u001b[0mground_truth_vectorized\u001b[0m\u001b[1;33m.\u001b[0m\u001b[0mtoarray\u001b[0m\u001b[1;33m(\u001b[0m\u001b[1;33m)\u001b[0m\u001b[1;33m[\u001b[0m\u001b[1;33m:\u001b[0m\u001b[1;33m,\u001b[0m\u001b[0minformative_words\u001b[0m\u001b[1;33m]\u001b[0m\u001b[1;33m\u001b[0m\u001b[0m\n\u001b[1;32m----> 2\u001b[1;33m \u001b[0my_predicted\u001b[0m \u001b[1;33m=\u001b[0m \u001b[0menetmodel\u001b[0m\u001b[1;33m.\u001b[0m\u001b[0mpredict\u001b[0m\u001b[1;33m(\u001b[0m\u001b[0mground_truth_vectorized_culled_array\u001b[0m\u001b[1;33m)\u001b[0m\u001b[1;33m\u001b[0m\u001b[0m\n\u001b[0m\u001b[0;32m      3\u001b[0m \u001b[0mr2_score_enet\u001b[0m \u001b[1;33m=\u001b[0m \u001b[0mr2_score\u001b[0m\u001b[1;33m(\u001b[0m\u001b[0mground_truth_y\u001b[0m\u001b[1;33m,\u001b[0m \u001b[0my_predicted\u001b[0m\u001b[1;33m)\u001b[0m\u001b[1;33m\u001b[0m\u001b[0m\n\u001b[0;32m      4\u001b[0m \u001b[0mr2_score_enet\u001b[0m \u001b[1;31m#oh no it's still bad...\u001b[0m\u001b[1;33m\u001b[0m\u001b[0m\n",
      "\u001b[1;31mNameError\u001b[0m: name 'enetmodel' is not defined"
     ]
    }
   ],
   "source": [
    "ground_truth_vectorized_culled_array = ground_truth_vectorized.toarray()[:,informative_words]\n",
    "y_predicted = enetmodel.predict(ground_truth_vectorized_culled_array)\n",
    "r2_score_enet = r2_score(ground_truth_y, y_predicted)\n",
    "r2_score_enet #oh no it's still bad..."
   ]
  },
  {
   "cell_type": "code",
   "execution_count": null,
   "metadata": {
    "collapsed": false
   },
   "outputs": [],
   "source": [
    "x,y = pd.Series(ground_truth_y, name=\"x_var\"), pd.Series(y_predicted, name=\"y_var\")\n",
    "ax = sns.regplot(x=x, y=y)"
   ]
  },
  {
   "cell_type": "markdown",
   "metadata": {},
   "source": [
    "## So, the elasticnet model (a linear regression) has poor predictive power at default parameters. Can we optimize the parameters?"
   ]
  },
  {
   "cell_type": "code",
   "execution_count": 42,
   "metadata": {
    "collapsed": false
   },
   "outputs": [],
   "source": [
    "%matplotlib inline\n",
    "# Compute paths\n",
    "from sklearn.linear_model import ElasticNetCV\n",
    "import time, copy\n",
    "from sklearn.metrics import r2_score\n",
    "\n",
    "def enetcv(culled_array, y_train, ground_truth_vectorized_culled_array, ground_truth_y):\n",
    "    #culledarrayecv = np.sqrt(np.sum(culledarrayecv ** 2, axis=0)) / culledarrayecv\n",
    "    model = ElasticNetCV(cv=100).fit(culled_array, y_train)\n",
    "    m_log_alphas = -np.log10(model.alphas_)\n",
    "    y_predicted_cv = model.predict(ground_truth_vectorized_culled_array)\n",
    "    x,y = pd.Series(ground_truth_y, name=\"actual cholesterol\"), pd.Series(y_predicted_cv, name=\"predicted cholesterol\")\n",
    "    ax = sns.regplot(x=x, y=y)\n",
    "    return r2_score(ground_truth_y, y_predicted_cv) "
   ]
  },
  {
   "cell_type": "code",
   "execution_count": 45,
   "metadata": {
    "collapsed": false
   },
   "outputs": [
    {
     "data": {
      "text/plain": [
       "0.13064617575639881"
      ]
     },
     "execution_count": 45,
     "metadata": {},
     "output_type": "execute_result"
    },
    {
     "data": {
      "image/png": "[encoded data removed]",
      "text/plain": [
       "<matplotlib.figure.Figure at 0x7f8823688150>"
      ]
     },
     "metadata": {},
     "output_type": "display_data"
    }
   ],
   "source": [
    "enetcv(a, y_train, ground_truth_vectorized, ground_truth_y)"
   ]
  },
  {
   "cell_type": "code",
   "execution_count": 46,
   "metadata": {
    "collapsed": false
   },
   "outputs": [
    {
     "data": {
      "image/png": "[encoded data removed]",
      "text/plain": [
       "<matplotlib.figure.Figure at 0x7f882388b850>"
      ]
     },
     "metadata": {},
     "output_type": "display_data"
    }
   ],
   "source": [
    "ax = sns.regplot(x=x, y=y)\n"
   ]
  },
  {
   "cell_type": "markdown",
   "metadata": {},
   "source": [
    "## woohoo with an optimized elasticnet model, there's a 0.13705 Rsq"
   ]
  },
  {
   "cell_type": "code",
   "execution_count": null,
   "metadata": {
    "collapsed": false
   },
   "outputs": [],
   "source": [
    "plt.figure()\n",
    "ymin, ymax = 2300, 3800\n",
    "plt.plot(m_log_alphas, model.mse_path_, ':')\n",
    "plt.plot(m_log_alphas, model.mse_path_.mean(axis=-1), 'k',\n",
    "         label='Average across the folds', linewidth=2)\n",
    "plt.axvline(-np.log10(model.alpha_), linestyle='--', color='k',\n",
    "            label='alpha: CV estimate')\n",
    "\n",
    "plt.legend()\n",
    "\n",
    "plt.xlabel('-log(alpha)')\n",
    "plt.ylabel('Mean square error')\n",
    "plt.title('Mean square error on each fold: coordinate descent '\n",
    "          '(train time: %.2fs)' % t_lasso_cv)\n",
    "plt.axis('tight')\n",
    "plt.ylim(ymin, ymax)"
   ]
  },
  {
   "cell_type": "markdown",
   "metadata": {},
   "source": [
    "### How about if I try to add position-weights to words?"
   ]
  },
  {
   "cell_type": "code",
   "execution_count": null,
   "metadata": {
    "collapsed": false
   },
   "outputs": [],
   "source": [
    "def tokenize_and_stem_with_position_weights(title):\n",
    "    stemmer = SnowballStemmer(\"english\")\n",
    "    stemmed_titles = []\n",
    "    new_title=[]\n",
    "    for index, word in enumerate(nltk.word_tokenize(title)):\n",
    "        rindex = abs(index - len(nltk.word_tokenize(title)))\n",
    "        new_title.append(str(stemmer.stem(word).encode(\"utf-8\") + str(rindex)))\n",
    "    stemmed_titles.extend(new_title)    \n",
    "    return \" \".join([i for i in stemmed_titles])"
   ]
  },
  {
   "cell_type": "code",
   "execution_count": null,
   "metadata": {
    "collapsed": false
   },
   "outputs": [],
   "source": [
    "tokenized_names_pos = [tokenize_and_stem_with_position_weights(i) for i in (recipes[\"name\"])]"
   ]
  },
  {
   "cell_type": "code",
   "execution_count": null,
   "metadata": {
    "collapsed": false
   },
   "outputs": [],
   "source": [
    "vectorizer = CountVectorizer(ngram_range=(1,3), min_df=0.0003)\n",
    "a = vectorizer.fit_transform(tokenized_names_pos)\n",
    "mi = mutual_info_regression(a, recipes[\"cholesterol\"])\n",
    "mi /= np.max(mi)"
   ]
  },
  {
   "cell_type": "code",
   "execution_count": null,
   "metadata": {
    "collapsed": false
   },
   "outputs": [],
   "source": [
    "# Returns indices of columns with MI value greater than e.g. 0.01. Can be used for re\n",
    "informative_words = np.array([(index) for index, i in enumerate(mi) if i>0.01])\n",
    "# return word vector array with uninformative words removeds\n",
    "culled_array = a.toarray()[:,informative_words]\n",
    "\n",
    "X_train = culled_array\n",
    "y_train = recipes[\"cholesterol\"]\n",
    "\n",
    "X_test = culled_array[:200]\n",
    "y_test = recipes[\"cholesterol\"][:200]\n",
    "\n",
    "# Try fitting an elasticnet model!\n",
    "from sklearn.linear_model import ElasticNet\n",
    "from sklearn.metrics import r2_score\n",
    "enet = ElasticNet()\n",
    "enetmodel=enet.fit(culled_array, y_train)\n",
    "y_predicted = enetmodel.predict(X_test)\n",
    "# Evaluate by comparing predicted cholesterol to actual cholesterol\n",
    "r2_score_enet = r2_score(y_test, y_predicted)\n",
    "r2_score_enet #oh no it's -0.29...\n",
    "print(r2_score_enet)\n",
    "\n",
    "# Validate against ground_truth\n",
    "tokenized_names_ground_truth = [tokenize_and_stem_with_position_weights(i) for i in (ground_truth_x)]\n",
    "ground_truth_vectorized = vectorizer.transform(tokenized_names_ground_truth)\n",
    "ground_truth_vectorized_culled_array = ground_truth_vectorized.toarray()[:,informative_words]\n",
    "y_predicted = enetmodel.predict(ground_truth_vectorized_culled_array)\n",
    "r2_score_enet = r2_score(ground_truth_y, y_predicted)\n",
    "r2_score_enet #oh no it's still bad...\n",
    "print(r2_score_enet)\n",
    "\n",
    "#Try optimizing ENet (validated across ground truth)\n",
    "model = ElasticNetCV(cv=20).fit(culled_array, y_train)\n",
    "m_log_alphas = -np.log10(model.alphas_)\n",
    "y_predicted_cv = model.predict(ground_truth_vectorized_culled_array)\n",
    "r2_score_enet = r2_score(ground_truth_y, y_predicted_cv)\n",
    "print(r2_score_enet) #0.056..."
   ]
  },
  {
   "cell_type": "code",
   "execution_count": null,
   "metadata": {
    "collapsed": true
   },
   "outputs": [],
   "source": [
    "### Hmm. The ElasticNet CV optimization still maxes out at 0.056"
   ]
  },
  {
   "cell_type": "markdown",
   "metadata": {},
   "source": [
    "## Try Ridge Regression"
   ]
  },
  {
   "cell_type": "code",
   "execution_count": null,
   "metadata": {
    "collapsed": false
   },
   "outputs": [],
   "source": [
    "from sklearn import linear_model\n",
    "reg = linear_model.Ridge(alpha = .5)\n",
    "rrfit = reg.fit(culled_array, recipes[\"cholesterol\"]) "
   ]
  },
  {
   "cell_type": "code",
   "execution_count": null,
   "metadata": {
    "collapsed": false
   },
   "outputs": [],
   "source": [
    "y_predicted = rrfit.predict(ground_truth_vectorized_culled_array)\n",
    "# Evaluate by comparing predicted cholesterol to actual cholesterol\n",
    "r2_score_rrfit = r2_score(ground_truth_y, y_predicted)\n",
    "print(r2_score_rrfit) # -0.009 - not great still "
   ]
  },
  {
   "cell_type": "code",
   "execution_count": null,
   "metadata": {
    "collapsed": true
   },
   "outputs": [],
   "source": [
    "ground_truth_y"
   ]
  },
  {
   "cell_type": "code",
   "execution_count": null,
   "metadata": {
    "collapsed": false
   },
   "outputs": [],
   "source": [
    "model = linear_model.RidgeCV(cv=100).fit(culled_array, recipes[\"cholesterol\"])\n",
    "m_log_alphas = -np.log10(model.alpha_)\n",
    "y_predicted_cv = model.predict(ground_truth_vectorized_culled_array)\n",
    "r2_score_rrfitcv = r2_score(ground_truth_y, y_predicted_cv)\n",
    "print(r2_score_rrfitcv) #0.056... or 0.119 with 100cv"
   ]
  }
 ],
 "metadata": {
  "kernelspec": {
   "display_name": "Python [insight]",
   "language": "python",
   "name": "Python [insight]"
  },
  "language_info": {
   "codemirror_mode": {
    "name": "ipython",
    "version": 2
   },
   "file_extension": ".py",
   "mimetype": "text/x-python",
   "name": "python",
   "nbconvert_exporter": "python",
   "pygments_lexer": "ipython2",
   "version": "2.7.12"
  }
 },
 "nbformat": 4,
 "nbformat_minor": 0
}
