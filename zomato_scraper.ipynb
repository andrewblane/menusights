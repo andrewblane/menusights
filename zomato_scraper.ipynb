{
 "cells": [
  {
   "cell_type": "code",
   "execution_count": 1,
   "metadata": {
    "collapsed": false
   },
   "outputs": [],
   "source": [
    "import requests\n",
    "import json\n",
    "import urllib2, time, random, re\n",
    "from bs4 import BeautifulSoup\n",
    "import pandas as pd\n",
    "import numpy as np\n",
    "import sqlalchemy"
   ]
  },
  {
   "cell_type": "code",
   "execution_count": 2,
   "metadata": {
    "collapsed": true
   },
   "outputs": [],
   "source": [
    "zomato_key = \"a1cbf1820d81838fed9b0a0b92e0843b\""
   ]
  },
  {
   "cell_type": "code",
   "execution_count": null,
   "metadata": {
    "collapsed": false
   },
   "outputs": [],
   "source": [
    "zomparams = {\n",
    "        \"entity_id\": 94741,\n",
    "        \"entity_type\": \"zone\",\n",
    "        \"cuisines\": 55\n",
    "}"
   ]
  },
  {
   "cell_type": "code",
   "execution_count": null,
   "metadata": {
    "collapsed": true
   },
   "outputs": [],
   "source": [
    "headers = {\"user-key\":zomato_key,\n",
    "          \"Accept\": \"application/json\"}"
   ]
  },
  {
   "cell_type": "code",
   "execution_count": null,
   "metadata": {
    "collapsed": false
   },
   "outputs": [],
   "source": [
    "results = json.load(open(\"./menuscraper/testjson.json\", \"r\"))"
   ]
  },
  {
   "cell_type": "code",
   "execution_count": null,
   "metadata": {
    "collapsed": true
   },
   "outputs": [],
   "source": [
    "menuurls = []\n",
    "for item in results[\"restaurants\"]:\n",
    "    try:\n",
    "        print item[\"restaurant\"][\"menu_url\"]\n",
    "        menuurls.append(item[\"restaurant\"][\"menu_url\"])\n",
    "    except:\n",
    "        print \"No menu\""
   ]
  },
  {
   "cell_type": "code",
   "execution_count": null,
   "metadata": {
    "collapsed": true
   },
   "outputs": [],
   "source": [
    "hdr = {'User-Agent': 'Mozilla/5.0 (X11; Linux x86_64) AppleWebKit/537.11 (KHTML, like Gecko) Chrome/23.0.1271.64 Safari/537.11',\n",
    "           'Accept': 'text/html,application/xhtml+xml,application/xml;q=0.9,*/*;q=0.8',\n",
    "           'Accept-Charset': 'ISO-8859-1,utf-8;q=0.7,*;q=0.3',\n",
    "           'Accept-Encoding': 'none',\n",
    "           'Accept-Language': 'en-US,en;q=0.8','Connection': 'keep-alive'}\n"
   ]
  },
  {
   "cell_type": "code",
   "execution_count": null,
   "metadata": {
    "collapsed": false
   },
   "outputs": [],
   "source": [
    "#Parse menu items from a scraped menu URL\n",
    "\n",
    "menu_items = []\n",
    "for url in list(set(menus))[:100]:\n",
    "    try:\n",
    "        soup = BeautifulSoup(urllib2.urlopen(urllib2.Request(url, headers=hdr)).read())\n",
    "        url_list = []\n",
    "        for post in soup.find_all(\"div\", class_=\"tmi-name ft16 mt10 mb5\"):\n",
    "            menu_items.append(str(post).split(\"\\n\")[1].lstrip())\n",
    "    except:\n",
    "        print url\n",
    "        #     if(\"Answered by\" in post.find(\"span\",class_=\"dq_topic_author\").text):\n",
    "        #         url_list.append(post.find(\"a\")['href'])"
   ]
  },
  {
   "cell_type": "code",
   "execution_count": null,
   "metadata": {
    "collapsed": false
   },
   "outputs": [],
   "source": [
    "len(menu_items)"
   ]
  },
  {
   "cell_type": "code",
   "execution_count": null,
   "metadata": {
    "collapsed": true
   },
   "outputs": [],
   "source": [
    "def parse_json_for_menus(jsonfile):\n",
    "    menuurls = []\n",
    "    results = json.load(open(jsonfile, \"r\"))\n",
    "    for item in results[\"restaurants\"]:\n",
    "        try:\n",
    "            print item[\"restaurant\"][\"menu_url\"]\n",
    "            menuurls.append(item[\"restaurant\"][\"menu_url\"])\n",
    "        except:\n",
    "            print \"No menu\"\n",
    "    return menuurls\n"
   ]
  },
  {
   "cell_type": "code",
   "execution_count": null,
   "metadata": {
    "collapsed": true
   },
   "outputs": [],
   "source": [
    "jsonfile = \"./menuscraper/san_francisco.json\""
   ]
  },
  {
   "cell_type": "code",
   "execution_count": null,
   "metadata": {
    "collapsed": false
   },
   "outputs": [],
   "source": [
    "sf = parse_json_for_menus(jsonfile)"
   ]
  },
  {
   "cell_type": "code",
   "execution_count": null,
   "metadata": {
    "collapsed": false
   },
   "outputs": [],
   "source": [
    "len(sf)"
   ]
  },
  {
   "cell_type": "markdown",
   "metadata": {},
   "source": [
    "```san francisco center: (37.774929, -122.419416)\n",
    "topright: (37.802501, -122.401772)\n",
    "bottomright: (37.738182, -122.377739)\n",
    "bottomleft:(37.733566, -122.506142)\n",
    "topleft: (37.779168, -122.511978)```"
   ]
  },
  {
   "cell_type": "code",
   "execution_count": null,
   "metadata": {
    "collapsed": true
   },
   "outputs": [],
   "source": [
    "topleft = [37.78, -122.51]\n",
    "bottomright = [37.74, -122.38]"
   ]
  },
  {
   "cell_type": "code",
   "execution_count": 3,
   "metadata": {
    "collapsed": false
   },
   "outputs": [],
   "source": [
    "import urllib\n",
    "import urllib2\n",
    "def grid_hack(coords):\n",
    "    url = 'https://developers.zomato.com/api/v2.1/search'\n",
    "\n",
    "    values = {\n",
    "        'lat': coords[0],\n",
    "        'lon': coords[1],\n",
    "        'radius': 5000\n",
    "    }\n",
    "\n",
    "    data = urllib.urlencode(values)\n",
    "    urlstr = url + \"?\" + data\n",
    "    req = urllib2.Request(urlstr)\n",
    "    req.add_header(\"Accept\", \"application/json\")\n",
    "    req.add_header(\"user-key\", \"a1cbf1820d81838fed9b0a0b92e0843b\")\n",
    "    response = urllib2.urlopen(req)\n",
    "    output = response.read()\n",
    "    return output"
   ]
  },
  {
   "cell_type": "code",
   "execution_count": 4,
   "metadata": {
    "collapsed": false
   },
   "outputs": [
    {
     "ename": "NameError",
     "evalue": "name 'req' is not defined",
     "output_type": "error",
     "traceback": [
      "\u001b[1;31m---------------------------------------------------------------------------\u001b[0m",
      "\u001b[1;31mNameError\u001b[0m                                 Traceback (most recent call last)",
      "\u001b[1;32m<ipython-input-4-35f1d9704d1c>\u001b[0m in \u001b[0;36m<module>\u001b[1;34m()\u001b[0m\n\u001b[1;32m----> 1\u001b[1;33m \u001b[0mreq\u001b[0m\u001b[1;33m.\u001b[0m\u001b[0mget_method\u001b[0m\u001b[1;33m(\u001b[0m\u001b[1;33m)\u001b[0m\u001b[1;33m\u001b[0m\u001b[0m\n\u001b[0m",
      "\u001b[1;31mNameError\u001b[0m: name 'req' is not defined"
     ]
    }
   ],
   "source": [
    "req.get_method()"
   ]
  },
  {
   "cell_type": "code",
   "execution_count": null,
   "metadata": {
    "collapsed": false
   },
   "outputs": [],
   "source": [
    "def coords_across_grid():\n",
    "    nx, ny = (30,30)\n",
    "    x = np.linspace(37.78, 37.74, nx)\n",
    "    y = np.linspace(-122.51,-122.38, ny)\n",
    "    xv,yv=np.meshgrid(x,y)\n",
    "\n",
    "    xlist=[]\n",
    "    for item in xv:\n",
    "        for subitem in item:\n",
    "            xlist.append(subitem)\n",
    "\n",
    "    ylist = []\n",
    "    for item in yv:\n",
    "        for subitem in item:\n",
    "            ylist.append(subitem)\n",
    "\n",
    "    coords = zip(xlist, ylist)\n",
    "    return coords"
   ]
  },
  {
   "cell_type": "code",
   "execution_count": null,
   "metadata": {
    "collapsed": false
   },
   "outputs": [],
   "source": [
    "coords = coords_across_grid"
   ]
  },
  {
   "cell_type": "code",
   "execution_count": null,
   "metadata": {
    "collapsed": false,
    "scrolled": true
   },
   "outputs": [],
   "source": [
    "def get_restaurants_by_geo(coords):\n",
    "    for index, item in enumerate(coords[2:]):\n",
    "        out = grid_hack(item)\n",
    "        with open(str(\"output/\" + str(index) + \".json\"), \"w\") as f:\n",
    "            f.write(out)"
   ]
  },
  {
   "cell_type": "code",
   "execution_count": null,
   "metadata": {
    "collapsed": true
   },
   "outputs": [],
   "source": [
    "get_restaurants_by_geo(coords)"
   ]
  },
  {
   "cell_type": "markdown",
   "metadata": {},
   "source": [
    "**Start running from here"
   ]
  },
  {
   "cell_type": "code",
   "execution_count": null,
   "metadata": {
    "collapsed": true
   },
   "outputs": [],
   "source": [
    "import os\n",
    "import json"
   ]
  },
  {
   "cell_type": "markdown",
   "metadata": {},
   "source": [
    "Read from extracted jsons"
   ]
  },
  {
   "cell_type": "code",
   "execution_count": null,
   "metadata": {
    "collapsed": false
   },
   "outputs": [],
   "source": [
    "names = []\n",
    "for filename in os.listdir(\"./output\"):\n",
    "    with open(str(\"./output/\" + filename), \"r\") as file:\n",
    "        dictout = json.load(file)\n",
    "        for item in dictout[\"restaurants\"]:\n",
    "            names.append(item[\"restaurant\"][\"name\"])"
   ]
  },
  {
   "cell_type": "code",
   "execution_count": null,
   "metadata": {
    "collapsed": true
   },
   "outputs": [],
   "source": []
  },
  {
   "cell_type": "code",
   "execution_count": null,
   "metadata": {
    "collapsed": false
   },
   "outputs": [],
   "source": [
    "len(names)"
   ]
  },
  {
   "cell_type": "code",
   "execution_count": null,
   "metadata": {
    "collapsed": false
   },
   "outputs": [],
   "source": [
    "item[\"restaurant\"][\"menu_url\"]"
   ]
  },
  {
   "cell_type": "code",
   "execution_count": null,
   "metadata": {
    "collapsed": false
   },
   "outputs": [],
   "source": [
    "def extract_menu_urls_from_json(directory = \"./output\"):\n",
    "    menus = []\n",
    "    for filename in os.listdir(directory):\n",
    "        with open(str(\"./output/\" + filename), \"r\") as file:\n",
    "            dictout = json.load(file)\n",
    "            for item in dictout[\"restaurants\"]:\n",
    "                menus.append(item[\"restaurant\"][\"menu_url\"])\n",
    "    return menus"
   ]
  },
  {
   "cell_type": "code",
   "execution_count": null,
   "metadata": {
    "collapsed": true
   },
   "outputs": [],
   "source": [
    "menus = extract_menu_urls_from_json()"
   ]
  },
  {
   "cell_type": "code",
   "execution_count": null,
   "metadata": {
    "collapsed": false,
    "scrolled": true
   },
   "outputs": [],
   "source": [
    "len(set(menus))"
   ]
  },
  {
   "cell_type": "code",
   "execution_count": null,
   "metadata": {
    "collapsed": false,
    "scrolled": true
   },
   "outputs": [],
   "source": [
    "# hdr = {'User-Agent': 'Mozilla/5.0 (X11; Linux x86_64) AppleWebKit/537.11 (KHTML, like Gecko) Chrome/23.0.1271.64 Safari/537.11',\n",
    "#            'Accept': 'text/html,application/xhtml+xml,application/xml;q=0.9,*/*;q=0.8',\n",
    "#            'Accept-Charset': 'ISO-8859-1,utf-8;q=0.7,*;q=0.3',\n",
    "#            'Accept-Encoding': 'none',\n",
    "#            'Accept-Language': 'en-US,en;q=0.8','Connection': 'keep-alive'}\n",
    "\n",
    "# menu_items = []\n",
    "# for url in list(set(menus)):\n",
    "#     try:\n",
    "#         soup = BeautifulSoup(urllib2.urlopen(urllib2.Request(url, headers=hdr)).read())\n",
    "#         url_list = []\n",
    "#         for post in soup.find_all(\"div\", class_=\"tmi-name ft16 mt10 mb5\"):\n",
    "#             menu_items.append(str(post).split(\"\\n\")[1].lstrip())\n",
    "#     except:\n",
    "#         print url"
   ]
  },
  {
   "cell_type": "code",
   "execution_count": 5,
   "metadata": {
    "collapsed": true
   },
   "outputs": [],
   "source": [
    "from sqlalchemy import create_engine, Column, Integer, String, Float, ForeignKey\n",
    "from sqlalchemy.ext.declarative import declarative_base\n",
    "from sqlalchemy.orm import relationship, sessionmaker"
   ]
  },
  {
   "cell_type": "code",
   "execution_count": 6,
   "metadata": {
    "collapsed": true
   },
   "outputs": [],
   "source": [
    "def flatten_db(dictout):\n",
    "    for index, item in enumerate(dictout[\"restaurants\"]):\n",
    "        for key, value in item[\"restaurant\"].iteritems():\n",
    "            if type(value) == dict:\n",
    "                testme = (key,value)\n",
    "                dictout[\"restaurants\"][index][\"restaurant\"][str(key)] = json.dumps(value)\n",
    "    return dictout"
   ]
  },
  {
   "cell_type": "markdown",
   "metadata": {},
   "source": [
    "Now that we've got the jsons, first: parse jsons and flatten."
   ]
  },
  {
   "cell_type": "code",
   "execution_count": null,
   "metadata": {
    "collapsed": true
   },
   "outputs": [],
   "source": [
    "flatdictout = []\n",
    "for filename in os.listdir(\"./output\"):\n",
    "    dictout=[]\n",
    "    with open(str(\"./output/\" + filename), \"r\") as file:\n",
    "        dictout.append(flatten_db(json.load(file)))\n",
    "    for item in dictout:\n",
    "        flatdictout.extend(item[\"restaurants\"])\n",
    "#pd.DataFrame.from_dict([item[\"restaurant\"] for item in flatdictout]).to_sql('restaurants', engine, if_exists='replace')"
   ]
  },
  {
   "cell_type": "code",
   "execution_count": null,
   "metadata": {
    "collapsed": false
   },
   "outputs": [],
   "source": [
    "testitem = flatdictout[0]"
   ]
  },
  {
   "cell_type": "code",
   "execution_count": null,
   "metadata": {
    "collapsed": false
   },
   "outputs": [],
   "source": [
    "testitem"
   ]
  },
  {
   "cell_type": "code",
   "execution_count": null,
   "metadata": {
    "collapsed": false
   },
   "outputs": [],
   "source": [
    "testitem[\"restaurant\"][\"R\"]"
   ]
  },
  {
   "cell_type": "markdown",
   "metadata": {},
   "source": [
    "For each restaurant, grab its menu and make a separate object for that. Also grab descriptions of menu items (and categories?)"
   ]
  },
  {
   "cell_type": "code",
   "execution_count": 7,
   "metadata": {
    "collapsed": false
   },
   "outputs": [
    {
     "name": "stdout",
     "output_type": "stream",
     "text": [
      "postgres://andylane@localhost/restaurants\n"
     ]
    }
   ],
   "source": [
    "dbname = 'restaurants'\n",
    "username = 'andylane'\n",
    "engine = create_engine('postgres://%s@localhost/%s'%(username,dbname))\n",
    "print(engine.url)"
   ]
  },
  {
   "cell_type": "code",
   "execution_count": 8,
   "metadata": {
    "collapsed": true
   },
   "outputs": [],
   "source": [
    "Base = declarative_base()"
   ]
  },
  {
   "cell_type": "code",
   "execution_count": 9,
   "metadata": {
    "collapsed": false
   },
   "outputs": [],
   "source": [
    "class Restaurant(Base):\n",
    "    __tablename__ = 'restaurants'\n",
    "    id = Column(Integer, primary_key=True)\n",
    "    name = Column(String)\n",
    "    url = Column(String)\n",
    "    zomatoID = Column(Integer, unique=True)\n",
    "    costfortwo = Column(Float)\n",
    "    featured_image = Column(String)\n",
    "    photos = Column(String)\n",
    "    menu_url = Column(String)\n",
    "    price_range = Column(Integer)\n",
    "    latitude = Column(Float)\n",
    "    longitude = Column(Float)\n",
    "    address = Column(String)\n",
    "    \n",
    "    def __repr__(self):\n",
    "        return \"<Restaurant(name='%s', url='%s')>\" % (\n",
    "            self.name, self.url)"
   ]
  },
  {
   "cell_type": "code",
   "execution_count": 10,
   "metadata": {
    "collapsed": false
   },
   "outputs": [],
   "source": [
    "class MenuItem(Base):\n",
    "    __tablename__ = 'menuitems'\n",
    "    id = Column(Integer, primary_key=True)\n",
    "    menuitem = Column(String, nullable = False)\n",
    "    description = Column(String)\n",
    "    restaurant_id = Column(Integer, ForeignKey('restaurants.id'))\n",
    "    price = Column(String)\n",
    "    \n",
    "    restaurant = relationship(Restaurant, back_populates = 'menuitems')\n",
    "    __table_args__ = {'extend_existing': True}\n",
    "    def __repr__(self):\n",
    "        return \"<Restaurant(name='%s', url='%s')>\" % (\n",
    "            self.name, self.url)"
   ]
  },
  {
   "cell_type": "code",
   "execution_count": 11,
   "metadata": {
    "collapsed": false
   },
   "outputs": [],
   "source": [
    "Restaurant.menuitems = relationship(\"MenuItem\", order_by=MenuItem.id, back_populates=\"restaurant\")"
   ]
  },
  {
   "cell_type": "code",
   "execution_count": 12,
   "metadata": {
    "collapsed": false
   },
   "outputs": [],
   "source": [
    "Base.metadata.create_all(engine)"
   ]
  },
  {
   "cell_type": "code",
   "execution_count": null,
   "metadata": {
    "collapsed": false
   },
   "outputs": [],
   "source": [
    "restaurantitem = testitem[\"restaurant\"]"
   ]
  },
  {
   "cell_type": "code",
   "execution_count": null,
   "metadata": {
    "collapsed": true
   },
   "outputs": [],
   "source": [
    "superjsondict = flatdictout"
   ]
  },
  {
   "cell_type": "code",
   "execution_count": 28,
   "metadata": {
    "collapsed": true
   },
   "outputs": [],
   "source": [
    "Session = sessionmaker(bind=engine)\n",
    "session = Session()"
   ]
  },
  {
   "cell_type": "code",
   "execution_count": 13,
   "metadata": {
    "collapsed": false
   },
   "outputs": [],
   "source": [
    "import unicodedata"
   ]
  },
  {
   "cell_type": "code",
   "execution_count": null,
   "metadata": {
    "collapsed": false
   },
   "outputs": [],
   "source": [
    "unicodedata.normalize('NFD', restaurant[\"menu_url\"]).encode(\"ascii\", \"ignore\")"
   ]
  },
  {
   "cell_type": "code",
   "execution_count": null,
   "metadata": {
    "collapsed": false,
    "scrolled": true
   },
   "outputs": [],
   "source": [
    "hdr = {'User-Agent': 'Mozilla/5.0 (X11; Linux x86_64) AppleWebKit/537.11 (KHTML, like Gecko) Chrome/23.0.1271.64 Safari/537.11',\n",
    "           'Accept': 'text/html,application/xhtml+xml,application/xml;q=0.9,*/*;q=0.8',\n",
    "           'Accept-Charset': 'ISO-8859-1,utf-8;q=0.7,*;q=0.3',\n",
    "           'Accept-Encoding': 'none',\n",
    "           'Accept-Language': 'en-US,en;q=0.8','Connection': 'keep-alive'}\n",
    "failedurls = []\n",
    "menu_items = []\n",
    "for individual_restaurant in superjsondict:\n",
    "    restaurant = individual_restaurant[\"restaurant\"]\n",
    "    menu_url = unicodedata.normalize('NFD', restaurant[\"menu_url\"]).encode(\"ascii\", \"ignore\")\n",
    "    \n",
    "    #Get the menu items\n",
    "    menu_page = BeautifulSoup(urllib2.urlopen(urllib2.Request(menu_url,\"lxml\",headers=hdr,)).read())\n",
    "    menu = []\n",
    "    for menu_item in menu_page.find_all(\"div\", class_=\"tmi-name\"):\n",
    "        menuitem_p ={}\n",
    "        menuitem_p['name'] = menu_item.contents[0].strip()\n",
    "        try:\n",
    "            menuitem_p['description'] = menu_item.find_all(\"div\", class_=\"tmi-desc-text\")[0].contents[0].strip()\n",
    "        except:\n",
    "            menuitem_p['description'] = \"\"\n",
    "        try:\n",
    "            menuitem_p['price'] = menu_item.find_all(\"div\", class_=\"tmi-price-txt\")[0].contents[0].strip()\n",
    "        except:\n",
    "            menuitem_p['price'] = \"\"\n",
    "        menu.append(menuitem_p)\n",
    "\n",
    "    \n",
    "    try:\n",
    "        session.add(Restaurant(\n",
    "            name=restaurant[\"name\"], \n",
    "            url = restaurant[\"url\"],\n",
    "            zomatoID = restaurant[\"id\"],\n",
    "            costfortwo = restaurant[\"average_cost_for_two\"],\n",
    "            featured_image = restaurant[\"featured_image\"],\n",
    "            photos = restaurant[\"photos_url\"],\n",
    "            menu_url = restaurant[\"menu_url\"],\n",
    "            price_range = restaurant[\"price_range\"],\n",
    "            latitude = json.loads(restaurant[\"location\"])[\"latitude\"],\n",
    "            longitude = json.loads(restaurant[\"location\"])[\"longitude\"],\n",
    "            address = restaurant[\"location\"],\n",
    "\n",
    "            menuitems=[MenuItem(menuitem = item[\"name\"], \n",
    "                                description = item[\"description\"], \n",
    "                                price=item[\"price\"]) for item in menu]\n",
    "                           ))\n",
    "\n",
    "\n",
    "        try:\n",
    "            session.commit()\n",
    "        except (sqlalchemy.exc.DataError, sqlalchemy.exc.IntegrityError, sqlalchemy.exc.InvalidRequestError):\n",
    "            print(\"Sanitize your data, man\")\n",
    "            session.rollback()\n",
    "            failedurls.append(menu_url)\n",
    "    except (sqlalchemy.exc.IntegrityError, sqlalchemy.exc.InvalidRequestError):\n",
    "        print restaurant[\"url\"]"
   ]
  },
  {
   "cell_type": "code",
   "execution_count": null,
   "metadata": {
    "collapsed": false
   },
   "outputs": [],
   "source": [
    "session.rollback()"
   ]
  },
  {
   "cell_type": "code",
   "execution_count": null,
   "metadata": {
    "collapsed": false
   },
   "outputs": [],
   "source": [
    "restaurant[\"menu_url\"]"
   ]
  },
  {
   "cell_type": "code",
   "execution_count": null,
   "metadata": {
    "collapsed": true
   },
   "outputs": [],
   "source": [
    "menu_items = []"
   ]
  },
  {
   "cell_type": "code",
   "execution_count": null,
   "metadata": {
    "collapsed": false
   },
   "outputs": [],
   "source": [
    "restaurantitem = flatdictout[8][\"restaurant\"]"
   ]
  },
  {
   "cell_type": "code",
   "execution_count": null,
   "metadata": {
    "collapsed": false,
    "scrolled": true
   },
   "outputs": [],
   "source": [
    "restaurantitem[\"menu_url\"]"
   ]
  },
  {
   "cell_type": "code",
   "execution_count": null,
   "metadata": {
    "collapsed": false
   },
   "outputs": [],
   "source": [
    "menu_page = BeautifulSoup(urllib2.urlopen(urllib2.Request(restaurantitem[\"menu_url\"],\"lxml\",headers=hdr,)).read())\n",
    "for menu_item in menu_page.find_all(\"div\", class_=\"tmi-name ft16 mt10 mb5\"):\n",
    "    menu_items.append(str(menu_item).split(\"\\n\")[1].lstrip())\n"
   ]
  },
  {
   "cell_type": "code",
   "execution_count": null,
   "metadata": {
    "collapsed": false
   },
   "outputs": [],
   "source": [
    "menu_page.find_all(\"div\", class_=\"tmi-name\")[0]"
   ]
  },
  {
   "cell_type": "code",
   "execution_count": null,
   "metadata": {
    "collapsed": false
   },
   "outputs": [],
   "source": [
    "list(set(menus))[22]"
   ]
  },
  {
   "cell_type": "code",
   "execution_count": null,
   "metadata": {
    "collapsed": true
   },
   "outputs": [],
   "source": [
    "for item in dictout[\"restaurants\"]:\n",
    "    names.append(item[\"restaurant\"][\"name\"])"
   ]
  },
  {
   "cell_type": "code",
   "execution_count": null,
   "metadata": {
    "collapsed": false,
    "scrolled": true
   },
   "outputs": [],
   "source": [
    "len(set(names))"
   ]
  },
  {
   "cell_type": "code",
   "execution_count": null,
   "metadata": {
    "collapsed": false
   },
   "outputs": [],
   "source": [
    "namesstr = \" \".join(menu_items)"
   ]
  },
  {
   "cell_type": "code",
   "execution_count": 14,
   "metadata": {
    "collapsed": true
   },
   "outputs": [],
   "source": [
    "class Recipe(Base):\n",
    "    __tablename__ = 'recipes'\n",
    "    \n",
    "    id = Column(Integer, primary_key=True)\n",
    "    name = Column(String)\n",
    "    url = Column(String, unique=True)\n",
    "    calories = Column(Integer)\n",
    "    fat = Column(Float)\n",
    "    carbs = Column(Float)\n",
    "    protein = Column(Float)\n",
    "    cholesterol = Column(Float)\n",
    "    sodium = Column(Float)\n",
    "    servings = Column(Integer)\n",
    "    #ingredients = \n",
    "    #__table_args__ = {'extend_existing': True}\n",
    "    \n",
    "    def __repr__(self):\n",
    "        return \"<Recipe(name='%s', url='%s')>\" % (\n",
    "            self.name, self.url)\n",
    "    \n",
    "class Ingredient(Base):\n",
    "    __tablename__ = 'ingredients'\n",
    "    id = Column(Integer, primary_key = True)\n",
    "    ingredient = Column(String, nullable = False)\n",
    "    recipe_id = Column(Integer, ForeignKey('recipes.id'))\n",
    "    \n",
    "    recipe = relationship(Recipe, back_populates = 'ingredients')\n",
    "    #__table_args__ = {'extend_existing': True}\n",
    "    def __repr__(self):\n",
    "        return \"<Ingredient(ingredient='%s')>\" % self.ingredient\n",
    "\n",
    "Recipe.ingredients = relationship(\"Ingredient\", order_by=Ingredient.id, back_populates=\"recipe\")"
   ]
  },
  {
   "cell_type": "code",
   "execution_count": null,
   "metadata": {
    "collapsed": true
   },
   "outputs": [],
   "source": [
    "q = \"Chicken\""
   ]
  },
  {
   "cell_type": "code",
   "execution_count": null,
   "metadata": {
    "collapsed": false,
    "scrolled": true
   },
   "outputs": [],
   "source": [
    "a = engine.execute(\"SELECT name FROM recipes WHERE UPPER(NAME) CONTAINS UPPER('%%Chicken%%')\")"
   ]
  },
  {
   "cell_type": "code",
   "execution_count": null,
   "metadata": {
    "collapsed": true
   },
   "outputs": [],
   "source": [
    "a.fetchall()"
   ]
  },
  {
   "cell_type": "code",
   "execution_count": null,
   "metadata": {
    "collapsed": true
   },
   "outputs": [],
   "source": [
    "dir(session.query(Recipe))"
   ]
  },
  {
   "cell_type": "code",
   "execution_count": null,
   "metadata": {
    "collapsed": true
   },
   "outputs": [],
   "source": [
    "(name=str(q)).all()"
   ]
  },
  {
   "cell_type": "code",
   "execution_count": null,
   "metadata": {
    "collapsed": true
   },
   "outputs": [],
   "source": [
    "session.rollback()"
   ]
  },
  {
   "cell_type": "code",
   "execution_count": null,
   "metadata": {
    "collapsed": true
   },
   "outputs": [],
   "source": [
    "menu_item_name = \"Chicken\""
   ]
  },
  {
   "cell_type": "code",
   "execution_count": null,
   "metadata": {
    "collapsed": false
   },
   "outputs": [],
   "source": [
    "a = engine.execute(\"SELECT name, fat FROM recipes WHERE name LIKE %s\", (str(\"%\" + menu_item_name + \"%\")))"
   ]
  },
  {
   "cell_type": "markdown",
   "metadata": {},
   "source": [
    "\n",
    "\n",
    "DatabaseError: Execution failed on sql '('SELECT name, fat FROM recipes WHERE name LIKE %s', '%Chicken%')': argument 1 must be a string or unicode object\n"
   ]
  },
  {
   "cell_type": "code",
   "execution_count": null,
   "metadata": {
    "collapsed": false
   },
   "outputs": [],
   "source": [
    "query('SELECT * FROM recipes WHERE name LIKE %s', '%Chicken%')"
   ]
  },
  {
   "cell_type": "code",
   "execution_count": 18,
   "metadata": {
    "collapsed": true
   },
   "outputs": [],
   "source": [
    "import psycopg2"
   ]
  },
  {
   "cell_type": "code",
   "execution_count": 19,
   "metadata": {
    "collapsed": false
   },
   "outputs": [],
   "source": [
    "con = None\n",
    "con = psycopg2.connect(database = \"restaurants\", user = \"andylane\")"
   ]
  },
  {
   "cell_type": "code",
   "execution_count": null,
   "metadata": {
    "collapsed": true
   },
   "outputs": [],
   "source": [
    "query = session.query(Recipe).filter(Recipe.name.ilike(\"%chicken cacciatore%\"))"
   ]
  },
  {
   "cell_type": "code",
   "execution_count": null,
   "metadata": {
    "collapsed": false,
    "scrolled": true
   },
   "outputs": [],
   "source": [
    "query = \"SELECT * FROM recipes WHERE name LIKE \\'%s\\'\" % str(\"%\" + menu_item_name + \"%\")\n",
    "print query\n",
    "query_results=pd.read_sql_query(smart_str(query),con)"
   ]
  },
  {
   "cell_type": "code",
   "execution_count": null,
   "metadata": {
    "collapsed": false,
    "scrolled": true
   },
   "outputs": [],
   "source": [
    "query_results"
   ]
  },
  {
   "cell_type": "code",
   "execution_count": null,
   "metadata": {
    "collapsed": false,
    "scrolled": true
   },
   "outputs": [],
   "source": [
    "a.fetchall()"
   ]
  },
  {
   "cell_type": "code",
   "execution_count": null,
   "metadata": {
    "collapsed": false,
    "scrolled": true
   },
   "outputs": [],
   "source": [
    "session.query(Recipe).filter(Recipe.name.ilike(\"%chicken cacciatore%\")).all()"
   ]
  },
  {
   "cell_type": "code",
   "execution_count": null,
   "metadata": {
    "collapsed": false,
    "scrolled": true
   },
   "outputs": [],
   "source": [
    "for item in session.query(Recipe).filter(Recipe.name.ilike(\"%cacciatore%\")):\n",
    "    print item.ingredients"
   ]
  },
  {
   "cell_type": "code",
   "execution_count": null,
   "metadata": {
    "collapsed": true
   },
   "outputs": [],
   "source": []
  },
  {
   "cell_type": "code",
   "execution_count": null,
   "metadata": {
    "collapsed": true
   },
   "outputs": [],
   "source": [
    "session.rollback()"
   ]
  },
  {
   "cell_type": "code",
   "execution_count": null,
   "metadata": {
    "collapsed": false
   },
   "outputs": [],
   "source": [
    "from __future__ import unicode_literals\n",
    "from django.utils.encoding import smart_str, smart_unicode\n",
    "\n",
    "for item in session.query(Recipe).filter(( Recipe.ingredients)).all():\n",
    "    print smart_str(item.ingredients)"
   ]
  },
  {
   "cell_type": "code",
   "execution_count": null,
   "metadata": {
    "collapsed": false
   },
   "outputs": [],
   "source": [
    "from __future__ import unicode_literals\n",
    "from django.utils.encoding import smart_str, smart_unicode\n",
    "\n",
    "for item in session.query(Recipe).filter(Recipe.name.ilike(\"%cacciatore%\")):\n",
    "    print smart_str(item)"
   ]
  },
  {
   "cell_type": "code",
   "execution_count": 15,
   "metadata": {
    "collapsed": false
   },
   "outputs": [],
   "source": [
    "ingredient_query = \"SELECT ingredients.ingredient FROM ingredients WHERE recipe_id = \\'%s\\'\" % 801"
   ]
  },
  {
   "cell_type": "code",
   "execution_count": 16,
   "metadata": {
    "collapsed": true
   },
   "outputs": [],
   "source": [
    "from collections import Counter"
   ]
  },
  {
   "cell_type": "code",
   "execution_count": 20,
   "metadata": {
    "collapsed": false,
    "scrolled": true
   },
   "outputs": [
    {
     "data": {
      "text/plain": [
       "0                     [u'1 tablespoon unsalted butter']\n",
       "1                        [u'1/3 cup all-purpose flour']\n",
       "2                                [u'1/4 teaspoon salt']\n",
       "3       [u'4 skinless, boneless chicken breast halves']\n",
       "4                                 [u'2 lemons, juiced']\n",
       "5                              [u'1 cup chicken broth']\n",
       "6               [u'2 tablespoons Worcestershire sauce']\n",
       "7                                 [u'1/4 cup vermouth']\n",
       "8                       [u'1/2 teaspoon minced garlic']\n",
       "9                                       [u'1 bay leaf']\n",
       "10                          [u'1 teaspoon dried basil']\n",
       "11    [u'1 (14 ounce) can artichoke hearts, drained ...\n",
       "12                         [u'1 tablespoon cornstarch']\n",
       "13                                   [u'1/4 cup water']\n",
       "Name: ingredient, dtype: object"
      ]
     },
     "execution_count": 20,
     "metadata": {},
     "output_type": "execute_result"
    }
   ],
   "source": [
    "pd.read_sql_query(ingredient_query, con)[\"ingredient\"]"
   ]
  },
  {
   "cell_type": "code",
   "execution_count": 21,
   "metadata": {
    "collapsed": true
   },
   "outputs": [],
   "source": [
    "ingredient_query = \"SELECT ingredients.ingredient, ingredients.recipe_id FROM ingredients\""
   ]
  },
  {
   "cell_type": "code",
   "execution_count": 22,
   "metadata": {
    "collapsed": false,
    "scrolled": true
   },
   "outputs": [],
   "source": [
    "all_ings = pd.read_sql_query(ingredient_query, con)"
   ]
  },
  {
   "cell_type": "code",
   "execution_count": 23,
   "metadata": {
    "collapsed": false,
    "scrolled": true
   },
   "outputs": [
    {
     "data": {
      "text/plain": [
       "0                                        [u'3/4 cup milk']\n",
       "1                         [u'2 tablespoons white vinegar']\n",
       "2                             [u'1 cup all-purpose flour']\n",
       "3                           [u'2 tablespoons white sugar']\n",
       "4                            [u'1 teaspoon baking powder']\n",
       "5                            [u'1/2 teaspoon baking soda']\n",
       "6                                   [u'1/2 teaspoon salt']\n",
       "7                                               [u'1 egg']\n",
       "8                        [u'2 tablespoons butter, melted']\n",
       "9                                       [u'cooking spray']\n",
       "10                           [u'2 tablespoons canola oil']\n",
       "11                                [u'1 pound ground beef']\n",
       "12                           [u'1/2 clove garlic, minced']\n",
       "13           [u'1 (15 ounce) can kidney beans, undrained']\n",
       "14                              [u'1/2 cup chopped onion']\n",
       "15                     [u'1/2 green bell pepper, chopped']\n",
       "16                      [u'1 (15 ounce) can tomato sauce']\n",
       "17                           [u'2 teaspoons chili powder']\n",
       "18                                    [u'1 teaspoon salt']\n",
       "19               [u'1 pound semisweet chocolate, chopped']\n",
       "20                           [u'2 cups all-purpose flour']\n",
       "21                 [u'1/2 cup Dutch process cocoa powder']\n",
       "22                          [u'2 teaspoons baking powder']\n",
       "23                                    [u'1 teaspoon salt']\n",
       "24                     [u'10 tablespoons unsalted butter']\n",
       "25                      [u'1 1/2 cups packed brown sugar']\n",
       "26                                [u'1/2 cup white sugar']\n",
       "27                                             [u'4 eggs']\n",
       "28                [u'2 teaspoons instant coffee granules']\n",
       "29                        [u'2 teaspoons vanilla extract']\n",
       "                               ...                        \n",
       "38401      [u'1/2 teaspoon crushed black pepper, divided']\n",
       "38402                            [u'1 small onion, diced']\n",
       "38403                        [u'4 cloves garlic, crushed']\n",
       "38404                             [u'1 jalapeno, halved*']\n",
       "38405                            [u'3/4 cup orange juice']\n",
       "38406                                 [u'2 limes, juiced']\n",
       "38407                          [u'1 tablespoon soy sauce']\n",
       "38408                        [u'2 teaspoons ground cumin']\n",
       "38409    [u'1 small bunch cilantro, stems cut off and l...\n",
       "38410                               [u'12 corn tortillas']\n",
       "38411    [u'Serving suggestions: diced red onion, chopp...\n",
       "38412                          [u'1/3 cup ranch dressing']\n",
       "38413    [u'1 teaspoon hot chile paste (such as sambal ...\n",
       "38414    [u'4 skinless, boneless chicken breast halves ...\n",
       "38415                    [u'24 (1-inch) pieces red onion']\n",
       "38416                       [u'12 slices thick cut bacon']\n",
       "38417                  [u'salt and black pepper to taste']\n",
       "38418    [u'12 (6 inch) bamboo skewers, soaked in water...\n",
       "38419                    [u'1/4 cup crumbled goat cheese']\n",
       "38420          [u'2 tablespoons diced roasted red pepper']\n",
       "38421                    [u'2 tablespoons chopped pecans']\n",
       "38422                          [u'1 clove garlic, minced']\n",
       "38423           [u'salt and ground black pepper to taste']\n",
       "38424                   [u'4 thin chicken breast cutlets']\n",
       "38425                               [u'8 slices pancetta']\n",
       "38426                       [u'1 (4 pound) whole chicken']\n",
       "38427                                  [u'1/4 cup butter']\n",
       "38428                           [u'1 large lemon, halved']\n",
       "38429                           [u'1 head garlic, halved']\n",
       "38430                        [u'1/2 cup amaretto liqueur']\n",
       "Name: ingredient, dtype: object"
      ]
     },
     "execution_count": 23,
     "metadata": {},
     "output_type": "execute_result"
    }
   ],
   "source": [
    "all_ings[\"ingredient\"]"
   ]
  },
  {
   "cell_type": "code",
   "execution_count": 24,
   "metadata": {
    "collapsed": true
   },
   "outputs": [],
   "source": [
    "list_of_ingredient_words = \"\".join(list(all_ings[\"ingredient\"])).split(\" \")"
   ]
  },
  {
   "cell_type": "code",
   "execution_count": 25,
   "metadata": {
    "collapsed": false
   },
   "outputs": [],
   "source": [
    "counter = Counter(list_of_ingredient_words)"
   ]
  },
  {
   "cell_type": "code",
   "execution_count": 26,
   "metadata": {
    "collapsed": false
   },
   "outputs": [
    {
     "data": {
      "text/plain": [
       "[('cup', 7726),\n",
       " ('teaspoon', 5569),\n",
       " ('tablespoons', 3626),\n",
       " ('ounce)', 2926),\n",
       " ('ground', 2559),\n",
       " ('tablespoon', 2484),\n",
       " ('cups', 2204),\n",
       " ('and', 2114),\n",
       " ('to', 1917),\n",
       " ('fresh', 1629)]"
      ]
     },
     "execution_count": 26,
     "metadata": {},
     "output_type": "execute_result"
    }
   ],
   "source": [
    "counter.most_common()[:10]"
   ]
  },
  {
   "cell_type": "code",
   "execution_count": null,
   "metadata": {
    "collapsed": true
   },
   "outputs": [],
   "source": []
  },
  {
   "cell_type": "code",
   "execution_count": 154,
   "metadata": {
    "collapsed": false
   },
   "outputs": [],
   "source": [
    "from numpy import mean, average"
   ]
  },
  {
   "cell_type": "code",
   "execution_count": 165,
   "metadata": {
    "collapsed": false,
    "scrolled": true
   },
   "outputs": [],
   "source": [
    "# Find frequency of ingredient use and correlate it with total calories of dish containing that ingredient\n",
    "recipeids = []\n",
    "for item, count in counter.most_common()[:150]: #Gets out the top 150 of ranked list of ingredient frequencies\n",
    "    itemstr = str(\"%\" + item + \"%\") #Wraps it in wildcards for SQL\n",
    "    a = session.query(Ingredient).filter(Ingredient.ingredient.ilike(str(itemstr))).add_columns(\"recipe_id\")\n",
    "    recipeids.append(([b[1] for b in a], item, count))\n",
    "\n",
    "annotated_recipes = []\n",
    "for c in recipeids:\n",
    "    meanable = []\n",
    "    if len(c[0]) > 0:\n",
    "        for d in c[0]:\n",
    "            meanable.append([item[1] for item in session.query(Recipe).filter(Recipe.id == d).add_columns(\"calories\").all()])\n",
    "        #meanable = [item[0] for item in meanable]\n",
    "        meancalories =  mean(meanable)\n",
    "        annotated_recipes.append((c[1], meancalories, len(c[0])))"
   ]
  },
  {
   "cell_type": "code",
   "execution_count": 169,
   "metadata": {
    "collapsed": false,
    "scrolled": true
   },
   "outputs": [
    {
     "data": {
      "text/html": [
       "<div>\n",
       "<table border=\"1\" class=\"dataframe\">\n",
       "  <thead>\n",
       "    <tr style=\"text-align: right;\">\n",
       "      <th></th>\n",
       "      <th>0</th>\n",
       "      <th>1</th>\n",
       "      <th>2</th>\n",
       "    </tr>\n",
       "  </thead>\n",
       "  <tbody>\n",
       "    <tr>\n",
       "      <th>0</th>\n",
       "      <td>cup</td>\n",
       "      <td>429.252967</td>\n",
       "      <td>9942</td>\n",
       "    </tr>\n",
       "    <tr>\n",
       "      <th>1</th>\n",
       "      <td>teaspoon</td>\n",
       "      <td>394.354853</td>\n",
       "      <td>6986</td>\n",
       "    </tr>\n",
       "    <tr>\n",
       "      <th>2</th>\n",
       "      <td>tablespoons</td>\n",
       "      <td>413.602207</td>\n",
       "      <td>3625</td>\n",
       "    </tr>\n",
       "    <tr>\n",
       "      <th>3</th>\n",
       "      <td>ounce)</td>\n",
       "      <td>444.250854</td>\n",
       "      <td>2926</td>\n",
       "    </tr>\n",
       "    <tr>\n",
       "      <th>4</th>\n",
       "      <td>ground</td>\n",
       "      <td>409.000371</td>\n",
       "      <td>2694</td>\n",
       "    </tr>\n",
       "    <tr>\n",
       "      <th>5</th>\n",
       "      <td>tablespoon</td>\n",
       "      <td>415.743330</td>\n",
       "      <td>6109</td>\n",
       "    </tr>\n",
       "    <tr>\n",
       "      <th>6</th>\n",
       "      <td>cups</td>\n",
       "      <td>428.347944</td>\n",
       "      <td>2213</td>\n",
       "    </tr>\n",
       "    <tr>\n",
       "      <th>7</th>\n",
       "      <td>and</td>\n",
       "      <td>439.106365</td>\n",
       "      <td>2341</td>\n",
       "    </tr>\n",
       "    <tr>\n",
       "      <th>8</th>\n",
       "      <td>to</td>\n",
       "      <td>440.475623</td>\n",
       "      <td>4615</td>\n",
       "    </tr>\n",
       "    <tr>\n",
       "      <th>9</th>\n",
       "      <td>fresh</td>\n",
       "      <td>425.145397</td>\n",
       "      <td>1912</td>\n",
       "    </tr>\n",
       "    <tr>\n",
       "      <th>10</th>\n",
       "      <td>chopped</td>\n",
       "      <td>413.513005</td>\n",
       "      <td>2922</td>\n",
       "    </tr>\n",
       "    <tr>\n",
       "      <th>11</th>\n",
       "      <td>chicken</td>\n",
       "      <td>442.626053</td>\n",
       "      <td>1781</td>\n",
       "    </tr>\n",
       "    <tr>\n",
       "      <th>12</th>\n",
       "      <td>black</td>\n",
       "      <td>426.476418</td>\n",
       "      <td>1463</td>\n",
       "    </tr>\n",
       "    <tr>\n",
       "      <th>13</th>\n",
       "      <td>1/2</td>\n",
       "      <td>421.881927</td>\n",
       "      <td>6081</td>\n",
       "    </tr>\n",
       "    <tr>\n",
       "      <th>14</th>\n",
       "      <td>teaspoons</td>\n",
       "      <td>389.491525</td>\n",
       "      <td>1416</td>\n",
       "    </tr>\n",
       "    <tr>\n",
       "      <th>15</th>\n",
       "      <td>or</td>\n",
       "      <td>421.082086</td>\n",
       "      <td>4142</td>\n",
       "    </tr>\n",
       "    <tr>\n",
       "      <th>16</th>\n",
       "      <td>pepper</td>\n",
       "      <td>426.187142</td>\n",
       "      <td>3313</td>\n",
       "    </tr>\n",
       "    <tr>\n",
       "      <th>17</th>\n",
       "      <td>can</td>\n",
       "      <td>424.511190</td>\n",
       "      <td>1698</td>\n",
       "    </tr>\n",
       "    <tr>\n",
       "      <th>18</th>\n",
       "      <td>white</td>\n",
       "      <td>415.085477</td>\n",
       "      <td>1205</td>\n",
       "    </tr>\n",
       "    <tr>\n",
       "      <th>19</th>\n",
       "      <td>into</td>\n",
       "      <td>449.855376</td>\n",
       "      <td>1051</td>\n",
       "    </tr>\n",
       "    <tr>\n",
       "      <th>20</th>\n",
       "      <td>cut</td>\n",
       "      <td>451.029224</td>\n",
       "      <td>1095</td>\n",
       "    </tr>\n",
       "    <tr>\n",
       "      <th>21</th>\n",
       "      <td>olive</td>\n",
       "      <td>447.879091</td>\n",
       "      <td>1100</td>\n",
       "    </tr>\n",
       "    <tr>\n",
       "      <th>22</th>\n",
       "      <td>pound</td>\n",
       "      <td>447.893910</td>\n",
       "      <td>2036</td>\n",
       "    </tr>\n",
       "    <tr>\n",
       "      <th>23</th>\n",
       "      <td>garlic,</td>\n",
       "      <td>415.754132</td>\n",
       "      <td>968</td>\n",
       "    </tr>\n",
       "    <tr>\n",
       "      <th>24</th>\n",
       "      <td>boneless</td>\n",
       "      <td>422.972576</td>\n",
       "      <td>1021</td>\n",
       "    </tr>\n",
       "    <tr>\n",
       "      <th>25</th>\n",
       "      <td>dried</td>\n",
       "      <td>425.310753</td>\n",
       "      <td>930</td>\n",
       "    </tr>\n",
       "    <tr>\n",
       "      <th>26</th>\n",
       "      <td>onion,</td>\n",
       "      <td>418.566016</td>\n",
       "      <td>871</td>\n",
       "    </tr>\n",
       "    <tr>\n",
       "      <th>27</th>\n",
       "      <td>package</td>\n",
       "      <td>471.281508</td>\n",
       "      <td>849</td>\n",
       "    </tr>\n",
       "    <tr>\n",
       "      <th>28</th>\n",
       "      <td>red</td>\n",
       "      <td>430.908953</td>\n",
       "      <td>1977</td>\n",
       "    </tr>\n",
       "    <tr>\n",
       "      <th>29</th>\n",
       "      <td>cloves</td>\n",
       "      <td>427.503304</td>\n",
       "      <td>908</td>\n",
       "    </tr>\n",
       "    <tr>\n",
       "      <th>...</th>\n",
       "      <td>...</td>\n",
       "      <td>...</td>\n",
       "      <td>...</td>\n",
       "    </tr>\n",
       "    <tr>\n",
       "      <th>89</th>\n",
       "      <td>Cheddar</td>\n",
       "      <td>469.275424</td>\n",
       "      <td>236</td>\n",
       "    </tr>\n",
       "    <tr>\n",
       "      <th>90</th>\n",
       "      <td>1/4</td>\n",
       "      <td>408.724277</td>\n",
       "      <td>3460</td>\n",
       "    </tr>\n",
       "    <tr>\n",
       "      <th>91</th>\n",
       "      <td>beef</td>\n",
       "      <td>450.426752</td>\n",
       "      <td>471</td>\n",
       "    </tr>\n",
       "    <tr>\n",
       "      <th>92</th>\n",
       "      <td>(12</td>\n",
       "      <td>448.653680</td>\n",
       "      <td>231</td>\n",
       "    </tr>\n",
       "    <tr>\n",
       "      <th>93</th>\n",
       "      <td>(15</td>\n",
       "      <td>422.762846</td>\n",
       "      <td>253</td>\n",
       "    </tr>\n",
       "    <tr>\n",
       "      <th>94</th>\n",
       "      <td>pie</td>\n",
       "      <td>430.823452</td>\n",
       "      <td>759</td>\n",
       "    </tr>\n",
       "    <tr>\n",
       "      <th>95</th>\n",
       "      <td>(9</td>\n",
       "      <td>423.676471</td>\n",
       "      <td>204</td>\n",
       "    </tr>\n",
       "    <tr>\n",
       "      <th>96</th>\n",
       "      <td>freshly</td>\n",
       "      <td>457.773279</td>\n",
       "      <td>247</td>\n",
       "    </tr>\n",
       "    <tr>\n",
       "      <th>97</th>\n",
       "      <td>tomato</td>\n",
       "      <td>425.304462</td>\n",
       "      <td>762</td>\n",
       "    </tr>\n",
       "    <tr>\n",
       "      <th>98</th>\n",
       "      <td>(6</td>\n",
       "      <td>444.416667</td>\n",
       "      <td>216</td>\n",
       "    </tr>\n",
       "    <tr>\n",
       "      <th>99</th>\n",
       "      <td>cans</td>\n",
       "      <td>446.124088</td>\n",
       "      <td>274</td>\n",
       "    </tr>\n",
       "    <tr>\n",
       "      <th>100</th>\n",
       "      <td>oil,</td>\n",
       "      <td>460.157360</td>\n",
       "      <td>197</td>\n",
       "    </tr>\n",
       "    <tr>\n",
       "      <th>101</th>\n",
       "      <td>Worcestershire</td>\n",
       "      <td>418.675393</td>\n",
       "      <td>191</td>\n",
       "    </tr>\n",
       "    <tr>\n",
       "      <th>102</th>\n",
       "      <td>with</td>\n",
       "      <td>411.861538</td>\n",
       "      <td>195</td>\n",
       "    </tr>\n",
       "    <tr>\n",
       "      <th>103</th>\n",
       "      <td>potatoes,</td>\n",
       "      <td>439.797872</td>\n",
       "      <td>188</td>\n",
       "    </tr>\n",
       "    <tr>\n",
       "      <th>104</th>\n",
       "      <td>orange</td>\n",
       "      <td>435.668203</td>\n",
       "      <td>217</td>\n",
       "    </tr>\n",
       "    <tr>\n",
       "      <th>105</th>\n",
       "      <td>yellow</td>\n",
       "      <td>422.491803</td>\n",
       "      <td>183</td>\n",
       "    </tr>\n",
       "    <tr>\n",
       "      <th>106</th>\n",
       "      <td>prepared</td>\n",
       "      <td>457.144444</td>\n",
       "      <td>180</td>\n",
       "    </tr>\n",
       "    <tr>\n",
       "      <th>107</th>\n",
       "      <td>chili</td>\n",
       "      <td>393.069652</td>\n",
       "      <td>201</td>\n",
       "    </tr>\n",
       "    <tr>\n",
       "      <th>108</th>\n",
       "      <td>eggs,</td>\n",
       "      <td>424.606742</td>\n",
       "      <td>178</td>\n",
       "    </tr>\n",
       "    <tr>\n",
       "      <th>109</th>\n",
       "      <td>packed</td>\n",
       "      <td>430.588832</td>\n",
       "      <td>197</td>\n",
       "    </tr>\n",
       "    <tr>\n",
       "      <th>110</th>\n",
       "      <td>mushrooms,</td>\n",
       "      <td>431.137931</td>\n",
       "      <td>174</td>\n",
       "    </tr>\n",
       "    <tr>\n",
       "      <th>111</th>\n",
       "      <td>uncooked</td>\n",
       "      <td>465.053191</td>\n",
       "      <td>188</td>\n",
       "    </tr>\n",
       "    <tr>\n",
       "      <th>112</th>\n",
       "      <td>(14.5</td>\n",
       "      <td>411.070588</td>\n",
       "      <td>170</td>\n",
       "    </tr>\n",
       "    <tr>\n",
       "      <th>113</th>\n",
       "      <td>(10</td>\n",
       "      <td>447.186583</td>\n",
       "      <td>477</td>\n",
       "    </tr>\n",
       "    <tr>\n",
       "      <th>114</th>\n",
       "      <td>sour</td>\n",
       "      <td>442.073864</td>\n",
       "      <td>176</td>\n",
       "    </tr>\n",
       "    <tr>\n",
       "      <th>115</th>\n",
       "      <td>heavy</td>\n",
       "      <td>547.936416</td>\n",
       "      <td>173</td>\n",
       "    </tr>\n",
       "    <tr>\n",
       "      <th>116</th>\n",
       "      <td>(1</td>\n",
       "      <td>447.355284</td>\n",
       "      <td>1883</td>\n",
       "    </tr>\n",
       "    <tr>\n",
       "      <th>117</th>\n",
       "      <td>egg</td>\n",
       "      <td>403.247363</td>\n",
       "      <td>1043</td>\n",
       "    </tr>\n",
       "    <tr>\n",
       "      <th>118</th>\n",
       "      <td>mushroom</td>\n",
       "      <td>446.098299</td>\n",
       "      <td>529</td>\n",
       "    </tr>\n",
       "  </tbody>\n",
       "</table>\n",
       "<p>119 rows × 3 columns</p>\n",
       "</div>"
      ],
      "text/plain": [
       "                  0           1     2\n",
       "0               cup  429.252967  9942\n",
       "1          teaspoon  394.354853  6986\n",
       "2       tablespoons  413.602207  3625\n",
       "3            ounce)  444.250854  2926\n",
       "4            ground  409.000371  2694\n",
       "5        tablespoon  415.743330  6109\n",
       "6              cups  428.347944  2213\n",
       "7               and  439.106365  2341\n",
       "8                to  440.475623  4615\n",
       "9             fresh  425.145397  1912\n",
       "10          chopped  413.513005  2922\n",
       "11          chicken  442.626053  1781\n",
       "12            black  426.476418  1463\n",
       "13              1/2  421.881927  6081\n",
       "14        teaspoons  389.491525  1416\n",
       "15               or  421.082086  4142\n",
       "16           pepper  426.187142  3313\n",
       "17              can  424.511190  1698\n",
       "18            white  415.085477  1205\n",
       "19             into  449.855376  1051\n",
       "20              cut  451.029224  1095\n",
       "21            olive  447.879091  1100\n",
       "22            pound  447.893910  2036\n",
       "23          garlic,  415.754132   968\n",
       "24         boneless  422.972576  1021\n",
       "25            dried  425.310753   930\n",
       "26           onion,  418.566016   871\n",
       "27          package  471.281508   849\n",
       "28              red  430.908953  1977\n",
       "29           cloves  427.503304   908\n",
       "..              ...         ...   ...\n",
       "89          Cheddar  469.275424   236\n",
       "90              1/4  408.724277  3460\n",
       "91             beef  450.426752   471\n",
       "92              (12  448.653680   231\n",
       "93              (15  422.762846   253\n",
       "94              pie  430.823452   759\n",
       "95               (9  423.676471   204\n",
       "96          freshly  457.773279   247\n",
       "97           tomato  425.304462   762\n",
       "98               (6  444.416667   216\n",
       "99             cans  446.124088   274\n",
       "100            oil,  460.157360   197\n",
       "101  Worcestershire  418.675393   191\n",
       "102            with  411.861538   195\n",
       "103       potatoes,  439.797872   188\n",
       "104          orange  435.668203   217\n",
       "105          yellow  422.491803   183\n",
       "106        prepared  457.144444   180\n",
       "107           chili  393.069652   201\n",
       "108           eggs,  424.606742   178\n",
       "109          packed  430.588832   197\n",
       "110      mushrooms,  431.137931   174\n",
       "111        uncooked  465.053191   188\n",
       "112           (14.5  411.070588   170\n",
       "113             (10  447.186583   477\n",
       "114            sour  442.073864   176\n",
       "115           heavy  547.936416   173\n",
       "116              (1  447.355284  1883\n",
       "117             egg  403.247363  1043\n",
       "118        mushroom  446.098299   529\n",
       "\n",
       "[119 rows x 3 columns]"
      ]
     },
     "execution_count": 169,
     "metadata": {},
     "output_type": "execute_result"
    }
   ],
   "source": [
    "pd.DataFrame(annotated_recipes)"
   ]
  },
  {
   "cell_type": "code",
   "execution_count": 166,
   "metadata": {
    "collapsed": false,
    "scrolled": true
   },
   "outputs": [
    {
     "name": "stdout",
     "output_type": "stream",
     "text": [
      "[('cup', 429.25296720981692, 9942), ('teaspoon', 394.35485256226741, 6986), ('tablespoons', 413.60220689655171, 3625), ('ounce)', 444.25085440874915, 2926), ('ground', 409.0003711952487, 2694), ('tablespoon', 415.74332951383207, 6109), ('cups', 428.34794396746497, 2213), ('and', 439.10636480136696, 2341), ('to', 440.47562296858069, 4615), ('fresh', 425.14539748953973, 1912), ('chopped', 413.51300479123887, 2922), ('chicken', 442.62605277933744, 1781), ('black', 426.4764183185236, 1463), ('1/2', 421.88192731458639, 6081), ('teaspoons', 389.49152542372883, 1416), ('or', 421.082085948817, 4142), ('pepper', 426.18714156353758, 3313), ('can', 424.51118963486454, 1698), ('white', 415.08547717842322, 1205), ('into', 449.85537583254046, 1051), ('cut', 451.02922374429221, 1095), ('olive', 447.87909090909091, 1100), ('pound', 447.89390962671905, 2036), ('garlic,', 415.75413223140498, 968), ('boneless', 422.97257590597451, 1021), ('dried', 425.31075268817204, 930), ('onion,', 418.56601607347875, 871), ('package', 471.28150765606597, 849), ('red', 430.90895295902885, 1977), ('cloves', 427.50330396475772, 908), ('all-purpose', 413.25428194993412, 759), ('pounds', 445.20214395099538, 653), ('green', 426.17431192660553, 654), ('as', 412.40838364084686, 11761), ('skinless,', 427.20545746388444, 623), ('large', 420.86341463414635, 615), ('breast', 427.13636363636363, 814), ('vegetable', 416.85882352941178, 680), ('pork', 383.97448165869218, 627), ('garlic', 420.06722251172488, 1919), ('brown', 406.45263157894738, 570), ('sliced', 443.15993404781534, 1213), ('grated', 450.3860294117647, 544), ('ounces', 495.79835390946499, 486), ('pepper,', 417.30204081632655, 490), ('shredded', 461.29528985507244, 552), ('lemon', 409.45374449339209, 681), ('dry', 460.19832985386222, 479), ('(8', 451.4815618221258, 461), ('pinch', 425.92105263157896, 456), ('bell', 420.552734375, 512), ('minced', 410.55383290267014, 1161), ('butter,', 436.58767772511851, 422), ('cream', 463.58286358511839, 887), ('peeled', 425.25211505922164, 591), ('diced', 430.15886699507388, 812), ('Parmesan', 476.46296296296299, 378), ('whole', 487.28350515463916, 388), ('pound)', 473.75331564986737, 377), ('soy', 365.71276595744683, 376), ('finely', 391.56862745098039, 357), ('(such', 412.7794561933535, 331), ('of', 422.83843537414964, 588), ('for', 496.6498516320475, 337), ('small', 434.04716981132077, 318), ('baking', 304.1233766233766, 308), ('-', 430.19089517980109, 2614), ('vanilla', 374.42904290429044, 303), ('(16', 506.89236111111109, 288), ('medium', 429.84172661870502, 278), ('inch', 432.15687732342008, 1345), ('bread', 466.23579545454544, 352), ('(10.75', 443.36162361623616, 271), ('frozen', 433.08992805755395, 278), ('thinly', 432.71691176470586, 272), ('slices', 468.620178041543, 337), ('inch)', 429.53260869565219, 276), ('Italian', 476.63719512195121, 328), ('cheese,', 488.54477611940297, 268), ('crushed', 416.33856502242151, 446), ('clove', 415.27257240204432, 1174), ('cooked', 466.84049079754601, 489), ('(4', 440.42320819112626, 293), ('onion', 421.17117117117118, 1776), ('more', 421.698347107438, 242), ('condensed', 444.81654676258995, 278), ('onions,', 427.43881856540082, 237), ('cayenne', 425.25726141078837, 241), ('hot', 431.81226053639847, 261), ('Cheddar', 469.27542372881356, 236), ('1/4', 408.72427745664737, 3460), ('beef', 450.42675159235671, 471), ('(12', 448.65367965367966, 231), ('(15', 422.76284584980237, 253), ('pie', 430.82345191040844, 759), ('(9', 423.6764705882353, 204), ('freshly', 457.77327935222672, 247), ('tomato', 425.30446194225721, 762), ('(6', 444.41666666666669, 216), ('cans', 446.12408759124088, 274), ('oil,', 460.15736040609136, 197), ('Worcestershire', 418.67539267015707, 191), ('with', 411.86153846153849, 195), ('potatoes,', 439.79787234042556, 188), ('orange', 435.66820276497697, 217), ('yellow', 422.49180327868851, 183), ('prepared', 457.14444444444445, 180), ('chili', 393.06965174129351, 201), ('eggs,', 424.60674157303373, 178), ('packed', 430.58883248730962, 197), ('mushrooms,', 431.13793103448273, 174), ('uncooked', 465.05319148936172, 188), ('(14.5', 411.07058823529411, 170), ('(10', 447.18658280922432, 477), ('sour', 442.07386363636363, 176), ('heavy', 547.93641618497111, 173), ('(1', 447.3552841210834, 1883), ('egg', 403.24736337488014, 1043), ('mushroom', 446.09829867674858, 529)]\n"
     ]
    }
   ],
   "source": [
    "print annotated_recipes"
   ]
  },
  {
   "cell_type": "code",
   "execution_count": 175,
   "metadata": {
    "collapsed": true
   },
   "outputs": [],
   "source": [
    "annotated_recipes_df = pd.DataFrame(annotated_recipes)"
   ]
  },
  {
   "cell_type": "code",
   "execution_count": 176,
   "metadata": {
    "collapsed": true
   },
   "outputs": [],
   "source": [
    "annotated_recipes_df.columns = [\"ing\", \"cals\", \"count\"]"
   ]
  },
  {
   "cell_type": "code",
   "execution_count": 186,
   "metadata": {
    "collapsed": false
   },
   "outputs": [
    {
     "data": {
      "text/plain": [
       "<matplotlib.text.Text at 0x7f19e991b150>"
      ]
     },
     "execution_count": 186,
     "metadata": {},
     "output_type": "execute_result"
    },
    {
     "data": {
      "image/png": "[encoded data removed]",
      "text/plain": [
       "<matplotlib.figure.Figure at 0x7f19e97dd6d0>"
      ]
     },
     "metadata": {},
     "output_type": "display_data"
    }
   ],
   "source": [
    "%matplotlib inline\n",
    "sns.set_context(\"notebook\", font_scale=1.5)\n",
    "sns.set_style(\"ticks\")\n",
    "\n",
    "\n",
    "sns.lmplot(\"cals\", \"count\", \n",
    "           data= annotated_recipes_df,\n",
    "           fit_reg=False, \n",
    "           scatter_kws={\"marker\": \"D\", \n",
    "                        \"s\": 100})\n",
    "plt.title('Relationship between\\n ingredient use frequency and\\nmean recipe calories')\n",
    "plt.xlabel('Calories')\n",
    "plt.ylabel('Times ingredient seen')"
   ]
  },
  {
   "cell_type": "code",
   "execution_count": 102,
   "metadata": {
    "collapsed": false
   },
   "outputs": [
    {
     "data": {
      "text/plain": [
       "1"
      ]
     },
     "execution_count": 102,
     "metadata": {},
     "output_type": "execute_result"
    }
   ],
   "source": [
    "d"
   ]
  },
  {
   "cell_type": "code",
   "execution_count": 101,
   "metadata": {
    "collapsed": true
   },
   "outputs": [],
   "source": [
    "session.rollback()"
   ]
  },
  {
   "cell_type": "code",
   "execution_count": 90,
   "metadata": {
    "collapsed": false,
    "scrolled": true
   },
   "outputs": [
    {
     "data": {
      "text/plain": [
       "[([], \"cornstarch'][u'12\", 1),\n",
       " ([], \"Onions'][u'1\", 1),\n",
       " ([], \"tails'][u'salt\", 1),\n",
       " ([], 'Hershey\\'s\\\\xae)\"][u\\'1/2', 1),\n",
       " ([], 'Hershey\\'s\\\\xae)\"][u\\'1/4', 1),\n",
       " ([], \"(above)'][u'1/2\", 1),\n",
       " ([], \"greens'][u'2\", 1),\n",
       " ([], \"'][u'1/2\", 1),\n",
       " ([1788, 2272, 2284, 2554, 2638, 2782, 2822, 3312, 3430, 3590], 'pods', 1),\n",
       " ([], 'pan\\'][u\"4', 1)]"
      ]
     },
     "execution_count": 90,
     "metadata": {},
     "output_type": "execute_result"
    }
   ],
   "source": [
    "recipeids"
   ]
  },
  {
   "cell_type": "code",
   "execution_count": 79,
   "metadata": {
    "collapsed": false,
    "scrolled": true
   },
   "outputs": [
    {
     "data": {
      "text/plain": [
       "[30,\n",
       " 77,\n",
       " 103,\n",
       " 104,\n",
       " 122,\n",
       " 122,\n",
       " 122,\n",
       " 122,\n",
       " 151,\n",
       " 159,\n",
       " 170,\n",
       " 181,\n",
       " 186,\n",
       " 195,\n",
       " 198,\n",
       " 210,\n",
       " 217,\n",
       " 240,\n",
       " 245,\n",
       " 267,\n",
       " 389,\n",
       " 409,\n",
       " 426,\n",
       " 432,\n",
       " 481,\n",
       " 485,\n",
       " 509,\n",
       " 529,\n",
       " 538,\n",
       " 542,\n",
       " 565,\n",
       " 579,\n",
       " 580,\n",
       " 581,\n",
       " 615,\n",
       " 619,\n",
       " 621,\n",
       " 629,\n",
       " 693,\n",
       " 707,\n",
       " 752,\n",
       " 766,\n",
       " 783,\n",
       " 783,\n",
       " 787,\n",
       " 812,\n",
       " 830,\n",
       " 842,\n",
       " 843,\n",
       " 865,\n",
       " 883,\n",
       " 922,\n",
       " 940,\n",
       " 940,\n",
       " 952,\n",
       " 960,\n",
       " 965,\n",
       " 965,\n",
       " 969,\n",
       " 973,\n",
       " 998,\n",
       " 1026,\n",
       " 1071,\n",
       " 1084,\n",
       " 1090,\n",
       " 1099,\n",
       " 1133,\n",
       " 1151,\n",
       " 1176,\n",
       " 1177,\n",
       " 1181,\n",
       " 1203,\n",
       " 1204,\n",
       " 1226,\n",
       " 1255,\n",
       " 1264,\n",
       " 1271,\n",
       " 1273,\n",
       " 1286,\n",
       " 1291,\n",
       " 1291,\n",
       " 1307,\n",
       " 1316,\n",
       " 1323,\n",
       " 1348,\n",
       " 1368,\n",
       " 1404,\n",
       " 1425,\n",
       " 1443,\n",
       " 1448,\n",
       " 1449,\n",
       " 1450,\n",
       " 1473,\n",
       " 1516,\n",
       " 1517,\n",
       " 1518,\n",
       " 1520,\n",
       " 1533,\n",
       " 1548,\n",
       " 1561,\n",
       " 1567,\n",
       " 1572,\n",
       " 1572,\n",
       " 1595,\n",
       " 1630,\n",
       " 1638,\n",
       " 1677,\n",
       " 1717,\n",
       " 1731,\n",
       " 1753,\n",
       " 1766,\n",
       " 1793,\n",
       " 1809,\n",
       " 1817,\n",
       " 1819,\n",
       " 1823,\n",
       " 1827,\n",
       " 1830,\n",
       " 1876,\n",
       " 1889,\n",
       " 1916,\n",
       " 1917,\n",
       " 1920,\n",
       " 1922,\n",
       " 1941,\n",
       " 1950,\n",
       " 1962,\n",
       " 1971,\n",
       " 2002,\n",
       " 2005,\n",
       " 2013,\n",
       " 2013,\n",
       " 2040,\n",
       " 2048,\n",
       " 2055,\n",
       " 2064,\n",
       " 2071,\n",
       " 2080,\n",
       " 2094,\n",
       " 2104,\n",
       " 2129,\n",
       " 2134,\n",
       " 2138,\n",
       " 2164,\n",
       " 2172,\n",
       " 2175,\n",
       " 2207,\n",
       " 2209,\n",
       " 2215,\n",
       " 2226,\n",
       " 2237,\n",
       " 2250,\n",
       " 2270,\n",
       " 2276,\n",
       " 2300,\n",
       " 2304,\n",
       " 2368,\n",
       " 2371,\n",
       " 2382,\n",
       " 2452,\n",
       " 2488,\n",
       " 2513,\n",
       " 2519,\n",
       " 2520,\n",
       " 2576,\n",
       " 2584,\n",
       " 2600,\n",
       " 2621,\n",
       " 2623,\n",
       " 2623,\n",
       " 2628,\n",
       " 2630,\n",
       " 2639,\n",
       " 2648,\n",
       " 2667,\n",
       " 2686,\n",
       " 2692,\n",
       " 2699,\n",
       " 2711,\n",
       " 2727,\n",
       " 2749,\n",
       " 2761,\n",
       " 2768,\n",
       " 2776,\n",
       " 2795,\n",
       " 2812,\n",
       " 2817,\n",
       " 2826,\n",
       " 2842,\n",
       " 2853,\n",
       " 2866,\n",
       " 2866,\n",
       " 2900,\n",
       " 2925,\n",
       " 2925,\n",
       " 2958,\n",
       " 2973,\n",
       " 2994,\n",
       " 2998,\n",
       " 3026,\n",
       " 3029,\n",
       " 3043,\n",
       " 3044,\n",
       " 3073,\n",
       " 3081,\n",
       " 3083,\n",
       " 3084,\n",
       " 3087,\n",
       " 3089,\n",
       " 3111,\n",
       " 3114,\n",
       " 3136,\n",
       " 3158,\n",
       " 3180,\n",
       " 3210,\n",
       " 3211,\n",
       " 3218,\n",
       " 3226,\n",
       " 3234,\n",
       " 3266,\n",
       " 3267,\n",
       " 3267,\n",
       " 3276,\n",
       " 3297,\n",
       " 3303,\n",
       " 3339,\n",
       " 3354,\n",
       " 3356,\n",
       " 3369,\n",
       " 3371,\n",
       " 3411,\n",
       " 3420,\n",
       " 3428,\n",
       " 3438,\n",
       " 3444,\n",
       " 3450,\n",
       " 3457,\n",
       " 3496,\n",
       " 3524,\n",
       " 3540,\n",
       " 3574,\n",
       " 3588,\n",
       " 3597,\n",
       " 3615,\n",
       " 3622,\n",
       " 3663,\n",
       " 3716,\n",
       " 3726,\n",
       " 3726,\n",
       " 3739,\n",
       " 3740,\n",
       " 3744,\n",
       " 3749,\n",
       " 3757,\n",
       " 3828,\n",
       " 3847,\n",
       " 3851,\n",
       " 3875,\n",
       " 3876,\n",
       " 3881,\n",
       " 3886,\n",
       " 3893,\n",
       " 3905,\n",
       " 3905,\n",
       " 3909,\n",
       " 3914,\n",
       " 3915,\n",
       " 3916,\n",
       " 3938,\n",
       " 3939,\n",
       " 3946,\n",
       " 3951,\n",
       " 3957,\n",
       " 3958,\n",
       " 3962,\n",
       " 3967,\n",
       " 3971,\n",
       " 3977,\n",
       " 3984,\n",
       " 3986,\n",
       " 3990,\n",
       " 3994,\n",
       " 4000,\n",
       " 4001,\n",
       " 4010,\n",
       " 4018,\n",
       " 4024,\n",
       " 4027,\n",
       " 4034,\n",
       " 4037,\n",
       " 4039,\n",
       " 4040,\n",
       " 4044]"
      ]
     },
     "execution_count": 79,
     "metadata": {},
     "output_type": "execute_result"
    }
   ],
   "source": [
    "c.iteritems"
   ]
  },
  {
   "cell_type": "code",
   "execution_count": 45,
   "metadata": {
    "collapsed": false
   },
   "outputs": [
    {
     "data": {
      "text/plain": [
       "'(4'"
      ]
     },
     "execution_count": 45,
     "metadata": {},
     "output_type": "execute_result"
    }
   ],
   "source": [
    "item"
   ]
  },
  {
   "cell_type": "code",
   "execution_count": 46,
   "metadata": {
    "collapsed": false,
    "scrolled": true
   },
   "outputs": [
    {
     "data": {
      "text/plain": [
       "[[30,\n",
       "  77,\n",
       "  103,\n",
       "  104,\n",
       "  122,\n",
       "  122,\n",
       "  122,\n",
       "  122,\n",
       "  151,\n",
       "  159,\n",
       "  170,\n",
       "  181,\n",
       "  186,\n",
       "  195,\n",
       "  198,\n",
       "  210,\n",
       "  217,\n",
       "  240,\n",
       "  245,\n",
       "  267,\n",
       "  389,\n",
       "  409,\n",
       "  426,\n",
       "  432,\n",
       "  481,\n",
       "  485,\n",
       "  509,\n",
       "  529,\n",
       "  538,\n",
       "  542,\n",
       "  565,\n",
       "  579,\n",
       "  580,\n",
       "  581,\n",
       "  615,\n",
       "  619,\n",
       "  621,\n",
       "  629,\n",
       "  693,\n",
       "  707,\n",
       "  752,\n",
       "  766,\n",
       "  783,\n",
       "  783,\n",
       "  787,\n",
       "  812,\n",
       "  830,\n",
       "  842,\n",
       "  843,\n",
       "  865,\n",
       "  883,\n",
       "  922,\n",
       "  940,\n",
       "  940,\n",
       "  952,\n",
       "  960,\n",
       "  965,\n",
       "  965,\n",
       "  969,\n",
       "  973,\n",
       "  998,\n",
       "  1026,\n",
       "  1071,\n",
       "  1084,\n",
       "  1090,\n",
       "  1099,\n",
       "  1133,\n",
       "  1151,\n",
       "  1176,\n",
       "  1177,\n",
       "  1181,\n",
       "  1203,\n",
       "  1204,\n",
       "  1226,\n",
       "  1255,\n",
       "  1264,\n",
       "  1271,\n",
       "  1273,\n",
       "  1286,\n",
       "  1291,\n",
       "  1291,\n",
       "  1307,\n",
       "  1316,\n",
       "  1323,\n",
       "  1348,\n",
       "  1368,\n",
       "  1404,\n",
       "  1425,\n",
       "  1443,\n",
       "  1448,\n",
       "  1449,\n",
       "  1450,\n",
       "  1473,\n",
       "  1516,\n",
       "  1517,\n",
       "  1518,\n",
       "  1520,\n",
       "  1533,\n",
       "  1548,\n",
       "  1561,\n",
       "  1567,\n",
       "  1572,\n",
       "  1572,\n",
       "  1595,\n",
       "  1630,\n",
       "  1638,\n",
       "  1677,\n",
       "  1717,\n",
       "  1731,\n",
       "  1753,\n",
       "  1766,\n",
       "  1793,\n",
       "  1809,\n",
       "  1817,\n",
       "  1819,\n",
       "  1823,\n",
       "  1827,\n",
       "  1830,\n",
       "  1876,\n",
       "  1889,\n",
       "  1916,\n",
       "  1917,\n",
       "  1920,\n",
       "  1922,\n",
       "  1941,\n",
       "  1950,\n",
       "  1962,\n",
       "  1971,\n",
       "  2002,\n",
       "  2005,\n",
       "  2013,\n",
       "  2013,\n",
       "  2040,\n",
       "  2048,\n",
       "  2055,\n",
       "  2064,\n",
       "  2071,\n",
       "  2080,\n",
       "  2094,\n",
       "  2104,\n",
       "  2129,\n",
       "  2134,\n",
       "  2138,\n",
       "  2164,\n",
       "  2172,\n",
       "  2175,\n",
       "  2207,\n",
       "  2209,\n",
       "  2215,\n",
       "  2226,\n",
       "  2237,\n",
       "  2250,\n",
       "  2270,\n",
       "  2276,\n",
       "  2300,\n",
       "  2304,\n",
       "  2368,\n",
       "  2371,\n",
       "  2382,\n",
       "  2452,\n",
       "  2488,\n",
       "  2513,\n",
       "  2519,\n",
       "  2520,\n",
       "  2576,\n",
       "  2584,\n",
       "  2600,\n",
       "  2621,\n",
       "  2623,\n",
       "  2623,\n",
       "  2628,\n",
       "  2630,\n",
       "  2639,\n",
       "  2648,\n",
       "  2667,\n",
       "  2686,\n",
       "  2692,\n",
       "  2699,\n",
       "  2711,\n",
       "  2727,\n",
       "  2749,\n",
       "  2761,\n",
       "  2768,\n",
       "  2776,\n",
       "  2795,\n",
       "  2812,\n",
       "  2817,\n",
       "  2826,\n",
       "  2842,\n",
       "  2853,\n",
       "  2866,\n",
       "  2866,\n",
       "  2900,\n",
       "  2925,\n",
       "  2925,\n",
       "  2958,\n",
       "  2973,\n",
       "  2994,\n",
       "  2998,\n",
       "  3026,\n",
       "  3029,\n",
       "  3043,\n",
       "  3044,\n",
       "  3073,\n",
       "  3081,\n",
       "  3083,\n",
       "  3084,\n",
       "  3087,\n",
       "  3089,\n",
       "  3111,\n",
       "  3114,\n",
       "  3136,\n",
       "  3158,\n",
       "  3180,\n",
       "  3210,\n",
       "  3211,\n",
       "  3218,\n",
       "  3226,\n",
       "  3234,\n",
       "  3266,\n",
       "  3267,\n",
       "  3267,\n",
       "  3276,\n",
       "  3297,\n",
       "  3303,\n",
       "  3339,\n",
       "  3354,\n",
       "  3356,\n",
       "  3369,\n",
       "  3371,\n",
       "  3411,\n",
       "  3420,\n",
       "  3428,\n",
       "  3438,\n",
       "  3444,\n",
       "  3450,\n",
       "  3457,\n",
       "  3496,\n",
       "  3524,\n",
       "  3540,\n",
       "  3574,\n",
       "  3588,\n",
       "  3597,\n",
       "  3615,\n",
       "  3622,\n",
       "  3663,\n",
       "  3716,\n",
       "  3726,\n",
       "  3726,\n",
       "  3739,\n",
       "  3740,\n",
       "  3744,\n",
       "  3749,\n",
       "  3757,\n",
       "  3828,\n",
       "  3847,\n",
       "  3851,\n",
       "  3875,\n",
       "  3876,\n",
       "  3881,\n",
       "  3886,\n",
       "  3893,\n",
       "  3905,\n",
       "  3905,\n",
       "  3909,\n",
       "  3914,\n",
       "  3915,\n",
       "  3916,\n",
       "  3938,\n",
       "  3939,\n",
       "  3946,\n",
       "  3951,\n",
       "  3957,\n",
       "  3958,\n",
       "  3962,\n",
       "  3967,\n",
       "  3971,\n",
       "  3977,\n",
       "  3984,\n",
       "  3986,\n",
       "  3990,\n",
       "  3994,\n",
       "  4000,\n",
       "  4001,\n",
       "  4010,\n",
       "  4018,\n",
       "  4024,\n",
       "  4027,\n",
       "  4034,\n",
       "  4037,\n",
       "  4039,\n",
       "  4040,\n",
       "  4044]]"
      ]
     },
     "execution_count": 46,
     "metadata": {},
     "output_type": "execute_result"
    }
   ],
   "source": [
    "recipeids"
   ]
  },
  {
   "cell_type": "code",
   "execution_count": null,
   "metadata": {
    "collapsed": false
   },
   "outputs": [],
   "source": [
    "counter.iteritems()"
   ]
  },
  {
   "cell_type": "code",
   "execution_count": 53,
   "metadata": {
    "collapsed": true
   },
   "outputs": [
    {
     "data": {
      "text/plain": [
       "[('cup', 7726),\n",
       " ('teaspoon', 5569),\n",
       " ('tablespoons', 3626),\n",
       " ('ounce)', 2926),\n",
       " ('ground', 2559),\n",
       " ('tablespoon', 2484),\n",
       " ('cups', 2204),\n",
       " ('and', 2114),\n",
       " ('to', 1917),\n",
       " ('fresh', 1629),\n",
       " ('chopped', 1508),\n",
       " ('chicken', 1468),\n",
       " ('black', 1429),\n",
       " ('1/2', 1423),\n",
       " ('teaspoons', 1416),\n",
       " ('or', 1283),\n",
       " ('pepper', 1227),\n",
       " ('can', 1202),\n",
       " ('white', 1138),\n",
       " ('into', 1038),\n",
       " ('cut', 1032),\n",
       " ('olive', 1000),\n",
       " ('pound', 978),\n",
       " ('garlic,', 968),\n",
       " ('boneless', 938),\n",
       " ('dried', 879),\n",
       " ('onion,', 867),\n",
       " ('package', 794),\n",
       " ('red', 794),\n",
       " ('cloves', 774),\n",
       " ('all-purpose', 758),\n",
       " (\"taste'][u'1\", 687),\n",
       " ('pounds', 652),\n",
       " ('green', 641),\n",
       " ('as', 636),\n",
       " ('skinless,', 623),\n",
       " ('large', 613),\n",
       " (\"oil'][u'1\", 608),\n",
       " ('breast', 594),\n",
       " ('vegetable', 593),\n",
       " ('pork', 584),\n",
       " (\"chopped'][u'1\", 577),\n",
       " ('garlic', 545),\n",
       " ('brown', 545),\n",
       " ('sliced', 518),\n",
       " ('grated', 493),\n",
       " ('ounces', 486),\n",
       " ('pepper,', 483),\n",
       " ('shredded', 477),\n",
       " (\"salt'][u'1\", 472),\n",
       " (\"pepper'][u'1\", 471),\n",
       " ('lemon', 463),\n",
       " ('dry', 449),\n",
       " ('(8', 437),\n",
       " ('pinch', 431),\n",
       " ('bell', 429),\n",
       " ('minced', 425),\n",
       " ('butter,', 415),\n",
       " ('cream', 408),\n",
       " ('peeled', 405),\n",
       " (\"sauce'][u'1\", 403),\n",
       " ('diced', 380),\n",
       " ('Parmesan', 372),\n",
       " ('whole', 369),\n",
       " ('pound)', 366),\n",
       " ('soy', 361),\n",
       " (\"powder'][u'1\", 357),\n",
       " ('finely', 354),\n",
       " (\"sugar'][u'1\", 344),\n",
       " ('(such', 331),\n",
       " (\"minced'][u'1\", 323),\n",
       " ('of', 318),\n",
       " ('for', 316),\n",
       " ('small', 308),\n",
       " ('baking', 303),\n",
       " (\"flour'][u'1\", 299),\n",
       " ('-', 299),\n",
       " (\"butter'][u'1\", 298),\n",
       " (\"water'][u'1\", 295),\n",
       " (\"oil'][u'2\", 292),\n",
       " (\"cheese'][u'1\", 290),\n",
       " ('vanilla', 289),\n",
       " ('(16', 286),\n",
       " (\"taste'][u'2\", 279),\n",
       " ('medium', 275),\n",
       " ('inch', 274),\n",
       " ('bread', 273),\n",
       " ('(10.75', 271),\n",
       " ('frozen', 269),\n",
       " ('thinly', 266),\n",
       " (\"salt'][u'1/2\", 264),\n",
       " ('slices', 263),\n",
       " ('inch)', 261),\n",
       " (\"chopped'][u'2\", 259),\n",
       " ('Italian', 259),\n",
       " ('cheese,', 257),\n",
       " ('crushed', 255),\n",
       " ('clove', 253),\n",
       " ('cooked', 252),\n",
       " (\"sliced'][u'1\", 251),\n",
       " ('(4', 250),\n",
       " ('onion', 247),\n",
       " ('more', 240),\n",
       " ('condensed', 240),\n",
       " ('onions,', 237),\n",
       " ('cayenne', 236),\n",
       " ('hot', 235),\n",
       " (\"sugar'][u'2\", 233),\n",
       " ('Cheddar', 233),\n",
       " ('1/4', 230),\n",
       " ('beef', 228),\n",
       " (\"milk'][u'1\", 227),\n",
       " ('(12', 222),\n",
       " ('(15', 222),\n",
       " (\"salt'][u'1/4\", 216),\n",
       " (\"juice'][u'1\", 215),\n",
       " ('pie', 213),\n",
       " ('(9', 204),\n",
       " ('freshly', 204),\n",
       " ('tomato', 204),\n",
       " ('(6', 202),\n",
       " (\"sauce'][u'2\", 194),\n",
       " ('cans', 194),\n",
       " (\"pepper'][u'1/2\", 193),\n",
       " ('oil,', 192),\n",
       " ('Worcestershire', 191),\n",
       " ('with', 189),\n",
       " ('potatoes,', 188),\n",
       " (\"(optional)'][u'1\", 186),\n",
       " (\"diced'][u'1\", 183),\n",
       " ('orange', 183),\n",
       " ('yellow', 180),\n",
       " ('prepared', 178),\n",
       " ('chili', 177),\n",
       " ('eggs,', 177),\n",
       " (\"divided'][u'1\", 177),\n",
       " ('packed', 176),\n",
       " ('mushrooms,', 173),\n",
       " ('uncooked', 171),\n",
       " ('(14.5', 170),\n",
       " ('(10', 169),\n",
       " (\"powder'][u'1/2\", 167),\n",
       " ('sour', 165),\n",
       " (\"pepper'][u'2\", 164),\n",
       " (\"drained'][u'1\", 162),\n",
       " (\"sugar'][u'1/2\", 160),\n",
       " ('heavy', 159),\n",
       " ('(1', 155),\n",
       " ('egg', 155),\n",
       " ('mushroom', 155),\n",
       " ('tomatoes,', 155),\n",
       " (\"eggs'][u'1\", 154),\n",
       " ('(3', 154),\n",
       " ('jar', 152),\n",
       " ('in', 152),\n",
       " (\"garlic'][u'1\", 150),\n",
       " (\"butter'][u'2\", 150),\n",
       " (\"soup'][u'1\", 149),\n",
       " (\"pieces'][u'1\", 149),\n",
       " ('chile', 147),\n",
       " (\"flour'][u'2\", 146),\n",
       " ('drained', 144),\n",
       " (\"taste'][u'1/2\", 141),\n",
       " (\"salt'][u'2\", 141),\n",
       " ('sweet', 139),\n",
       " ('peeled,', 137),\n",
       " ('peppers,', 137),\n",
       " (\"halves'][u'1\", 137),\n",
       " ('shrimp,', 135),\n",
       " (\"cheese'][u'2\", 135),\n",
       " ('lemon,', 135),\n",
       " (\"oil'][u'4\", 134),\n",
       " ('chocolate', 134),\n",
       " (\"broth'][u'1\", 133),\n",
       " ('light', 132),\n",
       " (\"chopped'][u'1/2\", 130),\n",
       " (\"sliced'][u'2\", 130),\n",
       " (\"minced'][u'2\", 130),\n",
       " (\"oil'][u'1/2\", 129),\n",
       " ('skinless', 129),\n",
       " ('(14', 127),\n",
       " (\"wine'][u'1\", 127),\n",
       " (\"cream'][u'1\", 125),\n",
       " ('salmon', 125),\n",
       " (\"vinegar'][u'1\", 124),\n",
       " ('lime', 124),\n",
       " ('apple', 124),\n",
       " (\"parsley'][u'1\", 122),\n",
       " (\"sugar'][u'1/4\", 122),\n",
       " ('Dijon', 122),\n",
       " (\"onion'][u'1\", 121),\n",
       " (\"water'][u'2\", 120),\n",
       " (\"taste'][u'1/4\", 119),\n",
       " ('halves,', 119),\n",
       " ('seasoned', 119),\n",
       " ('mozzarella', 119),\n",
       " ('salt', 118),\n",
       " (\"juice'][u'2\", 118),\n",
       " ('curry', 118),\n",
       " ('lean', 118),\n",
       " (\"pepper'][u'1/4\", 117),\n",
       " (\"beef'][u'1\", 116),\n",
       " ('cheese', 115),\n",
       " (\"sauce'][u'1/2\", 115),\n",
       " (\"flour'][u'1/2\", 115),\n",
       " ('halves', 115),\n",
       " ('corn', 115),\n",
       " (\"extract'][u'1\", 114),\n",
       " ('pumpkin', 113),\n",
       " ('sesame', 112),\n",
       " ('seeded', 112),\n",
       " ('oil', 111),\n",
       " (\"powder'][u'2\", 110),\n",
       " (\"beaten'][u'1\", 110),\n",
       " ('fluid', 109),\n",
       " ('loin', 108),\n",
       " ('beans,', 108),\n",
       " (\"milk'][u'2\", 108),\n",
       " (\"needed'][u'1\", 108),\n",
       " ('carrots,', 106),\n",
       " (\"cheese'][u'1/2\", 104),\n",
       " ('ginger', 104),\n",
       " ('a', 103),\n",
       " (\"chops'][u'1\", 102),\n",
       " (\"sauce'][u'1/4\", 102),\n",
       " (\"mustard'][u'1\", 101),\n",
       " ('seasoning', 101),\n",
       " ('coarsely', 101),\n",
       " ('bunch', 100),\n",
       " ('unsalted', 100),\n",
       " ('wine', 99),\n",
       " ('bay', 99),\n",
       " ('extra-virgin', 99),\n",
       " ('rice', 98),\n",
       " ('salt,', 97),\n",
       " ('chicken,', 97),\n",
       " (\"tomatoes'][u'1\", 96),\n",
       " (\"mix'][u'1\", 96),\n",
       " (\"powder'][u'1/4\", 96),\n",
       " ('1', 96),\n",
       " ('sauce', 95),\n",
       " ('baby', 95),\n",
       " ('bone-in', 95),\n",
       " ('thin', 94),\n",
       " (\"oil'][u'3\", 94),\n",
       " ('coconut', 93),\n",
       " (\"cinnamon'][u'1\", 93),\n",
       " ('1-inch', 93),\n",
       " (\"chopped'][u'3\", 92),\n",
       " (\"paprika'][u'1\", 91),\n",
       " ('egg,', 90),\n",
       " (\"egg'][u'1\", 90),\n",
       " ('whipping', 89),\n",
       " ('pastry', 89),\n",
       " (\"taste'][u'4\", 88),\n",
       " ('celery,', 88),\n",
       " (\"oil'][u'1/4\", 87),\n",
       " (\"butter'][u'1/2\", 87),\n",
       " ('balsamic', 86),\n",
       " ('peanut', 85),\n",
       " ('crust', 85),\n",
       " (\"pepper'][u'4\", 84),\n",
       " (\"thyme'][u'1\", 83),\n",
       " (\"minced'][u'1/2\", 83),\n",
       " (\"cubed'][u'1\", 82),\n",
       " ('boneless,', 82),\n",
       " (\"oregano'][u'1\", 82),\n",
       " ('kosher', 81),\n",
       " (\"pasta'][u'1\", 81),\n",
       " (\"leaves'][u'1\", 81),\n",
       " ('cold', 80),\n",
       " (\"mushrooms'][u'1\", 80),\n",
       " (\"cornstarch'][u'1\", 80),\n",
       " (\"strips'][u'1\", 79),\n",
       " ('bottle', 79),\n",
       " ('breasts,', 79),\n",
       " (\"crumbs'][u'1\", 77),\n",
       " (\"divided'][u'2\", 77),\n",
       " (\"seasoning'][u'1\", 77),\n",
       " (\"taste'][u'3\", 76),\n",
       " (\"vinegar'][u'2\", 76),\n",
       " ('thick', 76),\n",
       " (\"diced'][u'2\", 76),\n",
       " ('soup', 76),\n",
       " ('(2', 75),\n",
       " (\"melted'][u'1\", 75),\n",
       " (\"pieces'][u'2\", 75),\n",
       " ('recipe', 75),\n",
       " ('9', 75),\n",
       " ('tomato,', 74),\n",
       " (\"water'][u'1/2\", 74),\n",
       " (\"chopped'][u'1/4\", 74),\n",
       " (\"milk'][u'1/2\", 74),\n",
       " (\"crushed'][u'1\", 74),\n",
       " (\"cheese'][u'1/4\", 74),\n",
       " ('celery', 74),\n",
       " ('leaves', 74),\n",
       " ('(5', 73),\n",
       " ('tomatoes', 73),\n",
       " ('jalapeno', 72),\n",
       " ('head', 72),\n",
       " ('Chicken', 71),\n",
       " ('3/4', 71),\n",
       " ('lightly', 71),\n",
       " (\"(optional)'][u'2\", 71),\n",
       " (\"basil'][u'1\", 71),\n",
       " (\"rice'][u'1\", 70),\n",
       " (\"ginger'][u'1\", 70),\n",
       " ('basil', 70),\n",
       " ('sauce,', 70),\n",
       " ('1/2-inch', 69),\n",
       " ('cooking', 68),\n",
       " ('container', 68),\n",
       " (\"softened'][u'1\", 68),\n",
       " ('cored', 68),\n",
       " ('salad', 68),\n",
       " ('bite-size', 67),\n",
       " ('pineapple', 66),\n",
       " ('canned', 65),\n",
       " (\"paste'][u'1\", 65),\n",
       " (\"cumin'][u'1\", 65),\n",
       " ('semisweet', 64),\n",
       " ('water,', 64),\n",
       " (\"chopped'][u'4\", 64),\n",
       " ('crumbled', 63),\n",
       " (\"cinnamon'][u'1/2\", 63),\n",
       " (\"sugar'][u'3\", 63),\n",
       " ('sprigs', 63),\n",
       " (\"flakes'][u'1\", 63),\n",
       " (\"halves'][u'2\", 63),\n",
       " ('dark', 62),\n",
       " ('halved', 62),\n",
       " ('(28', 61),\n",
       " (\"broth'][u'2\", 61),\n",
       " ('cider', 61),\n",
       " (\"sliced'][u'1/2\", 61),\n",
       " (\"mustard'][u'2\", 61),\n",
       " ('rinsed', 60),\n",
       " ('bacon,', 60),\n",
       " ('trimmed', 60),\n",
       " ('', 59),\n",
       " (\"garlic'][u'2\", 59),\n",
       " (\"cream'][u'2\", 59),\n",
       " (\"pepper'][u'3\", 59),\n",
       " ('evaporated', 59),\n",
       " ('sea', 58),\n",
       " ('broccoli', 58),\n",
       " (\"roast'][u'1\", 58),\n",
       " ('unbaked', 58),\n",
       " ('powder,', 58),\n",
       " ('smoked', 58),\n",
       " ('cubed', 58),\n",
       " (\"pasta'][u'2\", 58),\n",
       " ('Swanson\\\\xae', 58),\n",
       " (\"butter'][u'3\", 57),\n",
       " ('unsweetened', 57),\n",
       " ('taste', 57),\n",
       " (\"extract'][u'2\", 57),\n",
       " (\"butter'][u'1/4\", 56),\n",
       " ('extra', 56),\n",
       " ('roasted', 56),\n",
       " (\"juice'][u'1/4\", 56),\n",
       " ('canola', 56),\n",
       " (\"nutmeg'][u'1\", 55),\n",
       " ('stalks', 55),\n",
       " ('packages', 55),\n",
       " (\"sauce'][u'3\", 55),\n",
       " (\"thawed'][u'1\", 55),\n",
       " ('flour', 55),\n",
       " (\"eggs'][u'2\", 54),\n",
       " (\"honey'][u'1\", 54),\n",
       " ('instant', 54),\n",
       " ('wheat', 54),\n",
       " (\"onion'][u'2\", 54),\n",
       " ('mustard', 54),\n",
       " (\"minced'][u'1/4\", 54),\n",
       " ('Italian-style', 53),\n",
       " (\"beaten'][u'2\", 53),\n",
       " (\"taste'][u'salt\", 52),\n",
       " ('toasted', 52),\n",
       " (\"diced'][u'1/2\", 52),\n",
       " (\"cheese'][u'4\", 52),\n",
       " ('lime,', 52),\n",
       " ('&', 52),\n",
       " ('barbeque', 52),\n",
       " (\"pieces'][u'1/2\", 51),\n",
       " ('penne', 51),\n",
       " ('1/4-inch', 51),\n",
       " ('dash', 51),\n",
       " (\"confectioners'\", 51),\n",
       " (\"cinnamon'][u'1/4\", 50),\n",
       " (\"flour'][u'1/4\", 50),\n",
       " ('sausage,', 50),\n",
       " ('cracker', 50),\n",
       " (\"juiced'][u'1\", 49),\n",
       " (\"broth'][u'1/2\", 49),\n",
       " ('butter', 49),\n",
       " (\"juice'][u'1/2\", 49),\n",
       " ('fish', 49),\n",
       " (\"rosemary'][u'1\", 49),\n",
       " (\"oregano'][u'1/2\", 48),\n",
       " ('leaves,', 48),\n",
       " ('carrot,', 48),\n",
       " ('graham', 48),\n",
       " (\"soda'][u'1\", 48),\n",
       " (\"crust'][u'1\", 47),\n",
       " (\"cream'][u'1/2\", 47),\n",
       " ('maple', 47),\n",
       " ('water', 47),\n",
       " (\"ketchup'][u'1\", 47),\n",
       " ('sugar,', 46),\n",
       " ('bag', 46),\n",
       " ('melted', 46),\n",
       " ('single', 46),\n",
       " ('cherry', 46),\n",
       " (\"wine'][u'2\", 46),\n",
       " ('dill', 46),\n",
       " (\"crumbs'][u'2\", 45),\n",
       " ('zucchini,', 45),\n",
       " ('chops,', 45),\n",
       " (\"deveined'][u'1\", 45),\n",
       " ('whipped', 45),\n",
       " ('round', 45),\n",
       " ('plain', 45),\n",
       " ('virgin', 45),\n",
       " (\"parsley'][u'2\", 44),\n",
       " ('thick)', 44),\n",
       " (\"cloves'][u'1\", 44),\n",
       " ('pitted', 44),\n",
       " ('thyme', 43),\n",
       " (\"drained'][u'2\", 43),\n",
       " (\"chops'][u'2\", 43),\n",
       " (\"chunks'][u'1\", 43),\n",
       " (\"salt'][u'3\", 43),\n",
       " ('venison', 43),\n",
       " ('pounded', 43),\n",
       " (\"onion'][u'1/2\", 43),\n",
       " ('flaked', 43),\n",
       " ('shrimp', 43),\n",
       " ('panko', 43),\n",
       " ('deveined', 43),\n",
       " ('quart', 42),\n",
       " (\"crumbs'][u'1/2\", 42),\n",
       " (\"butter'][u'4\", 42),\n",
       " ('low-sodium', 42),\n",
       " (\"sliced'][u'1/4\", 42),\n",
       " (\"water'][u'1/4\", 41),\n",
       " ('2-inch', 41),\n",
       " ('Cream', 41),\n",
       " ('1/3', 41),\n",
       " (\"mix'][u'2\", 41),\n",
       " ('Jack', 41),\n",
       " ('fillets', 41),\n",
       " (\"chicken'][u'1\", 41),\n",
       " (\"eggs'][u'1/2\", 41),\n",
       " (\"cubes'][u'1\", 41),\n",
       " ('Old', 40),\n",
       " ('asparagus,', 40),\n",
       " ('ricotta', 40),\n",
       " ('corn,', 39),\n",
       " ('cilantro', 39),\n",
       " (\"wine'][u'1/2\", 39),\n",
       " (\"oil'][u'6\", 39),\n",
       " (\"divided'][u'1/2\", 39),\n",
       " ('tilapia', 39),\n",
       " (\"sliced'][u'4\", 39),\n",
       " ('shoulder', 39),\n",
       " (\"salt'][u'4\", 39),\n",
       " ('spinach,', 39),\n",
       " (\"chips'][u'1\", 39),\n",
       " ('Condensed', 39),\n",
       " ('pasta', 39),\n",
       " ('cilantro,', 38),\n",
       " ('parsley,', 38),\n",
       " (\"melted'][u'2\", 38),\n",
       " (\"paprika'][u'1/2\", 38),\n",
       " (\"flour'][u'3/4\", 38),\n",
       " ('Veggie', 38),\n",
       " (\"sliced'][u'3\", 38),\n",
       " ('mixed', 38),\n",
       " (\"taste'][u'ground\", 38),\n",
       " (\"cilantro'][u'1\", 38),\n",
       " ('liquid', 38),\n",
       " ('reduced-sodium', 38),\n",
       " ('(7', 37),\n",
       " (\"vinegar'][u'1/4\", 37),\n",
       " (\"rice'][u'2\", 37),\n",
       " (\"milk'][u'1/4\", 37),\n",
       " (\"wine'][u'1/4\", 37),\n",
       " (\"water'][u'3\", 37),\n",
       " ('parsley', 37),\n",
       " ('hamburger', 37),\n",
       " (\"halved'][u'1\", 37),\n",
       " (\"juice'][u'3\", 37),\n",
       " ('double', 37),\n",
       " ('cocoa', 37),\n",
       " (\"needed'][u'2\", 37),\n",
       " (\"soda'][u'1/2\", 36),\n",
       " (\"salt'][u'1/8\", 36),\n",
       " (\"flour'][u'3\", 36),\n",
       " ('sugar', 36),\n",
       " ('if', 36),\n",
       " (\"thyme'][u'1/2\", 36),\n",
       " (\"cumin'][u'1/2\", 36),\n",
       " (\"milk'][u'3\", 36),\n",
       " ('flakes,', 36),\n",
       " (\"parsley'][u'1/4\", 35),\n",
       " ('lobster', 35),\n",
       " (\"honey'][u'1/4\", 35),\n",
       " ('artichoke', 35),\n",
       " (\"beef'][u'1/2\", 35),\n",
       " ('French', 35),\n",
       " ('(10.5', 35),\n",
       " ('Corn', 35),\n",
       " ('breast,', 35),\n",
       " ('cube', 35),\n",
       " (\"garlic'][u'1/2\", 35),\n",
       " (\"onions'][u'1\", 34),\n",
       " ('Thai', 34),\n",
       " (\"vinegar'][u'1/2\", 34),\n",
       " (\"crushed'][u'2\", 34),\n",
       " (\"sugar'][u'4\", 34),\n",
       " (\"cream'][u'1/4\", 34),\n",
       " ('powder', 34),\n",
       " ('spinach', 34),\n",
       " ('dressing', 34),\n",
       " ('chipotle', 34),\n",
       " (\"sugar'][u'1/3\", 34),\n",
       " ('bouillon', 34),\n",
       " (\"Campbell's\\\\xae\", 34),\n",
       " (\"ginger'][u'1/2\", 34),\n",
       " (\"quartered'][u'1\", 34),\n",
       " (\"pepper'][u'1/8\", 33),\n",
       " (\"parsley'][u'1/2\", 33),\n",
       " (\"zest'][u'1\", 33),\n",
       " (\"honey'][u'2\", 33),\n",
       " (\"spray'][u'1\", 33),\n",
       " (\"stock'][u'1\", 33),\n",
       " ('the', 33),\n",
       " ('juice,', 33),\n",
       " ('sweetened', 33),\n",
       " (\"crumbs'][u'1/4\", 33),\n",
       " ('juice', 33),\n",
       " (\"broth'][u'1/4\", 33),\n",
       " (\"diced'][u'3\", 33),\n",
       " ('peas,', 33),\n",
       " (\"powder'][u'salt\", 33),\n",
       " ('Parmigiano-Reggiano', 33),\n",
       " (\"root'][u'1\", 33),\n",
       " ('sharp', 33),\n",
       " (\"sausage'][u'1\", 33),\n",
       " (\"mustard'][u'1/2\", 33),\n",
       " ('broth,', 33),\n",
       " ('stalk', 33),\n",
       " (\"taste'][u'6\", 32),\n",
       " ('Tomato', 32),\n",
       " ('Wrap\\\\xae', 32),\n",
       " (\"puree'][u'1\", 32),\n",
       " ('Spice', 32),\n",
       " ('portobello', 32),\n",
       " (\"pecans'][u'1\", 32),\n",
       " (\"mix'][u'1/2\", 32),\n",
       " (\"soup'][u'1/2\", 32),\n",
       " ('(24', 32),\n",
       " ('Recipe', 32),\n",
       " (\"cornstarch'][u'2\", 32),\n",
       " (\"drained'][u'1/2\", 32),\n",
       " ('refrigerated', 32),\n",
       " (\"pie'][u'1\", 32),\n",
       " (\"beef'][u'2\", 32),\n",
       " ('sun-dried', 32),\n",
       " (\"thyme'][u'2\", 32),\n",
       " (\"(optional)'][u'1/2\", 32),\n",
       " ('Cajun', 32),\n",
       " (\"cubes'][u'2\", 32),\n",
       " ('quarts', 31),\n",
       " (\"salt'][u'3/4\", 31),\n",
       " (\"sauce'][u'4\", 31),\n",
       " ('Ready', 31),\n",
       " ('Original', 31),\n",
       " (\"chops'][u'salt\", 31),\n",
       " ('topping,', 31),\n",
       " ('room', 31),\n",
       " (\"mushrooms'][u'2\", 31),\n",
       " ('peppers', 31),\n",
       " ('Asian', 31),\n",
       " ('feta', 31),\n",
       " (\"eggs'][u'1/4\", 31),\n",
       " ('mix', 31),\n",
       " ('Islands\\\\xae', 31),\n",
       " (\"syrup'][u'1\", 31),\n",
       " (\"egg'][u'2\", 31),\n",
       " (\"basil'][u'1/2\", 31),\n",
       " ('thawed', 31),\n",
       " ('fennel', 30),\n",
       " ('(4.5', 30),\n",
       " (\"cubed'][u'2\", 30),\n",
       " ('Swiss', 30),\n",
       " ('packet', 30),\n",
       " (\"removed'][u'1\", 30),\n",
       " (\"celery'][u'1\", 30),\n",
       " ('fillets,', 30),\n",
       " (\"pepper'][u'6\", 30),\n",
       " ('creamy', 30),\n",
       " ('(3/4', 30),\n",
       " (\"(optional)'][u'4\", 30),\n",
       " (\"(optional)'][u'3\", 30),\n",
       " ('poultry', 30),\n",
       " (\"extract'][u'1/4\", 30),\n",
       " ('adobo', 30),\n",
       " (\"cheese'][u'3\", 30),\n",
       " ('pine', 30),\n",
       " (\"peas'][u'1\", 30),\n",
       " ('farfalle', 30),\n",
       " (\"ginger'][u'1/4\", 30),\n",
       " ('long', 30),\n",
       " ('margarine,', 29),\n",
       " ('torn', 29),\n",
       " ('linguine', 29),\n",
       " ('at', 29),\n",
       " (\"softened'][u'1/2\", 29),\n",
       " ('teriyaki', 29),\n",
       " (\"divided'][u'4\", 29),\n",
       " ('Kikkoman', 29),\n",
       " ('half', 29),\n",
       " ('apples', 29),\n",
       " ('Monterey', 29),\n",
       " (\"bacon'][u'1\", 29),\n",
       " ('seasoning,', 29),\n",
       " ('Aluminum', 29),\n",
       " (\"cheese'][u'6\", 29),\n",
       " (\"wedges'][u'1\", 29),\n",
       " ('kernel', 29),\n",
       " ('flat-leaf', 29),\n",
       " ('McCormick\\\\xae', 29),\n",
       " ('basil,', 29),\n",
       " ('spicy', 29),\n",
       " (\"walnuts'][u'1\", 29),\n",
       " ('blue', 29),\n",
       " ('cracked', 29),\n",
       " ('hearts,', 29),\n",
       " (\"beaten'][u'1/2\", 29),\n",
       " (\"garlic'][u'1/4\", 29),\n",
       " ('grain', 29),\n",
       " ('ripe', 28),\n",
       " (\"breasts'][u'1\", 28),\n",
       " ('shallots,', 28),\n",
       " (\"strips'][u'2\", 28),\n",
       " (\"carrots'][u'1\", 28),\n",
       " ('shallot,', 28),\n",
       " (\"cornstarch'][u'1/4\", 28),\n",
       " (\"roast'][u'2\", 28),\n",
       " (\"nutmeg'][u'1/2\", 28),\n",
       " ('pint', 28),\n",
       " ('mashed', 28),\n",
       " ('skin', 28),\n",
       " ('box', 28),\n",
       " (\"seasoning'][u'1/2\", 28),\n",
       " (\"frying'][u'1\", 28),\n",
       " ('milk,', 28),\n",
       " ('(20', 28),\n",
       " ('cubes', 28),\n",
       " (\"potatoes'][u'1\", 28),\n",
       " (\"ketchup'][u'2\", 28),\n",
       " (\"milk'][u'4\", 28),\n",
       " (\"minced'][u'3\", 28),\n",
       " (\"(optional)'][u'1/4\", 28),\n",
       " ('golden', 27),\n",
       " (\"mayonnaise'][u'1\", 27),\n",
       " ('crust,', 27),\n",
       " (\"soup'][u'2\", 27),\n",
       " (\"mustard'][u'1/4\", 27),\n",
       " ('oyster', 27),\n",
       " ('low-fat', 27),\n",
       " (\"tomatoes'][u'2\", 27),\n",
       " ('steak', 27),\n",
       " ('apple,', 27),\n",
       " ('angel', 27),\n",
       " ('Sweet', 27),\n",
       " (\"halves'][u'1/2\", 27),\n",
       " (\"slices'][u'1\", 27),\n",
       " (\"extract'][u'1/2\", 27),\n",
       " ('deep', 27),\n",
       " ('bulk', 27),\n",
       " ('hair', 27),\n",
       " (\"seeds'][u'1\", 27),\n",
       " (\"fillets'][u'1\", 27),\n",
       " ('(18', 26),\n",
       " ('flour,', 26),\n",
       " ('pudding', 26),\n",
       " (\"juiced'][u'2\", 26),\n",
       " ('cored,', 26),\n",
       " ('Heinz', 26),\n",
       " (\"water'][u'4\", 26),\n",
       " ('envelope', 26),\n",
       " (\"paprika'][u'1/4\", 26),\n",
       " (\"nutmeg'][u'1/4\", 26),\n",
       " (\"cheese'][u'8\", 26),\n",
       " ('potato', 26),\n",
       " (\"powder'][u'1/8\", 26),\n",
       " ('apricot', 26),\n",
       " (\"seasoning'][u'2\", 26),\n",
       " (\"leaves'][u'2\", 26),\n",
       " ('chuck', 26),\n",
       " ('8', 26),\n",
       " ('limes,', 26),\n",
       " (\"sugar'][u'3/4\", 25),\n",
       " (\"chops'][u'1/2\", 25),\n",
       " ('Cheese', 25),\n",
       " (\"pieces'][u'1/4\", 25),\n",
       " ('stuffing', 25),\n",
       " (\"cheese'][u'3/4\", 25),\n",
       " (\"basil'][u'2\", 25),\n",
       " (\"onion'][u'1/4\", 25),\n",
       " (\"cilantro'][u'2\", 25),\n",
       " ('seafood', 25),\n",
       " (\"divided'][u'1/4\", 25),\n",
       " (\"leaf'][u'1\", 25),\n",
       " ('bacon', 24),\n",
       " ('herb', 24),\n",
       " (\"taste'][u'8\", 24),\n",
       " (\"sage'][u'1\", 24),\n",
       " (\"mayonnaise'][u'2\", 24),\n",
       " (\"oregano'][u'1/4\", 24),\n",
       " ('pizza', 24),\n",
       " (\"oregano'][u'2\", 24),\n",
       " ('kidney', 24),\n",
       " ('barbecue', 24),\n",
       " ('meat', 24),\n",
       " (\"flakes'][u'2\", 24),\n",
       " (\"powder'][u'3\", 24),\n",
       " ('roughly', 24),\n",
       " (\"halves'][u'salt\", 24),\n",
       " ('long-grain', 24),\n",
       " ('plus', 24),\n",
       " ('turkey', 24),\n",
       " (\"quartered'][u'2\", 24),\n",
       " ('cloves,', 24),\n",
       " ('size', 23),\n",
       " ('squares', 23),\n",
       " ('squash,', 23),\n",
       " ('olives,', 23),\n",
       " (\"softened'][u'2\", 23),\n",
       " ('smoke', 23),\n",
       " ('avocado', 23),\n",
       " (\"sauce'][u'3/4\", 23),\n",
       " ('pitted,', 23),\n",
       " (\"paprika'][u'2\", 23),\n",
       " ('stems', 23),\n",
       " (\"undrained'][u'1\", 23),\n",
       " (\"flour'][u'4\", 23),\n",
       " ('UNCLE', 23),\n",
       " (\"BEN'S\\\\xae\", 23),\n",
       " ('piece', 23),\n",
       " (\"crushed'][u'1/2\", 23),\n",
       " (\"garnish'][u'1\", 23),\n",
       " (\"cumin'][u'2\", 23),\n",
       " ('roma', 23),\n",
       " ('Eye\\\\xae', 23),\n",
       " ('Marsala', 23),\n",
       " (\"cinnamon'][u'2\", 23),\n",
       " ('raw', 23),\n",
       " (\"drained'][u'1/4\", 23),\n",
       " ('Granny', 23),\n",
       " ('flavored', 23),\n",
       " ('Birds', 23),\n",
       " ('slice', 23),\n",
       " ('taco', 23),\n",
       " ('buns,', 23),\n",
       " ('salmon,', 22),\n",
       " ('apples,', 22),\n",
       " ('tenderloin,', 22),\n",
       " ('steak,', 22),\n",
       " ('roast,', 22),\n",
       " ('Romano', 22),\n",
       " (\"honey'][u'1/2\", 22),\n",
       " ('chunks,', 22),\n",
       " (\"beer'][u'1\", 22),\n",
       " (\"spray'][u'2\", 22),\n",
       " (\"ham'][u'1\", 22),\n",
       " (\"oil'][u'3/4\", 22),\n",
       " ('crackers,', 22),\n",
       " ('center-cut', 22),\n",
       " (\"leaves'][u'1/4\", 22),\n",
       " ('3', 22),\n",
       " ('thighs,', 22),\n",
       " (\"halves'][u'1/4\", 22),\n",
       " ('sausage', 22),\n",
       " ('Greek', 22),\n",
       " (\"beans'][u'1\", 22),\n",
       " (\"peppers'][u'1\", 22),\n",
       " ('Cuisine\\\\xae', 22),\n",
       " (\"dressing'][u'1\", 22),\n",
       " ('Yves', 22),\n",
       " ('4', 22),\n",
       " ('Alfredo', 22),\n",
       " ('granulated', 22),\n",
       " (\"chopped'][u'salt\", 22),\n",
       " (\"pasta'][u'1/2\", 22),\n",
       " (\"pieces'][u'3\", 22),\n",
       " ('ranch', 22),\n",
       " (\"ginger'][u'2\", 22),\n",
       " (\"minced'][u'4\", 22),\n",
       " (\"juice'][u'salt\", 22),\n",
       " (\"oil'][u'salt\", 22),\n",
       " ('Ragu\\\\xae', 22),\n",
       " ('crispy', 22),\n",
       " (\"flour'][u'salt\", 21),\n",
       " ('2', 21),\n",
       " (\"garlic'][u'3\", 21),\n",
       " ('stewed', 21),\n",
       " ('(32', 21),\n",
       " ('buttery', 21),\n",
       " ('tie)', 21),\n",
       " ('Progresso\\\\xae', 21),\n",
       " (\"trimmed'][u'1\", 21),\n",
       " ('Smith', 21),\n",
       " ('cranberry', 21),\n",
       " ('Refrigerated', 21),\n",
       " ('pecan', 21),\n",
       " ('(plum)', 21),\n",
       " ('zested', 21),\n",
       " ('(bow', 21),\n",
       " ('KRAFT', 21),\n",
       " ('ice', 21),\n",
       " ('boiling', 21),\n",
       " ('BUITONI\\\\xae', 21),\n",
       " ('jars', 21),\n",
       " (\"nutmeg'][u'2\", 20),\n",
       " ('lengthwise', 20),\n",
       " (\"diced'][u'1/4\", 20),\n",
       " ('sugar\"][u\\'1', 20),\n",
       " ('Dijon-style', 20),\n",
       " (\"breasts'][u'2\", 20),\n",
       " ('PHILADELPHIA', 20),\n",
       " (\"seed'][u'1\", 20),\n",
       " ('bread,', 20),\n",
       " ('reduced-fat', 20),\n",
       " ('stew', 20),\n",
       " ('seeded,', 20),\n",
       " ('button', 20),\n",
       " (\"meat'][u'1\", 20),\n",
       " ('lettuce,', 20),\n",
       " ('Vegetable', 20),\n",
       " (\"bouillon'][u'1\", 20),\n",
       " (\"chunks'][u'2\", 20),\n",
       " ('bite', 20),\n",
       " (\"sliced'][u'6\", 20),\n",
       " (\"salt'][u'6\", 20),\n",
       " ('saltine', 20),\n",
       " (\"sauce'][u'1/3\", 20),\n",
       " (\"powder'][u'4\", 20),\n",
       " ('sodium', 20),\n",
       " ('snap', 20),\n",
       " (\"chopped'][u'6\", 20),\n",
       " (\"basil'][u'1/4\", 20),\n",
       " ('lemons,', 20),\n",
       " ('bite-sized', 20),\n",
       " (\"cream'][u'salt\", 20),\n",
       " ('gram)', 20),\n",
       " (\"rings'][u'1\", 19),\n",
       " ('split', 19),\n",
       " ('Garlic', 19),\n",
       " ('squeezed', 19),\n",
       " (\"noodles'][u'1\", 19),\n",
       " (\"soda'][u'1/4\", 19),\n",
       " (\"milk'][u'1/3\", 19),\n",
       " ('separated', 19),\n",
       " (\"Sauce'][u'2\", 19),\n",
       " (\"cloves'][u'1/4\", 19),\n",
       " ('pineapple,', 19),\n",
       " (\"leaves'][u'1/2\", 19),\n",
       " ('rotini', 19),\n",
       " (\"chives'][u'1\", 19),\n",
       " (\"butter'][u'6\", 19),\n",
       " (\"melted'][u'1/4\", 19),\n",
       " (\"melted'][u'1/2\", 19),\n",
       " ('links', 19),\n",
       " (\"buttermilk'][u'1\", 19),\n",
       " ('lettuce', 19),\n",
       " (\"allspice'][u'1/2\", 19),\n",
       " ('mild', 19),\n",
       " ('cream,', 19),\n",
       " ('rosemary,', 19),\n",
       " (\"pasta'][u'1/4\", 19),\n",
       " ('shell,', 19),\n",
       " (\"taste'][u'3/4\", 19),\n",
       " ('ounce', 19),\n",
       " ('hoisin', 19),\n",
       " ('bean', 19),\n",
       " (\"syrup'][u'2\", 19),\n",
       " ('Natural', 19),\n",
       " ('flakes', 19),\n",
       " ('Light', 19),\n",
       " ('yolks,', 19),\n",
       " ('needed', 18),\n",
       " ('(15.5', 18),\n",
       " ('distilled', 18),\n",
       " (\"rosemary'][u'1/2\", 18),\n",
       " (\"coriander'][u'1\", 18),\n",
       " ('gravy', 18),\n",
       " (\"florets'][u'1\", 18),\n",
       " ('grape', 18),\n",
       " (\"egg'][u'1/2\", 18),\n",
       " ('pasta,', 18),\n",
       " ('Mexican', 18),\n",
       " ('The', 18),\n",
       " (\"salsa'][u'1\", 18),\n",
       " ('ginger,', 18),\n",
       " (\"butter'][u'3/4\", 18),\n",
       " (\"tomatoes'][u'1/2\", 18),\n",
       " (\"ketchup'][u'1/4\", 18),\n",
       " ('tips', 18),\n",
       " (\"pumpkin'][u'1\", 18),\n",
       " ('crumbs,', 18),\n",
       " ('broken', 18),\n",
       " (\"juice'][u'1/3\", 18),\n",
       " ('(21', 18),\n",
       " ('potato,', 18),\n",
       " (\"rosemary'][u'2\", 18),\n",
       " (\"flakes'][u'1/2\", 18),\n",
       " (\"chicken'][u'2\", 18),\n",
       " ('eggplant,', 18),\n",
       " (\"sherry'][u'1\", 18),\n",
       " (\"minced'][u'salt\", 18),\n",
       " (\"pepper'][u'salt\", 18),\n",
       " (\"fillets'][u'2\", 18),\n",
       " ('wings,', 18),\n",
       " (\"corn'][u'1\", 18),\n",
       " (\"margarine'][u'1\", 18),\n",
       " ('chopped,', 18),\n",
       " (\"needed'][u'3\", 18),\n",
       " (\"shrimp'][u'1\", 17),\n",
       " ('seeds,', 17),\n",
       " (\"yogurt'][u'1\", 17),\n",
       " (\"vinegar'][u'3\", 17),\n",
       " (\"paste'][u'1/2\", 17),\n",
       " ('Organic', 17),\n",
       " ('spaghetti', 17),\n",
       " ('pieces', 17),\n",
       " (\"turmeric'][u'1\", 17),\n",
       " ('Creole', 17),\n",
       " ('Shredded', 17),\n",
       " (\"Sauce'][u'1\", 17),\n",
       " ('chilled', 17),\n",
       " (\"cornstarch'][u'1/2\", 17),\n",
       " ('tails', 17),\n",
       " (\"paste'][u'2\", 17),\n",
       " (\"oil'][u'8\", 17),\n",
       " ('DOLE\\\\xae', 17),\n",
       " (\"pepper'][u'8\", 17),\n",
       " ('broccoli,', 17),\n",
       " (\"bacon'][u'2\", 17),\n",
       " ('mint', 17),\n",
       " ('regular', 17),\n",
       " (\"sliced'][u'8\", 17),\n",
       " ('milk', 17),\n",
       " (\"minced'][u'3/4\", 17),\n",
       " (\"coconut'][u'1\", 17),\n",
       " (\"halves'][u'4\", 17),\n",
       " (\"flour'][u'1/3\", 17),\n",
       " (\"chips'][u'2\", 17),\n",
       " ('fat-free', 17),\n",
       " (\"root'][u'2\", 17),\n",
       " ('almond', 17),\n",
       " ('low', 17),\n",
       " ('chestnuts,', 17),\n",
       " (\"juice'][u'4\", 17),\n",
       " (\"roast'][u'salt\", 17),\n",
       " (\"pork'][u'1\", 17),\n",
       " ('Soup', 17),\n",
       " (\"raisins'][u'1\", 17),\n",
       " (\"beaten'][u'1/4\", 17),\n",
       " (\"mushrooms'][u'1/2\", 17),\n",
       " ('Fat', 17),\n",
       " (\"parsley'][u'3\", 16),\n",
       " ('quartered', 16),\n",
       " ('such', 16),\n",
       " ('tortilla', 16),\n",
       " ('casings', 16),\n",
       " (\"softened'][u'1/4\", 16),\n",
       " ('oregano', 16),\n",
       " ('(or', 16),\n",
       " (\"removed'][u'2\", 16),\n",
       " (\"stock'][u'2\", 16),\n",
       " ('thyme,', 16),\n",
       " (\"mayonnaise'][u'1/2\", 16),\n",
       " ('flank', 16),\n",
       " (\"thawed'][u'2\", 16),\n",
       " (\"onion'][u'3\", 16),\n",
       " ('coarse', 16),\n",
       " ('2/3', 16),\n",
       " (\"pasta'][u'3\", 16),\n",
       " ('quick-cooking', 16),\n",
       " (\"grated'][u'1\", 16),\n",
       " ('cabbage,', 16),\n",
       " (\"bread'][u'1\", 16),\n",
       " (\"diced'][u'4\", 16),\n",
       " ('according', 16),\n",
       " ('fillet,', 16),\n",
       " ...]"
      ]
     },
     "execution_count": 53,
     "metadata": {},
     "output_type": "execute_result"
    }
   ],
   "source": [
    "counter.most_common()"
   ]
  },
  {
   "cell_type": "code",
   "execution_count": 56,
   "metadata": {
    "collapsed": false
   },
   "outputs": [
    {
     "data": {
      "text/plain": [
       "[\"[u'3/4\",\n",
       " 'cup',\n",
       " \"milk'][u'2\",\n",
       " 'tablespoons',\n",
       " 'white',\n",
       " \"vinegar'][u'1\",\n",
       " 'cup',\n",
       " 'all-purpose',\n",
       " \"flour'][u'2\",\n",
       " 'tablespoons']"
      ]
     },
     "execution_count": 56,
     "metadata": {},
     "output_type": "execute_result"
    }
   ],
   "source": [
    "list_of_ingredient_words[:10]"
   ]
  },
  {
   "cell_type": "code",
   "execution_count": 54,
   "metadata": {
    "collapsed": true
   },
   "outputs": [],
   "source": [
    "import numpy as np\n",
    "import pandas as pd\n",
    "from scipy import stats, integrate\n",
    "import matplotlib.pyplot as plt"
   ]
  },
  {
   "cell_type": "code",
   "execution_count": 55,
   "metadata": {
    "collapsed": false
   },
   "outputs": [],
   "source": [
    "import seaborn as sns\n",
    "sns.set(color_codes=True)"
   ]
  },
  {
   "cell_type": "code",
   "execution_count": null,
   "metadata": {
    "collapsed": false
   },
   "outputs": [],
   "source": [
    "sns.distplot(list_of_ingredient_words, kde=False, rug=True);"
   ]
  },
  {
   "cell_type": "code",
   "execution_count": 57,
   "metadata": {
    "collapsed": true
   },
   "outputs": [],
   "source": [
    "titanic = sns.load_dataset(\"titanic\")\n"
   ]
  },
  {
   "cell_type": "code",
   "execution_count": 61,
   "metadata": {
    "collapsed": false
   },
   "outputs": [],
   "source": [
    "laa = pd.DataFrame(list_of_ingredient_words)"
   ]
  },
  {
   "cell_type": "code",
   "execution_count": 75,
   "metadata": {
    "collapsed": false,
    "scrolled": true
   },
   "outputs": [
    {
     "data": {
      "text/html": [
       "<div>\n",
       "<table border=\"1\" class=\"dataframe\">\n",
       "  <thead>\n",
       "    <tr style=\"text-align: right;\">\n",
       "      <th></th>\n",
       "      <th>0</th>\n",
       "    </tr>\n",
       "  </thead>\n",
       "  <tbody>\n",
       "    <tr>\n",
       "      <th>0</th>\n",
       "      <td>[u'3/4</td>\n",
       "    </tr>\n",
       "    <tr>\n",
       "      <th>1</th>\n",
       "      <td>cup</td>\n",
       "    </tr>\n",
       "    <tr>\n",
       "      <th>2</th>\n",
       "      <td>milk'][u'2</td>\n",
       "    </tr>\n",
       "    <tr>\n",
       "      <th>3</th>\n",
       "      <td>tablespoons</td>\n",
       "    </tr>\n",
       "    <tr>\n",
       "      <th>4</th>\n",
       "      <td>white</td>\n",
       "    </tr>\n",
       "    <tr>\n",
       "      <th>5</th>\n",
       "      <td>vinegar'][u'1</td>\n",
       "    </tr>\n",
       "    <tr>\n",
       "      <th>6</th>\n",
       "      <td>cup</td>\n",
       "    </tr>\n",
       "    <tr>\n",
       "      <th>7</th>\n",
       "      <td>all-purpose</td>\n",
       "    </tr>\n",
       "    <tr>\n",
       "      <th>8</th>\n",
       "      <td>flour'][u'2</td>\n",
       "    </tr>\n",
       "    <tr>\n",
       "      <th>9</th>\n",
       "      <td>tablespoons</td>\n",
       "    </tr>\n",
       "    <tr>\n",
       "      <th>10</th>\n",
       "      <td>white</td>\n",
       "    </tr>\n",
       "    <tr>\n",
       "      <th>11</th>\n",
       "      <td>sugar'][u'1</td>\n",
       "    </tr>\n",
       "    <tr>\n",
       "      <th>12</th>\n",
       "      <td>teaspoon</td>\n",
       "    </tr>\n",
       "    <tr>\n",
       "      <th>13</th>\n",
       "      <td>baking</td>\n",
       "    </tr>\n",
       "    <tr>\n",
       "      <th>14</th>\n",
       "      <td>powder'][u'1/2</td>\n",
       "    </tr>\n",
       "    <tr>\n",
       "      <th>15</th>\n",
       "      <td>teaspoon</td>\n",
       "    </tr>\n",
       "    <tr>\n",
       "      <th>16</th>\n",
       "      <td>baking</td>\n",
       "    </tr>\n",
       "    <tr>\n",
       "      <th>17</th>\n",
       "      <td>soda'][u'1/2</td>\n",
       "    </tr>\n",
       "    <tr>\n",
       "      <th>18</th>\n",
       "      <td>teaspoon</td>\n",
       "    </tr>\n",
       "    <tr>\n",
       "      <th>19</th>\n",
       "      <td>salt'][u'1</td>\n",
       "    </tr>\n",
       "    <tr>\n",
       "      <th>20</th>\n",
       "      <td>egg'][u'2</td>\n",
       "    </tr>\n",
       "    <tr>\n",
       "      <th>21</th>\n",
       "      <td>tablespoons</td>\n",
       "    </tr>\n",
       "    <tr>\n",
       "      <th>22</th>\n",
       "      <td>butter,</td>\n",
       "    </tr>\n",
       "    <tr>\n",
       "      <th>23</th>\n",
       "      <td>melted'][u'cooking</td>\n",
       "    </tr>\n",
       "    <tr>\n",
       "      <th>24</th>\n",
       "      <td>spray'][u'2</td>\n",
       "    </tr>\n",
       "    <tr>\n",
       "      <th>25</th>\n",
       "      <td>tablespoons</td>\n",
       "    </tr>\n",
       "    <tr>\n",
       "      <th>26</th>\n",
       "      <td>canola</td>\n",
       "    </tr>\n",
       "    <tr>\n",
       "      <th>27</th>\n",
       "      <td>oil'][u'1</td>\n",
       "    </tr>\n",
       "    <tr>\n",
       "      <th>28</th>\n",
       "      <td>pound</td>\n",
       "    </tr>\n",
       "    <tr>\n",
       "      <th>29</th>\n",
       "      <td>ground</td>\n",
       "    </tr>\n",
       "    <tr>\n",
       "      <th>...</th>\n",
       "      <td>...</td>\n",
       "    </tr>\n",
       "    <tr>\n",
       "      <th>151191</th>\n",
       "      <td>clove</td>\n",
       "    </tr>\n",
       "    <tr>\n",
       "      <th>151192</th>\n",
       "      <td>garlic,</td>\n",
       "    </tr>\n",
       "    <tr>\n",
       "      <th>151193</th>\n",
       "      <td>minced'][u'salt</td>\n",
       "    </tr>\n",
       "    <tr>\n",
       "      <th>151194</th>\n",
       "      <td>and</td>\n",
       "    </tr>\n",
       "    <tr>\n",
       "      <th>151195</th>\n",
       "      <td>ground</td>\n",
       "    </tr>\n",
       "    <tr>\n",
       "      <th>151196</th>\n",
       "      <td>black</td>\n",
       "    </tr>\n",
       "    <tr>\n",
       "      <th>151197</th>\n",
       "      <td>pepper</td>\n",
       "    </tr>\n",
       "    <tr>\n",
       "      <th>151198</th>\n",
       "      <td>to</td>\n",
       "    </tr>\n",
       "    <tr>\n",
       "      <th>151199</th>\n",
       "      <td>taste'][u'4</td>\n",
       "    </tr>\n",
       "    <tr>\n",
       "      <th>151200</th>\n",
       "      <td>thin</td>\n",
       "    </tr>\n",
       "    <tr>\n",
       "      <th>151201</th>\n",
       "      <td>chicken</td>\n",
       "    </tr>\n",
       "    <tr>\n",
       "      <th>151202</th>\n",
       "      <td>breast</td>\n",
       "    </tr>\n",
       "    <tr>\n",
       "      <th>151203</th>\n",
       "      <td>cutlets'][u'8</td>\n",
       "    </tr>\n",
       "    <tr>\n",
       "      <th>151204</th>\n",
       "      <td>slices</td>\n",
       "    </tr>\n",
       "    <tr>\n",
       "      <th>151205</th>\n",
       "      <td>pancetta'][u'1</td>\n",
       "    </tr>\n",
       "    <tr>\n",
       "      <th>151206</th>\n",
       "      <td>(4</td>\n",
       "    </tr>\n",
       "    <tr>\n",
       "      <th>151207</th>\n",
       "      <td>pound)</td>\n",
       "    </tr>\n",
       "    <tr>\n",
       "      <th>151208</th>\n",
       "      <td>whole</td>\n",
       "    </tr>\n",
       "    <tr>\n",
       "      <th>151209</th>\n",
       "      <td>chicken'][u'1/4</td>\n",
       "    </tr>\n",
       "    <tr>\n",
       "      <th>151210</th>\n",
       "      <td>cup</td>\n",
       "    </tr>\n",
       "    <tr>\n",
       "      <th>151211</th>\n",
       "      <td>butter'][u'1</td>\n",
       "    </tr>\n",
       "    <tr>\n",
       "      <th>151212</th>\n",
       "      <td>large</td>\n",
       "    </tr>\n",
       "    <tr>\n",
       "      <th>151213</th>\n",
       "      <td>lemon,</td>\n",
       "    </tr>\n",
       "    <tr>\n",
       "      <th>151214</th>\n",
       "      <td>halved'][u'1</td>\n",
       "    </tr>\n",
       "    <tr>\n",
       "      <th>151215</th>\n",
       "      <td>head</td>\n",
       "    </tr>\n",
       "    <tr>\n",
       "      <th>151216</th>\n",
       "      <td>garlic,</td>\n",
       "    </tr>\n",
       "    <tr>\n",
       "      <th>151217</th>\n",
       "      <td>halved'][u'1/2</td>\n",
       "    </tr>\n",
       "    <tr>\n",
       "      <th>151218</th>\n",
       "      <td>cup</td>\n",
       "    </tr>\n",
       "    <tr>\n",
       "      <th>151219</th>\n",
       "      <td>amaretto</td>\n",
       "    </tr>\n",
       "    <tr>\n",
       "      <th>151220</th>\n",
       "      <td>liqueur']</td>\n",
       "    </tr>\n",
       "  </tbody>\n",
       "</table>\n",
       "<p>151221 rows × 1 columns</p>\n",
       "</div>"
      ],
      "text/plain": [
       "                         0\n",
       "0                   [u'3/4\n",
       "1                      cup\n",
       "2               milk'][u'2\n",
       "3              tablespoons\n",
       "4                    white\n",
       "5            vinegar'][u'1\n",
       "6                      cup\n",
       "7              all-purpose\n",
       "8              flour'][u'2\n",
       "9              tablespoons\n",
       "10                   white\n",
       "11             sugar'][u'1\n",
       "12                teaspoon\n",
       "13                  baking\n",
       "14          powder'][u'1/2\n",
       "15                teaspoon\n",
       "16                  baking\n",
       "17            soda'][u'1/2\n",
       "18                teaspoon\n",
       "19              salt'][u'1\n",
       "20               egg'][u'2\n",
       "21             tablespoons\n",
       "22                 butter,\n",
       "23      melted'][u'cooking\n",
       "24             spray'][u'2\n",
       "25             tablespoons\n",
       "26                  canola\n",
       "27               oil'][u'1\n",
       "28                   pound\n",
       "29                  ground\n",
       "...                    ...\n",
       "151191               clove\n",
       "151192             garlic,\n",
       "151193     minced'][u'salt\n",
       "151194                 and\n",
       "151195              ground\n",
       "151196               black\n",
       "151197              pepper\n",
       "151198                  to\n",
       "151199         taste'][u'4\n",
       "151200                thin\n",
       "151201             chicken\n",
       "151202              breast\n",
       "151203       cutlets'][u'8\n",
       "151204              slices\n",
       "151205      pancetta'][u'1\n",
       "151206                  (4\n",
       "151207              pound)\n",
       "151208               whole\n",
       "151209     chicken'][u'1/4\n",
       "151210                 cup\n",
       "151211        butter'][u'1\n",
       "151212               large\n",
       "151213              lemon,\n",
       "151214        halved'][u'1\n",
       "151215                head\n",
       "151216             garlic,\n",
       "151217      halved'][u'1/2\n",
       "151218                 cup\n",
       "151219            amaretto\n",
       "151220           liqueur']\n",
       "\n",
       "[151221 rows x 1 columns]"
      ]
     },
     "execution_count": 75,
     "metadata": {},
     "output_type": "execute_result"
    }
   ],
   "source": [
    "laa"
   ]
  },
  {
   "cell_type": "code",
   "execution_count": 63,
   "metadata": {
    "collapsed": false
   },
   "outputs": [],
   "source": [
    "ax = sns.countplot(x=0, data=laa)"
   ]
  },
  {
   "cell_type": "code",
   "execution_count": 76,
   "metadata": {
    "collapsed": false
   },
   "outputs": [
    {
     "data": {
      "text/plain": [
       "151221"
      ]
     },
     "execution_count": 76,
     "metadata": {},
     "output_type": "execute_result"
    }
   ],
   "source": [
    "len(laa)"
   ]
  },
  {
   "cell_type": "code",
   "execution_count": 74,
   "metadata": {
    "collapsed": false
   },
   "outputs": [
    {
     "data": {
      "text/plain": [
       "<matplotlib.axes._subplots.AxesSubplot at 0x7f19f0e265d0>"
      ]
     },
     "execution_count": 74,
     "metadata": {},
     "output_type": "execute_result"
    },
    {
     "data": {
      "image/png": "[encoded data removed]",
      "text/plain": [
       "<matplotlib.figure.Figure at 0x7f1a0a582e10>"
      ]
     },
     "metadata": {},
     "output_type": "display_data"
    }
   ],
   "source": [
    "%matplotlib inline\n",
    "sns.countplot(x=0, data=laa)"
   ]
  },
  {
   "cell_type": "code",
   "execution_count": null,
   "metadata": {
    "collapsed": true
   },
   "outputs": [],
   "source": [
    "from os import path\n",
    "from wordcloud import WordCloud\n",
    "\n",
    "\n",
    "# Read the whole text.\n",
    "text = namesstr\n",
    "# Generate a word cloud image\n",
    "wordcloud = WordCloud().generate(text)\n",
    "\n",
    "# Display the generated image:\n",
    "# the matplotlib way:\n",
    "import matplotlib.pyplot as plt\n",
    "plt.imshow(wordcloud)\n",
    "plt.axis(\"off\")\n",
    "\n",
    "# take relative word frequencies into account, lower max_font_size\n",
    "wordcloud = WordCloud(max_font_size=40, relative_scaling=.5).generate(text)\n",
    "plt.figure()\n",
    "plt.imshow(wordcloud)\n",
    "plt.axis(\"off\")\n",
    "plt.show()\n",
    "\n",
    "# The pil way (if you don't have matplotlib)\n",
    "#image = wordcloud.to_image()\n",
    "#image.show()aa"
   ]
  }
 ],
 "metadata": {
  "kernelspec": {
   "display_name": "Python [insight]",
   "language": "python",
   "name": "Python [insight]"
  },
  "language_info": {
   "codemirror_mode": {
    "name": "ipython",
    "version": 2
   },
   "file_extension": ".py",
   "mimetype": "text/x-python",
   "name": "python",
   "nbconvert_exporter": "python",
   "pygments_lexer": "ipython2",
   "version": "2.7.12"
  }
 },
 "nbformat": 4,
 "nbformat_minor": 0
}
