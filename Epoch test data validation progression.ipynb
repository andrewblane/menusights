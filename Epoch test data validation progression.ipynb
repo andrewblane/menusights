{
 "cells": [
  {
   "cell_type": "code",
   "execution_count": 108,
   "metadata": {},
   "outputs": [
    {
     "data": {
      "text/plain": [
       "0.00026583171163268692"
      ]
     },
     "execution_count": 108,
     "metadata": {},
     "output_type": "execute_result"
    }
   ],
   "source": [
    "nodes=40\n",
    "# so far best model: loss around 3620, r2 around 0.193 on test data on epoch 50\n",
    "tf.reset_default_graph()\n",
    "tflearn.init_graph()\n",
    "loss = tf.losses.huber_loss(net,filtered_y)\n",
    "\n",
    "net = tflearn.input_data(shape=[None, 300])\n",
    "net = tflearn.fully_connected(net, nodes, activation=\"tanh\", regularizer=\"L2\")\n",
    "net = tflearn.fully_connected(net, nodes, activation=\"relu\")#, regularizer=\"L2\")\n",
    "net = tflearn.fully_connected(net, 1, activation='linear') \n",
    "#net = tflearn.dropout(net, 0.5) #was 0.9\n",
    "net = tflearn.regression(net, optimizer=\"adam\",loss=\"mean_square\", metric=\"R2\", learning_rate=0.001) #was 0.001\n",
    "\n",
    "dnnmodel = tflearn.DNN(net, tensorboard_verbose=3, tensorboard_dir=\"graph\")\n",
    "#dnnmodel = tflearn.DNN(net)\n",
    "\n",
    "#dnnmodel.load(\"dnn_models/dnn_10node_200epoch_tan-relu-linear_80pcttrain_nosoftmax.tflearn\")\n",
    "#dnnmodel.fit(filtered_x_vect, filtered_y, validation_set=0.2, batch_size = 16, n_epoch = 20, show_metric=True)\n",
    "#print(rsquared([i[0] for i in dnnmodel.predict(filtered_x_vect[3152:])], [i[0] for i in filtered_y[3152:]]))"
   ]
  }
 ],
 "metadata": {
  "kernelspec": {
   "display_name": "tf",
   "language": "python",
   "name": "tf"
  },
  "language_info": {
   "codemirror_mode": {
    "name": "ipython",
    "version": 3
   },
   "file_extension": ".py",
   "mimetype": "text/x-python",
   "name": "python",
   "nbconvert_exporter": "python",
   "pygments_lexer": "ipython3",
   "version": "3.6.3"
  }
 },
 "nbformat": 4,
 "nbformat_minor": 2
}
