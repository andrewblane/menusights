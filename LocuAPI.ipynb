{
 "cells": [
  {
   "cell_type": "code",
   "execution_count": null,
   "metadata": {
    "collapsed": true
   },
   "outputs": [],
   "source": [
    "payload = {\n",
    "        \"api_key\": \"5fb6c8a1c4140c9a88acf7223c25caddc26a4f0d\",\n",
    "        \"venue_queries\": [{\n",
    "            \"menus\" : { \"$present\" : \"true\" },\n",
    "            \"location\": {\n",
    "                \"address1\": \"1\"\n",
    "        }}],\n",
    "        \"fields\": [\"name\", \"location\", \"menu_items\"],\n",
    "       \n",
    "    }\n",
    "    \n",
    "resp = requests.post('https://api.locu.com/v2/venue/search', \n",
    "                     data=json.dumps(payload))"
   ]
  },
  {
   "cell_type": "code",
   "execution_count": null,
   "metadata": {
    "collapsed": true
   },
   "outputs": [],
   "source": [
    "                \"geo\": {\"$in_lat_lng_radius\" : [53, -8, 50000]}"
   ]
  },
  {
   "cell_type": "code",
   "execution_count": null,
   "metadata": {
    "collapsed": true
   },
   "outputs": [],
   "source": [
    "len(json.loads(resp.content)[\"venues\"])"
   ]
  }
 ],
 "metadata": {
  "kernelspec": {
   "display_name": "Python [insight]",
   "language": "python",
   "name": "Python [insight]"
  },
  "language_info": {
   "codemirror_mode": {
    "name": "ipython",
    "version": 2
   },
   "file_extension": ".py",
   "mimetype": "text/x-python",
   "name": "python",
   "nbconvert_exporter": "python",
   "pygments_lexer": "ipython2",
   "version": "2.7.12"
  }
 },
 "nbformat": 4,
 "nbformat_minor": 0
}
