{
 "cells": [
  {
   "cell_type": "code",
   "execution_count": 1,
   "metadata": {
    "collapsed": true
   },
   "outputs": [],
   "source": [
    "import psycopg2\n",
    "from sqlalchemy import create_engine, Column, Integer, String, Float, ForeignKey\n",
    "from sqlalchemy.ext.declarative import declarative_base\n",
    "from sqlalchemy.orm import relationship, sessionmaker\n",
    "import re\n",
    "from __future__ import print_function"
   ]
  },
  {
   "cell_type": "code",
   "execution_count": 2,
   "metadata": {
    "collapsed": true
   },
   "outputs": [],
   "source": [
    "import numpy as np\n",
    "import pandas as pd\n",
    "import nltk\n",
    "import re\n",
    "import os\n",
    "import codecs\n",
    "from sklearn import feature_extraction\n",
    "import mpld3\n",
    "\n",
    "from nltk.stem.snowball import SnowballStemmer"
   ]
  },
  {
   "cell_type": "code",
   "execution_count": 3,
   "metadata": {
    "collapsed": true
   },
   "outputs": [],
   "source": [
    "Base = declarative_base()"
   ]
  },
  {
   "cell_type": "code",
   "execution_count": 4,
   "metadata": {
    "collapsed": false
   },
   "outputs": [],
   "source": [
    "class Recipe(Base):\n",
    "    __tablename__ = 'recipes'\n",
    "    \n",
    "    id = Column(Integer, primary_key=True)\n",
    "    name = Column(String)\n",
    "    url = Column(String, unique=True)\n",
    "    calories = Column(Integer)\n",
    "    fat = Column(Float)\n",
    "    carbs = Column(Float)\n",
    "    protein = Column(Float)\n",
    "    cholesterol = Column(Float)\n",
    "    sodium = Column(Float)\n",
    "    servings = Column(Integer)\n",
    "    #ingredients = \n",
    "    #__table_args__ = {'extend_existing': True}\n",
    "    \n",
    "    def __repr__(self):\n",
    "        return \"<Recipe(name='%s', url='%s')>\" % (\n",
    "            self.name, self.url)\n",
    "    \n",
    "class Ingredient(Base):\n",
    "    __tablename__ = 'ingredients'\n",
    "    id = Column(Integer, primary_key = True)\n",
    "    ingredient = Column(String, nullable = False)\n",
    "    recipe_id = Column(Integer, ForeignKey('recipes.id'))\n",
    "    \n",
    "    recipe = relationship(Recipe, back_populates = 'ingredients')\n",
    "    #__table_args__ = {'extend_existing': True}\n",
    "    def __repr__(self):\n",
    "        return \"<Ingredient(ingredient='%s')>\" % self.ingredient\n",
    "\n",
    "Recipe.ingredients = relationship(\"Ingredient\", order_by=Ingredient.id, back_populates=\"recipe\")\n",
    "\n",
    "class Restaurant(Base):\n",
    "    __tablename__ = 'restaurants'\n",
    "    id = Column(Integer, primary_key=True)\n",
    "    name = Column(String)\n",
    "    url = Column(String)\n",
    "    zomatoID = Column(Integer, unique=True)\n",
    "    costfortwo = Column(Float)\n",
    "    featured_image = Column(String)\n",
    "    photos = Column(String)\n",
    "    menu_url = Column(String)\n",
    "    price_range = Column(Integer)\n",
    "    latitude = Column(Float)\n",
    "    longitude = Column(Float)\n",
    "    address = Column(String)\n",
    "    \n",
    "    def __repr__(self):\n",
    "        return \"<Restaurant(name='%s', url='%s')>\" % (\n",
    "            self.name, self.url)\n",
    "\n",
    "class MenuItem(Base):\n",
    "    __tablename__ = 'menuitems'\n",
    "    id = Column(Integer, primary_key=True)\n",
    "    menuitem = Column(String, nullable = False)\n",
    "    description = Column(String)\n",
    "    restaurant_id = Column(Integer, ForeignKey('restaurants.id'))\n",
    "    price = Column(String)\n",
    "    \n",
    "    restaurant = relationship(Restaurant, back_populates = 'menuitems')\n",
    "    __table_args__ = {'extend_existing': True}\n",
    "    def __repr__(self):\n",
    "        return \"<MenuItem(item='%s', desc='%s')>\" % (\n",
    "            self.menuitem, self.description)\n",
    "    \n",
    "Restaurant.menuitems = relationship(\"MenuItem\", order_by=MenuItem.id, back_populates=\"restaurant\")"
   ]
  },
  {
   "cell_type": "code",
   "execution_count": 5,
   "metadata": {
    "collapsed": true
   },
   "outputs": [],
   "source": [
    "measurements = (\"femtogram\", \"gigagram\", \"gram\", \"hectogram\", \"kilogram\", \\\n",
    "                \"long\", \"ton\", \"mcg\", \"megagram\", \"metric\", \"ton\", \"metric\"\\\n",
    "                \"tonne\", \"microgram\", \"milligram\",\"nanogram\", \"ounce\", \\\n",
    "                \"lb\", \"oz\", \"each\", \"pound\", \"short\", \"Gram\", \"Ounce\", \"Pint\", \"Quart\",\\\n",
    "                \"Tablespoon\", \"Teaspoon\", \"Tablespoons\", \"Teaspoons\", \"Cups\", \"cup\",\"Fluid Ounce\", \"fl oz\", \"Gallon\", \"Ounce\", \\\n",
    "                \"Pint\", \"Quart\", \"Tablespoon\", \"Teaspoon\", \"liter\", \"litre\", \"L\", \"ml\", \"fluid ounces\", \"can\", \"cans\")"
   ]
  },
  {
   "cell_type": "code",
   "execution_count": 6,
   "metadata": {
    "collapsed": false
   },
   "outputs": [],
   "source": [
    "def find_measurement_words(i):\n",
    "    ingredient_line = i\n",
    "    for item in measurements:\n",
    "        meas = str(\" \" + item.lower() + \" \")\n",
    "        a = re.search(meas, ingredient_line)\n",
    "        if a > 0:\n",
    "            unit = ingredient_line[a.start():a.end()].strip()\n",
    "            quantity = ingredient_line[:a.start()].strip()\n",
    "            ingredient = ingredient_line[a.end():].strip()\n",
    "            break\n",
    "        else:\n",
    "            ilist = i.split(\" \")\n",
    "            quantity = ilist[0]\n",
    "            unit = \"each\"\n",
    "            ingredient = \" \".join(ilist[1:])\n",
    "    newitem = {\"ingredient\": ingredient,\n",
    "    \"unit\": unit,\n",
    "    \"quantity\":  quantity}\n",
    "    try:\n",
    "        fracsplit = ([float(k) for k in newitem[\"quantity\"].split(\"/\")])\n",
    "        if len(fracsplit) >= 2:\n",
    "            newitem[\"quantity\"] = fracsplit[0] / fracsplit[1]\n",
    "    except:\n",
    "        None\n",
    "    #print(newitem)\n",
    "    return newitem"
   ]
  },
  {
   "cell_type": "code",
   "execution_count": 7,
   "metadata": {
    "collapsed": false
   },
   "outputs": [],
   "source": [
    "def clean_up_ingredient(ingredient_line):\n",
    "    ingredient_line = re.sub(\"\\[u\\'\", \"\", ingredient_line)\n",
    "    ingredient_line = re.sub(\"\\']\", \"\", ingredient_line)\n",
    "    return find_measurement_words(ingredient_line)"
   ]
  },
  {
   "cell_type": "code",
   "execution_count": 8,
   "metadata": {
    "collapsed": false
   },
   "outputs": [
    {
     "name": "stdout",
     "output_type": "stream",
     "text": [
      "postgres://andylane@localhost/restaurants\n"
     ]
    },
    {
     "name": "stderr",
     "output_type": "stream",
     "text": [
      "/home/andylane/anaconda2/envs/insight/lib/python2.7/site-packages/sqlalchemy/dialects/__init__.py:34: SADeprecationWarning: The SQLAlchemy PostgreSQL dialect has been renamed from 'postgres' to 'postgresql'. The new URL format is postgresql[+driver]://<user>:<pass>@<host>/<dbname>\n",
      "  module = __import__('sqlalchemy.dialects.%s' % (dialect, )).dialects\n"
     ]
    }
   ],
   "source": [
    "dbname = 'restaurants'\n",
    "username = 'andylane'\n",
    "engine = create_engine('postgres://%s@localhost/%s'%(username,dbname))\n",
    "print(engine.url)"
   ]
  },
  {
   "cell_type": "code",
   "execution_count": 9,
   "metadata": {
    "collapsed": false
   },
   "outputs": [],
   "source": [
    "con = None\n",
    "con = psycopg2.connect(database = \"restaurants\", user = \"andylane\")\n",
    "Session = sessionmaker(bind=engine)\n",
    "session = Session()"
   ]
  },
  {
   "cell_type": "markdown",
   "metadata": {},
   "source": [
    "##Get recipe names into a vector"
   ]
  },
  {
   "cell_type": "code",
   "execution_count": 10,
   "metadata": {
    "collapsed": false
   },
   "outputs": [],
   "source": [
    "names = session.query(Recipe).all()"
   ]
  },
  {
   "cell_type": "code",
   "execution_count": 11,
   "metadata": {
    "collapsed": false
   },
   "outputs": [],
   "source": [
    "titles=[]\n",
    "for item in names:\n",
    "    titles.append(item.name)"
   ]
  },
  {
   "cell_type": "markdown",
   "metadata": {},
   "source": [
    "##Get ingredient lists into vector, order matching names"
   ]
  },
  {
   "cell_type": "code",
   "execution_count": 12,
   "metadata": {
    "collapsed": false,
    "scrolled": true
   },
   "outputs": [],
   "source": [
    "synopses = []\n",
    "for item in names:\n",
    "    synopses.append(\" \".join([clean_up_ingredient(a.ingredient)[\"ingredient\"] for a in item.ingredients]))"
   ]
  },
  {
   "cell_type": "code",
   "execution_count": 13,
   "metadata": {
    "collapsed": false,
    "scrolled": true
   },
   "outputs": [],
   "source": [
    "recipeids = []\n",
    "for item in names:\n",
    "    recipeids.append(item.id)"
   ]
  },
  {
   "cell_type": "code",
   "execution_count": 14,
   "metadata": {
    "collapsed": true
   },
   "outputs": [],
   "source": [
    "calories=[]\n",
    "for item in names:\n",
    "    calories.append(item.calories)"
   ]
  },
  {
   "cell_type": "code",
   "execution_count": 15,
   "metadata": {
    "collapsed": true
   },
   "outputs": [],
   "source": [
    "cholesterol=[]\n",
    "for item in names:\n",
    "    cholesterol.append(item.cholesterol)"
   ]
  },
  {
   "cell_type": "markdown",
   "metadata": {},
   "source": [
    "http://brandonrose.org/clustering"
   ]
  },
  {
   "cell_type": "code",
   "execution_count": 16,
   "metadata": {
    "collapsed": true
   },
   "outputs": [],
   "source": [
    "stopwords = nltk.corpus.stopwords.words('english')\n",
    "stemmer = SnowballStemmer(\"english\")"
   ]
  },
  {
   "cell_type": "markdown",
   "metadata": {},
   "source": [
    "## Match menu items to a cluster"
   ]
  },
  {
   "cell_type": "code",
   "execution_count": 17,
   "metadata": {
    "collapsed": true
   },
   "outputs": [],
   "source": [
    "def tokenize_and_stem(title):\n",
    "    stemmer = SnowballStemmer(\"english\")\n",
    "    stemmed_titles = []\n",
    "    new_title=[]\n",
    "    for word in nltk.word_tokenize(title):\n",
    "        new_title.append(stemmer.stem(word))\n",
    "    stemmed_titles.extend(new_title)\n",
    "    return [i for i in stemmed_titles]"
   ]
  },
  {
   "cell_type": "code",
   "execution_count": 18,
   "metadata": {
    "collapsed": false
   },
   "outputs": [
    {
     "name": "stderr",
     "output_type": "stream",
     "text": [
      "/home/andylane/anaconda2/envs/insight/lib/python2.7/site-packages/IPython/core/formatters.py:92: DeprecationWarning: DisplayFormatter._ipython_display_formatter_default is deprecated: use @default decorator instead.\n",
      "  def _ipython_display_formatter_default(self):\n",
      "/home/andylane/anaconda2/envs/insight/lib/python2.7/site-packages/IPython/core/formatters.py:98: DeprecationWarning: DisplayFormatter._formatters_default is deprecated: use @default decorator instead.\n",
      "  def _formatters_default(self):\n",
      "/home/andylane/anaconda2/envs/insight/lib/python2.7/site-packages/IPython/core/formatters.py:677: DeprecationWarning: PlainTextFormatter._deferred_printers_default is deprecated: use @default decorator instead.\n",
      "  def _deferred_printers_default(self):\n",
      "/home/andylane/anaconda2/envs/insight/lib/python2.7/site-packages/IPython/core/formatters.py:669: DeprecationWarning: PlainTextFormatter._singleton_printers_default is deprecated: use @default decorator instead.\n",
      "  def _singleton_printers_default(self):\n",
      "/home/andylane/anaconda2/envs/insight/lib/python2.7/site-packages/IPython/core/formatters.py:672: DeprecationWarning: PlainTextFormatter._type_printers_default is deprecated: use @default decorator instead.\n",
      "  def _type_printers_default(self):\n",
      "/home/andylane/anaconda2/envs/insight/lib/python2.7/site-packages/IPython/core/formatters.py:669: DeprecationWarning: PlainTextFormatter._singleton_printers_default is deprecated: use @default decorator instead.\n",
      "  def _singleton_printers_default(self):\n",
      "/home/andylane/anaconda2/envs/insight/lib/python2.7/site-packages/IPython/core/formatters.py:672: DeprecationWarning: PlainTextFormatter._type_printers_default is deprecated: use @default decorator instead.\n",
      "  def _type_printers_default(self):\n",
      "/home/andylane/anaconda2/envs/insight/lib/python2.7/site-packages/IPython/core/formatters.py:677: DeprecationWarning: PlainTextFormatter._deferred_printers_default is deprecated: use @default decorator instead.\n",
      "  def _deferred_printers_default(self):\n"
     ]
    },
    {
     "data": {
      "text/plain": [
       "['braised', 'short', 'ribs']"
      ]
     },
     "execution_count": 18,
     "metadata": {},
     "output_type": "execute_result"
    }
   ],
   "source": [
    "nltk.word_tokenize(\"braised short ribs\")"
   ]
  },
  {
   "cell_type": "code",
   "execution_count": 19,
   "metadata": {
    "collapsed": true
   },
   "outputs": [],
   "source": [
    "def cluster_recipes(titles, num_clusters = 380): \n",
    "    def tokenize_and_stem(title):\n",
    "        stemmer = SnowballStemmer(\"english\")\n",
    "        stemmed_titles = []\n",
    "        new_title=[]\n",
    "        for word in nltk.word_tokenize(title):\n",
    "            new_title.append(stemmer.stem(word))\n",
    "        stemmed_titles.extend(new_title)\n",
    "        return [i for i in stemmed_titles]\n",
    "\n",
    "    def tokenize_only(title):\n",
    "        tokenized_titles = []\n",
    "        new_title=[]\n",
    "        for word in nltk.word_tokenize(title):\n",
    "            new_title.append(word)\n",
    "        tokenized_titles.extend(new_title)\n",
    "        return [i for i in tokenized_titles]\n",
    "\n",
    "    #not super pythonic, no, not at all.\n",
    "    #use extend so it's a big flat list of vocab\n",
    "    totalvocab_stemmed = []\n",
    "    totalvocab_tokenized = []\n",
    "    for i in titles:\n",
    "        totalvocab_stemmed.extend([j for j in tokenize_and_stem(i)])\n",
    "        totalvocab_tokenized.extend([k for k in tokenize_only(i)])\n",
    "\n",
    "    vocab_frame = pd.DataFrame({'words': totalvocab_tokenized}, index = totalvocab_stemmed)\n",
    "\n",
    "    from sklearn.feature_extraction.text import TfidfVectorizer, CountVectorizer\n",
    "\n",
    "    #define vectorizer parameters\n",
    "    tfidf_vectorizer = TfidfVectorizer(max_df=0.9, max_features=200000,\n",
    "                                     min_df=0.01, stop_words='english',\n",
    "                                     use_idf=True, tokenizer=tokenize_and_stem, ngram_range=(1,3))\n",
    "\n",
    "    count_vectorizer = CountVectorizer(max_df=0.9, max_features=200000,\n",
    "                                     min_df=0.01, stop_words='english', tokenizer=tokenize_and_stem, ngram_range=(1,3))\n",
    "\n",
    "\n",
    "    tfidf_matrix = tfidf_vectorizer.fit_transform(titles) #fit the vectorizer to synopses\n",
    "\n",
    "    print(tfidf_matrix.shape)\n",
    "\n",
    "    terms = tfidf_vectorizer.get_feature_names()\n",
    "\n",
    "    from sklearn.metrics.pairwise import cosine_similarity\n",
    "    dist = 1 - cosine_similarity(tfidf_matrix)\n",
    "\n",
    "    from sklearn.cluster import KMeans\n",
    "    #num_clusters = 380\n",
    "    km = KMeans(n_clusters=num_clusters)\n",
    "    km.fit(tfidf_matrix)\n",
    "    clusters = km.labels_.tolist()\n",
    "    \n",
    "    from sklearn.externals import joblib\n",
    "    #uncomment the below to save your model \n",
    "    #since I've already run my model I am loading from the pickle\n",
    "    #joblib.dump(km,  'doc_cluster.pkl')\n",
    "    #km = joblib.load('doc_cluster.pkl')\n",
    "    recipes = {'title': titles,\n",
    "               'synopsis': synopses,\n",
    "               'calories': calories,\n",
    "               'cholesterol': cholesterol,\n",
    "               'cluster': clusters,\n",
    "               'recipeid': recipeids}\n",
    "    frame = pd.DataFrame(recipes, index = [clusters] , columns = ['title', 'cluster', 'calories', 'cholesterol', 'recipeid'])\n",
    "    frame['cluster'].value_counts()\n",
    "    grouped = frame['cholesterol'].groupby(frame['cluster']) #groupby cluster for aggregation purposes\n",
    "    grouped.mean() #average rank (1 to 100) per cluster\n",
    "    return {\"cluster_designations\": frame, \"vectorizer\": tfidf_vectorizer, \"model\": km}"
   ]
  },
  {
   "cell_type": "markdown",
   "metadata": {},
   "source": [
    "## Assign description to a cluster"
   ]
  },
  {
   "cell_type": "code",
   "execution_count": 20,
   "metadata": {
    "collapsed": false
   },
   "outputs": [],
   "source": [
    "def cluster_ingredients(synopses, num_clusters = 100):\n",
    "    '''\n",
    "    Input: a list containing space-separated ingredients for a set of recipes.\n",
    "    Output: a scikit-learn k-means model object \n",
    "    '''\n",
    "    \n",
    "    # here I define a tokenizer and stemmer which returns the set of stems in the text that it is passed\n",
    "    def tokenize_and_stem(text):\n",
    "        stemmer = SnowballStemmer(\"english\")\n",
    "        # first tokenize by sentence, then by word to ensure that punctuation is caught as its own token\n",
    "        tokens = [word for sent in nltk.sent_tokenize(text) for word in nltk.word_tokenize(sent)]\n",
    "        filtered_tokens = []\n",
    "        # filter out any tokens not containing letters (e.g., numeric tokens, raw punctuation)\n",
    "        for token in tokens:\n",
    "            if re.search('[a-zA-Z]', token):\n",
    "                filtered_tokens.append(token)\n",
    "        stems = [stemmer.stem(t) for t in filtered_tokens]\n",
    "        return stems\n",
    "\n",
    "\n",
    "    def tokenize_only(text):\n",
    "        # first tokenize by sentence, then by word to ensure that punctuation is caught as it's own token\n",
    "        tokens = [word.lower() for sent in nltk.sent_tokenize(text) for word in nltk.word_tokenize(sent)]\n",
    "        filtered_tokens = []\n",
    "        # filter out any tokens not containing letters (e.g., numeric tokens, raw punctuation)\n",
    "        for token in tokens:\n",
    "            if re.search('[a-zA-Z]', token):\n",
    "                filtered_tokens.append(token)\n",
    "        return filtered_tokens\n",
    "\n",
    "    #not super pythonic, no, not at all.\n",
    "    #use extend so it's a big flat list of vocab\n",
    "    totalvocab_stemmed = []\n",
    "    totalvocab_tokenized = []\n",
    "    for i in synopses:\n",
    "        allwords_stemmed = tokenize_and_stem(i) #for each item in 'synopses', tokenize/stem\n",
    "        totalvocab_stemmed.extend(allwords_stemmed) #extend the 'totalvocab_stemmed' list\n",
    "\n",
    "        allwords_tokenized = tokenize_only(i)\n",
    "        totalvocab_tokenized.extend(allwords_tokenized)\n",
    "\n",
    "    vocab_frame = pd.DataFrame({'words': totalvocab_tokenized}, index = totalvocab_stemmed)\n",
    "    print('there are ' + str(vocab_frame.shape[0]) + ' items in vocab_frame')\n",
    "    print(vocab_frame.head())\n",
    "\n",
    "    from sklearn.feature_extraction.text import TfidfVectorizer\n",
    "\n",
    "    #define vectorizer parameters\n",
    "    tfidf_vectorizer = TfidfVectorizer(max_df=0.8, max_features=200000,\n",
    "                                     min_df=0.2, stop_words='english',\n",
    "                                     use_idf=True, tokenizer=tokenize_and_stem, ngram_range=(1,3))\n",
    "\n",
    "    tfidf_matrix = tfidf_vectorizer.fit_transform(synopses) #fit the vectorizer to synopses\n",
    "\n",
    "    print(tfidf_matrix.shape)\n",
    "    terms = tfidf_vectorizer.get_feature_names()\n",
    "\n",
    "    from sklearn.metrics.pairwise import cosine_similarity\n",
    "    dist = 1 - cosine_similarity(tfidf_matrix)\n",
    "\n",
    "    from sklearn.cluster import KMeans\n",
    "    #num_clusters = 100\n",
    "    km = KMeans(n_clusters=num_clusters)\n",
    "    km.fit(tfidf_matrix)\n",
    "    clusters = km.labels_.tolist()\n",
    "\n",
    "    from sklearn.externals import joblib\n",
    "    #uncomment the below to save your model \n",
    "    #since I've already run my model I am loading from the pickle\n",
    "    #joblib.dump(km,  'doc_cluster.pkl')\n",
    "    #km = joblib.load('doc_cluster.pkl')\n",
    "    recipes = {'title': titles,\n",
    "               'synopsis': synopses,\n",
    "               'calories': calories,\n",
    "               'cholesterol':cholesterol,\n",
    "               'cluster': clusters,\n",
    "               'recipeid': recipeids}\n",
    "    frame = pd.DataFrame(recipes, index = [clusters] , columns = ['title', 'cluster', 'calories', 'cholesterol', 'recipeid'])\n",
    "    frame['cluster'].value_counts()\n",
    "    grouped = frame['cholesterol'].groupby(frame['cluster']) #groupby cluster for aggregation purposes\n",
    "    grouped.mean() #average rank (1 to 100) per cluster\n",
    "    return {\"cluster_designations\": frame, \"vectorizer\": tfidf_vectorizer, \"model\": km}"
   ]
  },
  {
   "cell_type": "code",
   "execution_count": 21,
   "metadata": {
    "collapsed": false
   },
   "outputs": [
    {
     "name": "stdout",
     "output_type": "stream",
     "text": [
      "(3941, 96)\n"
     ]
    }
   ],
   "source": [
    "recipe_clusters = cluster_recipes(titles)"
   ]
  },
  {
   "cell_type": "code",
   "execution_count": 22,
   "metadata": {
    "collapsed": false
   },
   "outputs": [
    {
     "name": "stdout",
     "output_type": "stream",
     "text": [
      "there are 117798 items in vocab_frame\n",
      "                  words\n",
      "milk               milk\n",
      "white             white\n",
      "vinegar         vinegar\n",
      "all-purpos  all-purpose\n",
      "flour             flour\n",
      "(3941, 36)\n"
     ]
    }
   ],
   "source": [
    "ingredient_clusters = cluster_ingredients(synopses)"
   ]
  },
  {
   "cell_type": "code",
   "execution_count": 23,
   "metadata": {
    "collapsed": false
   },
   "outputs": [],
   "source": [
    "X_new = recipe_clusters['vectorizer'].transform([\"salad\"])\n",
    "prediction = recipe_clusters['model'].predict(X_new)"
   ]
  },
  {
   "cell_type": "code",
   "execution_count": 24,
   "metadata": {
    "collapsed": false
   },
   "outputs": [
    {
     "data": {
      "text/plain": [
       "array([107], dtype=int32)"
      ]
     },
     "execution_count": 24,
     "metadata": {},
     "output_type": "execute_result"
    }
   ],
   "source": [
    "# Predicts the cluster that a list of ingredients is in.\n",
    "prediction"
   ]
  },
  {
   "cell_type": "code",
   "execution_count": 25,
   "metadata": {
    "collapsed": false
   },
   "outputs": [],
   "source": [
    "a = recipe_clusters[\"cluster_designations\"].ix[prediction[0]]"
   ]
  },
  {
   "cell_type": "code",
   "execution_count": 26,
   "metadata": {
    "collapsed": true
   },
   "outputs": [],
   "source": [
    "from collections import Counter\n",
    "from operator import itemgetter"
   ]
  },
  {
   "cell_type": "code",
   "execution_count": 27,
   "metadata": {
    "collapsed": false
   },
   "outputs": [],
   "source": [
    "def classify_menu_item(menu_item, menu_item_description, recipe_clusters, ingredient_clusters):\n",
    "    menu_item = \" \".join(tokenize_and_stem(menu_item))\n",
    "    vectorized_menu_item = recipe_clusters[\"vectorizer\"].transform([menu_item]) #can later pass a list of menu_items\n",
    "    recipe_cluster = recipe_clusters[\"model\"].predict(vectorized_menu_item)\n",
    "    #print(recipe_cluster)\n",
    "    description = \" \".join(tokenize_and_stem(menu_item_description))\n",
    "    #look up ingredient clusters list; return found ingredient clusters matching recipes\n",
    "    # assign menu item description to an ingredient cluster\n",
    "    # ask if there's a match\n",
    "    matching_recipes = recipe_clusters[\"cluster_designations\"].ix[recipe_cluster]\n",
    "    recipematchdict = {}\n",
    "    for item in matching_recipes[\"recipeid\"]:\n",
    "        ingredient_cluster = ingredient_clusters['cluster_designations'].loc[ingredient_clusters['cluster_designations']['recipeid'] == item][\"cluster\"].iloc[0]\n",
    "        recipe_name = session.query(Recipe).filter(Recipe.id == int(item)).all()[0].name\n",
    "        recipematchdict[recipe_name] = ingredient_cluster\n",
    "    # some horrible code to count and sort the matching ingredient clusters...\n",
    "    top_recipe_cluster = sorted(list(Counter([item[1] for item in recipematchdict.iteritems()]).iteritems()), key=itemgetter(1), reverse=True)[0][0]\n",
    "    # mean cholesterol in that matching recipe cluster\n",
    "    predicted_cholesterol = np.mean(recipe_clusters[\"cluster_designations\"].ix[top_recipe_cluster][\"cholesterol\"])\n",
    "        \n",
    "    return predicted_cholesterol"
   ]
  },
  {
   "cell_type": "code",
   "execution_count": 29,
   "metadata": {
    "collapsed": true
   },
   "outputs": [
    {
     "data": {
      "text/html": [
       "<div>\n",
       "<table border=\"1\" class=\"dataframe\">\n",
       "  <thead>\n",
       "    <tr style=\"text-align: right;\">\n",
       "      <th></th>\n",
       "      <th>title</th>\n",
       "      <th>cluster</th>\n",
       "      <th>calories</th>\n",
       "      <th>cholesterol</th>\n",
       "      <th>recipeid</th>\n",
       "    </tr>\n",
       "  </thead>\n",
       "  <tbody>\n",
       "    <tr>\n",
       "      <th>0</th>\n",
       "      <td>Sugar Glazed Salmon</td>\n",
       "      <td>0</td>\n",
       "      <td>447</td>\n",
       "      <td>89.0</td>\n",
       "      <td>2615</td>\n",
       "    </tr>\n",
       "    <tr>\n",
       "      <th>0</th>\n",
       "      <td>Salmon with Brown Sugar and Bourbon Glaze</td>\n",
       "      <td>0</td>\n",
       "      <td>561</td>\n",
       "      <td>130.0</td>\n",
       "      <td>2691</td>\n",
       "    </tr>\n",
       "    <tr>\n",
       "      <th>0</th>\n",
       "      <td>Fast Salmon with a Ginger Glaze</td>\n",
       "      <td>0</td>\n",
       "      <td>377</td>\n",
       "      <td>100.0</td>\n",
       "      <td>2835</td>\n",
       "    </tr>\n",
       "    <tr>\n",
       "      <th>0</th>\n",
       "      <td>Salmon with Brown Sugar Glaze</td>\n",
       "      <td>0</td>\n",
       "      <td>330</td>\n",
       "      <td>83.0</td>\n",
       "      <td>3100</td>\n",
       "    </tr>\n",
       "    <tr>\n",
       "      <th>0</th>\n",
       "      <td>Sweet 'n' Hot Glazed Salmon</td>\n",
       "      <td>0</td>\n",
       "      <td>275</td>\n",
       "      <td>50.0</td>\n",
       "      <td>3652</td>\n",
       "    </tr>\n",
       "    <tr>\n",
       "      <th>0</th>\n",
       "      <td>Nigel's Simple Salmon Glaze</td>\n",
       "      <td>0</td>\n",
       "      <td>230</td>\n",
       "      <td>56.0</td>\n",
       "      <td>3663</td>\n",
       "    </tr>\n",
       "    <tr>\n",
       "      <th>0</th>\n",
       "      <td>Sweet Glazed Salmon</td>\n",
       "      <td>0</td>\n",
       "      <td>299</td>\n",
       "      <td>75.0</td>\n",
       "      <td>3854</td>\n",
       "    </tr>\n",
       "  </tbody>\n",
       "</table>\n",
       "</div>"
      ],
      "text/plain": [
       "                                       title  cluster  calories  cholesterol  \\\n",
       "0                        Sugar Glazed Salmon        0       447         89.0   \n",
       "0  Salmon with Brown Sugar and Bourbon Glaze        0       561        130.0   \n",
       "0            Fast Salmon with a Ginger Glaze        0       377        100.0   \n",
       "0              Salmon with Brown Sugar Glaze        0       330         83.0   \n",
       "0                Sweet 'n' Hot Glazed Salmon        0       275         50.0   \n",
       "0                Nigel's Simple Salmon Glaze        0       230         56.0   \n",
       "0                        Sweet Glazed Salmon        0       299         75.0   \n",
       "\n",
       "   recipeid  \n",
       "0      2615  \n",
       "0      2691  \n",
       "0      2835  \n",
       "0      3100  \n",
       "0      3652  \n",
       "0      3663  \n",
       "0      3854  "
      ]
     },
     "execution_count": 29,
     "metadata": {},
     "output_type": "execute_result"
    }
   ],
   "source": [
    "recipe_clusters[\"cluster_designations\"].ix[0]"
   ]
  },
  {
   "cell_type": "code",
   "execution_count": 30,
   "metadata": {
    "collapsed": false
   },
   "outputs": [
    {
     "data": {
      "text/html": [
       "<div>\n",
       "<table border=\"1\" class=\"dataframe\">\n",
       "  <thead>\n",
       "    <tr style=\"text-align: right;\">\n",
       "      <th></th>\n",
       "      <th>title</th>\n",
       "      <th>cluster</th>\n",
       "      <th>calories</th>\n",
       "      <th>cholesterol</th>\n",
       "      <th>recipeid</th>\n",
       "    </tr>\n",
       "  </thead>\n",
       "  <tbody>\n",
       "    <tr>\n",
       "      <th>47</th>\n",
       "      <td>Thai Pork Satay</td>\n",
       "      <td>47</td>\n",
       "      <td>276</td>\n",
       "      <td>49.0</td>\n",
       "      <td>384</td>\n",
       "    </tr>\n",
       "  </tbody>\n",
       "</table>\n",
       "</div>"
      ],
      "text/plain": [
       "              title  cluster  calories  cholesterol  recipeid\n",
       "47  Thai Pork Satay       47       276         49.0       384"
      ]
     },
     "execution_count": 30,
     "metadata": {},
     "output_type": "execute_result"
    }
   ],
   "source": [
    "ingredient_clusters['cluster_designations'].loc[ingredient_clusters['cluster_designations']['recipeid'] == 384]"
   ]
  },
  {
   "cell_type": "code",
   "execution_count": 31,
   "metadata": {
    "collapsed": false
   },
   "outputs": [],
   "source": [
    "a= classify_menu_item(\"salad\", \"\", recipe_clusters, ingredient_clusters)"
   ]
  },
  {
   "cell_type": "code",
   "execution_count": 32,
   "metadata": {
    "collapsed": false
   },
   "outputs": [
    {
     "data": {
      "text/plain": [
       "84.6923076923077"
      ]
     },
     "execution_count": 32,
     "metadata": {},
     "output_type": "execute_result"
    }
   ],
   "source": [
    "a"
   ]
  },
  {
   "cell_type": "code",
   "execution_count": 33,
   "metadata": {
    "collapsed": true
   },
   "outputs": [],
   "source": [
    "menu_items = session.query(MenuItem).filter(MenuItem.restaurant_id == 82).all()"
   ]
  },
  {
   "cell_type": "code",
   "execution_count": null,
   "metadata": {
    "collapsed": true
   },
   "outputs": [],
   "source": [
    "%matplotlib inline\n",
    "import seaborn as sns\n",
    "sns.set_style(\"whitegrid\")\n",
    "tips = sns.load_dataset(\"tips\")\n",
    "ax = sns.boxplot(x=a[\"cholesterol\"])\n"
   ]
  },
  {
   "cell_type": "code",
   "execution_count": 35,
   "metadata": {
    "collapsed": true
   },
   "outputs": [],
   "source": [
    "import cPickle as pkl"
   ]
  },
  {
   "cell_type": "code",
   "execution_count": 36,
   "metadata": {
    "collapsed": false
   },
   "outputs": [],
   "source": [
    "ground_truth_x =[]\n",
    "ground_truth_y =[]\n",
    "for item in pkl.load(open(\"groundtruth.pkl\", \"rb\")):\n",
    "    ground_truth_x.append(item[\"item_name\"])\n",
    "    ground_truth_y.append(item[\"nf_cholesterol\"])"
   ]
  },
  {
   "cell_type": "code",
   "execution_count": 37,
   "metadata": {
    "collapsed": true
   },
   "outputs": [],
   "source": [
    "y_predicted = []\n",
    "for i in ground_truth_x:\n",
    "    y_predicted.append(classify_menu_item(i, \"\", recipe_clusters, ingredient_clusters))"
   ]
  },
  {
   "cell_type": "code",
   "execution_count": 40,
   "metadata": {
    "collapsed": false
   },
   "outputs": [
    {
     "data": {
      "text/plain": [
       "-0.2219367190613708"
      ]
     },
     "execution_count": 40,
     "metadata": {},
     "output_type": "execute_result"
    }
   ],
   "source": [
    "from sklearn.metrics import r2_score\n",
    "r2_score_kmeans = r2_score(ground_truth_y, y_predicted)\n",
    "r2_score_kmeans #oh no it's still bad..."
   ]
  },
  {
   "cell_type": "code",
   "execution_count": 43,
   "metadata": {
    "collapsed": false,
    "scrolled": true
   },
   "outputs": [
    {
     "name": "stderr",
     "output_type": "stream",
     "text": [
      "/home/andylane/anaconda2/envs/insight/lib/python2.7/site-packages/ipykernel/pylab/config.py:66: DeprecationWarning: metadata {'config': True} was set from the constructor.  Metadata should be set using the .tag() method, e.g., Int().tag(key1='value1', key2='value2')\n",
      "  inline backend.\"\"\"\n",
      "/home/andylane/anaconda2/envs/insight/lib/python2.7/site-packages/ipykernel/pylab/config.py:71: DeprecationWarning: metadata {'config': True} was set from the constructor.  Metadata should be set using the .tag() method, e.g., Int().tag(key1='value1', key2='value2')\n",
      "  'retina', 'jpeg', 'svg', 'pdf'.\"\"\")\n",
      "/home/andylane/anaconda2/envs/insight/lib/python2.7/site-packages/ipykernel/pylab/config.py:85: DeprecationWarning: metadata {'config': True} was set from the constructor.  Metadata should be set using the .tag() method, e.g., Int().tag(key1='value1', key2='value2')\n",
      "  use `figure_formats` instead)\"\"\")\n",
      "/home/andylane/anaconda2/envs/insight/lib/python2.7/site-packages/ipykernel/pylab/config.py:95: DeprecationWarning: metadata {'config': True} was set from the constructor.  Metadata should be set using the .tag() method, e.g., Int().tag(key1='value1', key2='value2')\n",
      "  \"\"\"\n",
      "/home/andylane/anaconda2/envs/insight/lib/python2.7/site-packages/ipykernel/pylab/config.py:114: DeprecationWarning: metadata {'config': True} was set from the constructor.  Metadata should be set using the .tag() method, e.g., Int().tag(key1='value1', key2='value2')\n",
      "  \"\"\")\n",
      "/home/andylane/anaconda2/envs/insight/lib/python2.7/site-packages/ipykernel/pylab/config.py:44: DeprecationWarning: InlineBackend._config_changed is deprecated: use @observe and @unobserve instead.\n",
      "  def _config_changed(self, name, old, new):\n",
      "/home/andylane/anaconda2/envs/insight/lib/python2.7/site-packages/traitlets/traitlets.py:770: DeprecationWarning: A parent of InlineBackend._config_changed has adopted the new @observe(change) API\n",
      "  clsname, change_or_name), DeprecationWarning)\n"
     ]
    },
    {
     "data": {
      "image/png": "[encoded data removed]",
      "text/plain": [
       "<matplotlib.figure.Figure at 0x7f54c61a8fd0>"
      ]
     },
     "metadata": {},
     "output_type": "display_data"
    }
   ],
   "source": [
    "import seaborn as sns\n",
    "%matplotlib inline\n",
    "x,y = pd.Series(ground_truth_y, name=\"x_var\"), pd.Series(y_predicted, name=\"y_var\")\n",
    "ax = sns.regplot(x=x, y=y)"
   ]
  },
  {
   "cell_type": "code",
   "execution_count": null,
   "metadata": {
    "collapsed": true
   },
   "outputs": [],
   "source": []
  }
 ],
 "metadata": {
  "kernelspec": {
   "display_name": "Python [insight]",
   "language": "python",
   "name": "Python [insight]"
  },
  "language_info": {
   "codemirror_mode": {
    "name": "ipython",
    "version": 2
   },
   "file_extension": ".py",
   "mimetype": "text/x-python",
   "name": "python",
   "nbconvert_exporter": "python",
   "pygments_lexer": "ipython2",
   "version": "2.7.12"
  }
 },
 "nbformat": 4,
 "nbformat_minor": 0
}
