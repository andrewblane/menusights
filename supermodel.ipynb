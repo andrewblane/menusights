{
 "cells": [
  {
   "cell_type": "code",
   "execution_count": 1,
   "metadata": {
    "collapsed": true
   },
   "outputs": [],
   "source": [
    "import psycopg2\n",
    "from sqlalchemy import create_engine, Column, Integer, String, Float, ForeignKey\n",
    "from sqlalchemy.ext.declarative import declarative_base\n",
    "from sqlalchemy.orm import relationship, sessionmaker\n",
    "import re\n",
    "from __future__ import print_function"
   ]
  },
  {
   "cell_type": "code",
   "execution_count": 2,
   "metadata": {
    "collapsed": true
   },
   "outputs": [],
   "source": [
    "import numpy as np\n",
    "import pandas as pd\n",
    "import nltk\n",
    "import re\n",
    "import os\n",
    "import codecs\n",
    "from sklearn import feature_extraction\n",
    "import mpld3\n",
    "\n",
    "from nltk.stem.snowball import SnowballStemmer"
   ]
  },
  {
   "cell_type": "code",
   "execution_count": 3,
   "metadata": {
    "collapsed": true
   },
   "outputs": [],
   "source": [
    "Base = declarative_base()"
   ]
  },
  {
   "cell_type": "code",
   "execution_count": 4,
   "metadata": {
    "collapsed": false
   },
   "outputs": [],
   "source": [
    "class Recipe(Base):\n",
    "    __tablename__ = 'recipes'\n",
    "    \n",
    "    id = Column(Integer, primary_key=True)\n",
    "    name = Column(String)\n",
    "    url = Column(String, unique=True)\n",
    "    calories = Column(Integer)\n",
    "    fat = Column(Float)\n",
    "    carbs = Column(Float)\n",
    "    protein = Column(Float)\n",
    "    cholesterol = Column(Float)\n",
    "    sodium = Column(Float)\n",
    "    servings = Column(Integer)\n",
    "    #ingredients = \n",
    "    #__table_args__ = {'extend_existing': True}\n",
    "    \n",
    "    def __repr__(self):\n",
    "        return \"<Recipe(name='%s', url='%s')>\" % (\n",
    "            self.name, self.url)\n",
    "    \n",
    "class Ingredient(Base):\n",
    "    __tablename__ = 'ingredients'\n",
    "    id = Column(Integer, primary_key = True)\n",
    "    ingredient = Column(String, nullable = False)\n",
    "    recipe_id = Column(Integer, ForeignKey('recipes.id'))\n",
    "    \n",
    "    recipe = relationship(Recipe, back_populates = 'ingredients')\n",
    "    #__table_args__ = {'extend_existing': True}\n",
    "    def __repr__(self):\n",
    "        return \"<Ingredient(ingredient='%s')>\" % self.ingredient\n",
    "\n",
    "Recipe.ingredients = relationship(\"Ingredient\", order_by=Ingredient.id, back_populates=\"recipe\")\n",
    "\n",
    "class Restaurant(Base):\n",
    "    __tablename__ = 'restaurants'\n",
    "    id = Column(Integer, primary_key=True)\n",
    "    name = Column(String)\n",
    "    url = Column(String)\n",
    "    zomatoID = Column(Integer, unique=True)\n",
    "    costfortwo = Column(Float)\n",
    "    featured_image = Column(String)\n",
    "    photos = Column(String)\n",
    "    menu_url = Column(String)\n",
    "    price_range = Column(Integer)\n",
    "    latitude = Column(Float)\n",
    "    longitude = Column(Float)\n",
    "    address = Column(String)\n",
    "    \n",
    "    def __repr__(self):\n",
    "        return \"<Restaurant(name='%s', url='%s')>\" % (\n",
    "            self.name, self.url)\n",
    "\n",
    "class MenuItem(Base):\n",
    "    __tablename__ = 'menuitems'\n",
    "    id = Column(Integer, primary_key=True)\n",
    "    menuitem = Column(String, nullable = False)\n",
    "    description = Column(String)\n",
    "    restaurant_id = Column(Integer, ForeignKey('restaurants.id'))\n",
    "    price = Column(String)\n",
    "    \n",
    "    restaurant = relationship(Restaurant, back_populates = 'menuitems')\n",
    "    __table_args__ = {'extend_existing': True}\n",
    "    def __repr__(self):\n",
    "        return \"<MenuItem(item='%s', desc='%s')>\" % (\n",
    "            self.menuitem, self.description)\n",
    "    \n",
    "Restaurant.menuitems = relationship(\"MenuItem\", order_by=MenuItem.id, back_populates=\"restaurant\")"
   ]
  },
  {
   "cell_type": "code",
   "execution_count": 5,
   "metadata": {
    "collapsed": true
   },
   "outputs": [],
   "source": [
    "measurements = (\"femtogram\", \"gigagram\", \"gram\", \"hectogram\", \"kilogram\", \\\n",
    "                \"long\", \"ton\", \"mcg\", \"megagram\", \"metric\", \"ton\", \"metric\"\\\n",
    "                \"tonne\", \"microgram\", \"milligram\",\"nanogram\", \"ounce\", \\\n",
    "                \"lb\", \"oz\", \"each\", \"pound\", \"short\", \"Gram\", \"Ounce\", \"Pint\", \"Quart\",\\\n",
    "                \"Tablespoon\", \"Teaspoon\", \"Tablespoons\", \"Teaspoons\", \"Cups\", \"cup\",\"Fluid Ounce\", \"fl oz\", \"Gallon\", \"Ounce\", \\\n",
    "                \"Pint\", \"Quart\", \"Tablespoon\", \"Teaspoon\", \"liter\", \"litre\", \"L\", \"ml\", \"fluid ounces\", \"can\", \"cans\")"
   ]
  },
  {
   "cell_type": "code",
   "execution_count": 6,
   "metadata": {
    "collapsed": false
   },
   "outputs": [],
   "source": [
    "def find_measurement_words(i):\n",
    "    ingredient_line = i\n",
    "    for item in measurements:\n",
    "        meas = str(\" \" + item.lower() + \" \")\n",
    "        a = re.search(meas, ingredient_line)\n",
    "        if a > 0:\n",
    "            unit = ingredient_line[a.start():a.end()].strip()\n",
    "            quantity = ingredient_line[:a.start()].strip()\n",
    "            ingredient = ingredient_line[a.end():].strip()\n",
    "            break\n",
    "        else:\n",
    "            ilist = i.split(\" \")\n",
    "            quantity = ilist[0]\n",
    "            unit = \"each\"\n",
    "            ingredient = \" \".join(ilist[1:])\n",
    "    newitem = {\"ingredient\": ingredient,\n",
    "    \"unit\": unit,\n",
    "    \"quantity\":  quantity}\n",
    "    try:\n",
    "        fracsplit = ([float(k) for k in newitem[\"quantity\"].split(\"/\")])\n",
    "        if len(fracsplit) >= 2:\n",
    "            newitem[\"quantity\"] = fracsplit[0] / fracsplit[1]\n",
    "    except:\n",
    "        None\n",
    "    #print(newitem)\n",
    "    return newitem"
   ]
  },
  {
   "cell_type": "code",
   "execution_count": 7,
   "metadata": {
    "collapsed": false
   },
   "outputs": [],
   "source": [
    "def clean_up_ingredient(ingredient_line):\n",
    "    ingredient_line = re.sub(\"\\[u\\'\", \"\", ingredient_line)\n",
    "    ingredient_line = re.sub(\"\\']\", \"\", ingredient_line)\n",
    "    return find_measurement_words(ingredient_line)"
   ]
  },
  {
   "cell_type": "code",
   "execution_count": 8,
   "metadata": {
    "collapsed": false
   },
   "outputs": [
    {
     "name": "stdout",
     "output_type": "stream",
     "text": [
      "postgres://andylane@localhost/restaurants\n"
     ]
    },
    {
     "name": "stderr",
     "output_type": "stream",
     "text": [
      "/home/andylane/anaconda2/envs/insight/lib/python2.7/site-packages/sqlalchemy/dialects/__init__.py:34: SADeprecationWarning: The SQLAlchemy PostgreSQL dialect has been renamed from 'postgres' to 'postgresql'. The new URL format is postgresql[+driver]://<user>:<pass>@<host>/<dbname>\n",
      "  module = __import__('sqlalchemy.dialects.%s' % (dialect, )).dialects\n"
     ]
    }
   ],
   "source": [
    "dbname = 'restaurants'\n",
    "username = 'andylane'\n",
    "engine = create_engine('postgres://%s@localhost/%s'%(username,dbname))\n",
    "print(engine.url)"
   ]
  },
  {
   "cell_type": "code",
   "execution_count": 9,
   "metadata": {
    "collapsed": true
   },
   "outputs": [],
   "source": [
    "con = None\n",
    "con = psycopg2.connect(database = \"restaurants\", user = \"andylane\")\n",
    "Session = sessionmaker(bind=engine)\n",
    "session = Session()"
   ]
  },
  {
   "cell_type": "markdown",
   "metadata": {},
   "source": [
    "##Get recipe names into a vector"
   ]
  },
  {
   "cell_type": "code",
   "execution_count": 10,
   "metadata": {
    "collapsed": false
   },
   "outputs": [],
   "source": [
    "names = session.query(Recipe).all()"
   ]
  },
  {
   "cell_type": "code",
   "execution_count": 11,
   "metadata": {
    "collapsed": false
   },
   "outputs": [],
   "source": [
    "titles=[]\n",
    "for item in names:\n",
    "    titles.append(item.name)"
   ]
  },
  {
   "cell_type": "markdown",
   "metadata": {},
   "source": [
    "##Get ingredient lists into vector, order matching names"
   ]
  },
  {
   "cell_type": "code",
   "execution_count": 12,
   "metadata": {
    "collapsed": false,
    "scrolled": true
   },
   "outputs": [],
   "source": [
    "synopses = []\n",
    "for item in names:\n",
    "    synopses.append(\" \".join([clean_up_ingredient(a.ingredient)[\"ingredient\"] for a in item.ingredients]))"
   ]
  },
  {
   "cell_type": "code",
   "execution_count": 13,
   "metadata": {
    "collapsed": true
   },
   "outputs": [],
   "source": [
    "calories=[]\n",
    "for item in names:\n",
    "    calories.append(item.calories)"
   ]
  },
  {
   "cell_type": "code",
   "execution_count": 14,
   "metadata": {
    "collapsed": true
   },
   "outputs": [],
   "source": [
    "cholesterol=[]\n",
    "for item in names:\n",
    "    cholesterol.append(item.cholesterol)"
   ]
  },
  {
   "cell_type": "markdown",
   "metadata": {},
   "source": [
    "http://brandonrose.org/clustering"
   ]
  },
  {
   "cell_type": "code",
   "execution_count": 15,
   "metadata": {
    "collapsed": true
   },
   "outputs": [],
   "source": [
    "stopwords = nltk.corpus.stopwords.words('english')\n",
    "stemmer = SnowballStemmer(\"english\")"
   ]
  },
  {
   "cell_type": "markdown",
   "metadata": {},
   "source": [
    "## Match menu items to a cluster"
   ]
  },
  {
   "cell_type": "code",
   "execution_count": 16,
   "metadata": {
    "collapsed": true
   },
   "outputs": [],
   "source": [
    "def tokenize_and_stem(title):\n",
    "    stemmed_titles = []\n",
    "    new_title=[]\n",
    "    for word in nltk.word_tokenize(title):\n",
    "        new_title.append(stemmer.stem(word))\n",
    "    stemmed_titles.extend(new_title)\n",
    "    return [i for i in stemmed_titles]"
   ]
  },
  {
   "cell_type": "code",
   "execution_count": 17,
   "metadata": {
    "collapsed": false
   },
   "outputs": [
    {
     "name": "stderr",
     "output_type": "stream",
     "text": [
      "/home/andylane/anaconda2/envs/insight/lib/python2.7/site-packages/IPython/core/formatters.py:92: DeprecationWarning: DisplayFormatter._ipython_display_formatter_default is deprecated: use @default decorator instead.\n",
      "  def _ipython_display_formatter_default(self):\n",
      "/home/andylane/anaconda2/envs/insight/lib/python2.7/site-packages/IPython/core/formatters.py:98: DeprecationWarning: DisplayFormatter._formatters_default is deprecated: use @default decorator instead.\n",
      "  def _formatters_default(self):\n",
      "/home/andylane/anaconda2/envs/insight/lib/python2.7/site-packages/IPython/core/formatters.py:677: DeprecationWarning: PlainTextFormatter._deferred_printers_default is deprecated: use @default decorator instead.\n",
      "  def _deferred_printers_default(self):\n",
      "/home/andylane/anaconda2/envs/insight/lib/python2.7/site-packages/IPython/core/formatters.py:669: DeprecationWarning: PlainTextFormatter._singleton_printers_default is deprecated: use @default decorator instead.\n",
      "  def _singleton_printers_default(self):\n",
      "/home/andylane/anaconda2/envs/insight/lib/python2.7/site-packages/IPython/core/formatters.py:672: DeprecationWarning: PlainTextFormatter._type_printers_default is deprecated: use @default decorator instead.\n",
      "  def _type_printers_default(self):\n",
      "/home/andylane/anaconda2/envs/insight/lib/python2.7/site-packages/IPython/core/formatters.py:669: DeprecationWarning: PlainTextFormatter._singleton_printers_default is deprecated: use @default decorator instead.\n",
      "  def _singleton_printers_default(self):\n",
      "/home/andylane/anaconda2/envs/insight/lib/python2.7/site-packages/IPython/core/formatters.py:672: DeprecationWarning: PlainTextFormatter._type_printers_default is deprecated: use @default decorator instead.\n",
      "  def _type_printers_default(self):\n",
      "/home/andylane/anaconda2/envs/insight/lib/python2.7/site-packages/IPython/core/formatters.py:677: DeprecationWarning: PlainTextFormatter._deferred_printers_default is deprecated: use @default decorator instead.\n",
      "  def _deferred_printers_default(self):\n"
     ]
    },
    {
     "data": {
      "text/plain": [
       "['braised', 'short', 'ribs']"
      ]
     },
     "execution_count": 17,
     "metadata": {},
     "output_type": "execute_result"
    }
   ],
   "source": [
    "nltk.word_tokenize(\"braised short ribs\")"
   ]
  },
  {
   "cell_type": "code",
   "execution_count": 18,
   "metadata": {
    "collapsed": true
   },
   "outputs": [],
   "source": [
    "def cluster_recipes(titles, num_clusters = 380): \n",
    "    def tokenize_and_stem(title):\n",
    "        stemmed_titles = []\n",
    "        new_title=[]\n",
    "        for word in nltk.word_tokenize(title):\n",
    "            new_title.append(stemmer.stem(word))\n",
    "        stemmed_titles.extend(new_title)\n",
    "        return [i for i in stemmed_titles]\n",
    "\n",
    "    def tokenize_only(title):\n",
    "        tokenized_titles = []\n",
    "        new_title=[]\n",
    "        for word in nltk.word_tokenize(title):\n",
    "            new_title.append(word)\n",
    "        tokenized_titles.extend(new_title)\n",
    "        return [i for i in tokenized_titles]\n",
    "\n",
    "    #not super pythonic, no, not at all.\n",
    "    #use extend so it's a big flat list of vocab\n",
    "    totalvocab_stemmed = []\n",
    "    totalvocab_tokenized = []\n",
    "    for i in titles:\n",
    "        totalvocab_stemmed.extend([j for j in tokenize_and_stem(i)])\n",
    "        totalvocab_tokenized.extend([k for k in tokenize_only(i)])\n",
    "\n",
    "    vocab_frame = pd.DataFrame({'words': totalvocab_tokenized}, index = totalvocab_stemmed)\n",
    "\n",
    "    from sklearn.feature_extraction.text import TfidfVectorizer, CountVectorizer\n",
    "\n",
    "    #define vectorizer parameters\n",
    "    tfidf_vectorizer = TfidfVectorizer(max_df=0.9, max_features=200000,\n",
    "                                     min_df=0.01, stop_words='english',\n",
    "                                     use_idf=True, tokenizer=tokenize_and_stem, ngram_range=(1,3))\n",
    "\n",
    "    count_vectorizer = CountVectorizer(max_df=0.9, max_features=200000,\n",
    "                                     min_df=0.01, stop_words='english', tokenizer=tokenize_and_stem, ngram_range=(1,3))\n",
    "\n",
    "\n",
    "    tfidf_matrix = tfidf_vectorizer.fit_transform(titles) #fit the vectorizer to synopses\n",
    "\n",
    "    print(tfidf_matrix.shape)\n",
    "\n",
    "    terms = tfidf_vectorizer.get_feature_names()\n",
    "\n",
    "    from sklearn.metrics.pairwise import cosine_similarity\n",
    "    dist = 1 - cosine_similarity(tfidf_matrix)\n",
    "\n",
    "    from sklearn.cluster import KMeans\n",
    "    #num_clusters = 380\n",
    "    km = KMeans(n_clusters=num_clusters)\n",
    "    km.fit(tfidf_matrix)\n",
    "    clusters = km.labels_.tolist()\n",
    "    \n",
    "    from sklearn.externals import joblib\n",
    "    #uncomment the below to save your model \n",
    "    #since I've already run my model I am loading from the pickle\n",
    "    #joblib.dump(km,  'doc_cluster.pkl')\n",
    "    #km = joblib.load('doc_cluster.pkl')\n",
    "    recipes = {'title': titles, 'synopsis': synopses,'calories': calories,'cholesterol': cholesterol, 'cluster': clusters}\n",
    "    frame = pd.DataFrame(recipes, index = [clusters] , columns = ['title', 'cluster', 'calories', 'cholesterol'])\n",
    "    frame['cluster'].value_counts()\n",
    "    grouped = frame['cholesterol'].groupby(frame['cluster']) #groupby cluster for aggregation purposes\n",
    "    grouped.mean() #average rank (1 to 100) per cluster\n",
    "    return {\"cluster_designations\": frame, \"vectorizer\": tfidf_vectorizer, \"model\": km}"
   ]
  },
  {
   "cell_type": "markdown",
   "metadata": {},
   "source": [
    "## Assign description to a cluster"
   ]
  },
  {
   "cell_type": "code",
   "execution_count": 19,
   "metadata": {
    "collapsed": false
   },
   "outputs": [],
   "source": [
    "def cluster_ingredients(synopses, num_clusters = 100):\n",
    "    '''\n",
    "    Input: a list containing space-separated ingredients for a set of recipes.\n",
    "    Output: a scikit-learn k-means model object \n",
    "    '''\n",
    "    \n",
    "    # here I define a tokenizer and stemmer which returns the set of stems in the text that it is passed\n",
    "    def tokenize_and_stem(text):\n",
    "        # first tokenize by sentence, then by word to ensure that punctuation is caught as its own token\n",
    "        tokens = [word for sent in nltk.sent_tokenize(text) for word in nltk.word_tokenize(sent)]\n",
    "        filtered_tokens = []\n",
    "        # filter out any tokens not containing letters (e.g., numeric tokens, raw punctuation)\n",
    "        for token in tokens:\n",
    "            if re.search('[a-zA-Z]', token):\n",
    "                filtered_tokens.append(token)\n",
    "        stems = [stemmer.stem(t) for t in filtered_tokens]\n",
    "        return stems\n",
    "\n",
    "\n",
    "    def tokenize_only(text):\n",
    "        # first tokenize by sentence, then by word to ensure that punctuation is caught as it's own token\n",
    "        tokens = [word.lower() for sent in nltk.sent_tokenize(text) for word in nltk.word_tokenize(sent)]\n",
    "        filtered_tokens = []\n",
    "        # filter out any tokens not containing letters (e.g., numeric tokens, raw punctuation)\n",
    "        for token in tokens:\n",
    "            if re.search('[a-zA-Z]', token):\n",
    "                filtered_tokens.append(token)\n",
    "        return filtered_tokens\n",
    "\n",
    "    #not super pythonic, no, not at all.\n",
    "    #use extend so it's a big flat list of vocab\n",
    "    totalvocab_stemmed = []\n",
    "    totalvocab_tokenized = []\n",
    "    for i in synopses:\n",
    "        allwords_stemmed = tokenize_and_stem(i) #for each item in 'synopses', tokenize/stem\n",
    "        totalvocab_stemmed.extend(allwords_stemmed) #extend the 'totalvocab_stemmed' list\n",
    "\n",
    "        allwords_tokenized = tokenize_only(i)\n",
    "        totalvocab_tokenized.extend(allwords_tokenized)\n",
    "\n",
    "    vocab_frame = pd.DataFrame({'words': totalvocab_tokenized}, index = totalvocab_stemmed)\n",
    "    print('there are ' + str(vocab_frame.shape[0]) + ' items in vocab_frame')\n",
    "    print(vocab_frame.head())\n",
    "\n",
    "    from sklearn.feature_extraction.text import TfidfVectorizer\n",
    "\n",
    "    #define vectorizer parameters\n",
    "    tfidf_vectorizer = TfidfVectorizer(max_df=0.8, max_features=200000,\n",
    "                                     min_df=0.2, stop_words='english',\n",
    "                                     use_idf=True, tokenizer=tokenize_and_stem, ngram_range=(1,3))\n",
    "\n",
    "    tfidf_matrix = tfidf_vectorizer.fit_transform(synopses) #fit the vectorizer to synopses\n",
    "\n",
    "    print(tfidf_matrix.shape)\n",
    "    terms = tfidf_vectorizer.get_feature_names()\n",
    "\n",
    "    from sklearn.metrics.pairwise import cosine_similarity\n",
    "    dist = 1 - cosine_similarity(tfidf_matrix)\n",
    "\n",
    "    from sklearn.cluster import KMeans\n",
    "    #num_clusters = 100\n",
    "    km = KMeans(n_clusters=num_clusters)\n",
    "    km.fit(tfidf_matrix)\n",
    "    clusters = km.labels_.tolist()\n",
    "\n",
    "    from sklearn.externals import joblib\n",
    "    #uncomment the below to save your model \n",
    "    #since I've already run my model I am loading from the pickle\n",
    "    #joblib.dump(km,  'doc_cluster.pkl')\n",
    "    #km = joblib.load('doc_cluster.pkl')\n",
    "    recipes = {'title': titles, 'synopsis': synopses,'calories': calories, 'cholesterol':cholesterol, 'cluster': clusters}\n",
    "    frame = pd.DataFrame(recipes, index = [clusters] , columns = ['title', 'cluster', 'calories', 'cholesterol'])\n",
    "    frame['cluster'].value_counts()\n",
    "    grouped = frame['cholesterol'].groupby(frame['cluster']) #groupby cluster for aggregation purposes\n",
    "    grouped.mean() #average rank (1 to 100) per cluster\n",
    "    return {\"cluster_designations\": frame, \"vectorizer\": tfidf_vectorizer, \"model\": km}"
   ]
  },
  {
   "cell_type": "code",
   "execution_count": 20,
   "metadata": {
    "collapsed": false
   },
   "outputs": [
    {
     "name": "stdout",
     "output_type": "stream",
     "text": [
      "(3941, 96)\n"
     ]
    }
   ],
   "source": [
    "recipe_clusters = cluster_recipes(titles)"
   ]
  },
  {
   "cell_type": "code",
   "execution_count": 21,
   "metadata": {
    "collapsed": false
   },
   "outputs": [
    {
     "name": "stdout",
     "output_type": "stream",
     "text": [
      "there are 117798 items in vocab_frame\n",
      "                  words\n",
      "milk               milk\n",
      "white             white\n",
      "vinegar         vinegar\n",
      "all-purpos  all-purpose\n",
      "flour             flour\n",
      "(3941, 36)\n"
     ]
    }
   ],
   "source": [
    "ingredient_clusters = cluster_ingredients(synopses)"
   ]
  },
  {
   "cell_type": "code",
   "execution_count": 60,
   "metadata": {
    "collapsed": false
   },
   "outputs": [],
   "source": [
    "X_new = recipe_clusters['vectorizer'].transform([\"salad\"])\n",
    "prediction = recipe_clusters['model'].predict(X_new)"
   ]
  },
  {
   "cell_type": "code",
   "execution_count": 61,
   "metadata": {
    "collapsed": false
   },
   "outputs": [
    {
     "data": {
      "text/plain": [
       "array([272], dtype=int32)"
      ]
     },
     "execution_count": 61,
     "metadata": {},
     "output_type": "execute_result"
    }
   ],
   "source": [
    "# Predicts the cluster that a list of ingredients is in.\n",
    "prediction"
   ]
  },
  {
   "cell_type": "code",
   "execution_count": 62,
   "metadata": {
    "collapsed": false
   },
   "outputs": [],
   "source": [
    "a = recipe_clusters[\"cluster_designations\"].ix[prediction[0]]"
   ]
  },
  {
   "cell_type": "code",
   "execution_count": 54,
   "metadata": {
    "collapsed": false
   },
   "outputs": [
    {
     "data": {
      "text/plain": [
       "74.83333333333333"
      ]
     },
     "execution_count": 54,
     "metadata": {},
     "output_type": "execute_result"
    }
   ],
   "source": [
    "np.mean(recipe_clusters[\"cluster_designations\"].ix[prediction[0]][\"cholesterol\"])"
   ]
  },
  {
   "cell_type": "code",
   "execution_count": null,
   "metadata": {
    "collapsed": true
   },
   "outputs": [],
   "source": []
  },
  {
   "cell_type": "code",
   "execution_count": null,
   "metadata": {
    "collapsed": true
   },
   "outputs": [],
   "source": [
    "ingredient_clusters"
   ]
  },
  {
   "cell_type": "code",
   "execution_count": null,
   "metadata": {
    "collapsed": false
   },
   "outputs": [],
   "source": [
    "def classify_menu_item(menu_item, menu_item_description, recipe_clusters, ingredient_clusters):\n",
    "    menu_item = \" \".join(tokenize_and_stem(menu_item))\n",
    "    vectorized_menu_item = recipe_clusters[\"vectorizer\"].transform([menu_item]) #can later pass a list of menu_items\n",
    "    recipe_cluster = recipe_clusters[\"model\"].predict(vectorized_menu_item)\n",
    "    print(recipe_cluster)\n",
    "    description = \" \".join(tokenize_and_stem(menu_item_description))\n",
    "    #look up ingredient clusters list; return found ingredient clusters matching recipes\n",
    "    # assign menu item description to an ingredient cluster\n",
    "    # ask if there's a match \n",
    "    # for any \n",
    "    for item in recipe_cluster:\n",
    "        print(item[1])\n",
    "        recipeid = session.query(Recipe).filter(Recipe.name == item[1]).all()[0]\n",
    "        \n",
    "        #print session.query(Ingredient).filteritem[1]\n",
    "    \n",
    "    \n",
    "    \n",
    "    \n",
    "    \n",
    "    return recipe_clusters[\"cluster_designations\"].ix[recipe_cluster]['title']"
   ]
  },
  {
   "cell_type": "code",
   "execution_count": null,
   "metadata": {
    "collapsed": false
   },
   "outputs": [],
   "source": [
    "recipe_clusters[110].transform([menu_item])"
   ]
  },
  {
   "cell_type": "code",
   "execution_count": null,
   "metadata": {
    "collapsed": false
   },
   "outputs": [],
   "source": [
    "classify_menu_item(\"Chicken pad thai\", \"\", recipe_clusters, ingredient_clusters)"
   ]
  },
  {
   "cell_type": "code",
   "execution_count": null,
   "metadata": {
    "collapsed": true
   },
   "outputs": [],
   "source": [
    "for "
   ]
  },
  {
   "cell_type": "code",
   "execution_count": null,
   "metadata": {
    "collapsed": true
   },
   "outputs": [],
   "source": [
    "menu_items = session.query(MenuItem).filter(MenuItem.restaurant_id == 82).all()"
   ]
  },
  {
   "cell_type": "code",
   "execution_count": null,
   "metadata": {
    "collapsed": true
   },
   "outputs": [],
   "source": [
    "[item.menuitem.encode(\"utf-8\") for item in session.query(MenuItem).filter(MenuItem.restaurant_id == 9).all()]"
   ]
  },
  {
   "cell_type": "code",
   "execution_count": null,
   "metadata": {
    "collapsed": true
   },
   "outputs": [],
   "source": [
    "item for item in "
   ]
  },
  {
   "cell_type": "code",
   "execution_count": null,
   "metadata": {
    "collapsed": true
   },
   "outputs": [],
   "source": []
  },
  {
   "cell_type": "code",
   "execution_count": 66,
   "metadata": {
    "collapsed": false,
    "scrolled": true
   },
   "outputs": [
    {
     "data": {
      "image/png": "[encoded data removed]",
      "text/plain": [
       "<matplotlib.figure.Figure at 0x7fb9bbc27550>"
      ]
     },
     "metadata": {},
     "output_type": "display_data"
    }
   ],
   "source": [
    "%matplotlib inline\n",
    "import seaborn as sns\n",
    "sns.set_style(\"whitegrid\")\n",
    "tips = sns.load_dataset(\"tips\")\n",
    "ax = sns.boxplot(x=a[\"cholesterol\"])\n"
   ]
  },
  {
   "cell_type": "code",
   "execution_count": null,
   "metadata": {
    "collapsed": true
   },
   "outputs": [],
   "source": []
  }
 ],
 "metadata": {
  "kernelspec": {
   "display_name": "Python [insight]",
   "language": "python",
   "name": "Python [insight]"
  },
  "language_info": {
   "codemirror_mode": {
    "name": "ipython",
    "version": 2
   },
   "file_extension": ".py",
   "mimetype": "text/x-python",
   "name": "python",
   "nbconvert_exporter": "python",
   "pygments_lexer": "ipython2",
   "version": "2.7.12"
  }
 },
 "nbformat": 4,
 "nbformat_minor": 0
}
